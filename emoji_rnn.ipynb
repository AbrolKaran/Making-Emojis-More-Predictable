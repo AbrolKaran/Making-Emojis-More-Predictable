{
  "nbformat": 4,
  "nbformat_minor": 0,
  "metadata": {
    "colab": {
      "name": "emoji_rnn.ipynb",
      "provenance": [],
      "collapsed_sections": [],
      "authorship_tag": "ABX9TyMQ2s3noZoYGcsaW0M7SxWK",
      "include_colab_link": true
    },
    "kernelspec": {
      "name": "python3",
      "display_name": "Python 3"
    },
    "language_info": {
      "name": "python"
    },
    "accelerator": "TPU"
  },
  "cells": [
    {
      "cell_type": "markdown",
      "metadata": {
        "id": "view-in-github",
        "colab_type": "text"
      },
      "source": [
        "<a href=\"https://colab.research.google.com/github/PritishWadhwa/NLP-Project/blob/master/emoji_rnn.ipynb\" target=\"_parent\"><img src=\"https://colab.research.google.com/assets/colab-badge.svg\" alt=\"Open In Colab\"/></a>"
      ]
    },
    {
      "cell_type": "code",
      "metadata": {
        "colab": {
          "base_uri": "https://localhost:8080/"
        },
        "id": "-getiYD76IdX",
        "outputId": "c683421d-eec6-4fdd-bfe7-84d2ed1fb82b"
      },
      "source": [
        "from google.colab import drive\n",
        "drive.mount('/content/drive')"
      ],
      "execution_count": 8,
      "outputs": [
        {
          "output_type": "stream",
          "name": "stdout",
          "text": [
            "Mounted at /content/drive\n"
          ]
        }
      ]
    },
    {
      "cell_type": "code",
      "metadata": {
        "colab": {
          "base_uri": "https://localhost:8080/"
        },
        "id": "snSGNTMD6d2e",
        "outputId": "f0911df5-3004-413e-d88c-ddd6357a4210"
      },
      "source": [
        "cd drive/MyDrive/NLP"
      ],
      "execution_count": 9,
      "outputs": [
        {
          "output_type": "stream",
          "name": "stdout",
          "text": [
            "/content/drive/.shortcut-targets-by-id/1plMjpYu4pyxTZsV33MlYa9xEP127qxWB/NLP_Project\n"
          ]
        }
      ]
    },
    {
      "cell_type": "code",
      "metadata": {
        "id": "yvqmAK_z6u9T"
      },
      "source": [
        "import numpy as np\n",
        "import pandas as pd\n",
        "from tqdm import tqdm"
      ],
      "execution_count": 10,
      "outputs": []
    },
    {
      "cell_type": "code",
      "metadata": {
        "colab": {
          "base_uri": "https://localhost:8080/"
        },
        "id": "U0wnnCD27XTt",
        "outputId": "e31f5463-8727-48b5-dd78-4f61a3066d17"
      },
      "source": [
        "ls"
      ],
      "execution_count": 11,
      "outputs": [
        {
          "output_type": "stream",
          "name": "stdout",
          "text": [
            "100k_t1_test.npy         noWE_SVM_linear_0.2\n",
            "100k_t1_train.npy        noWE_SVM_linear_0.25\n",
            "100k_t1_trial.npy        noWE_SVM_linear_0.3\n",
            "100k_t2_test.npy         noWE_SVM_linear_0.35\n",
            "100k_t2_train.npy        noWE_SVM_linear_0.4\n",
            "100k_t2_trial.npy        noWE_SVM_linear_0.5\n",
            "bestModelAcc.h5          noWE_SVM_linear_1\n",
            "bestModel.h5             noWE_SVM_linear_2\n",
            "bestModelLoss.h5         noWE_SVM_linear_5\n",
            "finalDevLabels.labels    noWE_t2_test.npy\n",
            "finalTestLabels.labels   noWE_t2_train.npy\n",
            "finalTrainLabels.labels  noWE_t2_trial.npy\n",
            "fin_noWE_t2_test.npy     preprocessed_test_text.txt\n",
            "fin_noWE_t2_train.npy    preprocessed_train_text.txt\n",
            "fin_noWE_t2_trial.npy    preprocessed_trial_text.txt\n",
            "fin_t1_test.npy          rnnBestAcc.h5\n",
            "fin_t1_train.npy         rnnBestLoss.h5\n",
            "fin_t1_trial.npy         t2_test.npy\n",
            "fin_t2_test.npy          t2_train.npy\n",
            "fin_t2_train.npy         t2_trial.npy\n",
            "fin_t2_trial.npy         tweet_by_ID_08_10_2021__12_50_02.txt\n",
            "\u001b[0m\u001b[01;34mglove.twitter.27B\u001b[0m/       tweet_by_ID_08_10_2021__12_50_02.txt.ids\n",
            "lsmtBestAcc.h5           tweet_by_ID_08_10_2021__12_50_02.txt.labels\n",
            "lsmtBestLoss.h5          tweet_by_ID_08_10_2021__12_50_02.txt.text\n",
            "lstmBestLoss.h5          WE_KNN_uniform_2\n",
            "NLP_Project.gdoc         WE_LR_liblinear\n",
            "noWE_SVM_linear_0.1      WE_SGD_modified_huber\n"
          ]
        }
      ]
    },
    {
      "cell_type": "code",
      "metadata": {
        "id": "8BJdwt2g7cfV"
      },
      "source": [
        "trainData = open('preprocessed_train_text.txt', 'r').readlines()\n",
        "trainLabels = open('finalTrainLabels.labels', 'r').readlines()\n",
        "testData = open('preprocessed_test_text.txt', 'r').readlines()\n",
        "testLabels = open('finalTestLabels.labels', 'r').readlines()\n",
        "validData = open('preprocessed_trial_text.txt', 'r').readlines()\n",
        "validLabels = open('finalDevLabels.labels', 'r').readlines()"
      ],
      "execution_count": 12,
      "outputs": []
    },
    {
      "cell_type": "code",
      "metadata": {
        "colab": {
          "base_uri": "https://localhost:8080/"
        },
        "id": "5KkKFbzdIjaZ",
        "outputId": "fb2a6de1-6d18-4813-a615-019b3510afda"
      },
      "source": [
        "for i in tqdm(range(len(trainData))):\n",
        "    trainData[i] = trainData[i][:-1]\n",
        "for i in tqdm(range(len(testData))):\n",
        "    testData[i] = testData[i][:-1]\n",
        "for i in tqdm(range(len(validData))):\n",
        "    validData[i] = validData[i][:-1]"
      ],
      "execution_count": 13,
      "outputs": [
        {
          "output_type": "stream",
          "name": "stderr",
          "text": [
            "100%|██████████| 69993/69993 [00:00<00:00, 1259857.18it/s]\n",
            "100%|██████████| 20001/20001 [00:00<00:00, 1176746.73it/s]\n",
            "100%|██████████| 10009/10009 [00:00<00:00, 1090296.82it/s]\n"
          ]
        }
      ]
    },
    {
      "cell_type": "code",
      "metadata": {
        "colab": {
          "base_uri": "https://localhost:8080/"
        },
        "id": "Y60J0UlcHdQ7",
        "outputId": "61eec7a5-e6aa-4315-8d4e-affaa21fb095"
      },
      "source": [
        "for i in tqdm(range(len(trainLabels))):\n",
        "    trainLabels[i] = int(trainLabels[i])\n",
        "for i in tqdm(range(len(testLabels))):\n",
        "    testLabels[i] = int(testLabels[i])\n",
        "for i in tqdm(range(len(validLabels))):\n",
        "    validLabels[i] = int(validLabels[i])"
      ],
      "execution_count": 14,
      "outputs": [
        {
          "output_type": "stream",
          "name": "stderr",
          "text": [
            "100%|██████████| 69992/69992 [00:00<00:00, 1374232.76it/s]\n",
            "100%|██████████| 20000/20000 [00:00<00:00, 1171315.19it/s]\n",
            "100%|██████████| 10008/10008 [00:00<00:00, 853217.50it/s]\n"
          ]
        }
      ]
    },
    {
      "cell_type": "code",
      "metadata": {
        "id": "YWObBB9HIeDZ"
      },
      "source": [
        "trainData = trainData[1:]\n",
        "testData = testData[1:]\n",
        "validData = validData[1:]"
      ],
      "execution_count": 15,
      "outputs": []
    },
    {
      "cell_type": "code",
      "metadata": {
        "id": "MrjG4BrBJkQ6"
      },
      "source": [
        "trainLabels = np.array(trainLabels)\n",
        "testLabels = np.array(testLabels)\n",
        "validLabels = np.array(validLabels)\n",
        "trainLabels = trainLabels.reshape((-1, ))\n",
        "testLabels = testLabels.reshape((-1, ))\n",
        "validLabels = validLabels.reshape((-1, ))"
      ],
      "execution_count": 16,
      "outputs": []
    },
    {
      "cell_type": "code",
      "metadata": {
        "colab": {
          "base_uri": "https://localhost:8080/",
          "height": 35
        },
        "id": "bDsbhi4CKOVy",
        "outputId": "72bb7b9e-7d49-465b-b98e-34113aa236d8"
      },
      "source": [
        "trainData[0]"
      ],
      "execution_count": 17,
      "outputs": [
        {
          "output_type": "execute_result",
          "data": {
            "application/vnd.google.colaboratory.intrinsic+json": {
              "type": "string"
            },
            "text/plain": [
              "'tweet thursday night party next got'"
            ]
          },
          "metadata": {},
          "execution_count": 17
        }
      ]
    },
    {
      "cell_type": "code",
      "metadata": {
        "colab": {
          "base_uri": "https://localhost:8080/"
        },
        "id": "VQUoQkHnJmUb",
        "outputId": "05832448-6967-4c55-deb1-b8c7cf9a863f"
      },
      "source": [
        "sentLen = []\n",
        "vocab = set()\n",
        "for i in trainData:\n",
        "    sentLen.append(len(i))\n",
        "    words = i.split()\n",
        "    for word in words:\n",
        "        vocab.add(word)\n",
        "print('min len: ', min(sentLen))\n",
        "print('max len: ', max(sentLen))\n",
        "print('avg len: ', np.mean(sentLen))\n",
        "print('med len: ', np.median(sentLen))\n",
        "print('vocab: ', len(vocab))"
      ],
      "execution_count": 18,
      "outputs": [
        {
          "output_type": "stream",
          "name": "stdout",
          "text": [
            "min len:  6\n",
            "max len:  114\n",
            "avg len:  44.59743970739513\n",
            "med len:  44.0\n",
            "vocab:  44842\n"
          ]
        }
      ]
    },
    {
      "cell_type": "code",
      "metadata": {
        "id": "XroD9TzHL9iH"
      },
      "source": [
        "wordFreq = {}\n",
        "for i in trainData:\n",
        "    words = i.split()\n",
        "    for word in words:\n",
        "        if word in wordFreq:\n",
        "            wordFreq[word] += 1\n",
        "        else:\n",
        "            wordFreq[word] = 1"
      ],
      "execution_count": 19,
      "outputs": []
    },
    {
      "cell_type": "code",
      "metadata": {
        "id": "hg-CcjO-NHSu"
      },
      "source": [
        "sortedWordFreq = dict(sorted(wordFreq.items(), reverse=True, key=lambda item: item[1]))"
      ],
      "execution_count": 20,
      "outputs": []
    },
    {
      "cell_type": "code",
      "metadata": {
        "colab": {
          "base_uri": "https://localhost:8080/"
        },
        "id": "Eph4_hhsNe35",
        "outputId": "5aebed67-0235-44d3-c783-8da4953ac1f3"
      },
      "source": [
        "ctr = 0\n",
        "idx = 1\n",
        "idxToWord = {}\n",
        "wordToIdx = {}\n",
        "for i in sortedWordFreq:\n",
        "    # print(i, sortedWordFreq[i])\n",
        "    ctr += 1\n",
        "    # if sortedWordFreq[i] == 1:\n",
        "        # break\n",
        "    idxToWord[idx] = i\n",
        "    wordToIdx[i] = idx\n",
        "    idx += 1\n",
        "print(ctr)"
      ],
      "execution_count": 21,
      "outputs": [
        {
          "output_type": "stream",
          "name": "stdout",
          "text": [
            "44842\n"
          ]
        }
      ]
    },
    {
      "cell_type": "code",
      "metadata": {
        "colab": {
          "base_uri": "https://localhost:8080/"
        },
        "id": "_KyNLtNJM0Kw",
        "outputId": "9422d029-7fb5-434a-ee43-6b1e225e779a"
      },
      "source": [
        "idxToWord[100]\n",
        "wordToIdx['wait']"
      ],
      "execution_count": 22,
      "outputs": [
        {
          "output_type": "execute_result",
          "data": {
            "text/plain": [
              "100"
            ]
          },
          "metadata": {},
          "execution_count": 22
        }
      ]
    },
    {
      "cell_type": "code",
      "metadata": {
        "colab": {
          "base_uri": "https://localhost:8080/"
        },
        "id": "JUTnIwi7PVq0",
        "outputId": "327ad8e4-d73a-4e44-8f74-7584b0e9dd65"
      },
      "source": [
        "for i in tqdm(range(len(trainData))):\n",
        "    words = trainData[i].split()\n",
        "    trainData[i] = [wordToIdx[word] for word in words if word in wordToIdx.keys()]"
      ],
      "execution_count": 23,
      "outputs": [
        {
          "output_type": "stream",
          "name": "stderr",
          "text": [
            "100%|██████████| 69992/69992 [00:00<00:00, 149391.64it/s]\n"
          ]
        }
      ]
    },
    {
      "cell_type": "code",
      "metadata": {
        "colab": {
          "base_uri": "https://localhost:8080/"
        },
        "id": "TbzKJ-g6PsTL",
        "outputId": "ec0c33d0-d08b-46ca-c9f6-fdd7b4ae56bc"
      },
      "source": [
        "for i in tqdm(range(len(testData))):\n",
        "    words = testData[i].split()\n",
        "    testData[i] = [wordToIdx[word] for word in words if word in wordToIdx.keys()]"
      ],
      "execution_count": 24,
      "outputs": [
        {
          "output_type": "stream",
          "name": "stderr",
          "text": [
            "100%|██████████| 20000/20000 [00:00<00:00, 242640.97it/s]\n"
          ]
        }
      ]
    },
    {
      "cell_type": "code",
      "metadata": {
        "colab": {
          "base_uri": "https://localhost:8080/"
        },
        "id": "XN3BFMYDP2rW",
        "outputId": "39f3d926-298f-4863-8b0f-72181077e948"
      },
      "source": [
        "for i in tqdm(range(len(validData))):\n",
        "    words = validData[i].split()\n",
        "    validData[i] = [wordToIdx[word] for word in words if word in wordToIdx.keys()]"
      ],
      "execution_count": 25,
      "outputs": [
        {
          "output_type": "stream",
          "name": "stderr",
          "text": [
            "100%|██████████| 10008/10008 [00:00<00:00, 197732.32it/s]\n"
          ]
        }
      ]
    },
    {
      "cell_type": "code",
      "metadata": {
        "colab": {
          "base_uri": "https://localhost:8080/"
        },
        "id": "yQUcWLlBP95U",
        "outputId": "732534e4-837d-474a-a4d1-39c138deee0a"
      },
      "source": [
        "sentLen = []\n",
        "vocab = set()\n",
        "for i in trainData:\n",
        "    sentLen.append(len(i))\n",
        "    for word in i:\n",
        "        vocab.add(word)\n",
        "print('min len: ', min(sentLen))\n",
        "print('max len: ', max(sentLen))\n",
        "print('avg len: ', np.mean(sentLen))\n",
        "print('med len: ', np.median(sentLen))\n",
        "print('vocab: ', len(vocab))"
      ],
      "execution_count": 26,
      "outputs": [
        {
          "output_type": "stream",
          "name": "stdout",
          "text": [
            "min len:  1\n",
            "max len:  20\n",
            "avg len:  6.980526345868099\n",
            "med len:  7.0\n",
            "vocab:  44842\n"
          ]
        }
      ]
    },
    {
      "cell_type": "code",
      "metadata": {
        "id": "SdRfPa0NK5UA"
      },
      "source": [
        "from keras.preprocessing import sequence"
      ],
      "execution_count": 27,
      "outputs": []
    },
    {
      "cell_type": "code",
      "metadata": {
        "id": "5jtiEhtjLJUS"
      },
      "source": [
        "X_train = sequence.pad_sequences(trainData, maxlen=10)\n",
        "X_test = sequence.pad_sequences(testData, maxlen=10)\n",
        "X_val = sequence.pad_sequences(validData, maxlen=10)"
      ],
      "execution_count": 28,
      "outputs": []
    },
    {
      "cell_type": "code",
      "metadata": {
        "colab": {
          "base_uri": "https://localhost:8080/"
        },
        "id": "E-n0cyGnLlBp",
        "outputId": "aeae7ae7-9c2f-4669-e05f-26ca49252d43"
      },
      "source": [
        "X_train.shape, X_test.shape"
      ],
      "execution_count": 29,
      "outputs": [
        {
          "output_type": "execute_result",
          "data": {
            "text/plain": [
              "((69992, 10), (20000, 10))"
            ]
          },
          "metadata": {},
          "execution_count": 29
        }
      ]
    },
    {
      "cell_type": "code",
      "metadata": {
        "id": "ffkhBxFmRMEL"
      },
      "source": [
        "from keras.layers import Embedding, SimpleRNN, Dense, Dropout, LSTM\n",
        "from keras.models import Sequential\n",
        "from keras.callbacks import ModelCheckpoint, EarlyStopping"
      ],
      "execution_count": 30,
      "outputs": []
    },
    {
      "cell_type": "code",
      "metadata": {
        "id": "oaSxiLkfT2iB"
      },
      "source": [
        "from keras.utils import np_utils"
      ],
      "execution_count": 31,
      "outputs": []
    },
    {
      "cell_type": "code",
      "metadata": {
        "id": "jkoJYAGmT_m5"
      },
      "source": [
        "trainLabels = np_utils.to_categorical(trainLabels).astype(np.int8)\n",
        "testLabels = np_utils.to_categorical(testLabels).astype(np.int8)\n",
        "validLabels = np_utils.to_categorical(validLabels).astype(np.int8)"
      ],
      "execution_count": 32,
      "outputs": []
    },
    {
      "cell_type": "code",
      "metadata": {
        "colab": {
          "base_uri": "https://localhost:8080/"
        },
        "id": "y5hF2n9noknN",
        "outputId": "ccc45975-663b-421a-9933-6f670e05058d"
      },
      "source": [
        "model = Sequential()\n",
        "model.add(Embedding(44843, 300, trainable=True))\n",
        "model.add(SimpleRNN(100))\n",
        "model.add(Dense(20, activation='softmax'))\n",
        "model.summary()\n",
        "checkPointLoss = ModelCheckpoint('rnnBestLoss.h5', monitor='val_loss', verbose=True, save_best_only=True)\n",
        "checkPointAcc = ModelCheckpoint('rnnBestAcc.h5', monitor='val_accuracy', verbose=True, save_best_only=True)\n",
        "earlyStopping = EarlyStopping(monitor='val_accuracy', patience=2)\n",
        "model.compile(optimizer='adam', loss='categorical_crossentropy', metrics=['accuracy'])\n",
        "hist = model.fit(X_train, trainLabels, validation_data=(X_val, validLabels), epochs=5, batch_size=128, callbacks=[checkPointLoss, checkPointAcc])"
      ],
      "execution_count": 48,
      "outputs": [
        {
          "output_type": "stream",
          "name": "stdout",
          "text": [
            "Model: \"sequential_10\"\n",
            "_________________________________________________________________\n",
            " Layer (type)                Output Shape              Param #   \n",
            "=================================================================\n",
            " embedding_10 (Embedding)    (None, None, 300)         13452900  \n",
            "                                                                 \n",
            " simple_rnn_22 (SimpleRNN)   (None, 100)               40100     \n",
            "                                                                 \n",
            " dense_12 (Dense)            (None, 20)                2020      \n",
            "                                                                 \n",
            "=================================================================\n",
            "Total params: 13,495,020\n",
            "Trainable params: 13,495,020\n",
            "Non-trainable params: 0\n",
            "_________________________________________________________________\n",
            "Epoch 1/5\n",
            "547/547 [==============================] - ETA: 0s - loss: 2.5544 - accuracy: 0.2649\n",
            "Epoch 00001: val_loss improved from inf to 2.43436, saving model to rnnBestLoss.h5\n",
            "\n",
            "Epoch 00001: val_accuracy improved from -inf to 0.29446, saving model to rnnBestAcc.h5\n",
            "547/547 [==============================] - 88s 159ms/step - loss: 2.5544 - accuracy: 0.2649 - val_loss: 2.4344 - val_accuracy: 0.2945\n",
            "Epoch 2/5\n",
            "547/547 [==============================] - ETA: 0s - loss: 1.8267 - accuracy: 0.4677\n",
            "Epoch 00002: val_loss did not improve from 2.43436\n",
            "\n",
            "Epoch 00002: val_accuracy did not improve from 0.29446\n",
            "547/547 [==============================] - 85s 155ms/step - loss: 1.8267 - accuracy: 0.4677 - val_loss: 2.6707 - val_accuracy: 0.2523\n",
            "Epoch 3/5\n",
            "547/547 [==============================] - ETA: 0s - loss: 0.9321 - accuracy: 0.7383\n",
            "Epoch 00003: val_loss did not improve from 2.43436\n",
            "\n",
            "Epoch 00003: val_accuracy did not improve from 0.29446\n",
            "547/547 [==============================] - 88s 161ms/step - loss: 0.9321 - accuracy: 0.7383 - val_loss: 3.1461 - val_accuracy: 0.2166\n",
            "Epoch 4/5\n",
            "547/547 [==============================] - ETA: 0s - loss: 0.5613 - accuracy: 0.8391\n",
            "Epoch 00004: val_loss did not improve from 2.43436\n",
            "\n",
            "Epoch 00004: val_accuracy did not improve from 0.29446\n",
            "547/547 [==============================] - 84s 154ms/step - loss: 0.5613 - accuracy: 0.8391 - val_loss: 3.5715 - val_accuracy: 0.2217\n",
            "Epoch 5/5\n",
            "547/547 [==============================] - ETA: 0s - loss: 0.4069 - accuracy: 0.8820\n",
            "Epoch 00005: val_loss did not improve from 2.43436\n",
            "\n",
            "Epoch 00005: val_accuracy did not improve from 0.29446\n",
            "547/547 [==============================] - 84s 154ms/step - loss: 0.4069 - accuracy: 0.8820 - val_loss: 3.9425 - val_accuracy: 0.2041\n"
          ]
        }
      ]
    },
    {
      "cell_type": "code",
      "metadata": {
        "colab": {
          "base_uri": "https://localhost:8080/"
        },
        "id": "PzZ0N2f1B2OI",
        "outputId": "a00eaf73-b555-41e8-8d60-6d7936d00936"
      },
      "source": [
        "model = Sequential()\n",
        "model.add(Embedding(44843, 300, trainable=True))\n",
        "model.add(SimpleRNN(100))\n",
        "model.add(Dense(20, activation='softmax'))\n",
        "model.summary()\n",
        "model.compile(optimizer='adam', loss='categorical_crossentropy', metrics=['accuracy'])\n"
      ],
      "execution_count": 35,
      "outputs": [
        {
          "output_type": "stream",
          "name": "stdout",
          "text": [
            "Model: \"sequential_1\"\n",
            "_________________________________________________________________\n",
            " Layer (type)                Output Shape              Param #   \n",
            "=================================================================\n",
            " embedding_1 (Embedding)     (None, None, 300)         13452900  \n",
            "                                                                 \n",
            " simple_rnn_1 (SimpleRNN)    (None, 100)               40100     \n",
            "                                                                 \n",
            " dense_1 (Dense)             (None, 20)                2020      \n",
            "                                                                 \n",
            "=================================================================\n",
            "Total params: 13,495,020\n",
            "Trainable params: 13,495,020\n",
            "Non-trainable params: 0\n",
            "_________________________________________________________________\n"
          ]
        }
      ]
    },
    {
      "cell_type": "code",
      "metadata": {
        "colab": {
          "base_uri": "https://localhost:8080/"
        },
        "id": "GWMX-nq9qpdj",
        "outputId": "f562f832-d60e-42f7-a510-67feb33e7247"
      },
      "source": [
        "# model.evaluate(X_test, testLabels)\n",
        "model.load_weights('rnnBestLoss.h5')\n",
        "model.evaluate(X_test, testLabels)\n",
        "model.load_weights('rnnBestAcc.h5')\n",
        "model.evaluate(X_test, testLabels)"
      ],
      "execution_count": 36,
      "outputs": [
        {
          "output_type": "stream",
          "name": "stdout",
          "text": [
            "625/625 [==============================] - 3s 4ms/step - loss: 2.4285 - accuracy: 0.2987\n",
            "625/625 [==============================] - 2s 3ms/step - loss: 2.4285 - accuracy: 0.2987\n"
          ]
        },
        {
          "output_type": "execute_result",
          "data": {
            "text/plain": [
              "[2.4284675121307373, 0.2987000048160553]"
            ]
          },
          "metadata": {},
          "execution_count": 36
        }
      ]
    },
    {
      "cell_type": "code",
      "metadata": {
        "id": "TqYGYTPt-H4v"
      },
      "source": [
        "import matplotlib.pyplot as plt"
      ],
      "execution_count": 52,
      "outputs": []
    },
    {
      "cell_type": "code",
      "metadata": {
        "colab": {
          "base_uri": "https://localhost:8080/",
          "height": 282
        },
        "id": "l8CzPqG4-JbG",
        "outputId": "6ae2e061-8128-4990-8b24-ffee932b5d15"
      },
      "source": [
        "plt.plot(hist.history['loss'])"
      ],
      "execution_count": 54,
      "outputs": [
        {
          "output_type": "execute_result",
          "data": {
            "text/plain": [
              "[<matplotlib.lines.Line2D at 0x7f9b2ce87c50>]"
            ]
          },
          "metadata": {},
          "execution_count": 54
        },
        {
          "output_type": "display_data",
          "data": {
            "image/png": "[encoded data removed]",
            "text/plain": [
              "<Figure size 432x288 with 1 Axes>"
            ]
          },
          "metadata": {
            "needs_background": "light"
          }
        }
      ]
    },
    {
      "cell_type": "code",
      "metadata": {
        "id": "g258Q_FmAOWI"
      },
      "source": [
        "plt.style.use('seaborn')"
      ],
      "execution_count": 57,
      "outputs": []
    },
    {
      "cell_type": "code",
      "metadata": {
        "colab": {
          "base_uri": "https://localhost:8080/",
          "height": 376
        },
        "id": "mk_Xq28e-IZs",
        "outputId": "8171fce9-06a7-4e07-f394-58c3e5fedc5b"
      },
      "source": [
        "plt.plot(hist.history['accuracy'], label='train accuracy', c='red')\n",
        "plt.plot(hist.history['val_accuracy'], label='validation accuracy')\n",
        "plt.xlabel('Accuracy')\n",
        "plt.ylabel('Epochs')\n",
        "plt.legend()\n",
        "plt.title('Accuracy vs Epochs for RNN model')\n",
        "plt.show()"
      ],
      "execution_count": 58,
      "outputs": [
        {
          "output_type": "display_data",
          "data": {
            "image/png": "[encoded data removed]",
            "text/plain": [
              "<Figure size 576x396 with 1 Axes>"
            ]
          },
          "metadata": {}
        }
      ]
    },
    {
      "cell_type": "code",
      "metadata": {
        "colab": {
          "base_uri": "https://localhost:8080/",
          "height": 376
        },
        "id": "j6HZluLBAMII",
        "outputId": "15a9581d-bda2-413f-8d2b-2e91ec428cd1"
      },
      "source": [
        "plt.plot(hist.history['loss'], label='train loss', c='red')\n",
        "plt.plot(hist.history['val_loss'], label='validation loss')\n",
        "plt.xlabel('Loss')\n",
        "plt.ylabel('Epochs')\n",
        "plt.legend()\n",
        "plt.title('Loss vs Epochs for RNN model')\n",
        "plt.show()"
      ],
      "execution_count": 60,
      "outputs": [
        {
          "output_type": "display_data",
          "data": {
            "image/png": "[encoded data removed]",
            "text/plain": [
              "<Figure size 576x396 with 1 Axes>"
            ]
          },
          "metadata": {}
        }
      ]
    },
    {
      "cell_type": "code",
      "metadata": {
        "id": "XEl-f_p7AL3c"
      },
      "source": [
        "from sklearn.metrics import classification_report"
      ],
      "execution_count": 37,
      "outputs": []
    },
    {
      "cell_type": "code",
      "metadata": {
        "id": "zmYKXenIAZxA"
      },
      "source": [
        "preds = model.predict(X_train)"
      ],
      "execution_count": 38,
      "outputs": []
    },
    {
      "cell_type": "code",
      "metadata": {
        "id": "xi7tgfUbAkQx"
      },
      "source": [
        "preds = np.argmax(preds, axis=1)"
      ],
      "execution_count": 39,
      "outputs": []
    },
    {
      "cell_type": "code",
      "metadata": {
        "id": "lvhbcIatAkfU"
      },
      "source": [
        "finalLabels = np.argmax(trainLabels, axis=1)"
      ],
      "execution_count": 40,
      "outputs": []
    },
    {
      "cell_type": "code",
      "metadata": {
        "colab": {
          "base_uri": "https://localhost:8080/"
        },
        "id": "jR3mZDZNAkr_",
        "outputId": "05b864fd-f07b-4287-c2d1-4c84480a5693"
      },
      "source": [
        "cr = classification_report(finalLabels, preds)\n",
        "print(cr)"
      ],
      "execution_count": 41,
      "outputs": [
        {
          "output_type": "stream",
          "name": "stdout",
          "text": [
            "              precision    recall  f1-score   support\n",
            "\n",
            "           0       0.31      0.93      0.46     15090\n",
            "           1       0.60      0.15      0.23      7076\n",
            "           2       0.45      0.66      0.53      6842\n",
            "           3       0.81      0.01      0.01      3842\n",
            "           4       0.51      0.64      0.56      4363\n",
            "           5       0.84      0.01      0.03      2751\n",
            "           6       0.74      0.07      0.13      2831\n",
            "           7       0.58      0.17      0.27      3250\n",
            "           8       0.69      0.01      0.02      2341\n",
            "           9       0.00      0.00      0.00      1992\n",
            "          10       0.97      0.04      0.08      2083\n",
            "          11       0.70      0.48      0.57      2433\n",
            "          12       0.48      0.43      0.46      1908\n",
            "          13       0.67      0.00      0.00      1722\n",
            "          14       1.00      0.00      0.00      1878\n",
            "          15       1.00      0.00      0.01      1745\n",
            "          16       0.88      0.00      0.01      1721\n",
            "          17       0.72      0.64      0.68      1976\n",
            "          18       0.71      0.20      0.31      2592\n",
            "          19       1.00      0.00      0.00      1556\n",
            "\n",
            "    accuracy                           0.39     69992\n",
            "   macro avg       0.68      0.22      0.22     69992\n",
            "weighted avg       0.58      0.39      0.30     69992\n",
            "\n"
          ]
        },
        {
          "output_type": "stream",
          "name": "stderr",
          "text": [
            "/usr/local/lib/python3.7/dist-packages/sklearn/metrics/_classification.py:1308: UndefinedMetricWarning: Precision and F-score are ill-defined and being set to 0.0 in labels with no predicted samples. Use `zero_division` parameter to control this behavior.\n",
            "  _warn_prf(average, modifier, msg_start, len(result))\n",
            "/usr/local/lib/python3.7/dist-packages/sklearn/metrics/_classification.py:1308: UndefinedMetricWarning: Precision and F-score are ill-defined and being set to 0.0 in labels with no predicted samples. Use `zero_division` parameter to control this behavior.\n",
            "  _warn_prf(average, modifier, msg_start, len(result))\n",
            "/usr/local/lib/python3.7/dist-packages/sklearn/metrics/_classification.py:1308: UndefinedMetricWarning: Precision and F-score are ill-defined and being set to 0.0 in labels with no predicted samples. Use `zero_division` parameter to control this behavior.\n",
            "  _warn_prf(average, modifier, msg_start, len(result))\n"
          ]
        }
      ]
    },
    {
      "cell_type": "code",
      "metadata": {
        "colab": {
          "base_uri": "https://localhost:8080/"
        },
        "id": "omSSJldGAk2c",
        "outputId": "05cdfe1b-ef94-479f-caee-2f04a2e163ad"
      },
      "source": [
        "preds = model.predict(X_test)\n",
        "preds = np.argmax(preds, axis=1)\n",
        "finalLabels = np.argmax(X_test, axis=1)\n",
        "cr = classification_report(finalLabels, preds)\n",
        "print(cr)"
      ],
      "execution_count": 42,
      "outputs": [
        {
          "output_type": "stream",
          "name": "stdout",
          "text": [
            "              precision    recall  f1-score   support\n",
            "\n",
            "           0       0.00      0.61      0.01        99\n",
            "           1       0.04      0.05      0.04       229\n",
            "           2       0.03      0.21      0.06       458\n",
            "           3       0.00      0.00      0.00       786\n",
            "           4       0.06      0.07      0.06      1211\n",
            "           5       0.00      0.00      0.00      1857\n",
            "           6       0.19      0.00      0.00      2588\n",
            "           7       0.06      0.00      0.00      3685\n",
            "           8       0.14      0.00      0.00      4684\n",
            "           9       0.00      0.00      0.00      4403\n",
            "          10       0.00      0.00      0.00         0\n",
            "          11       0.00      0.00      0.00         0\n",
            "          12       0.00      0.00      0.00         0\n",
            "          17       0.00      0.00      0.00         0\n",
            "          18       0.00      0.00      0.00         0\n",
            "\n",
            "    accuracy                           0.01     20000\n",
            "   macro avg       0.03      0.06      0.01     20000\n",
            "weighted avg       0.07      0.01      0.01     20000\n",
            "\n"
          ]
        },
        {
          "output_type": "stream",
          "name": "stderr",
          "text": [
            "/usr/local/lib/python3.7/dist-packages/sklearn/metrics/_classification.py:1308: UndefinedMetricWarning: Precision and F-score are ill-defined and being set to 0.0 in labels with no predicted samples. Use `zero_division` parameter to control this behavior.\n",
            "  _warn_prf(average, modifier, msg_start, len(result))\n",
            "/usr/local/lib/python3.7/dist-packages/sklearn/metrics/_classification.py:1308: UndefinedMetricWarning: Recall and F-score are ill-defined and being set to 0.0 in labels with no true samples. Use `zero_division` parameter to control this behavior.\n",
            "  _warn_prf(average, modifier, msg_start, len(result))\n",
            "/usr/local/lib/python3.7/dist-packages/sklearn/metrics/_classification.py:1308: UndefinedMetricWarning: Precision and F-score are ill-defined and being set to 0.0 in labels with no predicted samples. Use `zero_division` parameter to control this behavior.\n",
            "  _warn_prf(average, modifier, msg_start, len(result))\n",
            "/usr/local/lib/python3.7/dist-packages/sklearn/metrics/_classification.py:1308: UndefinedMetricWarning: Recall and F-score are ill-defined and being set to 0.0 in labels with no true samples. Use `zero_division` parameter to control this behavior.\n",
            "  _warn_prf(average, modifier, msg_start, len(result))\n",
            "/usr/local/lib/python3.7/dist-packages/sklearn/metrics/_classification.py:1308: UndefinedMetricWarning: Precision and F-score are ill-defined and being set to 0.0 in labels with no predicted samples. Use `zero_division` parameter to control this behavior.\n",
            "  _warn_prf(average, modifier, msg_start, len(result))\n",
            "/usr/local/lib/python3.7/dist-packages/sklearn/metrics/_classification.py:1308: UndefinedMetricWarning: Recall and F-score are ill-defined and being set to 0.0 in labels with no true samples. Use `zero_division` parameter to control this behavior.\n",
            "  _warn_prf(average, modifier, msg_start, len(result))\n"
          ]
        }
      ]
    },
    {
      "cell_type": "code",
      "metadata": {
        "colab": {
          "base_uri": "https://localhost:8080/"
        },
        "id": "p5Rom__qAk9o",
        "outputId": "2a691be5-23f6-4729-c0f0-1b4baef29ca3"
      },
      "source": [
        "preds = model.predict(X_val)\n",
        "preds = np.argmax(preds, axis=1)\n",
        "finalLabels = np.argmax(X_val, axis=1)\n",
        "cr = classification_report(finalLabels, preds)\n",
        "print(cr)"
      ],
      "execution_count": 43,
      "outputs": [
        {
          "output_type": "stream",
          "name": "stdout",
          "text": [
            "              precision    recall  f1-score   support\n",
            "\n",
            "           0       0.00      0.49      0.01        51\n",
            "           1       0.02      0.03      0.03       115\n",
            "           2       0.02      0.15      0.04       204\n",
            "           3       0.00      0.00      0.00       376\n",
            "           4       0.08      0.09      0.08       634\n",
            "           5       0.00      0.00      0.00       965\n",
            "           6       0.25      0.00      0.01      1325\n",
            "           7       0.11      0.00      0.01      1850\n",
            "           8       0.75      0.00      0.00      2286\n",
            "           9       0.00      0.00      0.00      2202\n",
            "          11       0.00      0.00      0.00         0\n",
            "          12       0.00      0.00      0.00         0\n",
            "          17       0.00      0.00      0.00         0\n",
            "          18       0.00      0.00      0.00         0\n",
            "\n",
            "    accuracy                           0.01     10008\n",
            "   macro avg       0.09      0.06      0.01     10008\n",
            "weighted avg       0.23      0.01      0.01     10008\n",
            "\n"
          ]
        },
        {
          "output_type": "stream",
          "name": "stderr",
          "text": [
            "/usr/local/lib/python3.7/dist-packages/sklearn/metrics/_classification.py:1308: UndefinedMetricWarning: Precision and F-score are ill-defined and being set to 0.0 in labels with no predicted samples. Use `zero_division` parameter to control this behavior.\n",
            "  _warn_prf(average, modifier, msg_start, len(result))\n",
            "/usr/local/lib/python3.7/dist-packages/sklearn/metrics/_classification.py:1308: UndefinedMetricWarning: Recall and F-score are ill-defined and being set to 0.0 in labels with no true samples. Use `zero_division` parameter to control this behavior.\n",
            "  _warn_prf(average, modifier, msg_start, len(result))\n",
            "/usr/local/lib/python3.7/dist-packages/sklearn/metrics/_classification.py:1308: UndefinedMetricWarning: Precision and F-score are ill-defined and being set to 0.0 in labels with no predicted samples. Use `zero_division` parameter to control this behavior.\n",
            "  _warn_prf(average, modifier, msg_start, len(result))\n",
            "/usr/local/lib/python3.7/dist-packages/sklearn/metrics/_classification.py:1308: UndefinedMetricWarning: Recall and F-score are ill-defined and being set to 0.0 in labels with no true samples. Use `zero_division` parameter to control this behavior.\n",
            "  _warn_prf(average, modifier, msg_start, len(result))\n",
            "/usr/local/lib/python3.7/dist-packages/sklearn/metrics/_classification.py:1308: UndefinedMetricWarning: Precision and F-score are ill-defined and being set to 0.0 in labels with no predicted samples. Use `zero_division` parameter to control this behavior.\n",
            "  _warn_prf(average, modifier, msg_start, len(result))\n",
            "/usr/local/lib/python3.7/dist-packages/sklearn/metrics/_classification.py:1308: UndefinedMetricWarning: Recall and F-score are ill-defined and being set to 0.0 in labels with no true samples. Use `zero_division` parameter to control this behavior.\n",
            "  _warn_prf(average, modifier, msg_start, len(result))\n"
          ]
        }
      ]
    },
    {
      "cell_type": "code",
      "metadata": {
        "id": "G3VnB_OaAlDG"
      },
      "source": [
        ""
      ],
      "execution_count": null,
      "outputs": []
    },
    {
      "cell_type": "code",
      "metadata": {
        "id": "TCO7KnD3AlI3"
      },
      "source": [
        ""
      ],
      "execution_count": null,
      "outputs": []
    },
    {
      "cell_type": "code",
      "metadata": {
        "id": "lL0QzdCQAlSA"
      },
      "source": [
        ""
      ],
      "execution_count": null,
      "outputs": []
    },
    {
      "cell_type": "code",
      "metadata": {
        "id": "vwvFEIRGAlYI"
      },
      "source": [
        ""
      ],
      "execution_count": null,
      "outputs": []
    },
    {
      "cell_type": "code",
      "metadata": {
        "id": "HNQaoi1YAlcw"
      },
      "source": [
        ""
      ],
      "execution_count": null,
      "outputs": []
    },
    {
      "cell_type": "code",
      "metadata": {
        "id": "QLKURwYEAlhn"
      },
      "source": [
        ""
      ],
      "execution_count": null,
      "outputs": []
    },
    {
      "cell_type": "code",
      "metadata": {
        "id": "gi_kAkezAllu"
      },
      "source": [
        ""
      ],
      "execution_count": null,
      "outputs": []
    },
    {
      "cell_type": "code",
      "metadata": {
        "id": "QUaHcHoGAlqH"
      },
      "source": [
        ""
      ],
      "execution_count": null,
      "outputs": []
    },
    {
      "cell_type": "code",
      "metadata": {
        "id": "3YuJOvPXAlwH"
      },
      "source": [
        ""
      ],
      "execution_count": null,
      "outputs": []
    },
    {
      "cell_type": "code",
      "metadata": {
        "id": "5M9j_a1dAlzA"
      },
      "source": [
        ""
      ],
      "execution_count": null,
      "outputs": []
    },
    {
      "cell_type": "code",
      "metadata": {
        "id": "LZ_e6fuzAl2i"
      },
      "source": [
        ""
      ],
      "execution_count": null,
      "outputs": []
    },
    {
      "cell_type": "code",
      "metadata": {
        "colab": {
          "base_uri": "https://localhost:8080/"
        },
        "id": "JVw7ZjWUsLij",
        "outputId": "5e9fe7a6-9495-4816-a00f-68f5aa093674"
      },
      "source": [
        "model = Sequential()\n",
        "model.add(Embedding(44843, 300, trainable=True))\n",
        "model.add(Dropout(0.5))\n",
        "model.add(SimpleRNN(100))\n",
        "model.add(Dropout(0.5))\n",
        "model.add(Dense(20, activation='softmax'))\n",
        "model.summary()\n",
        "checkPointLoss = ModelCheckpoint('rnnBestLoss.h5', monitor='val_loss', verbose=True, save_best_only=True)\n",
        "checkPointAcc = ModelCheckpoint('rnnBestAcc.h5', monitor='val_accuracy', verbose=True, save_best_only=True)\n",
        "earlyStopping = EarlyStopping(monitor='val_accuracy', patience=3)\n",
        "model.compile(optimizer='adam', loss='categorical_crossentropy', metrics=['accuracy'])\n",
        "hist = model.fit(X_train, trainLabels, validation_data=(X_val, validLabels), epochs=5, batch_size=128, callbacks=[checkPointLoss, checkPointAcc])"
      ],
      "execution_count": 37,
      "outputs": [
        {
          "output_type": "stream",
          "name": "stdout",
          "text": [
            "Model: \"sequential_3\"\n",
            "_________________________________________________________________\n",
            " Layer (type)                Output Shape              Param #   \n",
            "=================================================================\n",
            " embedding_3 (Embedding)     (None, None, 300)         13452900  \n",
            "                                                                 \n",
            " dropout_1 (Dropout)         (None, None, 300)         0         \n",
            "                                                                 \n",
            " simple_rnn_3 (SimpleRNN)    (None, 100)               40100     \n",
            "                                                                 \n",
            " dropout_2 (Dropout)         (None, 100)               0         \n",
            "                                                                 \n",
            " dense_3 (Dense)             (None, 20)                2020      \n",
            "                                                                 \n",
            "=================================================================\n",
            "Total params: 13,495,020\n",
            "Trainable params: 13,495,020\n",
            "Non-trainable params: 0\n",
            "_________________________________________________________________\n",
            "Epoch 1/5\n",
            "547/547 [==============================] - ETA: 0s - loss: 2.6603 - accuracy: 0.2394\n",
            "Epoch 00001: val_loss improved from inf to 2.47959, saving model to rnnBestLoss.h5\n",
            "\n",
            "Epoch 00001: val_accuracy improved from -inf to 0.28427, saving model to rnnBestAcc.h5\n",
            "547/547 [==============================] - 92s 166ms/step - loss: 2.6603 - accuracy: 0.2394 - val_loss: 2.4796 - val_accuracy: 0.2843\n",
            "Epoch 2/5\n",
            "547/547 [==============================] - ETA: 0s - loss: 2.3128 - accuracy: 0.3252\n",
            "Epoch 00002: val_loss improved from 2.47959 to 2.45602, saving model to rnnBestLoss.h5\n",
            "\n",
            "Epoch 00002: val_accuracy improved from 0.28427 to 0.29187, saving model to rnnBestAcc.h5\n",
            "547/547 [==============================] - 92s 169ms/step - loss: 2.3128 - accuracy: 0.3252 - val_loss: 2.4560 - val_accuracy: 0.2919\n",
            "Epoch 3/5\n",
            "547/547 [==============================] - ETA: 0s - loss: 1.9259 - accuracy: 0.4386\n",
            "Epoch 00003: val_loss did not improve from 2.45602\n",
            "\n",
            "Epoch 00003: val_accuracy did not improve from 0.29187\n",
            "547/547 [==============================] - 87s 160ms/step - loss: 1.9259 - accuracy: 0.4386 - val_loss: 2.5953 - val_accuracy: 0.2721\n",
            "Epoch 4/5\n",
            "547/547 [==============================] - ETA: 0s - loss: 1.5394 - accuracy: 0.5597\n",
            "Epoch 00004: val_loss did not improve from 2.45602\n",
            "\n",
            "Epoch 00004: val_accuracy did not improve from 0.29187\n",
            "547/547 [==============================] - 86s 157ms/step - loss: 1.5394 - accuracy: 0.5597 - val_loss: 2.8167 - val_accuracy: 0.2512\n",
            "Epoch 5/5\n",
            "547/547 [==============================] - ETA: 0s - loss: 1.2585 - accuracy: 0.6420\n",
            "Epoch 00005: val_loss did not improve from 2.45602\n",
            "\n",
            "Epoch 00005: val_accuracy did not improve from 0.29187\n",
            "547/547 [==============================] - 88s 160ms/step - loss: 1.2585 - accuracy: 0.6420 - val_loss: 3.0247 - val_accuracy: 0.2457\n"
          ]
        }
      ]
    },
    {
      "cell_type": "code",
      "metadata": {
        "colab": {
          "base_uri": "https://localhost:8080/"
        },
        "id": "5lLllpRat68U",
        "outputId": "a86f8591-7ccb-4824-9939-27b14f5738cd"
      },
      "source": [
        "model.evaluate(X_test, testLabels)\n",
        "model.load_weights('rnnBestLoss.h5')\n",
        "model.evaluate(X_test, testLabels)\n",
        "model.load_weights('rnnBestAcc.h5')\n",
        "model.evaluate(X_test, testLabels)"
      ],
      "execution_count": 38,
      "outputs": [
        {
          "output_type": "stream",
          "name": "stdout",
          "text": [
            "625/625 [==============================] - 2s 4ms/step - loss: 2.9953 - accuracy: 0.2506\n",
            "625/625 [==============================] - 3s 5ms/step - loss: 2.4451 - accuracy: 0.2964\n",
            "625/625 [==============================] - 2s 3ms/step - loss: 2.4451 - accuracy: 0.2964\n"
          ]
        },
        {
          "output_type": "execute_result",
          "data": {
            "text/plain": [
              "[2.4450795650482178, 0.2964499890804291]"
            ]
          },
          "metadata": {},
          "execution_count": 38
        }
      ]
    },
    {
      "cell_type": "code",
      "metadata": {
        "colab": {
          "base_uri": "https://localhost:8080/"
        },
        "id": "joxHHxLwuGRB",
        "outputId": "cc754174-7ace-460a-eecb-f7e20556dc66"
      },
      "source": [
        "model = Sequential()\n",
        "model.add(Embedding(44843, 300, trainable=True))\n",
        "model.add(Dropout(0.5))\n",
        "model.add(SimpleRNN(100, return_sequences=True))\n",
        "model.add(Dropout(0.5))\n",
        "model.add(SimpleRNN(100))\n",
        "model.add(Dropout(0.5))\n",
        "model.add(Dense(20, activation='softmax'))\n",
        "model.summary()\n",
        "checkPointLoss = ModelCheckpoint('rnnBestLoss.h5', monitor='val_loss', verbose=True, save_best_only=True)\n",
        "checkPointAcc = ModelCheckpoint('rnnBestAcc.h5', monitor='val_accuracy', verbose=True, save_best_only=True)\n",
        "earlyStopping = EarlyStopping(monitor='val_accuracy', patience=3)\n",
        "model.compile(optimizer='adam', loss='categorical_crossentropy', metrics=['accuracy'])\n",
        "hist = model.fit(X_train, trainLabels, validation_data=(X_val, validLabels), epochs=5, batch_size=128, callbacks=[checkPointLoss, checkPointAcc])"
      ],
      "execution_count": 40,
      "outputs": [
        {
          "output_type": "stream",
          "name": "stdout",
          "text": [
            "Model: \"sequential_5\"\n",
            "_________________________________________________________________\n",
            " Layer (type)                Output Shape              Param #   \n",
            "=================================================================\n",
            " embedding_5 (Embedding)     (None, None, 300)         13452900  \n",
            "                                                                 \n",
            " dropout_5 (Dropout)         (None, None, 300)         0         \n",
            "                                                                 \n",
            " simple_rnn_6 (SimpleRNN)    (None, None, 100)         40100     \n",
            "                                                                 \n",
            " dropout_6 (Dropout)         (None, None, 100)         0         \n",
            "                                                                 \n",
            " simple_rnn_7 (SimpleRNN)    (None, 100)               20100     \n",
            "                                                                 \n",
            " dropout_7 (Dropout)         (None, 100)               0         \n",
            "                                                                 \n",
            " dense_4 (Dense)             (None, 20)                2020      \n",
            "                                                                 \n",
            "=================================================================\n",
            "Total params: 13,515,120\n",
            "Trainable params: 13,515,120\n",
            "Non-trainable params: 0\n",
            "_________________________________________________________________\n",
            "Epoch 1/5\n",
            "547/547 [==============================] - ETA: 0s - loss: 2.7339 - accuracy: 0.2177\n",
            "Epoch 00001: val_loss improved from inf to 2.51200, saving model to rnnBestLoss.h5\n",
            "\n",
            "Epoch 00001: val_accuracy improved from -inf to 0.28068, saving model to rnnBestAcc.h5\n",
            "547/547 [==============================] - 155s 171ms/step - loss: 2.7339 - accuracy: 0.2177 - val_loss: 2.5120 - val_accuracy: 0.2807\n",
            "Epoch 2/5\n",
            "547/547 [==============================] - ETA: 0s - loss: 2.4337 - accuracy: 0.2988\n",
            "Epoch 00002: val_loss improved from 2.51200 to 2.45864, saving model to rnnBestLoss.h5\n",
            "\n",
            "Epoch 00002: val_accuracy improved from 0.28068 to 0.29027, saving model to rnnBestAcc.h5\n",
            "547/547 [==============================] - 94s 171ms/step - loss: 2.4337 - accuracy: 0.2988 - val_loss: 2.4586 - val_accuracy: 0.2903\n",
            "Epoch 3/5\n",
            "547/547 [==============================] - ETA: 0s - loss: 2.1769 - accuracy: 0.3637\n",
            "Epoch 00003: val_loss did not improve from 2.45864\n",
            "\n",
            "Epoch 00003: val_accuracy did not improve from 0.29027\n",
            "547/547 [==============================] - 89s 163ms/step - loss: 2.1769 - accuracy: 0.3637 - val_loss: 2.5154 - val_accuracy: 0.2840\n",
            "Epoch 4/5\n",
            "547/547 [==============================] - ETA: 0s - loss: 1.8878 - accuracy: 0.4487\n",
            "Epoch 00004: val_loss did not improve from 2.45864\n",
            "\n",
            "Epoch 00004: val_accuracy did not improve from 0.29027\n",
            "547/547 [==============================] - 88s 161ms/step - loss: 1.8878 - accuracy: 0.4487 - val_loss: 2.6608 - val_accuracy: 0.2673\n",
            "Epoch 5/5\n",
            "547/547 [==============================] - ETA: 0s - loss: 1.6143 - accuracy: 0.5357\n",
            "Epoch 00005: val_loss did not improve from 2.45864\n",
            "\n",
            "Epoch 00005: val_accuracy did not improve from 0.29027\n",
            "547/547 [==============================] - 87s 160ms/step - loss: 1.6143 - accuracy: 0.5357 - val_loss: 2.8113 - val_accuracy: 0.2528\n"
          ]
        }
      ]
    },
    {
      "cell_type": "code",
      "metadata": {
        "colab": {
          "base_uri": "https://localhost:8080/"
        },
        "id": "jW7hpCrLwaFk",
        "outputId": "c823e0a2-b2f8-4581-bb1d-7ec181e96cb3"
      },
      "source": [
        "model.evaluate(X_test, testLabels)\n",
        "model.load_weights('rnnBestLoss.h5')\n",
        "model.evaluate(X_test, testLabels)\n",
        "model.load_weights('rnnBestAcc.h5')\n",
        "model.evaluate(X_test, testLabels)"
      ],
      "execution_count": 41,
      "outputs": [
        {
          "output_type": "stream",
          "name": "stdout",
          "text": [
            "625/625 [==============================] - 3s 5ms/step - loss: 2.8028 - accuracy: 0.2594\n",
            "625/625 [==============================] - 3s 5ms/step - loss: 2.4507 - accuracy: 0.2941\n",
            "625/625 [==============================] - 3s 5ms/step - loss: 2.4507 - accuracy: 0.2941\n"
          ]
        },
        {
          "output_type": "execute_result",
          "data": {
            "text/plain": [
              "[2.4507248401641846, 0.294050008058548]"
            ]
          },
          "metadata": {},
          "execution_count": 41
        }
      ]
    },
    {
      "cell_type": "code",
      "metadata": {
        "colab": {
          "base_uri": "https://localhost:8080/"
        },
        "id": "VUNfsj4owZxz",
        "outputId": "19868b73-6c88-4413-9f5a-4ad23985982d"
      },
      "source": [
        "model = Sequential()\n",
        "model.add(Embedding(44843, 300, trainable=True))\n",
        "model.add(Dropout(0.5))\n",
        "model.add(SimpleRNN(200, return_sequences=True))\n",
        "model.add(Dropout(0.5))\n",
        "model.add(SimpleRNN(150, return_sequences=True))\n",
        "model.add(Dropout(0.5))\n",
        "# model.add(SimpleRNN(100, return_sequences=True))\n",
        "# model.add(Dropout(0.5))\n",
        "model.add(SimpleRNN(75, return_sequences=False))\n",
        "model.add(Dropout(0.3))\n",
        "# model.add(SimpleRNN(50))\n",
        "# model.add(Dropout(0.25))\n",
        "model.add(Dense(40, activation='relu'))\n",
        "model.add(Dropout(0.25))\n",
        "model.add(Dense(20, activation='softmax'))\n",
        "model.summary()\n",
        "checkPointLoss = ModelCheckpoint('rnnBestLoss.h5', monitor='val_loss', verbose=True, save_best_only=True)\n",
        "checkPointAcc = ModelCheckpoint('rnnBestAcc.h5', monitor='val_accuracy', verbose=True, save_best_only=True)\n",
        "earlyStopping = EarlyStopping(monitor='val_accuracy', patience=2)\n",
        "model.compile(optimizer='adam', loss='categorical_crossentropy', metrics=['accuracy'])\n",
        "hist = model.fit(X_train, trainLabels, validation_data=(X_val, validLabels), epochs=15, batch_size=512, callbacks=[checkPointLoss, checkPointAcc, earlyStopping])"
      ],
      "execution_count": 44,
      "outputs": [
        {
          "output_type": "stream",
          "name": "stdout",
          "text": [
            "Model: \"sequential_8\"\n",
            "_________________________________________________________________\n",
            " Layer (type)                Output Shape              Param #   \n",
            "=================================================================\n",
            " embedding_8 (Embedding)     (None, None, 300)         13452900  \n",
            "                                                                 \n",
            " dropout_22 (Dropout)        (None, None, 300)         0         \n",
            "                                                                 \n",
            " simple_rnn_18 (SimpleRNN)   (None, None, 200)         100200    \n",
            "                                                                 \n",
            " dropout_23 (Dropout)        (None, None, 200)         0         \n",
            "                                                                 \n",
            " simple_rnn_19 (SimpleRNN)   (None, None, 150)         52650     \n",
            "                                                                 \n",
            " dropout_24 (Dropout)        (None, None, 150)         0         \n",
            "                                                                 \n",
            " simple_rnn_20 (SimpleRNN)   (None, 75)                16950     \n",
            "                                                                 \n",
            " dropout_25 (Dropout)        (None, 75)                0         \n",
            "                                                                 \n",
            " dense_9 (Dense)             (None, 40)                3040      \n",
            "                                                                 \n",
            " dropout_26 (Dropout)        (None, 40)                0         \n",
            "                                                                 \n",
            " dense_10 (Dense)            (None, 20)                820       \n",
            "                                                                 \n",
            "=================================================================\n",
            "Total params: 13,626,560\n",
            "Trainable params: 13,626,560\n",
            "Non-trainable params: 0\n",
            "_________________________________________________________________\n",
            "Epoch 1/15\n",
            "137/137 [==============================] - ETA: 0s - loss: 2.8368 - accuracy: 0.1968\n",
            "Epoch 00001: val_loss improved from inf to 2.76054, saving model to rnnBestLoss.h5\n",
            "\n",
            "Epoch 00001: val_accuracy improved from -inf to 0.21543, saving model to rnnBestAcc.h5\n",
            "137/137 [==============================] - 77s 374ms/step - loss: 2.8368 - accuracy: 0.1968 - val_loss: 2.7605 - val_accuracy: 0.2154\n",
            "Epoch 2/15\n",
            "137/137 [==============================] - ETA: 0s - loss: 2.7721 - accuracy: 0.2138\n",
            "Epoch 00002: val_loss improved from 2.76054 to 2.70784, saving model to rnnBestLoss.h5\n",
            "\n",
            "Epoch 00002: val_accuracy improved from 0.21543 to 0.21992, saving model to rnnBestAcc.h5\n",
            "137/137 [==============================] - 56s 408ms/step - loss: 2.7721 - accuracy: 0.2138 - val_loss: 2.7078 - val_accuracy: 0.2199\n",
            "Epoch 3/15\n",
            "137/137 [==============================] - ETA: 0s - loss: 2.6926 - accuracy: 0.2247\n",
            "Epoch 00003: val_loss improved from 2.70784 to 2.62846, saving model to rnnBestLoss.h5\n",
            "\n",
            "Epoch 00003: val_accuracy improved from 0.21992 to 0.22982, saving model to rnnBestAcc.h5\n",
            "137/137 [==============================] - 52s 383ms/step - loss: 2.6926 - accuracy: 0.2247 - val_loss: 2.6285 - val_accuracy: 0.2298\n",
            "Epoch 4/15\n",
            "137/137 [==============================] - ETA: 0s - loss: 2.6087 - accuracy: 0.2425\n",
            "Epoch 00004: val_loss improved from 2.62846 to 2.59970, saving model to rnnBestLoss.h5\n",
            "\n",
            "Epoch 00004: val_accuracy improved from 0.22982 to 0.24460, saving model to rnnBestAcc.h5\n",
            "137/137 [==============================] - 53s 386ms/step - loss: 2.6087 - accuracy: 0.2425 - val_loss: 2.5997 - val_accuracy: 0.2446\n",
            "Epoch 5/15\n",
            "137/137 [==============================] - ETA: 0s - loss: 2.5074 - accuracy: 0.2692\n",
            "Epoch 00005: val_loss improved from 2.59970 to 2.59235, saving model to rnnBestLoss.h5\n",
            "\n",
            "Epoch 00005: val_accuracy improved from 0.24460 to 0.25909, saving model to rnnBestAcc.h5\n",
            "137/137 [==============================] - 52s 383ms/step - loss: 2.5074 - accuracy: 0.2692 - val_loss: 2.5924 - val_accuracy: 0.2591\n",
            "Epoch 6/15\n",
            "137/137 [==============================] - ETA: 0s - loss: 2.3889 - accuracy: 0.2938\n",
            "Epoch 00006: val_loss did not improve from 2.59235\n",
            "\n",
            "Epoch 00006: val_accuracy improved from 0.25909 to 0.26918, saving model to rnnBestAcc.h5\n",
            "137/137 [==============================] - 51s 369ms/step - loss: 2.3889 - accuracy: 0.2938 - val_loss: 2.6089 - val_accuracy: 0.2692\n",
            "Epoch 7/15\n",
            "137/137 [==============================] - ETA: 0s - loss: 2.2484 - accuracy: 0.3240\n",
            "Epoch 00007: val_loss did not improve from 2.59235\n",
            "\n",
            "Epoch 00007: val_accuracy did not improve from 0.26918\n",
            "137/137 [==============================] - 48s 350ms/step - loss: 2.2484 - accuracy: 0.3240 - val_loss: 2.6467 - val_accuracy: 0.2613\n",
            "Epoch 8/15\n",
            "137/137 [==============================] - ETA: 0s - loss: 2.1184 - accuracy: 0.3545\n",
            "Epoch 00008: val_loss did not improve from 2.59235\n",
            "\n",
            "Epoch 00008: val_accuracy did not improve from 0.26918\n",
            "137/137 [==============================] - 48s 347ms/step - loss: 2.1184 - accuracy: 0.3545 - val_loss: 2.7365 - val_accuracy: 0.2456\n"
          ]
        }
      ]
    },
    {
      "cell_type": "code",
      "metadata": {
        "colab": {
          "base_uri": "https://localhost:8080/"
        },
        "id": "KAd1U2avwZka",
        "outputId": "585fd563-d405-4fe7-8aca-69ac495d988a"
      },
      "source": [
        "model.evaluate(X_test, testLabels)\n",
        "model.load_weights('rnnBestLoss.h5')\n",
        "model.evaluate(X_test, testLabels)\n",
        "model.load_weights('rnnBestAcc.h5')\n",
        "model.evaluate(X_test, testLabels)"
      ],
      "execution_count": 45,
      "outputs": [
        {
          "output_type": "stream",
          "name": "stdout",
          "text": [
            "625/625 [==============================] - 5s 7ms/step - loss: 2.7251 - accuracy: 0.2429\n",
            "625/625 [==============================] - 5s 7ms/step - loss: 2.5784 - accuracy: 0.2625\n",
            "625/625 [==============================] - 4s 7ms/step - loss: 2.5978 - accuracy: 0.2725\n"
          ]
        },
        {
          "output_type": "execute_result",
          "data": {
            "text/plain": [
              "[2.5978221893310547, 0.27254998683929443]"
            ]
          },
          "metadata": {},
          "execution_count": 45
        }
      ]
    },
    {
      "cell_type": "code",
      "metadata": {
        "id": "UDBwE5XnwZNv"
      },
      "source": [
        ""
      ],
      "execution_count": null,
      "outputs": []
    },
    {
      "cell_type": "code",
      "metadata": {
        "colab": {
          "base_uri": "https://localhost:8080/",
          "height": 131
        },
        "id": "kKcbF-Y7rn2I",
        "outputId": "86b71801-75db-4eef-ce97-8367e5abb6b5"
      },
      "source": [
        "stmodel = Sequential()\n",
        "model.add(Embedding(44843, 300, trainable=True))\n",
        "# model.add(Dropout(0.5))\n",
        "model.add(SimpleRNN(100)\n",
        "# model.add(Dropout(0.5))\n",
        "model.add(Dense(20, activation='softmax'))\n",
        "model.summary()\n",
        "checkPointLoss = ModelCheckpoint('rnnBestLoss.h5', monitor='val_loss', verbose=True, save_best_only=True)\n",
        "checkPointAcc = ModelCheckpoint('rnnBestAcc.h5', monitor='val_accuracy', verbose=True, save_best_only=True)\n",
        "earlyStopping = EarlyStopping(monitor='val_accuracy', patience=3)\n",
        "model.compile(optimizer='adam', loss='categorical_crossentropy', metrics=['accuracy'])\n",
        "hist = model.fit(X_train, trainLabels, validation_data=(X_val, validLabels), epochs=5, batch_size=128, callbacks=[checkPointLoss, checkPointAcc])"
      ],
      "execution_count": 34,
      "outputs": [
        {
          "output_type": "error",
          "ename": "SyntaxError",
          "evalue": "ignored",
          "traceback": [
            "\u001b[0;36m  File \u001b[0;32m\"<ipython-input-34-df64f45249fc>\"\u001b[0;36m, line \u001b[0;32m6\u001b[0m\n\u001b[0;31m    model.add(Dense(20, activation='softmax'))\u001b[0m\n\u001b[0m        ^\u001b[0m\n\u001b[0;31mSyntaxError\u001b[0m\u001b[0;31m:\u001b[0m invalid syntax\n"
          ]
        }
      ]
    },
    {
      "cell_type": "code",
      "metadata": {
        "id": "NgAg2gMxrnnK"
      },
      "source": [
        ""
      ],
      "execution_count": null,
      "outputs": []
    },
    {
      "cell_type": "code",
      "metadata": {
        "id": "BV3W-FtArnRY"
      },
      "source": [
        ""
      ],
      "execution_count": null,
      "outputs": []
    },
    {
      "cell_type": "code",
      "metadata": {
        "colab": {
          "base_uri": "https://localhost:8080/"
        },
        "id": "SOJdACmCRObF",
        "outputId": "e6841ebf-62cf-429b-bf5d-7635d2990cb5"
      },
      "source": [
        "model = Sequential()\n",
        "model.add(Embedding(44843, 300)) #vocab size, output size\n",
        "model.add(LSTM(200)) # param is the size of the context vector \n",
        "model.add(Dropout(0.3))\n",
        "model.add(Dense(100, activation='relu'))\n",
        "model.add(Dropout(0.7))\n",
        "model.add(Dense(50, activation='relu'))\n",
        "model.add(Dropout(0.7))\n",
        "model.add(Dense(20, activation='softmax')) # binary classification in the end\n",
        "model.summary()\n",
        "checkPoint = ModelCheckpoint('bestModel.h5', monitor='val_loss', verbose=True, save_best_only=True)\n",
        "model.compile(optimizer='adam', loss='categorical_crossentropy', metrics=['accuracy'])\n",
        "hist = model.fit(X_train, trainLabels, validation_data=(X_val, validLabels), epochs=5, batch_size=128, callbacks=[checkPoint])"
      ],
      "execution_count": null,
      "outputs": [
        {
          "output_type": "stream",
          "name": "stdout",
          "text": [
            "Model: \"sequential\"\n",
            "_________________________________________________________________\n",
            " Layer (type)                Output Shape              Param #   \n",
            "=================================================================\n",
            " embedding (Embedding)       (None, None, 300)         13452900  \n",
            "                                                                 \n",
            " lstm (LSTM)                 (None, 200)               400800    \n",
            "                                                                 \n",
            " dropout (Dropout)           (None, 200)               0         \n",
            "                                                                 \n",
            " dense (Dense)               (None, 100)               20100     \n",
            "                                                                 \n",
            " dropout_1 (Dropout)         (None, 100)               0         \n",
            "                                                                 \n",
            " dense_1 (Dense)             (None, 50)                5050      \n",
            "                                                                 \n",
            " dropout_2 (Dropout)         (None, 50)                0         \n",
            "                                                                 \n",
            " dense_2 (Dense)             (None, 20)                1020      \n",
            "                                                                 \n",
            "=================================================================\n",
            "Total params: 13,879,870\n",
            "Trainable params: 13,879,870\n",
            "Non-trainable params: 0\n",
            "_________________________________________________________________\n"
          ]
        }
      ]
    },
    {
      "cell_type": "code",
      "metadata": {
        "id": "-4iqakENRabP"
      },
      "source": [
        "model.compile(optimizer='adam', loss='categorical_crossentropy', metrics=['accuracy'])"
      ],
      "execution_count": null,
      "outputs": []
    },
    {
      "cell_type": "code",
      "metadata": {
        "colab": {
          "base_uri": "https://localhost:8080/"
        },
        "id": "lTfJ1aa0RdjL",
        "outputId": "5c87f5d4-fec6-4497-f5c3-c30670ac0701"
      },
      "source": [
        "model.fit(X_train, trainLabels, validation_data=(X_val, validLabels), epochs=5, batch_size=128, callbacks=[checkPoint])"
      ],
      "execution_count": null,
      "outputs": [
        {
          "output_type": "stream",
          "name": "stdout",
          "text": [
            "Epoch 1/5\n",
            "547/547 [==============================] - ETA: 0s - loss: 2.7647 - accuracy: 0.2110\n",
            "Epoch 00001: val_loss improved from inf to 2.60788, saving model to bestModel.h5\n",
            "547/547 [==============================] - 177s 317ms/step - loss: 2.7647 - accuracy: 0.2110 - val_loss: 2.6079 - val_accuracy: 0.2548\n",
            "Epoch 2/5\n",
            "547/547 [==============================] - ETA: 0s - loss: 2.5925 - accuracy: 0.2583\n",
            "Epoch 00002: val_loss improved from 2.60788 to 2.53522, saving model to bestModel.h5\n",
            "547/547 [==============================] - 166s 304ms/step - loss: 2.5925 - accuracy: 0.2583 - val_loss: 2.5352 - val_accuracy: 0.2714\n",
            "Epoch 3/5\n",
            "547/547 [==============================] - ETA: 0s - loss: 2.4402 - accuracy: 0.2935\n",
            "Epoch 00003: val_loss improved from 2.53522 to 2.52648, saving model to bestModel.h5\n",
            "547/547 [==============================] - 166s 304ms/step - loss: 2.4402 - accuracy: 0.2935 - val_loss: 2.5265 - val_accuracy: 0.2824\n",
            "Epoch 4/5\n",
            "547/547 [==============================] - ETA: 0s - loss: 2.2905 - accuracy: 0.3211\n",
            "Epoch 00004: val_loss did not improve from 2.52648\n",
            "547/547 [==============================] - 161s 294ms/step - loss: 2.2905 - accuracy: 0.3211 - val_loss: 2.5852 - val_accuracy: 0.2805\n",
            "Epoch 5/5\n",
            "547/547 [==============================] - ETA: 0s - loss: 2.1467 - accuracy: 0.3461\n",
            "Epoch 00005: val_loss did not improve from 2.52648\n",
            "547/547 [==============================] - 161s 294ms/step - loss: 2.1467 - accuracy: 0.3461 - val_loss: 2.7474 - val_accuracy: 0.2765\n"
          ]
        },
        {
          "output_type": "execute_result",
          "data": {
            "text/plain": [
              "<keras.callbacks.History at 0x7fb9bd434d10>"
            ]
          },
          "metadata": {},
          "execution_count": 42
        }
      ]
    },
    {
      "cell_type": "code",
      "metadata": {
        "colab": {
          "base_uri": "https://localhost:8080/"
        },
        "id": "8WvRogATRrZ2",
        "outputId": "7994a9a4-d5ce-48f9-9fed-b5d199354dcb"
      },
      "source": [
        " model.evaluate(X_test, testLabels)"
      ],
      "execution_count": null,
      "outputs": [
        {
          "output_type": "stream",
          "name": "stdout",
          "text": [
            "625/625 [==============================] - 15s 23ms/step - loss: 2.7611 - accuracy: 0.2786\n"
          ]
        },
        {
          "output_type": "execute_result",
          "data": {
            "text/plain": [
              "[2.7611165046691895, 0.2786000072956085]"
            ]
          },
          "metadata": {},
          "execution_count": 43
        }
      ]
    },
    {
      "cell_type": "code",
      "metadata": {
        "id": "eCQLW3EobB_y"
      },
      "source": [
        "model.load_weights('bestModel.h5')"
      ],
      "execution_count": null,
      "outputs": []
    },
    {
      "cell_type": "code",
      "metadata": {
        "colab": {
          "base_uri": "https://localhost:8080/"
        },
        "id": "MKNw-2qZ1921",
        "outputId": "c6ea779f-b4bb-4f18-bf77-f954ec67c08d"
      },
      "source": [
        " model.evaluate(X_test, testLabels)"
      ],
      "execution_count": null,
      "outputs": [
        {
          "output_type": "stream",
          "name": "stdout",
          "text": [
            "625/625 [==============================] - 13s 21ms/step - loss: 2.5204 - accuracy: 0.2858\n"
          ]
        },
        {
          "output_type": "execute_result",
          "data": {
            "text/plain": [
              "[2.520411252975464, 0.28584998846054077]"
            ]
          },
          "metadata": {},
          "execution_count": 45
        }
      ]
    },
    {
      "cell_type": "code",
      "metadata": {
        "id": "S5vlPzqB1-tD"
      },
      "source": [
        ""
      ],
      "execution_count": null,
      "outputs": []
    }
  ]
}