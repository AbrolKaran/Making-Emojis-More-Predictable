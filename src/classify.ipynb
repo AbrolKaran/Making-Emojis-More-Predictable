{
 "cells": [
  {
   "cell_type": "code",
   "execution_count": 3,
   "metadata": {},
   "outputs": [],
   "source": [
    "import pandas as pd\n",
    "import numpy as np\n",
    "from sklearn.svm import LinearSVC\n",
    "from sklearn.linear_model import LogisticRegression\n",
    "from sklearn.ensemble import RandomForestClassifier\n",
    "from sklearn.feature_extraction.text import TfidfVectorizer\n",
    "from collections import defaultdict\n",
    "from nltk.tokenize import word_tokenize\n",
    "import preprocessor as p\n",
    "from nltk.corpus import stopwords\n",
    "import string\n",
    "import re\n",
    "from nltk.stem.snowball import EnglishStemmer\n",
    "import pickle\n",
    "from gensim.models import Word2Vec\n"
   ]
  },
  {
   "cell_type": "code",
   "execution_count": 4,
   "metadata": {},
   "outputs": [],
   "source": [
    "class TfidfEmbeddingVectorizer(object):\n",
    "    def __init__(self, model):\n",
    "        self.model = model\n",
    "        self.modelweight = None\n",
    "       \n",
    "        self.dim = len(model.itervalues().next())\n",
    "\n",
    "    def fit(self, X):\n",
    "        tfidf = TfidfVectorizer(analyzer=lambda x: x)\n",
    "        tfidf.fit(X)\n",
    "        # if a word was never seen - it must be at least as infrequent\n",
    "        # as any of the known words - so the default idf is the max of \n",
    "        # known idf's\n",
    "        max_idf = max(tfidf.idf_)\n",
    "        self.modelweight = defaultdict(\n",
    "\t\t    lambda: max_idf,\n",
    "\t\t    [(w, tfidf.idf_[i]) for w, i in tfidf.vocabulary_.items()])\n",
    "\n",
    "        return self\n",
    "\n",
    "    def transform(self, X):\n",
    "        return np.array([\n",
    "\t\t        np.mean([self.model[w] * self.modelweight[w]\n",
    "\t\t                 for w in words if w in self.model] or\n",
    "\t\t                [np.zeros(self.dim)], axis=0)\n",
    "\t\t        for words in X\n",
    "\t\t    ])"
   ]
  },
  {
   "cell_type": "code",
   "execution_count": 6,
   "metadata": {},
   "outputs": [],
   "source": [
    "def word_embeddings(tweets, embedding):\n",
    "    if embedding == \"word2vec\":\n",
    "        X = word2vec(tweets)\n",
    "        w2v = Word2Vec(X, size=200, window=5, sg=0)\n",
    "        model = dict(zip(w2v.wv.index2word, w2v.wv.syn0))\n",
    "        \n",
    "    elif embedding == \"glove\":\n",
    "        with open(\"glove.twitter.27B.200d.txt\", \"rb\") as lines:\n",
    "            model = {line.split()[0]: np.array(map(float, line.split()[1:]))\n",
    "                for line in lines}\n",
    "\n",
    "\n",
    "    vec = TfidfEmbeddingVectorizer(model)\n",
    "    vec.fit(tweets)\n",
    "    matrix = vec.transform(tweets)\n",
    "\n",
    "    return matrix"
   ]
  },
  {
   "cell_type": "code",
   "execution_count": null,
   "metadata": {},
   "outputs": [],
   "source": []
  }
 ],
 "metadata": {
  "interpreter": {
   "hash": "31f2aee4e71d21fbe5cf8b01ff0e069b9275f58929596ceb00d14d90e3e16cd6"
  },
  "kernelspec": {
   "display_name": "Python 3.8.10 64-bit",
   "name": "python3"
  },
  "language_info": {
   "codemirror_mode": {
    "name": "ipython",
    "version": 3
   },
   "file_extension": ".py",
   "mimetype": "text/x-python",
   "name": "python",
   "nbconvert_exporter": "python",
   "pygments_lexer": "ipython3",
   "version": "3.8.10"
  },
  "orig_nbformat": 4
 },
 "nbformat": 4,
 "nbformat_minor": 2
}
