{
 "cells": [
  {
   "cell_type": "code",
   "execution_count": 1,
   "metadata": {},
   "outputs": [],
   "source": [
    "import pandas as pd\n",
    "import numpy as np\n",
    "from sklearn.svm import LinearSVC\n",
    "from sklearn.linear_model import LogisticRegression\n",
    "from sklearn.ensemble import RandomForestClassifier\n",
    "from sklearn.feature_extraction.text import TfidfVectorizer\n",
    "from collections import defaultdict\n",
    "from nltk.tokenize import word_tokenize\n",
    "import preprocessor as p\n",
    "from nltk.corpus import stopwords\n",
    "import string\n",
    "import re\n",
    "from nltk.stem.snowball import EnglishStemmer\n",
    "import pickle\n",
    "from gensim import models\n",
    "from gensim.models import Word2Vec\n",
    "from tqdm import tqdm"
   ]
  },
  {
   "cell_type": "code",
   "execution_count": 2,
   "metadata": {},
   "outputs": [],
   "source": [
    "class TfidfEmbeddingVectorizer(object):\n",
    "    def __init__(self, model):\n",
    "        self.model = model\n",
    "        self.modelweight = None\n",
    "        self.dim = 200\n",
    "        # self.dim = len(model[model.keys()[0]])\n",
    "\n",
    "    def fit(self, X):\n",
    "        tfidf = TfidfVectorizer(analyzer=lambda x: x)\n",
    "        tfidf.fit(X)\n",
    "        # if a word was never seen - it must be at least as infrequent\n",
    "        # as any of the known words - so the default idf is the max of \n",
    "        # known idf's\n",
    "        max_idf = max(tfidf.idf_)\n",
    "        self.modelweight = defaultdict(\n",
    "\t\t    lambda: max_idf,\n",
    "\t\t    [(w, tfidf.idf_[i]) for w, i in tfidf.vocabulary_.items()])\n",
    "\n",
    "        return self\n",
    "\n",
    "    def transform(self, X):\n",
    "        return np.array([\n",
    "\t\t        np.mean([self.model[w] * self.modelweight[w]\n",
    "\t\t                 for w in words if w in self.model] or\n",
    "\t\t                [np.zeros(self.dim)], axis=0)\n",
    "\t\t        for words in X\n",
    "\t\t    ])"
   ]
  },
  {
   "cell_type": "code",
   "execution_count": 3,
   "metadata": {},
   "outputs": [],
   "source": [
    "def word_embeddings(tweets, embedding):\n",
    "    if embedding == \"word2vec\":\n",
    "        X = word2vec(tweets)\n",
    "        w2v = models.Word2Vec(X, vector_size=200, window=5, sg=0)\n",
    "        model = dict(zip(w2v.wv.index_to_key, w2v.wv.vectors))\n",
    "        \n",
    "    elif embedding == \"glove\":\n",
    "        with open(\"./glove.twitter.27B.200d.txt\", \"rb\") as lines:\n",
    "            model = {line.split()[0]: np.array(map(float, line.split()[1:]))\n",
    "                for line in lines}\n",
    "\n",
    "\n",
    "    vec = TfidfEmbeddingVectorizer(model)\n",
    "    vec.fit(tweets)\n",
    "    matrix = vec.transform(tweets)\n",
    "\n",
    "    return matrix"
   ]
  },
  {
   "cell_type": "code",
   "execution_count": 4,
   "metadata": {},
   "outputs": [],
   "source": [
    "def word2vec(tweets):\n",
    "    texts = []\n",
    "\n",
    "    for tweet in tweets:\n",
    "        texts.append(tweet.split())\n",
    "\n",
    "    return texts"
   ]
  },
  {
   "cell_type": "code",
   "execution_count": 5,
   "metadata": {},
   "outputs": [
    {
     "name": "stdout",
     "output_type": "stream",
     "text": [
      "tweet thursday night party next got\n",
      "tweet summer squash wave real kabob\n",
      "tweet still favorite muggle carytown cupcakes\n"
     ]
    }
   ],
   "source": [
    "train_text = pd.read_table('../dataFinal/preprocessed_train_text.txt', engine=\"python-fwf\")\n",
    "train_text = train_text['Text']\n",
    "print(train_text.loc[0])\n",
    "\n",
    "test_text = pd.read_table('../dataFinal/preprocessed_test_text.txt', engine=\"python-fwf\")\n",
    "test_text = test_text['Text']\n",
    "print(test_text.loc[0])\n",
    "\n",
    "trial_text = pd.read_table('../dataFinal/preprocessed_trial_text.txt', engine=\"python-fwf\")\n",
    "trial_text = trial_text['Text']\n",
    "print(trial_text.loc[0])"
   ]
  },
  {
   "cell_type": "code",
   "execution_count": 6,
   "metadata": {},
   "outputs": [
    {
     "name": "stderr",
     "output_type": "stream",
     "text": [
      "100%|██████████| 69992/69992 [00:00<00:00, 1360993.81it/s]\n"
     ]
    },
    {
     "name": "stdout",
     "output_type": "stream",
     "text": [
      "4\n"
     ]
    },
    {
     "name": "stderr",
     "output_type": "stream",
     "text": [
      "100%|██████████| 20000/20000 [00:00<00:00, 1582606.92it/s]\n"
     ]
    },
    {
     "name": "stdout",
     "output_type": "stream",
     "text": [
      "6\n"
     ]
    },
    {
     "name": "stderr",
     "output_type": "stream",
     "text": [
      "100%|██████████| 10008/10008 [00:00<00:00, 1302609.60it/s]"
     ]
    },
    {
     "name": "stdout",
     "output_type": "stream",
     "text": [
      "7\n"
     ]
    },
    {
     "name": "stderr",
     "output_type": "stream",
     "text": [
      "\n"
     ]
    }
   ],
   "source": [
    "train_emoji = (open(\"../dataFinal/finalTrainLabels.labels\", \"r\").readlines())\n",
    "for i in tqdm(range(len(train_emoji))):\n",
    "    train_emoji[i] = int(train_emoji[i][0])\n",
    "train_labels = pd.Series((np.array(train_emoji)).astype('int8'))\n",
    "print(train_labels.loc[0])\n",
    "\n",
    "test_emoji = (open(\"../dataFinal/finalTestLabels.labels\", \"r\").readlines())\n",
    "for i in tqdm(range(len(test_emoji))):\n",
    "    test_emoji[i] = int(test_emoji[i][0])\n",
    "test_labels = pd.Series((np.array(test_emoji)).astype('int8'))\n",
    "print(test_labels.loc[0])\n",
    "\n",
    "trial_emoji = (open(\"../dataFinal/finalDevLabels.labels\", \"r\").readlines())\n",
    "for i in tqdm(range(len(trial_emoji))):\n",
    "    trial_emoji[i] = int(trial_emoji[i][0])\n",
    "trial_labels = pd.Series((np.array(trial_emoji)).astype('int8'))\n",
    "print(trial_labels.loc[0])"
   ]
  },
  {
   "cell_type": "code",
   "execution_count": 7,
   "metadata": {},
   "outputs": [],
   "source": [
    "embedding = \"glove\"\n",
    "emb_train = word_embeddings(train_text, embedding)\n",
    "emb_trial = word_embeddings(trial_text, embedding)\n",
    "emb_test = word_embeddings(test_text, embedding)"
   ]
  },
  {
   "cell_type": "code",
   "execution_count": 8,
   "metadata": {},
   "outputs": [],
   "source": [
    "vec = TfidfVectorizer(min_df=1, ngram_range=(1,3), decode_error='ignore', max_features=2000)\n",
    "bow_train = vec.fit_transform(train_text).toarray()\n",
    "bow_trial = vec.transform(trial_text).toarray()\n",
    "bow_test =  vec.transform(test_text).toarray()"
   ]
  },
  {
   "cell_type": "code",
   "execution_count": 9,
   "metadata": {},
   "outputs": [],
   "source": [
    "train = np.concatenate((emb_train, bow_train), axis=1)\n",
    "trial = np.concatenate((emb_trial, bow_trial), axis=1)\n",
    "test = np.concatenate((emb_test, bow_test), axis=1)"
   ]
  },
  {
   "cell_type": "code",
   "execution_count": 10,
   "metadata": {},
   "outputs": [],
   "source": [
    "np.save('glove200_t2_train',train)\n",
    "np.save('glove200_t2_trial',trial)\n",
    "np.save('glove200_t2_test',test)"
   ]
  },
  {
   "cell_type": "code",
   "execution_count": null,
   "metadata": {},
   "outputs": [],
   "source": []
  }
 ],
 "metadata": {
  "interpreter": {
   "hash": "31f2aee4e71d21fbe5cf8b01ff0e069b9275f58929596ceb00d14d90e3e16cd6"
  },
  "kernelspec": {
   "display_name": "Python 3.8.10 64-bit",
   "name": "python3"
  },
  "language_info": {
   "codemirror_mode": {
    "name": "ipython",
    "version": 3
   },
   "file_extension": ".py",
   "mimetype": "text/x-python",
   "name": "python",
   "nbconvert_exporter": "python",
   "pygments_lexer": "ipython3",
   "version": "3.8.10"
  },
  "orig_nbformat": 4
 },
 "nbformat": 4,
 "nbformat_minor": 2
}
