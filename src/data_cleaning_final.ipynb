{
 "cells": [
  {
   "cell_type": "code",
   "execution_count": 2,
   "metadata": {},
   "outputs": [],
   "source": [
    "import pandas as pd\n",
    "import numpy as np\n",
    "import re\n",
    "import string\n",
    "from tqdm import tqdm\n",
    "import nltk\n",
    "from nltk.tokenize import word_tokenize\n",
    "from textblob import TextBlob\n",
    "from nltk.stem import PorterStemmer\n",
    "import preprocessor as p"
   ]
  },
  {
   "cell_type": "code",
   "execution_count": 7,
   "metadata": {},
   "outputs": [],
   "source": [
    "tweets = (open(\"./../Dataset/train/us_train.text\", \"r\").readlines())\n",
    "tweets = tweets[:100000]\n",
    "stopword = nltk.corpus.stopwords.words('english')\n",
    "stopword += ['yr', 'year', 'woman', 'man', 'girl','boy','one', 'two', 'sixteen', 'yearold', 'fu', 'weeks', 'week',\n",
    "        'treatment', 'associated', 'patients', 'may','day', 'case','old']\n",
    "ps = PorterStemmer()"
   ]
  },
  {
   "cell_type": "code",
   "execution_count": 8,
   "metadata": {},
   "outputs": [
    {
     "name": "stderr",
     "output_type": "stream",
     "text": [
      "100%|██████████| 100000/100000 [00:09<00:00, 10495.45it/s]\n"
     ]
    }
   ],
   "source": [
    "p_processed = list()\n",
    "\n",
    "for ind in tqdm(range(len(tweets))):\n",
    "    p_processed.append(p.clean(tweets[ind]))"
   ]
  },
  {
   "cell_type": "code",
   "execution_count": 41,
   "metadata": {},
   "outputs": [],
   "source": [
    "def clean_text(text):\n",
    "    text = re.sub(r'@user','',text)\n",
    "    text  = \"\".join([char.lower() for char in text if char not in string.punctuation])\n",
    "    text  = \"\".join([char.lower() for char in text if char not in ['…','\\n']])\n",
    "    text = re.sub('[0-9]+', '', text)\n",
    "    # text = ''.join(i for i in text if ord(i)<128)\n",
    "    text = re.sub('\\s+', ' ', text)\n",
    "    text = word_tokenize(text)    \n",
    "    for i in range(len(text)):\n",
    "        word = text[i]\n",
    "        newword = word[0]\n",
    "        prev = word[0]\n",
    "        prev_cnt = 0\n",
    "        for j in range(1,len(word)):\n",
    "            if word[j] == prev:\n",
    "                prev_cnt+=1\n",
    "                if prev_cnt < 2:\n",
    "                    newword += word[j]\n",
    "            else:\n",
    "                newword += word[j]\n",
    "                prev = word[j]\n",
    "                prev_cnt = 0\n",
    "                \n",
    "        text[i] = newword\n",
    "\n",
    "    text = [word for word in text if word not in stopword]\n",
    "    #text = [str(TextBlob(word).correct()) for word in text]\n",
    "    text = [word for word in text if word not in stopword]\n",
    "    # text = [ps.stem(word) for word in text]\n",
    "    # text = [word for word in text if 10>len(word)>2]\n",
    "    # for word in text:\n",
    "    #     if len(word)<=2:\n",
    "    #         print(word)\n",
    "    new_text = \" \".join([word for word in text])\n",
    "    return new_text"
   ]
  },
  {
   "cell_type": "code",
   "execution_count": 42,
   "metadata": {},
   "outputs": [
    {
     "name": "stderr",
     "output_type": "stream",
     "text": [
      "100%|██████████| 100000/100000 [00:23<00:00, 4302.26it/s]\n"
     ]
    }
   ],
   "source": [
    "cleaned_text = []\n",
    "for i in tqdm(range(len(p_processed))):\n",
    "    cleaned_text.append(clean_text(p_processed[i]))"
   ]
  },
  {
   "cell_type": "code",
   "execution_count": 43,
   "metadata": {},
   "outputs": [
    {
     "name": "stdout",
     "output_type": "stream",
     "text": [
      "step explore ellis island cafe\n"
     ]
    }
   ],
   "source": [
    "print(cleaned_text[0])"
   ]
  },
  {
   "cell_type": "code",
   "execution_count": 44,
   "metadata": {},
   "outputs": [],
   "source": [
    "with open('preprocessed_100k_train_text.txt','w') as file:\n",
    "    for i in cleaned_text:\n",
    "        file.write(i + os.linesep)"
   ]
  },
  {
   "cell_type": "code",
   "execution_count": null,
   "metadata": {},
   "outputs": [],
   "source": []
  }
 ],
 "metadata": {
  "interpreter": {
   "hash": "31f2aee4e71d21fbe5cf8b01ff0e069b9275f58929596ceb00d14d90e3e16cd6"
  },
  "kernelspec": {
   "display_name": "Python 3.8.10 64-bit",
   "name": "python3"
  },
  "language_info": {
   "codemirror_mode": {
    "name": "ipython",
    "version": 3
   },
   "file_extension": ".py",
   "mimetype": "text/x-python",
   "name": "python",
   "nbconvert_exporter": "python",
   "pygments_lexer": "ipython3",
   "version": "3.8.10"
  },
  "orig_nbformat": 4
 },
 "nbformat": 4,
 "nbformat_minor": 2
}
