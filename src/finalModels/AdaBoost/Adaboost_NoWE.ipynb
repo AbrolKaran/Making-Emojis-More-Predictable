{
  "cells": [
    {
      "cell_type": "markdown",
      "metadata": {},
      "source": [
        "## Preprocessing "
      ]
    },
    {
      "cell_type": "code",
      "execution_count": 7,
      "metadata": {
        "colab": {
          "base_uri": "https://localhost:8080/"
        },
        "id": "bRqNl6G-mPT7",
        "outputId": "68b29eb7-ad2e-49f9-af64-ab03ba0add06"
      },
      "outputs": [],
      "source": [
        "# from google.colab import drive\n",
        "# drive.mount('/content/drive')"
      ]
    },
    {
      "cell_type": "code",
      "execution_count": 8,
      "metadata": {
        "colab": {
          "base_uri": "https://localhost:8080/"
        },
        "id": "H7Swf4P8H5xv",
        "outputId": "c6fdfb30-7d8e-4a4f-b28a-927f6cb8e76d"
      },
      "outputs": [],
      "source": [
        "# cd drive/MyDrive/NLP_Project"
      ]
    },
    {
      "cell_type": "code",
      "execution_count": 10,
      "metadata": {
        "id": "6135jyy5IQ2B"
      },
      "outputs": [],
      "source": [
        "# !pip install pandas matplotlib tqdm seaborn sklearn numpy graphviz\n",
        "import pandas as pd\n",
        "import matplotlib.pyplot as plt\n",
        "from tqdm import tqdm\n",
        "import seaborn as sns\n",
        "from sklearn.model_selection import train_test_split\n",
        "from sklearn.tree import DecisionTreeClassifier\n",
        "from sklearn.ensemble import RandomForestClassifier\n",
        "from sklearn.ensemble import AdaBoostClassifier\n",
        "from sklearn.model_selection import GridSearchCV\n",
        "import numpy as np\n",
        "import warnings\n",
        "warnings.filterwarnings('always') \n",
        "from sklearn.metrics import classification_report\n",
        "from sklearn.metrics import accuracy_score\n",
        "import pickle as pk"
      ]
    },
    {
      "cell_type": "code",
      "execution_count": 11,
      "metadata": {
        "id": "wCsgwo7tIvAs"
      },
      "outputs": [
        {
          "name": "stderr",
          "output_type": "stream",
          "text": [
            "/tmp/ipykernel_40705/667481205.py:2: ResourceWarning: unclosed file <_io.TextIOWrapper name='finalTrainLabels.labels' mode='r' encoding='UTF-8'>\n",
            "  trainLabels = open('finalTrainLabels.labels', 'r').readlines()\n",
            "ResourceWarning: Enable tracemalloc to get the object allocation traceback\n",
            "/tmp/ipykernel_40705/667481205.py:4: ResourceWarning: unclosed file <_io.TextIOWrapper name='finalTestLabels.labels' mode='r' encoding='UTF-8'>\n",
            "  testLabels = open('finalTestLabels.labels', 'r').readlines()\n",
            "ResourceWarning: Enable tracemalloc to get the object allocation traceback\n",
            "/tmp/ipykernel_40705/667481205.py:6: ResourceWarning: unclosed file <_io.TextIOWrapper name='finalDevLabels.labels' mode='r' encoding='UTF-8'>\n",
            "  validationLabels = open('finalDevLabels.labels', 'r').readlines()\n",
            "ResourceWarning: Enable tracemalloc to get the object allocation traceback\n"
          ]
        }
      ],
      "source": [
        "trainData = np.load('noWE_t2_train.npy')\n",
        "trainLabels = open('finalTrainLabels.labels', 'r').readlines()\n",
        "testData = np.load('noWE_t2_test.npy')\n",
        "testLabels = open('finalTestLabels.labels', 'r').readlines()\n",
        "validationData = np.load('noWE_t2_trial.npy')\n",
        "validationLabels = open('finalDevLabels.labels', 'r').readlines()"
      ]
    },
    {
      "cell_type": "code",
      "execution_count": 12,
      "metadata": {
        "colab": {
          "base_uri": "https://localhost:8080/"
        },
        "id": "1QjcQGoVGDJB",
        "outputId": "ff4a6bee-c555-4753-a288-9b5baed2bb0b"
      },
      "outputs": [
        {
          "name": "stderr",
          "output_type": "stream",
          "text": [
            "100%|██████████| 69992/69992 [00:00<00:00, 1425099.88it/s]\n",
            "100%|██████████| 20000/20000 [00:00<00:00, 1472641.54it/s]\n",
            "100%|██████████| 10008/10008 [00:00<00:00, 1466072.73it/s]\n"
          ]
        }
      ],
      "source": [
        "for i in tqdm(range(len(trainLabels))):\n",
        "    trainLabels[i] = int(trainLabels[i])\n",
        "for i in tqdm(range(len(testLabels))):\n",
        "    testLabels[i] = int(testLabels[i])\n",
        "for i in tqdm(range(len(validationLabels))):\n",
        "    validationLabels[i] = int(validationLabels[i])"
      ]
    },
    {
      "cell_type": "code",
      "execution_count": 13,
      "metadata": {
        "id": "A6A_MlQgJlte"
      },
      "outputs": [],
      "source": [
        "trainLabels = np.array(trainLabels)\n",
        "testLabels = np.array(testLabels)\n",
        "validationLabels = np.array(validationLabels)\n",
        "trainLabels = trainLabels.reshape((-1, ))\n",
        "testLabels = testLabels.reshape((-1, ))\n",
        "validationLabels = validationLabels.reshape((-1, ))\n",
        "X_train, X_test, y_train, y_test, X_val, y_val = trainData, testData, trainLabels, testLabels, validationData, validationLabels"
      ]
    },
    {
      "cell_type": "markdown",
      "metadata": {},
      "source": [
        "## Estimators"
      ]
    },
    {
      "cell_type": "markdown",
      "metadata": {
        "id": "yOeyPMrplFYL"
      },
      "source": [
        "### Range 1\n"
      ]
    },
    {
      "cell_type": "code",
      "execution_count": 14,
      "metadata": {
        "colab": {
          "background_save": true,
          "base_uri": "https://localhost:8080/"
        },
        "id": "QfFhxz3ElIC9",
        "outputId": "ded38644-9827-4d49-a7ee-27e26422afeb"
      },
      "outputs": [
        {
          "name": "stderr",
          "output_type": "stream",
          "text": [
            "  0%|          | 0/4 [00:00<?, ?it/s]"
          ]
        },
        {
          "name": "stdout",
          "output_type": "stream",
          "text": [
            "Test Data:\n",
            "Classification report for case:  150\n",
            "Accuracy % :  27.31\n",
            "              precision    recall  f1-score   support\n",
            "\n",
            "           1       0.29      0.01      0.02      2022\n",
            "           2       0.37      0.15      0.21      1955\n",
            "           3       0.31      0.01      0.01      1099\n",
            "           4       0.54      0.22      0.31      1246\n",
            "           5       0.12      0.00      0.01       786\n",
            "           6       0.46      0.05      0.09       809\n",
            "           7       0.41      0.08      0.13       928\n",
            "           8       0.34      0.04      0.07       669\n",
            "           9       0.18      0.01      0.02       569\n",
            "          10       0.10      0.01      0.02       595\n",
            "          11       0.54      0.30      0.39       696\n",
            "          12       0.34      0.34      0.34       546\n",
            "          13       0.37      0.02      0.04       492\n",
            "          14       0.00      0.00      0.00       536\n",
            "          15       0.21      0.06      0.09       498\n",
            "          16       0.21      0.02      0.03       492\n",
            "          17       0.61      0.64      0.62       565\n",
            "          18       0.27      0.05      0.08       740\n",
            "          19       0.00      0.00      0.00       445\n",
            "\n",
            "   micro avg       0.43      0.10      0.16     15688\n",
            "   macro avg       0.30      0.10      0.13     15688\n",
            "weighted avg       0.32      0.10      0.13     15688\n",
            "\n",
            "Train Data:\n",
            "Classification report for case:  150\n",
            "Accuracy % :  27.43\n",
            "              precision    recall  f1-score   support\n",
            "\n",
            "           1       0.27      0.01      0.02      7076\n",
            "           2       0.37      0.15      0.21      6842\n",
            "           3       0.52      0.02      0.04      3842\n",
            "           4       0.56      0.22      0.32      4363\n",
            "           5       0.12      0.00      0.00      2751\n",
            "           6       0.39      0.04      0.07      2831\n",
            "           7       0.39      0.08      0.13      3250\n",
            "           8       0.32      0.04      0.06      2341\n",
            "           9       0.28      0.02      0.04      1992\n",
            "          10       0.24      0.02      0.03      2083\n",
            "          11       0.57      0.33      0.41      2433\n",
            "          12       0.32      0.31      0.32      1908\n",
            "          13       0.58      0.02      0.04      1722\n",
            "          14       0.11      0.00      0.00      1878\n",
            "          15       0.20      0.05      0.09      1745\n",
            "          16       0.22      0.02      0.04      1721\n",
            "          17       0.58      0.62      0.60      1976\n",
            "          18       0.24      0.04      0.07      2592\n",
            "          19       0.08      0.00      0.00      1556\n",
            "\n",
            "   micro avg       0.43      0.10      0.16     54902\n",
            "   macro avg       0.33      0.10      0.13     54902\n",
            "weighted avg       0.35      0.10      0.13     54902\n",
            "\n"
          ]
        },
        {
          "name": "stderr",
          "output_type": "stream",
          "text": [
            "/home/karan/.local/lib/python3.8/site-packages/sklearn/metrics/_classification.py:1308: UndefinedMetricWarning: Precision and F-score are ill-defined and being set to 0.0 in labels with no predicted samples. Use `zero_division` parameter to control this behavior.\n",
            "  _warn_prf(average, modifier, msg_start, len(result))\n",
            "/home/karan/.local/lib/python3.8/site-packages/sklearn/metrics/_classification.py:1308: UndefinedMetricWarning: Precision and F-score are ill-defined and being set to 0.0 in labels with no predicted samples. Use `zero_division` parameter to control this behavior.\n",
            "  _warn_prf(average, modifier, msg_start, len(result))\n",
            "/home/karan/.local/lib/python3.8/site-packages/sklearn/metrics/_classification.py:1308: UndefinedMetricWarning: Precision and F-score are ill-defined and being set to 0.0 in labels with no predicted samples. Use `zero_division` parameter to control this behavior.\n",
            "  _warn_prf(average, modifier, msg_start, len(result))\n",
            " 25%|██▌       | 1/4 [09:34<28:43, 574.50s/it]"
          ]
        },
        {
          "name": "stdout",
          "output_type": "stream",
          "text": [
            "Validation Data:\n",
            "Classification report for case:  150\n",
            "Accuracy % :  27.2\n",
            "              precision    recall  f1-score   support\n",
            "\n",
            "           1       0.39      0.01      0.02      1011\n",
            "           2       0.37      0.15      0.21       978\n",
            "           3       0.20      0.01      0.01       549\n",
            "           4       0.55      0.23      0.33       624\n",
            "           5       0.20      0.01      0.01       393\n",
            "           6       0.38      0.03      0.05       405\n",
            "           7       0.45      0.08      0.14       465\n",
            "           8       0.10      0.01      0.02       335\n",
            "           9       0.28      0.02      0.05       285\n",
            "          10       0.21      0.02      0.03       298\n",
            "          11       0.51      0.28      0.36       348\n",
            "          12       0.30      0.31      0.30       273\n",
            "          13       0.71      0.02      0.04       246\n",
            "          14       0.00      0.00      0.00       269\n",
            "          15       0.11      0.03      0.04       250\n",
            "          16       0.29      0.04      0.06       246\n",
            "          17       0.58      0.62      0.60       283\n",
            "          18       0.18      0.03      0.05       371\n",
            "          19       0.00      0.00      0.00       223\n",
            "\n",
            "   micro avg       0.41      0.10      0.16      7852\n",
            "   macro avg       0.31      0.10      0.12      7852\n",
            "weighted avg       0.33      0.10      0.13      7852\n",
            "\n",
            "Test Data:\n",
            "Classification report for case:  250\n",
            "Accuracy % :  27.31\n",
            "              precision    recall  f1-score   support\n",
            "\n",
            "           1       0.20      0.02      0.04      2022\n",
            "           2       0.30      0.21      0.25      1955\n",
            "           3       0.21      0.01      0.02      1099\n",
            "           4       0.42      0.25      0.31      1246\n",
            "           5       0.07      0.00      0.01       786\n",
            "           6       0.43      0.05      0.09       809\n",
            "           7       0.35      0.09      0.14       928\n",
            "           8       0.31      0.04      0.07       669\n",
            "           9       0.19      0.01      0.02       569\n",
            "          10       0.10      0.01      0.02       595\n",
            "          11       0.52      0.31      0.39       696\n",
            "          12       0.33      0.34      0.33       546\n",
            "          13       0.34      0.02      0.04       492\n",
            "          14       0.11      0.00      0.00       536\n",
            "          15       0.20      0.05      0.08       498\n",
            "          16       0.20      0.01      0.03       492\n",
            "          17       0.61      0.60      0.60       565\n",
            "          18       0.26      0.05      0.08       740\n",
            "          19       0.00      0.00      0.00       445\n",
            "\n",
            "   micro avg       0.36      0.11      0.17     15688\n",
            "   macro avg       0.27      0.11      0.13     15688\n",
            "weighted avg       0.28      0.11      0.14     15688\n",
            "\n",
            "Train Data:\n",
            "Classification report for case:  250\n",
            "Accuracy % :  27.77\n",
            "              precision    recall  f1-score   support\n",
            "\n",
            "           1       0.24      0.03      0.05      7076\n",
            "           2       0.30      0.20      0.24      6842\n",
            "           3       0.44      0.02      0.04      3842\n",
            "           4       0.46      0.26      0.34      4363\n",
            "           5       0.15      0.01      0.01      2751\n",
            "           6       0.38      0.04      0.08      2831\n",
            "           7       0.36      0.09      0.15      3250\n",
            "           8       0.31      0.04      0.07      2341\n",
            "           9       0.28      0.02      0.04      1992\n",
            "          10       0.22      0.02      0.04      2083\n",
            "          11       0.54      0.33      0.41      2433\n",
            "          12       0.32      0.32      0.32      1908\n",
            "          13       0.58      0.02      0.04      1722\n",
            "          14       0.19      0.00      0.01      1878\n",
            "          15       0.19      0.05      0.08      1745\n",
            "          16       0.22      0.02      0.03      1721\n",
            "          17       0.59      0.59      0.59      1976\n",
            "          18       0.23      0.04      0.07      2592\n",
            "          19       0.14      0.00      0.01      1556\n",
            "\n",
            "   micro avg       0.37      0.12      0.18     54902\n",
            "   macro avg       0.32      0.11      0.14     54902\n",
            "weighted avg       0.32      0.12      0.15     54902\n",
            "\n"
          ]
        },
        {
          "name": "stderr",
          "output_type": "stream",
          "text": [
            " 50%|█████     | 2/4 [25:40<26:50, 805.02s/it]"
          ]
        },
        {
          "name": "stdout",
          "output_type": "stream",
          "text": [
            "Validation Data:\n",
            "Classification report for case:  250\n",
            "Accuracy % :  27.14\n",
            "              precision    recall  f1-score   support\n",
            "\n",
            "           1       0.24      0.03      0.05      1011\n",
            "           2       0.30      0.20      0.24       978\n",
            "           3       0.21      0.01      0.02       549\n",
            "           4       0.42      0.25      0.31       624\n",
            "           5       0.14      0.01      0.01       393\n",
            "           6       0.31      0.03      0.05       405\n",
            "           7       0.37      0.09      0.15       465\n",
            "           8       0.12      0.02      0.03       335\n",
            "           9       0.27      0.02      0.04       285\n",
            "          10       0.22      0.02      0.04       298\n",
            "          11       0.47      0.29      0.36       348\n",
            "          12       0.28      0.30      0.29       273\n",
            "          13       0.71      0.02      0.04       246\n",
            "          14       0.38      0.01      0.02       269\n",
            "          15       0.10      0.03      0.04       250\n",
            "          16       0.28      0.03      0.06       246\n",
            "          17       0.60      0.59      0.60       283\n",
            "          18       0.19      0.04      0.06       371\n",
            "          19       0.00      0.00      0.00       223\n",
            "\n",
            "   micro avg       0.35      0.11      0.17      7852\n",
            "   macro avg       0.29      0.10      0.13      7852\n",
            "weighted avg       0.29      0.11      0.13      7852\n",
            "\n",
            "Test Data:\n",
            "Classification report for case:  350\n",
            "Accuracy % :  26.91\n",
            "              precision    recall  f1-score   support\n",
            "\n",
            "           1       0.20      0.03      0.05      2022\n",
            "           2       0.29      0.21      0.25      1955\n",
            "           3       0.20      0.01      0.02      1099\n",
            "           4       0.41      0.26      0.32      1246\n",
            "           5       0.05      0.00      0.01       786\n",
            "           6       0.39      0.05      0.09       809\n",
            "           7       0.33      0.09      0.14       928\n",
            "           8       0.30      0.04      0.07       669\n",
            "           9       0.24      0.02      0.03       569\n",
            "          10       0.09      0.01      0.02       595\n",
            "          11       0.52      0.30      0.38       696\n",
            "          12       0.33      0.33      0.33       546\n",
            "          13       0.32      0.02      0.04       492\n",
            "          14       0.11      0.00      0.00       536\n",
            "          15       0.20      0.05      0.09       498\n",
            "          16       0.21      0.01      0.03       492\n",
            "          17       0.41      0.61      0.49       565\n",
            "          18       0.24      0.05      0.08       740\n",
            "          19       0.00      0.00      0.00       445\n",
            "\n",
            "   micro avg       0.34      0.11      0.17     15688\n",
            "   macro avg       0.26      0.11      0.13     15688\n",
            "weighted avg       0.26      0.11      0.14     15688\n",
            "\n",
            "Train Data:\n",
            "Classification report for case:  350\n",
            "Accuracy % :  27.56\n",
            "              precision    recall  f1-score   support\n",
            "\n",
            "           1       0.24      0.03      0.06      7076\n",
            "           2       0.29      0.21      0.24      6842\n",
            "           3       0.37      0.03      0.05      3842\n",
            "           4       0.44      0.27      0.34      4363\n",
            "           5       0.16      0.01      0.02      2751\n",
            "           6       0.35      0.04      0.07      2831\n",
            "           7       0.35      0.10      0.15      3250\n",
            "           8       0.30      0.04      0.07      2341\n",
            "           9       0.25      0.02      0.04      1992\n",
            "          10       0.20      0.02      0.04      2083\n",
            "          11       0.53      0.34      0.41      2433\n",
            "          12       0.32      0.31      0.32      1908\n",
            "          13       0.56      0.02      0.04      1722\n",
            "          14       0.22      0.00      0.01      1878\n",
            "          15       0.19      0.05      0.08      1745\n",
            "          16       0.21      0.02      0.03      1721\n",
            "          17       0.41      0.61      0.49      1976\n",
            "          18       0.23      0.04      0.07      2592\n",
            "          19       0.10      0.00      0.01      1556\n",
            "\n",
            "   micro avg       0.35      0.12      0.18     54902\n",
            "   macro avg       0.30      0.11      0.13     54902\n",
            "weighted avg       0.31      0.12      0.14     54902\n",
            "\n"
          ]
        },
        {
          "name": "stderr",
          "output_type": "stream",
          "text": [
            " 75%|███████▌  | 3/4 [48:32<17:43, 1063.82s/it]"
          ]
        },
        {
          "name": "stdout",
          "output_type": "stream",
          "text": [
            "Validation Data:\n",
            "Classification report for case:  350\n",
            "Accuracy % :  26.83\n",
            "              precision    recall  f1-score   support\n",
            "\n",
            "           1       0.23      0.03      0.06      1011\n",
            "           2       0.29      0.21      0.25       978\n",
            "           3       0.19      0.01      0.03       549\n",
            "           4       0.41      0.26      0.32       624\n",
            "           5       0.10      0.01      0.01       393\n",
            "           6       0.28      0.03      0.05       405\n",
            "           7       0.36      0.09      0.15       465\n",
            "           8       0.12      0.02      0.03       335\n",
            "           9       0.26      0.02      0.04       285\n",
            "          10       0.19      0.02      0.04       298\n",
            "          11       0.46      0.29      0.36       348\n",
            "          12       0.28      0.30      0.29       273\n",
            "          13       0.71      0.02      0.04       246\n",
            "          14       0.38      0.01      0.02       269\n",
            "          15       0.09      0.03      0.04       250\n",
            "          16       0.29      0.03      0.06       246\n",
            "          17       0.42      0.61      0.50       283\n",
            "          18       0.17      0.04      0.06       371\n",
            "          19       0.00      0.00      0.00       223\n",
            "\n",
            "   micro avg       0.33      0.11      0.17      7852\n",
            "   macro avg       0.28      0.11      0.12      7852\n",
            "weighted avg       0.27      0.11      0.13      7852\n",
            "\n",
            "Test Data:\n",
            "Classification report for case:  450\n",
            "Accuracy % :  26.26\n",
            "              precision    recall  f1-score   support\n",
            "\n",
            "           1       0.20      0.03      0.05      2022\n",
            "           2       0.30      0.20      0.24      1955\n",
            "           3       0.22      0.01      0.03      1099\n",
            "           4       0.41      0.24      0.31      1246\n",
            "           5       0.06      0.00      0.01       786\n",
            "           6       0.40      0.05      0.09       809\n",
            "           7       0.32      0.08      0.13       928\n",
            "           8       0.28      0.04      0.07       669\n",
            "           9       0.22      0.02      0.03       569\n",
            "          10       0.09      0.01      0.02       595\n",
            "          11       0.52      0.30      0.38       696\n",
            "          12       0.33      0.34      0.33       546\n",
            "          13       0.32      0.02      0.04       492\n",
            "          14       0.09      0.00      0.00       536\n",
            "          15       0.17      0.05      0.08       498\n",
            "          16       0.16      0.01      0.03       492\n",
            "          17       0.28      0.62      0.39       565\n",
            "          18       0.24      0.05      0.08       740\n",
            "          19       0.00      0.00      0.00       445\n",
            "\n",
            "   micro avg       0.31      0.11      0.17     15688\n",
            "   macro avg       0.24      0.11      0.12     15688\n",
            "weighted avg       0.26      0.11      0.13     15688\n",
            "\n",
            "Train Data:\n",
            "Classification report for case:  450\n",
            "Accuracy % :  26.92\n",
            "              precision    recall  f1-score   support\n",
            "\n",
            "           1       0.24      0.03      0.06      7076\n",
            "           2       0.29      0.20      0.24      6842\n",
            "           3       0.39      0.03      0.05      3842\n",
            "           4       0.45      0.26      0.33      4363\n",
            "           5       0.14      0.01      0.02      2751\n",
            "           6       0.34      0.04      0.07      2831\n",
            "           7       0.36      0.09      0.14      3250\n",
            "           8       0.30      0.04      0.07      2341\n",
            "           9       0.27      0.02      0.05      1992\n",
            "          10       0.21      0.02      0.04      2083\n",
            "          11       0.54      0.33      0.41      2433\n",
            "          12       0.31      0.31      0.31      1908\n",
            "          13       0.56      0.02      0.04      1722\n",
            "          14       0.22      0.00      0.01      1878\n",
            "          15       0.16      0.05      0.07      1745\n",
            "          16       0.17      0.02      0.03      1721\n",
            "          17       0.27      0.63      0.38      1976\n",
            "          18       0.23      0.04      0.07      2592\n",
            "          19       0.12      0.00      0.01      1556\n",
            "\n",
            "   micro avg       0.32      0.12      0.17     54902\n",
            "   macro avg       0.29      0.11      0.13     54902\n",
            "weighted avg       0.30      0.12      0.14     54902\n",
            "\n"
          ]
        },
        {
          "name": "stderr",
          "output_type": "stream",
          "text": [
            "100%|██████████| 4/4 [1:18:08<00:00, 1172.17s/it]"
          ]
        },
        {
          "name": "stdout",
          "output_type": "stream",
          "text": [
            "Validation Data:\n",
            "Classification report for case:  450\n",
            "Accuracy % :  26.18\n",
            "              precision    recall  f1-score   support\n",
            "\n",
            "           1       0.25      0.03      0.06      1011\n",
            "           2       0.29      0.19      0.23       978\n",
            "           3       0.20      0.01      0.03       549\n",
            "           4       0.42      0.24      0.30       624\n",
            "           5       0.11      0.01      0.01       393\n",
            "           6       0.26      0.03      0.05       405\n",
            "           7       0.36      0.09      0.14       465\n",
            "           8       0.12      0.02      0.03       335\n",
            "           9       0.25      0.02      0.04       285\n",
            "          10       0.23      0.02      0.04       298\n",
            "          11       0.47      0.28      0.35       348\n",
            "          12       0.28      0.29      0.28       273\n",
            "          13       0.71      0.02      0.04       246\n",
            "          14       0.33      0.01      0.02       269\n",
            "          15       0.09      0.03      0.04       250\n",
            "          16       0.24      0.03      0.06       246\n",
            "          17       0.27      0.64      0.38       283\n",
            "          18       0.17      0.04      0.06       371\n",
            "          19       0.00      0.00      0.00       223\n",
            "\n",
            "   micro avg       0.30      0.11      0.16      7852\n",
            "   macro avg       0.27      0.11      0.11      7852\n",
            "weighted avg       0.27      0.11      0.12      7852\n",
            "\n"
          ]
        },
        {
          "name": "stderr",
          "output_type": "stream",
          "text": [
            "\n"
          ]
        }
      ],
      "source": [
        "# accuracy = []\n",
        "# predVal = []\n",
        "itr= [150, 250, 350, 450]\n",
        "for i in tqdm(range(len(itr))):\n",
        "    clf = AdaBoostClassifier(algorithm=\"SAMME.R\",n_estimators=itr[i], random_state=0)\n",
        "    clf.fit(trainData, trainLabels)\n",
        "\n",
        "    y_pred = clf.predict(testData)\n",
        "    y_true = testLabels\n",
        "    print(\"Test Data:\")\n",
        "    print(\"Classification report for case: \",itr[i])\n",
        "    print(\"Accuracy % : \",round(accuracy_score(y_pred = y_pred, y_true=y_true) * 100,2))\n",
        "    print(classification_report(y_true,y_pred,labels = [1, 2, 3, 4, 5, 6, 7, 8, 9, 10, 11, 12, 13, 14, 15, 16, 17, 18, 19]))\n",
        "    y_pred = clf.predict(trainData)\n",
        "    y_true = trainLabels\n",
        "    print(\"Train Data:\")\n",
        "    print(\"Classification report for case: \",itr[i])\n",
        "    print(\"Accuracy % : \",round(accuracy_score(y_pred = y_pred, y_true=y_true) * 100,2))\n",
        "    print(classification_report(y_true,y_pred,labels = [1, 2, 3, 4, 5, 6, 7, 8, 9, 10, 11, 12, 13, 14, 15, 16, 17, 18, 19]))\n",
        "    y_pred = clf.predict(validationData)\n",
        "    y_true = validationLabels\n",
        "    print(\"Validation Data:\")\n",
        "    print(\"Classification report for case: \",itr[i])\n",
        "    print(\"Accuracy % : \",round(accuracy_score(y_pred = y_pred, y_true=y_true) * 100,2))\n",
        "    print(classification_report(y_true,y_pred,labels = [1, 2, 3, 4, 5, 6, 7, 8, 9, 10, 11, 12, 13, 14, 15, 16, 17, 18, 19]))\n",
        "    #predVal.append(itr[i])\n",
        "\n",
        "\n",
        "# plt.plot(predVal, accuracy)\n",
        "# plt.xlabel('Num estimators')\n",
        "# plt.ylabel('Accuracy')\n",
        "# plt.title('Accuracy vs Num estimators')\n",
        "# plt.show()"
      ]
    },
    {
      "cell_type": "markdown",
      "metadata": {},
      "source": [
        "### Range 2\n"
      ]
    },
    {
      "cell_type": "code",
      "execution_count": 15,
      "metadata": {},
      "outputs": [],
      "source": [
        "# ada_accuracy = []\n",
        "# ada_predVal = []\n",
        "# itr= [150, 175, 200, 225]\n",
        "# for i in tqdm(range(len(itr))):\n",
        "#     clf = AdaBoostClassifier(algorithm=\"SAMME.R\",n_estimators=itr[i], random_state=0)\n",
        "#     clf.fit(trainData, trainLabels)\n",
        "#     y_pred = clf.predict(testData)\n",
        "#     y_true = testLabels\n",
        "#     print(\"Test Data:\")\n",
        "#     print(\"Classification report for case: \",itr[i])\n",
        "#     print(\"Accuracy % : \",round(accuracy_score(y_pred = y_pred, y_true=y_true) * 100,2))\n",
        "#     print(classification_report(y_true,y_pred,labels = [1, 2, 3, 4, 5, 6, 7, 8, 9, 10, 11, 12, 13, 14, 15, 16, 17, 18, 19]))\n",
        "#     y_pred = clf.predict(trainData)\n",
        "#     y_true = trainLabels\n",
        "#     print(\"Train Data:\")\n",
        "#     print(\"Classification report for case: \",itr[i])\n",
        "#     print(\"Accuracy % : \",round(accuracy_score(y_pred = y_pred, y_true=y_true) * 100,2))\n",
        "#     print(classification_report(y_true,y_pred,labels = [1, 2, 3, 4, 5, 6, 7, 8, 9, 10, 11, 12, 13, 14, 15, 16, 17, 18, 19]))\n",
        "#     y_pred = clf.predict(validationData)\n",
        "#     y_true = validationLabels\n",
        "#     print(\"Validation Data:\")\n",
        "#     print(\"Classification report for case: \",itr[i])\n",
        "#     print(\"Accuracy % : \",round(accuracy_score(y_pred = y_pred, y_true=y_true) * 100,2))\n",
        "#     print(classification_report(y_true,y_pred,labels = [1, 2, 3, 4, 5, 6, 7, 8, 9, 10, 11, 12, 13, 14, 15, 16, 17, 18, 19]))\n",
        "#     # ada_accuracy.append(round(accuracy_score(y_pred = y_pred, y_true = testLabels) * 100,2))\n",
        "#     # ada_predVal.append(itr[i])\n",
        "\n",
        "\n",
        "# # plt.plot(ada_predVal, ada_accuracy)\n",
        "# # plt.xlabel('Num estimators')\n",
        "# # plt.ylabel('ada_Accuracy')\n",
        "# # plt.title('ada_Accuracy vs Num estimators')\n",
        "# # plt.show()"
      ]
    },
    {
      "cell_type": "markdown",
      "metadata": {},
      "source": [
        "## Algrithm"
      ]
    },
    {
      "cell_type": "markdown",
      "metadata": {
        "id": "J1BFRUvebBRK"
      },
      "source": [
        "### \"SAMME\" "
      ]
    },
    {
      "cell_type": "code",
      "execution_count": 16,
      "metadata": {
        "id": "VmgCogIdd4dv",
        "outputId": "ee6ad446-3bb3-4ac5-f288-0482fb7b1e4f"
      },
      "outputs": [
        {
          "name": "stdout",
          "output_type": "stream",
          "text": [
            "Test Data:\n",
            "Accuracy % :  22.8\n",
            "              precision    recall  f1-score   support\n",
            "\n",
            "           1       0.00      0.00      0.00      2022\n",
            "           2       0.00      0.00      0.00      1955\n",
            "           3       0.00      0.00      0.00      1099\n",
            "           4       1.00      0.00      0.00      1246\n",
            "           5       0.00      0.00      0.00       786\n",
            "           6       0.00      0.00      0.00       809\n",
            "           7       0.00      0.00      0.00       928\n",
            "           8       0.00      0.00      0.00       669\n",
            "           9       0.00      0.00      0.00       569\n",
            "          10       0.00      0.00      0.00       595\n",
            "          11       1.00      0.00      0.01       696\n",
            "          12       0.00      0.00      0.00       546\n",
            "          13       0.00      0.00      0.00       492\n",
            "          14       0.00      0.00      0.00       536\n",
            "          15       0.00      0.00      0.00       498\n",
            "          16       0.00      0.00      0.00       492\n",
            "          17       0.67      0.52      0.59       565\n",
            "          18       0.00      0.00      0.00       740\n",
            "          19       0.00      0.00      0.00       445\n",
            "\n",
            "   micro avg       0.67      0.02      0.04     15688\n",
            "   macro avg       0.14      0.03      0.03     15688\n",
            "weighted avg       0.15      0.02      0.02     15688\n",
            "\n"
          ]
        },
        {
          "name": "stderr",
          "output_type": "stream",
          "text": [
            "/home/karan/.local/lib/python3.8/site-packages/sklearn/metrics/_classification.py:1308: UndefinedMetricWarning: Precision and F-score are ill-defined and being set to 0.0 in labels with no predicted samples. Use `zero_division` parameter to control this behavior.\n",
            "  _warn_prf(average, modifier, msg_start, len(result))\n",
            "/home/karan/.local/lib/python3.8/site-packages/sklearn/metrics/_classification.py:1308: UndefinedMetricWarning: Precision and F-score are ill-defined and being set to 0.0 in labels with no predicted samples. Use `zero_division` parameter to control this behavior.\n",
            "  _warn_prf(average, modifier, msg_start, len(result))\n",
            "/home/karan/.local/lib/python3.8/site-packages/sklearn/metrics/_classification.py:1308: UndefinedMetricWarning: Precision and F-score are ill-defined and being set to 0.0 in labels with no predicted samples. Use `zero_division` parameter to control this behavior.\n",
            "  _warn_prf(average, modifier, msg_start, len(result))\n"
          ]
        },
        {
          "name": "stdout",
          "output_type": "stream",
          "text": [
            "Train Data:\n",
            "Accuracy % :  22.65\n",
            "              precision    recall  f1-score   support\n",
            "\n",
            "           1       0.00      0.00      0.00      7076\n",
            "           2       0.00      0.00      0.00      6842\n",
            "           3       0.00      0.00      0.00      3842\n",
            "           4       1.00      0.00      0.00      4363\n",
            "           5       0.00      0.00      0.00      2751\n",
            "           6       0.00      0.00      0.00      2831\n",
            "           7       0.00      0.00      0.00      3250\n",
            "           8       0.00      0.00      0.00      2341\n",
            "           9       0.00      0.00      0.00      1992\n",
            "          10       0.00      0.00      0.00      2083\n",
            "          11       0.89      0.00      0.01      2433\n",
            "          12       0.67      0.00      0.00      1908\n",
            "          13       0.00      0.00      0.00      1722\n",
            "          14       0.00      0.00      0.00      1878\n",
            "          15       0.00      0.00      0.00      1745\n",
            "          16       0.00      0.00      0.00      1721\n",
            "          17       0.64      0.49      0.56      1976\n",
            "          18       0.00      0.00      0.00      2592\n",
            "          19       0.00      0.00      0.00      1556\n",
            "\n",
            "   micro avg       0.64      0.02      0.04     54902\n",
            "   macro avg       0.17      0.03      0.03     54902\n",
            "weighted avg       0.16      0.02      0.02     54902\n",
            "\n"
          ]
        },
        {
          "name": "stderr",
          "output_type": "stream",
          "text": [
            "/home/karan/.local/lib/python3.8/site-packages/sklearn/metrics/_classification.py:1308: UndefinedMetricWarning: Precision and F-score are ill-defined and being set to 0.0 in labels with no predicted samples. Use `zero_division` parameter to control this behavior.\n",
            "  _warn_prf(average, modifier, msg_start, len(result))\n",
            "/home/karan/.local/lib/python3.8/site-packages/sklearn/metrics/_classification.py:1308: UndefinedMetricWarning: Precision and F-score are ill-defined and being set to 0.0 in labels with no predicted samples. Use `zero_division` parameter to control this behavior.\n",
            "  _warn_prf(average, modifier, msg_start, len(result))\n",
            "/home/karan/.local/lib/python3.8/site-packages/sklearn/metrics/_classification.py:1308: UndefinedMetricWarning: Precision and F-score are ill-defined and being set to 0.0 in labels with no predicted samples. Use `zero_division` parameter to control this behavior.\n",
            "  _warn_prf(average, modifier, msg_start, len(result))\n"
          ]
        },
        {
          "name": "stdout",
          "output_type": "stream",
          "text": [
            "Validation Data:\n",
            "Accuracy % :  22.94\n",
            "              precision    recall  f1-score   support\n",
            "\n",
            "           1       0.00      0.00      0.00      1011\n",
            "           2       0.00      0.00      0.00       978\n",
            "           3       0.00      0.00      0.00       549\n",
            "           4       1.00      0.00      0.01       624\n",
            "           5       0.00      0.00      0.00       393\n",
            "           6       0.00      0.00      0.00       405\n",
            "           7       0.00      0.00      0.00       465\n",
            "           8       0.00      0.00      0.00       335\n",
            "           9       0.00      0.00      0.00       285\n",
            "          10       0.00      0.00      0.00       298\n",
            "          11       0.00      0.00      0.00       348\n",
            "          12       0.00      0.00      0.00       273\n",
            "          13       0.00      0.00      0.00       246\n",
            "          14       0.00      0.00      0.00       269\n",
            "          15       0.00      0.00      0.00       250\n",
            "          16       0.00      0.00      0.00       246\n",
            "          17       0.68      0.54      0.60       283\n",
            "          18       0.00      0.00      0.00       371\n",
            "          19       0.00      0.00      0.00       223\n",
            "\n",
            "   micro avg       0.68      0.02      0.04      7852\n",
            "   macro avg       0.09      0.03      0.03      7852\n",
            "weighted avg       0.10      0.02      0.02      7852\n",
            "\n"
          ]
        },
        {
          "name": "stderr",
          "output_type": "stream",
          "text": [
            "/home/karan/.local/lib/python3.8/site-packages/sklearn/metrics/_classification.py:1308: UndefinedMetricWarning: Precision and F-score are ill-defined and being set to 0.0 in labels with no predicted samples. Use `zero_division` parameter to control this behavior.\n",
            "  _warn_prf(average, modifier, msg_start, len(result))\n",
            "/home/karan/.local/lib/python3.8/site-packages/sklearn/metrics/_classification.py:1308: UndefinedMetricWarning: Precision and F-score are ill-defined and being set to 0.0 in labels with no predicted samples. Use `zero_division` parameter to control this behavior.\n",
            "  _warn_prf(average, modifier, msg_start, len(result))\n",
            "/home/karan/.local/lib/python3.8/site-packages/sklearn/metrics/_classification.py:1308: UndefinedMetricWarning: Precision and F-score are ill-defined and being set to 0.0 in labels with no predicted samples. Use `zero_division` parameter to control this behavior.\n",
            "  _warn_prf(average, modifier, msg_start, len(result))\n"
          ]
        }
      ],
      "source": [
        "\n",
        "clf = AdaBoostClassifier(algorithm=\"SAMME\", n_estimators=200, random_state=0)\n",
        "clf.fit(X_train, y_train)\n",
        "y_pred = clf.predict(X_test)\n",
        "y_true = testLabels\n",
        "print(\"Test Data:\")\n",
        "accuracy = round(accuracy_score(y_pred = y_pred, y_true = y_true) * 100,2)\n",
        "print(\"Accuracy % : \",round(accuracy_score(y_pred = y_pred, y_true=y_true) * 100,2))\n",
        "print(classification_report(y_true,y_pred,labels = [1, 2, 3, 4, 5, 6, 7, 8, 9, 10, 11, 12, 13, 14, 15, 16, 17, 18, 19]))\n",
        "y_pred = clf.predict(X_train)\n",
        "y_true = trainLabels\n",
        "print(\"Train Data:\")\n",
        "print(\"Accuracy % : \",round(accuracy_score(y_pred = y_pred, y_true=y_true) * 100,2))\n",
        "print(classification_report(y_true,y_pred,labels = [1, 2, 3, 4, 5, 6, 7, 8, 9, 10, 11, 12, 13, 14, 15, 16, 17, 18, 19]))\n",
        "y_pred = clf.predict(X_val)\n",
        "y_true = validationLabels\n",
        "print(\"Validation Data:\")\n",
        "print(\"Accuracy % : \",round(accuracy_score(y_pred = y_pred, y_true=y_true) * 100,2))\n",
        "print(classification_report(y_true,y_pred,labels = [1, 2, 3, 4, 5, 6, 7, 8, 9, 10, 11, 12, 13, 14, 15, 16, 17, 18, 19]))\n"
      ]
    },
    {
      "cell_type": "code",
      "execution_count": null,
      "metadata": {},
      "outputs": [],
      "source": []
    },
    {
      "cell_type": "markdown",
      "metadata": {
        "id": "J1BFRUvebBRK"
      },
      "source": [
        "### \"SAMME.R\" Better"
      ]
    },
    {
      "cell_type": "code",
      "execution_count": 17,
      "metadata": {
        "id": "YOleKFlTd4dw",
        "outputId": "540fd6b1-1769-43a8-8e15-433907d2d467"
      },
      "outputs": [
        {
          "name": "stdout",
          "output_type": "stream",
          "text": [
            "Test Data:\n",
            "Accuracy % :  27.45\n",
            "              precision    recall  f1-score   support\n",
            "\n",
            "           1       0.23      0.02      0.04      2022\n",
            "           2       0.30      0.20      0.24      1955\n",
            "           3       0.31      0.01      0.02      1099\n",
            "           4       0.42      0.26      0.32      1246\n",
            "           5       0.07      0.00      0.01       786\n",
            "           6       0.44      0.05      0.09       809\n",
            "           7       0.35      0.08      0.14       928\n",
            "           8       0.32      0.04      0.07       669\n",
            "           9       0.16      0.01      0.02       569\n",
            "          10       0.10      0.01      0.02       595\n",
            "          11       0.52      0.31      0.39       696\n",
            "          12       0.34      0.34      0.34       546\n",
            "          13       0.37      0.02      0.04       492\n",
            "          14       0.00      0.00      0.00       536\n",
            "          15       0.20      0.05      0.09       498\n",
            "          16       0.23      0.02      0.03       492\n",
            "          17       0.61      0.62      0.61       565\n",
            "          18       0.26      0.05      0.08       740\n",
            "          19       0.00      0.00      0.00       445\n",
            "\n",
            "   micro avg       0.37      0.11      0.17     15688\n",
            "   macro avg       0.28      0.11      0.13     15688\n",
            "weighted avg       0.29      0.11      0.14     15688\n",
            "\n",
            "Train Data:\n",
            "Accuracy % :  27.86\n",
            "              precision    recall  f1-score   support\n",
            "\n",
            "           1       0.25      0.02      0.04      7076\n",
            "           2       0.30      0.20      0.24      6842\n",
            "           3       0.49      0.02      0.04      3842\n",
            "           4       0.46      0.27      0.34      4363\n",
            "           5       0.17      0.01      0.01      2751\n",
            "           6       0.38      0.04      0.07      2831\n",
            "           7       0.36      0.09      0.15      3250\n",
            "           8       0.31      0.04      0.06      2341\n",
            "           9       0.28      0.02      0.04      1992\n",
            "          10       0.23      0.02      0.04      2083\n",
            "          11       0.54      0.34      0.41      2433\n",
            "          12       0.32      0.32      0.32      1908\n",
            "          13       0.59      0.02      0.05      1722\n",
            "          14       0.23      0.00      0.01      1878\n",
            "          15       0.20      0.05      0.08      1745\n",
            "          16       0.22      0.02      0.04      1721\n",
            "          17       0.59      0.60      0.60      1976\n",
            "          18       0.24      0.04      0.07      2592\n",
            "          19       0.13      0.00      0.01      1556\n",
            "\n",
            "   micro avg       0.38      0.12      0.18     54902\n",
            "   macro avg       0.33      0.11      0.14     54902\n",
            "weighted avg       0.33      0.12      0.14     54902\n",
            "\n",
            "Validation Data:\n",
            "Accuracy % :  27.24\n",
            "              precision    recall  f1-score   support\n",
            "\n",
            "           1       0.30      0.02      0.05      1011\n",
            "           2       0.30      0.20      0.24       978\n",
            "           3       0.21      0.01      0.02       549\n",
            "           4       0.43      0.26      0.32       624\n",
            "           5       0.17      0.01      0.01       393\n",
            "           6       0.31      0.03      0.05       405\n",
            "           7       0.37      0.09      0.15       465\n",
            "           8       0.12      0.02      0.03       335\n",
            "           9       0.28      0.02      0.05       285\n",
            "          10       0.22      0.02      0.04       298\n",
            "          11       0.47      0.29      0.36       348\n",
            "          12       0.28      0.30      0.29       273\n",
            "          13       0.71      0.02      0.04       246\n",
            "          14       0.33      0.01      0.01       269\n",
            "          15       0.10      0.03      0.04       250\n",
            "          16       0.30      0.04      0.07       246\n",
            "          17       0.62      0.59      0.60       283\n",
            "          18       0.18      0.03      0.05       371\n",
            "          19       0.00      0.00      0.00       223\n",
            "\n",
            "   micro avg       0.36      0.11      0.17      7852\n",
            "   macro avg       0.30      0.10      0.13      7852\n",
            "weighted avg       0.30      0.11      0.13      7852\n",
            "\n"
          ]
        }
      ],
      "source": [
        "X_train, X_test, y_train, y_test = trainData, testData, trainLabels, testLabels\n",
        "clf = AdaBoostClassifier(algorithm=\"SAMME.R\",n_estimators=200, random_state=0)\n",
        "clf.fit(X_train, y_train)\n",
        "y_pred = clf.predict(X_test)\n",
        "y_true = testLabels\n",
        "print(\"Test Data:\")\n",
        "accuracy = round(accuracy_score(y_pred = y_pred, y_true = y_true) * 100,2)\n",
        "print(\"Accuracy % : \",round(accuracy_score(y_pred = y_pred, y_true=y_true) * 100,2))\n",
        "print(classification_report(y_true,y_pred,labels = [1, 2, 3, 4, 5, 6, 7, 8, 9, 10, 11, 12, 13, 14, 15, 16, 17, 18, 19]))\n",
        "y_pred = clf.predict(X_train)\n",
        "y_true = trainLabels\n",
        "print(\"Train Data:\")\n",
        "print(\"Accuracy % : \",round(accuracy_score(y_pred = y_pred, y_true=y_true) * 100,2))\n",
        "print(classification_report(y_true,y_pred,labels = [1, 2, 3, 4, 5, 6, 7, 8, 9, 10, 11, 12, 13, 14, 15, 16, 17, 18, 19]))\n",
        "y_pred = clf.predict(X_val)\n",
        "y_true = validationLabels\n",
        "print(\"Validation Data:\")\n",
        "print(\"Accuracy % : \",round(accuracy_score(y_pred = y_pred, y_true=y_true) * 100,2))\n",
        "print(classification_report(y_true,y_pred,labels = [1, 2, 3, 4, 5, 6, 7, 8, 9, 10, 11, 12, 13, 14, 15, 16, 17, 18, 19]))\n"
      ]
    },
    {
      "cell_type": "code",
      "execution_count": null,
      "metadata": {},
      "outputs": [],
      "source": []
    },
    {
      "cell_type": "markdown",
      "metadata": {},
      "source": [
        "## AdaBoost Final Results\n",
        "### algorithm=\"SAMME.R\",n_estimators=200\n",
        "### Accuracy:  27.24"
      ]
    },
    {
      "cell_type": "code",
      "execution_count": 18,
      "metadata": {},
      "outputs": [],
      "source": [
        "# clf = AdaBoostClassifier(algorithm=\"SAMME.R\",n_estimators=200, random_state=0)\n",
        "# clf.fit(trainData, trainLabels)\n",
        "# y_pred = clf.predict(X_test)\n",
        "# y_true = testLabels\n",
        "# print(\"Test Data:\")\n",
        "# accuracy = round(accuracy_score(y_pred = y_pred, y_true = y_true) * 100,2)\n",
        "# print(\"Accuracy % : \",round(accuracy_score(y_pred = y_pred, y_true=y_true) * 100,2))\n",
        "# print(classification_report(y_true,y_pred,labels = [1, 2, 3, 4, 5, 6, 7, 8, 9, 10, 11, 12, 13, 14, 15, 16, 17, 18, 19]))\n",
        "# y_pred = clf.predict(X_train)\n",
        "# y_true = trainLabels\n",
        "# print(\"Train Data:\")\n",
        "# print(\"Accuracy % : \",round(accuracy_score(y_pred = y_pred, y_true=y_true) * 100,2))\n",
        "# print(classification_report(y_true,y_pred,labels = [1, 2, 3, 4, 5, 6, 7, 8, 9, 10, 11, 12, 13, 14, 15, 16, 17, 18, 19]))\n",
        "# y_pred = clf.predict(X_val)\n",
        "# y_true = validationLabels\n",
        "# print(\"Validation Data:\")\n",
        "# print(\"Accuracy % : \",round(accuracy_score(y_pred = y_pred, y_true=y_true) * 100,2))\n",
        "# print(classification_report(y_true,y_pred,labels = [1, 2, 3, 4, 5, 6, 7, 8, 9, 10, 11, 12, 13, 14, 15, 16, 17, 18, 19]))"
      ]
    },
    {
      "cell_type": "code",
      "execution_count": null,
      "metadata": {},
      "outputs": [],
      "source": [
        "filename = 'finalModel_AB_NoWE_2500'\n",
        "pk.dump(clf,open(filename,'wb'))"
      ]
    },
    {
      "cell_type": "code",
      "execution_count": null,
      "metadata": {},
      "outputs": [],
      "source": []
    }
  ],
  "metadata": {
    "colab": {
      "name": "AdaBoost_emoji.ipynb",
      "provenance": []
    },
    "interpreter": {
      "hash": "31f2aee4e71d21fbe5cf8b01ff0e069b9275f58929596ceb00d14d90e3e16cd6"
    },
    "kernelspec": {
      "display_name": "Python 3.8.10 64-bit",
      "name": "python3"
    },
    "language_info": {
      "codemirror_mode": {
        "name": "ipython",
        "version": 3
      },
      "file_extension": ".py",
      "mimetype": "text/x-python",
      "name": "python",
      "nbconvert_exporter": "python",
      "pygments_lexer": "ipython3",
      "version": "3.8.10"
    }
  },
  "nbformat": 4,
  "nbformat_minor": 0
}
