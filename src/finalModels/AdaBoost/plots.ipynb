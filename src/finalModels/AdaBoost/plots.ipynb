{
 "cells": [
  {
   "cell_type": "code",
   "execution_count": 1,
   "metadata": {},
   "outputs": [],
   "source": [
    "import matplotlib.pyplot as plt"
   ]
  },
  {
   "cell_type": "code",
   "execution_count": null,
   "metadata": {},
   "outputs": [],
   "source": [
    "#ADA boost NoWE\n",
    "itr= [150, 175, 200, 225]\n",
    "test_accuracy = [27.17,27.1,27.24,27.08]\n",
    "train_accuracy = [27.39,27.46,27.64,27.59]\n",
    "trial_accuracy = [26.96,27.08,27.18,27.17]\n",
    "plt.plot(itr, test_accuracy, label = \"Test\")\n",
    "plt.plot(itr, train_accuracy, label = \"Train\")\n",
    "plt.plot(itr, trial_accuracy, label = \"Trial\")\n",
    "plt.xlabel('Num estimators')\n",
    "plt.ylabel('Accuracy')\n",
    "plt.title('Test Accuracy vs Num estimators')\n",
    "plt.legend()\n",
    "plt.show()\n"
   ]
  },
  {
   "cell_type": "code",
   "execution_count": null,
   "metadata": {},
   "outputs": [],
   "source": [
    "#ADA boost NoWE\n",
    "itr= [150, 250, 350, 450]\n",
    "test_accuracy = [27.17,27.1,27.24,27.08]\n",
    "train_accuracy = [27.39,27.46,27.64,27.59]\n",
    "trial_accuracy = [26.96,27.08,27.18,27.17]\n",
    "plt.plot(itr, test_accuracy, label = \"Test\")\n",
    "plt.plot(itr, train_accuracy, label = \"Train\")\n",
    "plt.plot(itr, trial_accuracy, label = \"Trial\")\n",
    "plt.xlabel('Num estimators')\n",
    "plt.ylabel('Accuracy')\n",
    "plt.title('Test Accuracy vs Num estimators')\n",
    "plt.legend()\n",
    "plt.show()\n"
   ]
  },
  {
   "cell_type": "code",
   "execution_count": 2,
   "metadata": {},
   "outputs": [
    {
     "data": {
      "image/png": "[encoded data removed]",
      "text/plain": [
       "<Figure size 432x288 with 1 Axes>"
      ]
     },
     "metadata": {
      "needs_background": "light"
     },
     "output_type": "display_data"
    }
   ],
   "source": [
    "#ADA boost NoWE\n",
    "itr= [ 150, 180, 210, 250, 280]\n",
    "test_accuracy = [25.54,25.56,25.6,25.56,25.56]\n",
    "train_accuracy = [26.32,26.28,26.29,26.3,26.28]\n",
    "trial_accuracy = [25.83,25.81,25.79,25.78,25.74]\n",
    "plt.plot(itr, test_accuracy, label = \"Test\")\n",
    "plt.plot(itr, train_accuracy, label = \"Train\")\n",
    "plt.plot(itr, trial_accuracy, label = \"Trial\")\n",
    "plt.xlabel('Num estimators')\n",
    "plt.ylabel('Accuracy')\n",
    "plt.title('Test Accuracy vs Num estimators')\n",
    "plt.legend()\n",
    "plt.show()\n"
   ]
  },
  {
   "cell_type": "code",
   "execution_count": null,
   "metadata": {},
   "outputs": [],
   "source": [
    "\n",
    "plt.plot(itr, test_accuracy, label = \"Test\")\n",
    "plt.plot(itr, train_accuracy, label = \"Train\")\n",
    "plt.plot(itr, trial_accuracy, label = \"Trial\")\n",
    "plt.xlabel('Num estimators')\n",
    "plt.ylabel('Accuracy')\n",
    "plt.title('Test Accuracy vs Num estimators')\n",
    "plt.legend()\n",
    "plt.show()\n"
   ]
  },
  {
   "cell_type": "code",
   "execution_count": null,
   "metadata": {},
   "outputs": [],
   "source": [
    "itr= [1]\n",
    "test_accuracy = [29]\n",
    "train_accuracy = [30.76]\n",
    "trial_accuracy = [28.75]"
   ]
  },
  {
   "cell_type": "code",
   "execution_count": null,
   "metadata": {},
   "outputs": [],
   "source": []
  },
  {
   "cell_type": "code",
   "execution_count": null,
   "metadata": {},
   "outputs": [],
   "source": [
    "\n",
    "plt.plot(itr, test_accuracy, label = \"Test\", marker=\"o\", markersize=10,)\n",
    "plt.plot(itr, train_accuracy, label = \"Train\", marker=\"o\", markersize=10,)\n",
    "plt.plot(itr, trial_accuracy, label = \"Trial\", marker=\"o\", markersize=10,)\n",
    "# plt.xlim(1, 1)\n",
    "# plt.ylim(26, 28)\n",
    "plt.xlabel('Gaussian NB')\n",
    "plt.ylabel('Accuracy')\n",
    "plt.title('Accuracy vs Gaussian NB')\n",
    "plt.legend()\n",
    "plt.show()\n"
   ]
  },
  {
   "cell_type": "markdown",
   "metadata": {},
   "source": []
  },
  {
   "cell_type": "code",
   "execution_count": null,
   "metadata": {},
   "outputs": [],
   "source": [
    "\n",
    "plt.plot(itr, test_accuracy, label = \"Test\", marker=\"o\", markersize=10,)\n",
    "plt.plot(itr, train_accuracy, label = \"Train\", marker=\"o\", markersize=10,)\n",
    "plt.plot(itr, trial_accuracy, label = \"Trial\", marker=\"o\", markersize=10,)\n",
    "# plt.xlim(1, 1)\n",
    "# plt.ylim(26, 28)\n",
    "plt.xlabel('Bernoulli NB')\n",
    "plt.ylabel('Accuracy')\n",
    "plt.title('Accuracy vs Bernoulli NB')\n",
    "plt.legend()\n",
    "plt.show()\n"
   ]
  },
  {
   "cell_type": "code",
   "execution_count": null,
   "metadata": {},
   "outputs": [],
   "source": [
    "\n",
    "plt.plot(itr, test_accuracy, label = \"Test\", marker=\"o\", markersize=10,)\n",
    "plt.plot(itr, train_accuracy, label = \"Train\", marker=\"o\", markersize=10,)\n",
    "plt.plot(itr, trial_accuracy, label = \"Trial\", marker=\"o\", markersize=10,)\n",
    "# plt.xlim(1, 1)\n",
    "# plt.ylim(26, 28)\n",
    "plt.xlabel('Multinomial NB')\n",
    "plt.ylabel('Accuracy')\n",
    "plt.title('Accuracy vs Multinomial NB')\n",
    "plt.legend()\n",
    "plt.show()\n"
   ]
  },
  {
   "cell_type": "code",
   "execution_count": null,
   "metadata": {},
   "outputs": [],
   "source": [
    "\n",
    "plt.plot(itr, test_accuracy, label = \"Test\", marker=\"o\", markersize=10,)\n",
    "plt.plot(itr, train_accuracy, label = \"Train\", marker=\"o\", markersize=10,)\n",
    "plt.plot(itr, trial_accuracy, label = \"Trial\", marker=\"o\", markersize=10,)\n",
    "# plt.xlim(1, 1)\n",
    "# plt.ylim(26, 28)\n",
    "plt.xlabel('SAMMER')\n",
    "plt.ylabel('Accuracy')\n",
    "plt.title('Accuracy in SAMMER')\n",
    "plt.legend()\n",
    "plt.show()\n"
   ]
  },
  {
   "cell_type": "code",
   "execution_count": null,
   "metadata": {},
   "outputs": [],
   "source": [
    "\n",
    "plt.plot(itr, test_accuracy, label = \"Test\", marker=\"o\", markersize=10,)\n",
    "plt.plot(itr, train_accuracy, label = \"Train\", marker=\"o\", markersize=10,)\n",
    "plt.plot(itr, trial_accuracy, label = \"Trial\", marker=\"o\", markersize=10,)\n",
    "plt.xlim(1, 1)\n",
    "plt.ylim(27, 28)\n",
    "plt.xlabel('Gini')\n",
    "plt.ylabel('Accuracy')\n",
    "plt.title('Accuracy in Gini')\n",
    "plt.legend()\n",
    "plt.show()"
   ]
  },
  {
   "cell_type": "code",
   "execution_count": null,
   "metadata": {},
   "outputs": [],
   "source": []
  },
  {
   "cell_type": "code",
   "execution_count": null,
   "metadata": {},
   "outputs": [],
   "source": []
  },
  {
   "cell_type": "code",
   "execution_count": null,
   "metadata": {},
   "outputs": [],
   "source": [
    "#ADA boost NoWE\n",
    "itr= [150, 175, 200, 225]\n",
    "test_accuracy = [27.31,27.45,27.45,27.33]\n",
    "train_accuracy = [27.43,27.7,27.86,27.76]\n",
    "trial_accuracy = [27.2,27.15,27.24,27.22]\n",
    "accuracy= test_accuracy\n",
    "plt.plot(itr, accuracy)\n",
    "plt.xlabel('Num estimators')\n",
    "plt.ylabel('Accuracy')\n",
    "plt.title('Test Accuracy vs Num estimators')\n",
    "plt.show()\n",
    "accuracy= train_accuracy\n",
    "plt.plot(itr, accuracy)\n",
    "plt.xlabel('Num estimators')\n",
    "plt.ylabel('Accuracy')\n",
    "plt.title('Train Accuracy vs Num estimators')\n",
    "plt.show()\n",
    "accuracy= trial_accuracy\n",
    "plt.plot(itr, accuracy)\n",
    "plt.xlabel('Num estimators')\n",
    "plt.ylabel('Accuracy')\n",
    "plt.title('Trial Accuracy vs Num estimators')\n",
    "plt.show()\n"
   ]
  },
  {
   "cell_type": "code",
   "execution_count": null,
   "metadata": {},
   "outputs": [],
   "source": [
    "\n",
    "plt.plot(itr, test_accuracy, label = \"Test\")\n",
    "plt.plot(itr, train_accuracy, label = \"Train\")\n",
    "plt.plot(itr, trial_accuracy, label = \"Trial\")\n",
    "plt.xlabel('Num estimators')\n",
    "plt.ylabel('Accuracy')\n",
    "plt.title('Test Accuracy vs Num estimators')\n",
    "plt.legend()\n",
    "plt.show()\n"
   ]
  },
  {
   "cell_type": "code",
   "execution_count": null,
   "metadata": {},
   "outputs": [],
   "source": []
  }
 ],
 "metadata": {
  "interpreter": {
   "hash": "aee8b7b246df8f9039afb4144a1f6fd8d2ca17a180786b69acc140d282b71a49"
  },
  "kernelspec": {
   "display_name": "Python 3.9.8 64-bit",
   "language": "python",
   "name": "python3"
  },
  "language_info": {
   "codemirror_mode": {
    "name": "ipython",
    "version": 3
   },
   "file_extension": ".py",
   "mimetype": "text/x-python",
   "name": "python",
   "nbconvert_exporter": "python",
   "pygments_lexer": "ipython3",
   "version": "3.9.8"
  },
  "orig_nbformat": 4
 },
 "nbformat": 4,
 "nbformat_minor": 2
}
