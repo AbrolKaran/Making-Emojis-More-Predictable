{
 "cells": [
  {
   "cell_type": "code",
   "execution_count": 19,
   "metadata": {},
   "outputs": [],
   "source": [
    "import numpy as np\n",
    "import pandas as pd\n",
    "from tqdm import tqdm\n",
    "from sklearn import svm\n",
    "import pickle as pk"
   ]
  },
  {
   "cell_type": "code",
   "execution_count": 20,
   "metadata": {},
   "outputs": [],
   "source": [
    "trainData = np.load('../../glove200_t2_train.npy')\n",
    "trainLabels = open('../../../dataFinal/finalTrainLabels.labels', 'r').readlines()\n",
    "testData = np.load('../../glove200_t2_test.npy')\n",
    "testLabels = open('../../../dataFinal/finalTestLabels.labels', 'r').readlines()"
   ]
  },
  {
   "cell_type": "code",
   "execution_count": 21,
   "metadata": {},
   "outputs": [
    {
     "name": "stderr",
     "output_type": "stream",
     "text": [
      "100%|██████████| 69992/69992 [00:00<00:00, 1540439.54it/s]\n",
      "100%|██████████| 20000/20000 [00:00<00:00, 1771692.15it/s]\n"
     ]
    }
   ],
   "source": [
    "for i in tqdm(range(len(trainLabels))):\n",
    "    trainLabels[i] = int(trainLabels[i])\n",
    "for i in tqdm(range(len(testLabels))):\n",
    "    testLabels[i] = int(testLabels[i])\n",
    "\n",
    "trainLabels = np.array(trainLabels)\n",
    "testLabels = np.array(testLabels)\n",
    "\n",
    "trainLabels = trainLabels.reshape((-1, ))\n",
    "testLabels = testLabels.reshape((-1, ))"
   ]
  },
  {
   "cell_type": "code",
   "execution_count": 43,
   "metadata": {},
   "outputs": [],
   "source": [
    "SVM = svm.LinearSVC(C=0.8,verbose=True)"
   ]
  },
  {
   "cell_type": "code",
   "execution_count": 44,
   "metadata": {},
   "outputs": [
    {
     "name": "stdout",
     "output_type": "stream",
     "text": [
      "[LibLinear]....*\n",
      "optimization finished, #iter = 48\n",
      "Objective value = -33685.417267\n",
      "nSV = 66432\n",
      "....*\n",
      "optimization finished, #iter = 46\n",
      "Objective value = -18724.554803\n",
      "nSV = 61746\n",
      "....*\n",
      "optimization finished, #iter = 46\n",
      "Objective value = -16438.208738\n",
      "nSV = 51046\n",
      "....*\n",
      "optimization finished, #iter = 45\n",
      "Objective value = -10807.313424\n",
      "nSV = 52601\n",
      "....*\n",
      "optimization finished, #iter = 46\n",
      "Objective value = -10294.870753\n",
      "nSV = 40869\n",
      "....*\n",
      "optimization finished, #iter = 45\n",
      "Objective value = -8044.797864\n",
      "nSV = 50585\n",
      "....*\n",
      "optimization finished, #iter = 45\n",
      "Objective value = -8144.158117\n",
      "nSV = 47839\n",
      "....*\n",
      "optimization finished, #iter = 45\n",
      "Objective value = -8950.445192\n",
      "nSV = 47272\n",
      "....*\n",
      "optimization finished, #iter = 45\n",
      "Objective value = -6774.087730\n",
      "nSV = 44469\n",
      "....*\n",
      "optimization finished, #iter = 45\n",
      "Objective value = -5803.868929\n",
      "nSV = 41137\n",
      "....*\n",
      "optimization finished, #iter = 45\n",
      "Objective value = -6036.184536\n",
      "nSV = 40374\n",
      "....*\n",
      "optimization finished, #iter = 45\n",
      "Objective value = -5602.738412\n",
      "nSV = 31208\n",
      "....*\n",
      "optimization finished, #iter = 44\n",
      "Objective value = -4731.484949\n",
      "nSV = 24545\n",
      "....*\n",
      "optimization finished, #iter = 44\n",
      "Objective value = -5072.628952\n",
      "nSV = 41063\n",
      "....*\n",
      "optimization finished, #iter = 44\n",
      "Objective value = -5565.553199\n",
      "nSV = 42878\n",
      "....*\n",
      "optimization finished, #iter = 45\n",
      "Objective value = -5033.055972\n",
      "nSV = 33795\n",
      "....*\n",
      "optimization finished, #iter = 44\n",
      "Objective value = -5104.390112\n",
      "nSV = 41321\n",
      "....*\n",
      "optimization finished, #iter = 44\n",
      "Objective value = -3507.576976\n",
      "nSV = 19468\n",
      "....*\n",
      "optimization finished, #iter = 45\n",
      "Objective value = -7393.775144\n",
      "nSV = 41217\n",
      "....*\n",
      "optimization finished, #iter = 44\n",
      "Objective value = -4638.993087\n",
      "nSV = 39006\n"
     ]
    },
    {
     "data": {
      "text/plain": [
       "LinearSVC(C=0.8, verbose=True)"
      ]
     },
     "execution_count": 44,
     "metadata": {},
     "output_type": "execute_result"
    }
   ],
   "source": [
    "SVM.fit(trainData,trainLabels)"
   ]
  },
  {
   "cell_type": "code",
   "execution_count": 45,
   "metadata": {},
   "outputs": [
    {
     "name": "stdout",
     "output_type": "stream",
     "text": [
      "0.33996742484855413\n",
      "0.2984\n"
     ]
    }
   ],
   "source": [
    "print(SVM.score(trainData,trainLabels))\n",
    "print(SVM.score(testData,testLabels))"
   ]
  },
  {
   "cell_type": "code",
   "execution_count": null,
   "metadata": {},
   "outputs": [],
   "source": []
  }
 ],
 "metadata": {
  "interpreter": {
   "hash": "31f2aee4e71d21fbe5cf8b01ff0e069b9275f58929596ceb00d14d90e3e16cd6"
  },
  "kernelspec": {
   "display_name": "Python 3.8.10 64-bit",
   "name": "python3"
  },
  "language_info": {
   "codemirror_mode": {
    "name": "ipython",
    "version": 3
   },
   "file_extension": ".py",
   "mimetype": "text/x-python",
   "name": "python",
   "nbconvert_exporter": "python",
   "pygments_lexer": "ipython3",
   "version": "3.8.10"
  },
  "orig_nbformat": 4
 },
 "nbformat": 4,
 "nbformat_minor": 2
}
