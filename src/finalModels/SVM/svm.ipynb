{
 "cells": [
  {
   "cell_type": "code",
   "execution_count": 1,
   "metadata": {},
   "outputs": [],
   "source": [
    "import numpy as np\n",
    "import pandas as pd\n",
    "from tqdm import tqdm\n",
    "from sklearn import svm\n",
    "import pickle as pk"
   ]
  },
  {
   "cell_type": "code",
   "execution_count": 2,
   "metadata": {},
   "outputs": [],
   "source": [
    "trainData = np.load('../../fin_t2_train.npy')\n",
    "trainLabels = open('../../../dataFinal/finalTrainLabels.labels', 'r').readlines()\n",
    "testData = np.load('../../fin_t2_test.npy')\n",
    "testLabels = open('../../../dataFinal/finalTestLabels.labels', 'r').readlines()"
   ]
  },
  {
   "cell_type": "code",
   "execution_count": 3,
   "metadata": {},
   "outputs": [
    {
     "name": "stderr",
     "output_type": "stream",
     "text": [
      "100%|██████████| 69992/69992 [00:00<00:00, 1436634.92it/s]\n",
      "100%|██████████| 20000/20000 [00:00<00:00, 1454083.55it/s]\n"
     ]
    }
   ],
   "source": [
    "for i in tqdm(range(len(trainLabels))):\n",
    "    trainLabels[i] = int(trainLabels[i])\n",
    "for i in tqdm(range(len(testLabels))):\n",
    "    testLabels[i] = int(testLabels[i])\n",
    "\n",
    "trainLabels = np.array(trainLabels)\n",
    "testLabels = np.array(testLabels)\n",
    "\n",
    "trainLabels = trainLabels.reshape((-1, ))\n",
    "testLabels = testLabels.reshape((-1, ))"
   ]
  },
  {
   "cell_type": "code",
   "execution_count": 4,
   "metadata": {},
   "outputs": [],
   "source": [
    "\n",
    "SVM = svm.LinearSVC(C=0.1,verbose=True)"
   ]
  },
  {
   "cell_type": "code",
   "execution_count": 5,
   "metadata": {},
   "outputs": [
    {
     "name": "stdout",
     "output_type": "stream",
     "text": [
      "[LibLinear]......*\n",
      "optimization finished, #iter = 68\n",
      "Objective value = -4253.979293\n",
      "nSV = 67888\n",
      "......*\n",
      "optimization finished, #iter = 64\n",
      "Objective value = -2367.068899\n",
      "nSV = 65370\n",
      "......*\n",
      "optimization finished, #iter = 62\n",
      "Objective value = -2101.991765\n",
      "nSV = 56699\n",
      "......*\n",
      "optimization finished, #iter = 68\n",
      "Objective value = -1366.778350\n",
      "nSV = 59161\n",
      "......*\n",
      "optimization finished, #iter = 61\n",
      "Objective value = -1324.062109\n",
      "nSV = 48094\n",
      ".....*.\n",
      "optimization finished, #iter = 60\n",
      "Objective value = -1015.623407\n",
      "nSV = 57974\n",
      ".....*.\n",
      "optimization finished, #iter = 60\n",
      "Objective value = -1029.848143\n",
      "nSV = 55358\n",
      "......*\n",
      "optimization finished, #iter = 63\n",
      "Objective value = -1139.153577\n",
      "nSV = 55424\n",
      ".....*\n",
      "optimization finished, #iter = 59\n",
      "Objective value = -858.618236\n",
      "nSV = 53508\n",
      "......*\n",
      "optimization finished, #iter = 63\n",
      "Objective value = -735.559624\n",
      "nSV = 50164\n",
      ".....*\n",
      "optimization finished, #iter = 59\n",
      "Objective value = -765.091021\n",
      "nSV = 49565\n",
      ".....*\n",
      "optimization finished, #iter = 58\n",
      "Objective value = -734.399571\n",
      "nSV = 40616\n",
      ".....*\n",
      "optimization finished, #iter = 57\n",
      "Objective value = -614.587092\n",
      "nSV = 33111\n",
      ".....*\n",
      "optimization finished, #iter = 58\n",
      "Objective value = -643.604315\n",
      "nSV = 51652\n",
      ".....*\n",
      "optimization finished, #iter = 58\n",
      "Objective value = -703.944954\n",
      "nSV = 52466\n",
      ".....*\n",
      "optimization finished, #iter = 58\n",
      "Objective value = -641.047212\n",
      "nSV = 44255\n",
      ".....*.\n",
      "optimization finished, #iter = 60\n",
      "Objective value = -646.272340\n",
      "nSV = 51383\n",
      ".....*\n",
      "optimization finished, #iter = 58\n",
      "Objective value = -468.805871\n",
      "nSV = 28273\n",
      ".....*.\n",
      "optimization finished, #iter = 60\n",
      "Objective value = -937.249948\n",
      "nSV = 49867\n",
      "......*.\n",
      "optimization finished, #iter = 70\n",
      "Objective value = -587.302579\n",
      "nSV = 49223\n"
     ]
    },
    {
     "data": {
      "text/plain": [
       "LinearSVC(C=0.1, verbose=True)"
      ]
     },
     "execution_count": 5,
     "metadata": {},
     "output_type": "execute_result"
    }
   ],
   "source": [
    "SVM.fit(trainData,trainLabels)"
   ]
  },
  {
   "cell_type": "code",
   "execution_count": 6,
   "metadata": {},
   "outputs": [
    {
     "name": "stdout",
     "output_type": "stream",
     "text": [
      "0.33230940678934734\n",
      "0.2847\n"
     ]
    }
   ],
   "source": [
    "print(SVM.score(trainData,trainLabels))\n",
    "print(SVM.score(testData,testLabels))"
   ]
  },
  {
   "cell_type": "code",
   "execution_count": null,
   "metadata": {},
   "outputs": [],
   "source": []
  }
 ],
 "metadata": {
  "interpreter": {
   "hash": "31f2aee4e71d21fbe5cf8b01ff0e069b9275f58929596ceb00d14d90e3e16cd6"
  },
  "kernelspec": {
   "display_name": "Python 3.8.10 64-bit",
   "name": "python3"
  },
  "language_info": {
   "codemirror_mode": {
    "name": "ipython",
    "version": 3
   },
   "file_extension": ".py",
   "mimetype": "text/x-python",
   "name": "python",
   "nbconvert_exporter": "python",
   "pygments_lexer": "ipython3",
   "version": "3.8.10"
  },
  "orig_nbformat": 4
 },
 "nbformat": 4,
 "nbformat_minor": 2
}
