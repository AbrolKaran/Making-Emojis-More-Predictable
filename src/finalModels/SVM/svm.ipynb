{
 "cells": [
  {
   "cell_type": "code",
   "execution_count": 10,
   "metadata": {},
   "outputs": [],
   "source": [
    "import numpy as np\n",
    "import pandas as pd\n",
    "from tqdm import tqdm\n",
    "from sklearn import svm\n",
    "import pickle as pk"
   ]
  },
  {
   "cell_type": "code",
   "execution_count": 11,
   "metadata": {},
   "outputs": [],
   "source": [
    "trainData = np.load('../../noWE_t2_train.npy')\n",
    "trainLabels = open('../../../dataFinal/finalTrainLabels.labels', 'r').readlines()\n",
    "testData = np.load('../../noWE_t2_test.npy')\n",
    "testLabels = open('../../../dataFinal/finalTestLabels.labels', 'r').readlines()"
   ]
  },
  {
   "cell_type": "code",
   "execution_count": 12,
   "metadata": {},
   "outputs": [
    {
     "name": "stderr",
     "output_type": "stream",
     "text": [
      "100%|██████████| 69992/69992 [00:00<00:00, 1365971.32it/s]\n",
      "100%|██████████| 20000/20000 [00:00<00:00, 1484184.01it/s]\n"
     ]
    }
   ],
   "source": [
    "for i in tqdm(range(len(trainLabels))):\n",
    "    trainLabels[i] = int(trainLabels[i])\n",
    "for i in tqdm(range(len(testLabels))):\n",
    "    testLabels[i] = int(testLabels[i])\n",
    "\n",
    "trainLabels = np.array(trainLabels)\n",
    "testLabels = np.array(testLabels)\n",
    "\n",
    "trainLabels = trainLabels.reshape((-1, ))\n",
    "testLabels = testLabels.reshape((-1, ))"
   ]
  },
  {
   "cell_type": "code",
   "execution_count": 13,
   "metadata": {},
   "outputs": [
    {
     "name": "stdout",
     "output_type": "stream",
     "text": [
      "(69992, 2000)\n"
     ]
    }
   ],
   "source": [
    "print(trainData.shape)"
   ]
  },
  {
   "cell_type": "code",
   "execution_count": 14,
   "metadata": {},
   "outputs": [],
   "source": [
    "\n",
    "SVM = svm.LinearSVC(C=0.3,verbose=True)"
   ]
  },
  {
   "cell_type": "code",
   "execution_count": 15,
   "metadata": {},
   "outputs": [
    {
     "name": "stdout",
     "output_type": "stream",
     "text": [
      "[LibLinear]..*\n",
      "optimization finished, #iter = 25\n",
      "Objective value = -12673.673857\n",
      "nSV = 66944\n",
      "..*\n",
      "optimization finished, #iter = 24\n",
      "Objective value = -7046.605480\n",
      "nSV = 62903\n",
      "..*\n",
      "optimization finished, #iter = 24\n",
      "Objective value = -6209.219476\n",
      "nSV = 52946\n",
      "..*\n",
      "optimization finished, #iter = 23\n",
      "Objective value = -4069.031795\n",
      "nSV = 54967\n",
      "..*\n",
      "optimization finished, #iter = 24\n",
      "Objective value = -3898.536747\n",
      "nSV = 43301\n",
      "..*\n",
      "optimization finished, #iter = 23\n",
      "Objective value = -3027.504130\n",
      "nSV = 53184\n",
      "..*\n",
      "optimization finished, #iter = 23\n",
      "Objective value = -3066.347054\n",
      "nSV = 50395\n",
      "..*\n",
      "optimization finished, #iter = 24\n",
      "Objective value = -3377.769349\n",
      "nSV = 50197\n",
      "..*\n",
      "optimization finished, #iter = 23\n",
      "Objective value = -2553.695976\n",
      "nSV = 47694\n",
      "..*\n",
      "optimization finished, #iter = 23\n",
      "Objective value = -2188.334249\n",
      "nSV = 44416\n",
      "..*\n",
      "optimization finished, #iter = 23\n",
      "Objective value = -2276.714135\n",
      "nSV = 43814\n",
      "..*\n",
      "optimization finished, #iter = 23\n",
      "Objective value = -2138.174056\n",
      "nSV = 34524\n",
      "..*\n",
      "optimization finished, #iter = 23\n",
      "Objective value = -1802.304554\n",
      "nSV = 27683\n",
      "..*\n",
      "optimization finished, #iter = 23\n",
      "Objective value = -1912.938035\n",
      "nSV = 44861\n",
      "..*\n",
      "optimization finished, #iter = 23\n",
      "Objective value = -2096.347275\n",
      "nSV = 46305\n",
      "..*\n",
      "optimization finished, #iter = 23\n",
      "Objective value = -1901.491743\n",
      "nSV = 37608\n",
      "..*\n",
      "optimization finished, #iter = 22\n",
      "Objective value = -1923.689210\n",
      "nSV = 44934\n",
      "..*\n",
      "optimization finished, #iter = 23\n",
      "Objective value = -1353.829664\n",
      "nSV = 22494\n",
      "..*\n",
      "optimization finished, #iter = 23\n",
      "Objective value = -2788.547709\n",
      "nSV = 44456\n",
      "..*\n",
      "optimization finished, #iter = 23\n",
      "Objective value = -1748.372362\n",
      "nSV = 42790\n"
     ]
    },
    {
     "data": {
      "text/plain": [
       "LinearSVC(C=0.3, verbose=True)"
      ]
     },
     "execution_count": 15,
     "metadata": {},
     "output_type": "execute_result"
    }
   ],
   "source": [
    "SVM.fit(trainData,trainLabels)"
   ]
  },
  {
   "cell_type": "code",
   "execution_count": 16,
   "metadata": {},
   "outputs": [
    {
     "name": "stdout",
     "output_type": "stream",
     "text": [
      "0.33723854154760546\n",
      "0.30175\n"
     ]
    }
   ],
   "source": [
    "print(SVM.score(trainData,trainLabels))\n",
    "print(SVM.score(testData,testLabels))"
   ]
  },
  {
   "cell_type": "code",
   "execution_count": 17,
   "metadata": {},
   "outputs": [],
   "source": [
    "filename = 'noWE_SVM_0.3'\n",
    "pk.dump(SVM,open(filename,'wb'))"
   ]
  },
  {
   "cell_type": "code",
   "execution_count": null,
   "metadata": {},
   "outputs": [],
   "source": []
  }
 ],
 "metadata": {
  "interpreter": {
   "hash": "31f2aee4e71d21fbe5cf8b01ff0e069b9275f58929596ceb00d14d90e3e16cd6"
  },
  "kernelspec": {
   "display_name": "Python 3.8.10 64-bit",
   "name": "python3"
  },
  "language_info": {
   "codemirror_mode": {
    "name": "ipython",
    "version": 3
   },
   "file_extension": ".py",
   "mimetype": "text/x-python",
   "name": "python",
   "nbconvert_exporter": "python",
   "pygments_lexer": "ipython3",
   "version": "3.8.10"
  },
  "orig_nbformat": 4
 },
 "nbformat": 4,
 "nbformat_minor": 2
}
