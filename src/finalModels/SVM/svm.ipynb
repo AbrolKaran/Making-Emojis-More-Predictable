{
 "cells": [
  {
   "cell_type": "code",
   "execution_count": 1,
   "metadata": {},
   "outputs": [],
   "source": [
    "import numpy as np\n",
    "import pandas as pd\n",
    "from tqdm import tqdm\n",
    "from sklearn import svm\n",
    "import pickle as pk"
   ]
  },
  {
   "cell_type": "code",
   "execution_count": 2,
   "metadata": {},
   "outputs": [],
   "source": [
    "trainData = np.load('../../noWE_t2_train.npy')\n",
    "trainLabels = open('../../../dataFinal/finalTrainLabels.labels', 'r').readlines()\n",
    "testData = np.load('../../noWE_t2_test.npy')\n",
    "testLabels = open('../../../dataFinal/finalTestLabels.labels', 'r').readlines()"
   ]
  },
  {
   "cell_type": "code",
   "execution_count": 3,
   "metadata": {},
   "outputs": [
    {
     "name": "stderr",
     "output_type": "stream",
     "text": [
      "100%|██████████| 69992/69992 [00:00<00:00, 1418359.17it/s]\n",
      "100%|██████████| 20000/20000 [00:00<00:00, 1442754.59it/s]\n"
     ]
    }
   ],
   "source": [
    "for i in tqdm(range(len(trainLabels))):\n",
    "    trainLabels[i] = int(trainLabels[i])\n",
    "for i in tqdm(range(len(testLabels))):\n",
    "    testLabels[i] = int(testLabels[i])\n",
    "\n",
    "trainLabels = np.array(trainLabels)\n",
    "testLabels = np.array(testLabels)\n",
    "\n",
    "trainLabels = trainLabels.reshape((-1, ))\n",
    "testLabels = testLabels.reshape((-1, ))"
   ]
  },
  {
   "cell_type": "code",
   "execution_count": 4,
   "metadata": {},
   "outputs": [
    {
     "name": "stdout",
     "output_type": "stream",
     "text": [
      "(69992, 2000)\n"
     ]
    }
   ],
   "source": [
    "print(trainData.shape)"
   ]
  },
  {
   "cell_type": "code",
   "execution_count": 40,
   "metadata": {},
   "outputs": [],
   "source": [
    "\n",
    "SVM = svm.LinearSVC(C=0.4,verbose=True)"
   ]
  },
  {
   "cell_type": "code",
   "execution_count": 41,
   "metadata": {},
   "outputs": [
    {
     "name": "stdout",
     "output_type": "stream",
     "text": [
      "[LibLinear]..*\n",
      "optimization finished, #iter = 29\n",
      "Objective value = -16877.284944\n",
      "nSV = 66747\n",
      "..*\n",
      "optimization finished, #iter = 29\n",
      "Objective value = -9383.195438\n",
      "nSV = 62482\n",
      "..*\n",
      "optimization finished, #iter = 28\n",
      "Objective value = -8256.881726\n",
      "nSV = 52241\n",
      "..*\n",
      "optimization finished, #iter = 28\n",
      "Objective value = -5417.625254\n",
      "nSV = 54109\n",
      "..*\n",
      "optimization finished, #iter = 28\n",
      "Objective value = -5179.939497\n",
      "nSV = 42415\n",
      "..*\n",
      "optimization finished, #iter = 28\n",
      "Objective value = -4031.657022\n",
      "nSV = 52235\n",
      "..*\n",
      "optimization finished, #iter = 28\n",
      "Objective value = -4082.680004\n",
      "nSV = 49495\n",
      "..*\n",
      "optimization finished, #iter = 28\n",
      "Objective value = -4493.598513\n",
      "nSV = 49218\n",
      "..*\n",
      "optimization finished, #iter = 28\n",
      "Objective value = -3398.851059\n",
      "nSV = 46564\n",
      "..*\n",
      "optimization finished, #iter = 28\n",
      "Objective value = -2912.411311\n",
      "nSV = 43262\n",
      "..*\n",
      "optimization finished, #iter = 27\n",
      "Objective value = -3029.662800\n",
      "nSV = 42619\n",
      "..*\n",
      "optimization finished, #iter = 28\n",
      "Objective value = -2833.992666\n",
      "nSV = 33347\n",
      "..*\n",
      "optimization finished, #iter = 27\n",
      "Objective value = -2390.876225\n",
      "nSV = 26660\n",
      "..*\n",
      "optimization finished, #iter = 27\n",
      "Objective value = -2545.758352\n",
      "nSV = 43561\n",
      "..*\n",
      "optimization finished, #iter = 27\n",
      "Objective value = -2790.916848\n",
      "nSV = 45072\n",
      "..*\n",
      "optimization finished, #iter = 27\n",
      "Objective value = -2529.091447\n",
      "nSV = 36343\n",
      "..*\n",
      "optimization finished, #iter = 27\n",
      "Objective value = -2560.639510\n",
      "nSV = 43647\n",
      "..*\n",
      "optimization finished, #iter = 27\n",
      "Objective value = -1789.034678\n",
      "nSV = 21414\n",
      "..*\n",
      "optimization finished, #iter = 28\n",
      "Objective value = -3710.797557\n",
      "nSV = 43304\n",
      "..*\n",
      "optimization finished, #iter = 27\n",
      "Objective value = -2327.248769\n",
      "nSV = 41410\n"
     ]
    },
    {
     "data": {
      "text/plain": [
       "LinearSVC(C=0.4, verbose=True)"
      ]
     },
     "execution_count": 41,
     "metadata": {},
     "output_type": "execute_result"
    }
   ],
   "source": [
    "SVM.fit(trainData,trainLabels)"
   ]
  },
  {
   "cell_type": "code",
   "execution_count": 42,
   "metadata": {},
   "outputs": [
    {
     "name": "stdout",
     "output_type": "stream",
     "text": [
      "0.33856726483026633\n",
      "0.30085\n"
     ]
    }
   ],
   "source": [
    "print(SVM.score(trainData,trainLabels))\n",
    "print(SVM.score(testData,testLabels))"
   ]
  },
  {
   "cell_type": "code",
   "execution_count": 43,
   "metadata": {},
   "outputs": [],
   "source": [
    "filename = 'noWE_SVM_0.4'\n",
    "pk.dump(SVM,open(filename,'wb'))"
   ]
  },
  {
   "cell_type": "code",
   "execution_count": null,
   "metadata": {},
   "outputs": [],
   "source": []
  }
 ],
 "metadata": {
  "interpreter": {
   "hash": "31f2aee4e71d21fbe5cf8b01ff0e069b9275f58929596ceb00d14d90e3e16cd6"
  },
  "kernelspec": {
   "display_name": "Python 3.8.10 64-bit",
   "name": "python3"
  },
  "language_info": {
   "codemirror_mode": {
    "name": "ipython",
    "version": 3
   },
   "file_extension": ".py",
   "mimetype": "text/x-python",
   "name": "python",
   "nbconvert_exporter": "python",
   "pygments_lexer": "ipython3",
   "version": "3.8.10"
  },
  "orig_nbformat": 4
 },
 "nbformat": 4,
 "nbformat_minor": 2
}
