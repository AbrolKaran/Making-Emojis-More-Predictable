{
  "cells": [
    {
      "cell_type": "code",
      "execution_count": null,
      "metadata": {
        "id": "KKo1Y_z7zr3g"
      },
      "outputs": [],
      "source": [
        "import numpy as np\n",
        "import pandas as pd\n",
        "from tqdm import tqdm"
      ]
    },
    {
      "cell_type": "code",
      "execution_count": null,
      "metadata": {
        "id": "qT6sCwF1zuMJ"
      },
      "outputs": [],
      "source": [
        "trainData = open('../../../dataFinal/preprocessed_train_text.txt', 'r').readlines()\n",
        "trainLabels = open('../../../dataFinal/finalTrainLabels.labels', 'r').readlines()\n",
        "testData = open('../../../dataFinal/preprocessed_test_text.txt', 'r').readlines()\n",
        "testLabels = open('../../../dataFinal/finalTestLabels.labels', 'r').readlines()\n",
        "validData = open('../../../dataFinal/preprocessed_trial_text.txt', 'r').readlines()\n",
        "validLabels = open('../../../dataFinal/finalDevLabels.labels', 'r').readlines()"
      ]
    },
    {
      "cell_type": "code",
      "execution_count": null,
      "metadata": {
        "colab": {
          "base_uri": "https://localhost:8080/"
        },
        "id": "BAt43ulT0BkC",
        "outputId": "4b71c503-75d2-46b6-ec81-32ec2d3e5dac"
      },
      "outputs": [
        {
          "name": "stderr",
          "output_type": "stream",
          "text": [
            "100%|██████████| 69993/69993 [00:00<00:00, 1653879.72it/s]\n",
            "100%|██████████| 20001/20001 [00:00<00:00, 1464718.27it/s]\n",
            "100%|██████████| 10009/10009 [00:00<00:00, 1801905.26it/s]\n"
          ]
        }
      ],
      "source": [
        "for i in tqdm(range(len(trainData))):\n",
        "    trainData[i] = trainData[i][:-1]\n",
        "for i in tqdm(range(len(testData))):\n",
        "    testData[i] = testData[i][:-1]\n",
        "for i in tqdm(range(len(validData))):\n",
        "    validData[i] = validData[i][:-1]"
      ]
    },
    {
      "cell_type": "code",
      "execution_count": null,
      "metadata": {
        "colab": {
          "base_uri": "https://localhost:8080/"
        },
        "id": "-f9qTnaV0Y-2",
        "outputId": "c6fe648e-b244-4bcb-a211-6733a4757201"
      },
      "outputs": [
        {
          "name": "stderr",
          "output_type": "stream",
          "text": [
            "100%|██████████| 69992/69992 [00:00<00:00, 1302765.24it/s]\n",
            "100%|██████████| 20000/20000 [00:00<00:00, 1040370.08it/s]\n",
            "100%|██████████| 10008/10008 [00:00<00:00, 1411642.27it/s]\n"
          ]
        }
      ],
      "source": [
        "for i in tqdm(range(len(trainLabels))):\n",
        "    trainLabels[i] = int(trainLabels[i])\n",
        "for i in tqdm(range(len(testLabels))):\n",
        "    testLabels[i] = int(testLabels[i])\n",
        "for i in tqdm(range(len(validLabels))):\n",
        "    validLabels[i] = int(validLabels[i])"
      ]
    },
    {
      "cell_type": "code",
      "execution_count": null,
      "metadata": {
        "id": "fb3_PWHD0asK"
      },
      "outputs": [],
      "source": [
        "trainData = trainData[1:]\n",
        "testData = testData[1:]\n",
        "validData = validData[1:]"
      ]
    },
    {
      "cell_type": "code",
      "execution_count": null,
      "metadata": {
        "id": "OMnAsBYY0cOW"
      },
      "outputs": [],
      "source": [
        "trainLabels = np.array(trainLabels)\n",
        "testLabels = np.array(testLabels)\n",
        "validLabels = np.array(validLabels)\n",
        "trainLabels = trainLabels.reshape((-1, ))\n",
        "testLabels = testLabels.reshape((-1, ))\n",
        "validLabels = validLabels.reshape((-1, ))"
      ]
    },
    {
      "cell_type": "code",
      "execution_count": null,
      "metadata": {
        "id": "MAVSn33o5fa4"
      },
      "outputs": [],
      "source": [
        "gloveEmbs = open('../../glove.twitter.27B.200d.txt', encoding='utf-8')"
      ]
    },
    {
      "cell_type": "code",
      "execution_count": null,
      "metadata": {
        "id": "iDWdtgqc5mV3"
      },
      "outputs": [],
      "source": [
        "embeddings = {}\n",
        "for line in gloveEmbs:\n",
        "    values = line.split()\n",
        "    word = values[0]\n",
        "    coefs = np.asarray(values[1:], dtype='float32')\n",
        "    embeddings[word] = coefs\n",
        "gloveEmbs.close()"
      ]
    },
    {
      "cell_type": "code",
      "execution_count": null,
      "metadata": {
        "id": "NhubJidu5tpz"
      },
      "outputs": [],
      "source": [
        "def embeddingOutput(X):\n",
        "    \"\"\"\n",
        "    X: input matrix\n",
        "    \"\"\"\n",
        "    maxLen = 10\n",
        "    embDim = 200\n",
        "    embOutput = np.zeros((len(X), maxLen, embDim))\n",
        "    for i in range(len(X)):\n",
        "        X[i] = X[i].split()\n",
        "        for j in range(maxLen):\n",
        "            try:\n",
        "                embOutput[i][j] = embeddings[X[i][j].lower()]\n",
        "            except:\n",
        "                embOutput[i][j] = np.zeros((embDim, ))\n",
        "    return embOutput"
      ]
    },
    {
      "cell_type": "code",
      "execution_count": null,
      "metadata": {
        "id": "AA2Z_ij_50xy"
      },
      "outputs": [],
      "source": [
        "embeddingMatrixTrain = embeddingOutput(trainData)\n",
        "embeddingMatrixTest = embeddingOutput(testData)\n",
        "embeddingMatrixVal = embeddingOutput(validData)"
      ]
    },
    {
      "cell_type": "code",
      "execution_count": null,
      "metadata": {
        "colab": {
          "base_uri": "https://localhost:8080/"
        },
        "id": "8SyL5rqm58bR",
        "outputId": "44df9b70-0466-4a24-a401-7f1b80c8be3c"
      },
      "outputs": [
        {
          "data": {
            "text/plain": [
              "((69992, 10, 200), (20000, 10, 200), (10008, 10, 200))"
            ]
          },
          "execution_count": 22,
          "metadata": {},
          "output_type": "execute_result"
        }
      ],
      "source": [
        "embeddingMatrixTrain.shape, embeddingMatrixTest.shape, embeddingMatrixVal.shape"
      ]
    },
    {
      "cell_type": "code",
      "execution_count": null,
      "metadata": {
        "id": "Obyp1DoC7kU_"
      },
      "outputs": [],
      "source": [
        "from keras.preprocessing import sequence"
      ]
    },
    {
      "cell_type": "code",
      "execution_count": null,
      "metadata": {
        "id": "gOinzfSZ70OZ"
      },
      "outputs": [],
      "source": [
        "trainData1 = trainData.copy()\n",
        "testData1 = testData.copy()\n",
        "validData1 = validData.copy()"
      ]
    },
    {
      "cell_type": "code",
      "execution_count": null,
      "metadata": {
        "id": "m2pzJPN170Cg"
      },
      "outputs": [],
      "source": [
        "trainData1 = trainData1[1:]\n",
        "testData1 = testData1[1:]\n",
        "validData1 = validData1[1:]"
      ]
    },
    {
      "cell_type": "code",
      "execution_count": null,
      "metadata": {
        "id": "U0nWjiq77zha"
      },
      "outputs": [],
      "source": [
        "wordFreq = {}\n",
        "for i in trainData:\n",
        "    # words = i.split()\n",
        "    for word in i:\n",
        "        if word in wordFreq:\n",
        "            wordFreq[word] += 1\n",
        "        else:\n",
        "            wordFreq[word] = 1"
      ]
    },
    {
      "cell_type": "code",
      "execution_count": null,
      "metadata": {
        "colab": {
          "base_uri": "https://localhost:8080/"
        },
        "id": "yL5k_MDS8RmQ",
        "outputId": "387a31b0-6b43-4df8-81bc-69221ce4706c"
      },
      "outputs": [
        {
          "data": {
            "text/plain": [
              "44842"
            ]
          },
          "execution_count": 60,
          "metadata": {},
          "output_type": "execute_result"
        }
      ],
      "source": [
        "len(wordFreq)"
      ]
    },
    {
      "cell_type": "code",
      "execution_count": null,
      "metadata": {
        "id": "E3UVv0hw8RZr"
      },
      "outputs": [],
      "source": [
        "sortedWordFreq = dict(sorted(wordFreq.items(), reverse=True, key=lambda item: item[1]))"
      ]
    },
    {
      "cell_type": "code",
      "execution_count": null,
      "metadata": {
        "colab": {
          "base_uri": "https://localhost:8080/"
        },
        "id": "wHn533N-8RNG",
        "outputId": "c559e325-46a0-46c4-a1df-199f3a9f83ba"
      },
      "outputs": [
        {
          "name": "stdout",
          "output_type": "stream",
          "text": [
            "44842\n"
          ]
        }
      ],
      "source": [
        "ctr = 0\n",
        "idx = 1\n",
        "idxToWord = {}\n",
        "wordToIdx = {}\n",
        "for i in sortedWordFreq:\n",
        "    # print(i, sortedWordFreq[i])\n",
        "    ctr += 1\n",
        "    # if sortedWordFreq[i] == 1:\n",
        "        # break\n",
        "    idxToWord[idx] = i\n",
        "    wordToIdx[i] = idx\n",
        "    idx += 1\n",
        "print(ctr)"
      ]
    },
    {
      "cell_type": "code",
      "execution_count": null,
      "metadata": {
        "colab": {
          "base_uri": "https://localhost:8080/"
        },
        "id": "MUZrhD1W8RCn",
        "outputId": "8b26cb18-805a-4253-a913-a875acd8eaea"
      },
      "outputs": [
        {
          "data": {
            "text/plain": [
              "100"
            ]
          },
          "execution_count": 63,
          "metadata": {},
          "output_type": "execute_result"
        }
      ],
      "source": [
        "idxToWord[100]\n",
        "wordToIdx['wait']"
      ]
    },
    {
      "cell_type": "code",
      "execution_count": null,
      "metadata": {
        "colab": {
          "base_uri": "https://localhost:8080/"
        },
        "id": "e9t47hOi8Q0z",
        "outputId": "d3168136-e317-4781-d926-794e2a554768"
      },
      "outputs": [
        {
          "name": "stderr",
          "output_type": "stream",
          "text": [
            "100%|██████████| 69992/69992 [00:55<00:00, 1254.48it/s]\n",
            "100%|██████████| 20000/20000 [00:00<00:00, 188288.87it/s]\n",
            "100%|██████████| 10008/10008 [00:00<00:00, 188887.21it/s]\n"
          ]
        }
      ],
      "source": [
        "for i in tqdm(range(len(trainData1))):\n",
        "    words = trainData1[i]\n",
        "    trainData1[i] = [wordToIdx[word] for word in words if word in wordToIdx.keys()]\n",
        "for i in tqdm(range(len(testData1))):\n",
        "    words = testData1[i]\n",
        "    testData1[i] = [wordToIdx[word] for word in words if word in wordToIdx.keys()]\n",
        "for i in tqdm(range(len(validData1))):\n",
        "    words = validData1[i]\n",
        "    validData1[i] = [wordToIdx[word] for word in words if word in wordToIdx.keys()]"
      ]
    },
    {
      "cell_type": "code",
      "execution_count": null,
      "metadata": {
        "colab": {
          "base_uri": "https://localhost:8080/"
        },
        "id": "ZgDAEYUj8QmH",
        "outputId": "eba38387-8661-47b2-8f46-63ece06b5bee"
      },
      "outputs": [
        {
          "name": "stdout",
          "output_type": "stream",
          "text": [
            "min len:  1\n",
            "max len:  20\n",
            "avg len:  6.980526345868099\n",
            "med len:  7.0\n",
            "vocab:  44842\n"
          ]
        }
      ],
      "source": [
        "sentLen = []\n",
        "vocab = set()\n",
        "for i in trainData:\n",
        "    sentLen.append(len(i))\n",
        "    for word in i:\n",
        "        vocab.add(word)\n",
        "print('min len: ', min(sentLen))\n",
        "print('max len: ', max(sentLen))\n",
        "print('avg len: ', np.mean(sentLen))\n",
        "print('med len: ', np.median(sentLen))\n",
        "print('vocab: ', len(vocab))"
      ]
    },
    {
      "cell_type": "code",
      "execution_count": null,
      "metadata": {
        "id": "5OIo3iqU8w84"
      },
      "outputs": [],
      "source": [
        "from keras.preprocessing import sequence"
      ]
    },
    {
      "cell_type": "code",
      "execution_count": null,
      "metadata": {
        "id": "gBcxNfVF8wwW"
      },
      "outputs": [],
      "source": [
        "X_train = sequence.pad_sequences(trainData1, maxlen=10)\n",
        "X_test = sequence.pad_sequences(testData1, maxlen=10)\n",
        "X_val = sequence.pad_sequences(validData1, maxlen=10)"
      ]
    },
    {
      "cell_type": "code",
      "execution_count": null,
      "metadata": {
        "id": "e830gf0u85C4"
      },
      "outputs": [],
      "source": [
        "from keras.utils import np_utils"
      ]
    },
    {
      "cell_type": "code",
      "execution_count": null,
      "metadata": {
        "id": "3Lw5gQ9P9Cdr"
      },
      "outputs": [],
      "source": [
        "trainLabels = np_utils.to_categorical(trainLabels, 20)\n",
        "testLabels = np_utils.to_categorical(testLabels, 20)\n",
        "validLabels = np_utils.to_categorical(validLabels, 20)"
      ]
    },
    {
      "cell_type": "code",
      "execution_count": null,
      "metadata": {
        "colab": {
          "base_uri": "https://localhost:8080/"
        },
        "id": "9BETxZxH9L-a",
        "outputId": "842b2fca-f7bc-43c7-8f77-ea030b3a22ec"
      },
      "outputs": [
        {
          "data": {
            "text/plain": [
              "((69992, 20), (20000, 20), (10008, 20))"
            ]
          },
          "execution_count": 25,
          "metadata": {},
          "output_type": "execute_result"
        }
      ],
      "source": [
        "trainLabels.shape, testLabels.shape, validLabels.shape"
      ]
    },
    {
      "cell_type": "code",
      "execution_count": null,
      "metadata": {
        "id": "uF8tqxaK9RmT"
      },
      "outputs": [],
      "source": [
        "from keras.models import Sequential\n",
        "from keras.layers import LSTM, RNN, Dense, Dropout, Embedding, RNN, Bidirectional, Add, merge, concatenate\n",
        "from keras.callbacks import EarlyStopping, ModelCheckpoint"
      ]
    },
    {
      "cell_type": "code",
      "execution_count": null,
      "metadata": {
        "colab": {
          "base_uri": "https://localhost:8080/"
        },
        "id": "wZCeY55B9TKK",
        "outputId": "56ea26f1-ebb6-44df-f436-d30be0987bae"
      },
      "outputs": [
        {
          "name": "stdout",
          "output_type": "stream",
          "text": [
            "Model: \"sequential\"\n",
            "_________________________________________________________________\n",
            " Layer (type)                Output Shape              Param #   \n",
            "=================================================================\n",
            " lstm (LSTM)                 (None, 64)                67840     \n",
            "                                                                 \n",
            " dropout (Dropout)           (None, 64)                0         \n",
            "                                                                 \n",
            " dense (Dense)               (None, 20)                1300      \n",
            "                                                                 \n",
            "=================================================================\n",
            "Total params: 69,140\n",
            "Trainable params: 69,140\n",
            "Non-trainable params: 0\n",
            "_________________________________________________________________\n",
            "Epoch 1/50\n",
            "545/547 [============================>.] - ETA: 0s - loss: 2.5629 - accuracy: 0.2664\n",
            "Epoch 00001: val_loss improved from inf to 2.41182, saving model to lstmBestLoss.h5\n",
            "\n",
            "Epoch 00001: val_accuracy improved from -inf to 0.29986, saving model to lsmtBestLoss.h5\n",
            "547/547 [==============================] - 16s 25ms/step - loss: 2.5626 - accuracy: 0.2664 - val_loss: 2.4118 - val_accuracy: 0.2999\n",
            "Epoch 2/50\n",
            "546/547 [============================>.] - ETA: 0s - loss: 2.4182 - accuracy: 0.3023\n",
            "Epoch 00002: val_loss improved from 2.41182 to 2.37631, saving model to lstmBestLoss.h5\n",
            "\n",
            "Epoch 00002: val_accuracy improved from 0.29986 to 0.30416, saving model to lsmtBestLoss.h5\n",
            "547/547 [==============================] - 13s 24ms/step - loss: 2.4180 - accuracy: 0.3023 - val_loss: 2.3763 - val_accuracy: 0.3042\n",
            "Epoch 3/50\n",
            "546/547 [============================>.] - ETA: 0s - loss: 2.3746 - accuracy: 0.3113\n",
            "Epoch 00003: val_loss improved from 2.37631 to 2.35817, saving model to lstmBestLoss.h5\n",
            "\n",
            "Epoch 00003: val_accuracy improved from 0.30416 to 0.31045, saving model to lsmtBestLoss.h5\n",
            "547/547 [==============================] - 13s 24ms/step - loss: 2.3749 - accuracy: 0.3112 - val_loss: 2.3582 - val_accuracy: 0.3105\n",
            "Epoch 4/50\n",
            "545/547 [============================>.] - ETA: 0s - loss: 2.3484 - accuracy: 0.3170\n",
            "Epoch 00004: val_loss improved from 2.35817 to 2.34639, saving model to lstmBestLoss.h5\n",
            "\n",
            "Epoch 00004: val_accuracy improved from 0.31045 to 0.31275, saving model to lsmtBestLoss.h5\n",
            "547/547 [==============================] - 13s 24ms/step - loss: 2.3481 - accuracy: 0.3171 - val_loss: 2.3464 - val_accuracy: 0.3127\n",
            "Epoch 5/50\n",
            "546/547 [============================>.] - ETA: 0s - loss: 2.3269 - accuracy: 0.3212\n",
            "Epoch 00005: val_loss improved from 2.34639 to 2.34150, saving model to lstmBestLoss.h5\n",
            "\n",
            "Epoch 00005: val_accuracy improved from 0.31275 to 0.31325, saving model to lsmtBestLoss.h5\n",
            "547/547 [==============================] - 13s 24ms/step - loss: 2.3270 - accuracy: 0.3212 - val_loss: 2.3415 - val_accuracy: 0.3132\n",
            "Epoch 6/50\n",
            "547/547 [==============================] - ETA: 0s - loss: 2.3070 - accuracy: 0.3256\n",
            "Epoch 00006: val_loss improved from 2.34150 to 2.33739, saving model to lstmBestLoss.h5\n",
            "\n",
            "Epoch 00006: val_accuracy improved from 0.31325 to 0.31505, saving model to lsmtBestLoss.h5\n",
            "547/547 [==============================] - 13s 25ms/step - loss: 2.3070 - accuracy: 0.3256 - val_loss: 2.3374 - val_accuracy: 0.3150\n",
            "Epoch 7/50\n",
            "546/547 [============================>.] - ETA: 0s - loss: 2.2879 - accuracy: 0.3306\n",
            "Epoch 00007: val_loss improved from 2.33739 to 2.33100, saving model to lstmBestLoss.h5\n",
            "\n",
            "Epoch 00007: val_accuracy improved from 0.31505 to 0.31705, saving model to lsmtBestLoss.h5\n",
            "547/547 [==============================] - 13s 25ms/step - loss: 2.2875 - accuracy: 0.3307 - val_loss: 2.3310 - val_accuracy: 0.3170\n",
            "Epoch 8/50\n",
            "546/547 [============================>.] - ETA: 0s - loss: 2.2687 - accuracy: 0.3340\n",
            "Epoch 00008: val_loss did not improve from 2.33100\n",
            "\n",
            "Epoch 00008: val_accuracy did not improve from 0.31705\n",
            "547/547 [==============================] - 13s 24ms/step - loss: 2.2685 - accuracy: 0.3342 - val_loss: 2.3383 - val_accuracy: 0.3153\n",
            "Epoch 9/50\n",
            "546/547 [============================>.] - ETA: 0s - loss: 2.2515 - accuracy: 0.3379\n",
            "Epoch 00009: val_loss did not improve from 2.33100\n",
            "\n",
            "Epoch 00009: val_accuracy did not improve from 0.31705\n",
            "547/547 [==============================] - 13s 25ms/step - loss: 2.2516 - accuracy: 0.3378 - val_loss: 2.3359 - val_accuracy: 0.3169\n",
            "Epoch 10/50\n",
            "546/547 [============================>.] - ETA: 0s - loss: 2.2345 - accuracy: 0.3421\n",
            "Epoch 00010: val_loss did not improve from 2.33100\n",
            "\n",
            "Epoch 00010: val_accuracy did not improve from 0.31705\n",
            "547/547 [==============================] - 13s 24ms/step - loss: 2.2345 - accuracy: 0.3421 - val_loss: 2.3472 - val_accuracy: 0.3144\n",
            "Epoch 11/50\n",
            "545/547 [============================>.] - ETA: 0s - loss: 2.2156 - accuracy: 0.3468\n",
            "Epoch 00011: val_loss did not improve from 2.33100\n",
            "\n",
            "Epoch 00011: val_accuracy did not improve from 0.31705\n",
            "547/547 [==============================] - 13s 24ms/step - loss: 2.2160 - accuracy: 0.3467 - val_loss: 2.3480 - val_accuracy: 0.3130\n",
            "Epoch 12/50\n",
            "545/547 [============================>.] - ETA: 0s - loss: 2.1997 - accuracy: 0.3518\n",
            "Epoch 00012: val_loss did not improve from 2.33100\n",
            "\n",
            "Epoch 00012: val_accuracy did not improve from 0.31705\n",
            "547/547 [==============================] - 13s 24ms/step - loss: 2.1995 - accuracy: 0.3519 - val_loss: 2.3580 - val_accuracy: 0.3165\n",
            "Epoch 13/50\n",
            "545/547 [============================>.] - ETA: 0s - loss: 2.1836 - accuracy: 0.3547\n",
            "Epoch 00013: val_loss did not improve from 2.33100\n",
            "\n",
            "Epoch 00013: val_accuracy did not improve from 0.31705\n",
            "547/547 [==============================] - 13s 24ms/step - loss: 2.1833 - accuracy: 0.3546 - val_loss: 2.3590 - val_accuracy: 0.3142\n",
            "Epoch 14/50\n",
            "546/547 [============================>.] - ETA: 0s - loss: 2.1687 - accuracy: 0.3593\n",
            "Epoch 00014: val_loss did not improve from 2.33100\n",
            "\n",
            "Epoch 00014: val_accuracy did not improve from 0.31705\n",
            "547/547 [==============================] - 13s 24ms/step - loss: 2.1689 - accuracy: 0.3593 - val_loss: 2.3637 - val_accuracy: 0.3117\n",
            "Epoch 15/50\n",
            "546/547 [============================>.] - ETA: 0s - loss: 2.1515 - accuracy: 0.3627\n",
            "Epoch 00015: val_loss did not improve from 2.33100\n",
            "\n",
            "Epoch 00015: val_accuracy did not improve from 0.31705\n",
            "547/547 [==============================] - 13s 24ms/step - loss: 2.1512 - accuracy: 0.3628 - val_loss: 2.3735 - val_accuracy: 0.3137\n",
            "Epoch 16/50\n",
            "547/547 [==============================] - ETA: 0s - loss: 2.1352 - accuracy: 0.3687\n",
            "Epoch 00016: val_loss did not improve from 2.33100\n",
            "\n",
            "Epoch 00016: val_accuracy did not improve from 0.31705\n",
            "547/547 [==============================] - 13s 24ms/step - loss: 2.1352 - accuracy: 0.3687 - val_loss: 2.3857 - val_accuracy: 0.3131\n",
            "Epoch 17/50\n",
            "545/547 [============================>.] - ETA: 0s - loss: 2.1192 - accuracy: 0.3724\n",
            "Epoch 00017: val_loss did not improve from 2.33100\n",
            "\n",
            "Epoch 00017: val_accuracy did not improve from 0.31705\n",
            "547/547 [==============================] - 13s 24ms/step - loss: 2.1195 - accuracy: 0.3723 - val_loss: 2.4043 - val_accuracy: 0.3094\n",
            "Epoch 00017: early stopping\n"
          ]
        }
      ],
      "source": [
        "model = Sequential()\n",
        "model.add(LSTM(64, input_shape=(10, 200))) #hidden state has 64 dims\n",
        "model.add(Dropout(0.5))\n",
        "model.add(Dense(20, activation='softmax'))\n",
        "model.compile(loss='categorical_crossentropy', optimizer='adam', metrics=['accuracy'])\n",
        "model.summary()\n",
        "checkPointLoss = ModelCheckpoint('lstmBestLoss.h5', monitor='val_loss', verbose=True, save_best_only=True)\n",
        "checkPointAcc = ModelCheckpoint('lsmtBestAcc.h5', monitor='val_accuracy', verbose=True, save_best_only=True)\n",
        "earlyStopping = EarlyStopping(monitor='val_accuracy', patience=10, verbose=True)\n",
        "hist = model.fit(embeddingMatrixTrain, trainLabels, epochs=50, batch_size=128,\n",
        "                 validation_data=(embeddingMatrixVal, validLabels), shuffle=True, callbacks=[checkPointLoss, checkPointAcc, earlyStopping])\n"
      ]
    },
    {
      "cell_type": "code",
      "execution_count": null,
      "metadata": {
        "colab": {
          "base_uri": "https://localhost:8080/",
          "height": 947
        },
        "id": "SR8MRd6cuf5K",
        "outputId": "b6a7a787-9063-4e4e-f3e4-79e0e7a04a38"
      },
      "outputs": [
        {
          "name": "stdout",
          "output_type": "stream",
          "text": [
            "625/625 [==============================] - 4s 5ms/step - loss: 2.3855 - accuracy: 0.3110\n",
            "625/625 [==============================] - 3s 5ms/step - loss: 2.3238 - accuracy: 0.3178\n"
          ]
        },
        {
          "name": "stderr",
          "output_type": "stream",
          "text": [
            "ERROR:root:Internal Python error in the inspect module.\n",
            "Below is the traceback from this internal error.\n",
            "\n"
          ]
        },
        {
          "name": "stdout",
          "output_type": "stream",
          "text": [
            "Traceback (most recent call last):\n",
            "  File \"/usr/local/lib/python3.7/dist-packages/IPython/core/interactiveshell.py\", line 2882, in run_code\n",
            "    exec(code_obj, self.user_global_ns, self.user_ns)\n",
            "  File \"<ipython-input-27-8ba6d2b5b697>\", line 4, in <module>\n",
            "    model.load_weights('lstmBestAcc.h5')\n",
            "  File \"/usr/local/lib/python3.7/dist-packages/keras/utils/traceback_utils.py\", line 67, in error_handler\n",
            "    raise e.with_traceback(filtered_tb) from None\n",
            "  File \"/usr/local/lib/python3.7/dist-packages/h5py/_hl/files.py\", line 427, in __init__\n",
            "    swmr=swmr)\n",
            "  File \"/usr/local/lib/python3.7/dist-packages/h5py/_hl/files.py\", line 190, in make_fid\n",
            "    fid = h5f.open(name, flags, fapl=fapl)\n",
            "  File \"h5py/_objects.pyx\", line 54, in h5py._objects.with_phil.wrapper\n",
            "  File \"h5py/_objects.pyx\", line 55, in h5py._objects.with_phil.wrapper\n",
            "  File \"h5py/h5f.pyx\", line 96, in h5py.h5f.open\n",
            "OSError: Unable to open file (unable to open file: name = 'lstmBestAcc.h5', errno = 2, error message = 'No such file or directory', flags = 0, o_flags = 0)\n",
            "\n",
            "During handling of the above exception, another exception occurred:\n",
            "\n",
            "Traceback (most recent call last):\n",
            "  File \"/usr/local/lib/python3.7/dist-packages/IPython/core/interactiveshell.py\", line 1823, in showtraceback\n",
            "    stb = value._render_traceback_()\n",
            "AttributeError: 'OSError' object has no attribute '_render_traceback_'\n",
            "\n",
            "During handling of the above exception, another exception occurred:\n",
            "\n",
            "Traceback (most recent call last):\n",
            "  File \"/usr/local/lib/python3.7/dist-packages/IPython/core/ultratb.py\", line 1132, in get_records\n",
            "    return _fixed_getinnerframes(etb, number_of_lines_of_context, tb_offset)\n",
            "  File \"/usr/local/lib/python3.7/dist-packages/IPython/core/ultratb.py\", line 313, in wrapped\n",
            "    return f(*args, **kwargs)\n",
            "  File \"/usr/local/lib/python3.7/dist-packages/IPython/core/ultratb.py\", line 358, in _fixed_getinnerframes\n",
            "    records = fix_frame_records_filenames(inspect.getinnerframes(etb, context))\n",
            "  File \"/usr/lib/python3.7/inspect.py\", line 1502, in getinnerframes\n",
            "    frameinfo = (tb.tb_frame,) + getframeinfo(tb, context)\n",
            "  File \"/usr/lib/python3.7/inspect.py\", line 1460, in getframeinfo\n",
            "    filename = getsourcefile(frame) or getfile(frame)\n",
            "  File \"/usr/lib/python3.7/inspect.py\", line 696, in getsourcefile\n",
            "    if getattr(getmodule(object, filename), '__loader__', None) is not None:\n",
            "  File \"/usr/lib/python3.7/inspect.py\", line 725, in getmodule\n",
            "    file = getabsfile(object, _filename)\n",
            "  File \"/usr/lib/python3.7/inspect.py\", line 709, in getabsfile\n",
            "    return os.path.normcase(os.path.abspath(_filename))\n",
            "  File \"/usr/lib/python3.7/posixpath.py\", line 383, in abspath\n",
            "    cwd = os.getcwd()\n",
            "FileNotFoundError: [Errno 2] No such file or directory\n"
          ]
        },
        {
          "ename": "OSError",
          "evalue": "ignored",
          "output_type": "error",
          "traceback": [
            "\u001b[0;31m---------------------------------------------------------------------------\u001b[0m"
          ]
        }
      ],
      "source": [
        "model.evaluate(embeddingMatrixTest, testLabels)\n",
        "model.load_weights('lstmBestLoss.h5')\n",
        "model.evaluate(embeddingMatrixTest, testLabels)\n",
        "model.load_weights('lstmBestAcc.h5')\n",
        "model.evaluate(embeddingMatrixTest, testLabels)"
      ]
    },
    {
      "cell_type": "code",
      "execution_count": null,
      "metadata": {
        "colab": {
          "base_uri": "https://localhost:8080/"
        },
        "id": "fgxS8yPGvMNQ",
        "outputId": "c6b5654b-9df7-48e3-d36b-aae06ea5d40a"
      },
      "outputs": [
        {
          "name": "stdout",
          "output_type": "stream",
          "text": [
            "Model: \"sequential\"\n",
            "_________________________________________________________________\n",
            " Layer (type)                Output Shape              Param #   \n",
            "=================================================================\n",
            " lstm (LSTM)                 (None, 100)               120400    \n",
            "                                                                 \n",
            " dropout (Dropout)           (None, 100)               0         \n",
            "                                                                 \n",
            " dense (Dense)               (None, 50)                5050      \n",
            "                                                                 \n",
            " dropout_1 (Dropout)         (None, 50)                0         \n",
            "                                                                 \n",
            " dense_1 (Dense)             (None, 20)                1020      \n",
            "                                                                 \n",
            "=================================================================\n",
            "Total params: 126,470\n",
            "Trainable params: 126,470\n",
            "Non-trainable params: 0\n",
            "_________________________________________________________________\n",
            "Epoch 1/50\n",
            "547/547 [==============================] - ETA: 0s - loss: 2.5954 - accuracy: 0.2596\n",
            "Epoch 00001: val_loss improved from inf to 2.45077, saving model to lstmBestLoss.h5\n",
            "\n",
            "Epoch 00001: val_accuracy improved from -inf to 0.29406, saving model to lsmtBestAcc.h5\n",
            "547/547 [==============================] - 12s 12ms/step - loss: 2.5954 - accuracy: 0.2596 - val_loss: 2.4508 - val_accuracy: 0.2941\n",
            "Epoch 2/50\n",
            "542/547 [============================>.] - ETA: 0s - loss: 2.4475 - accuracy: 0.2954\n",
            "Epoch 00002: val_loss improved from 2.45077 to 2.39758, saving model to lstmBestLoss.h5\n",
            "\n",
            "Epoch 00002: val_accuracy improved from 0.29406 to 0.30536, saving model to lsmtBestAcc.h5\n",
            "547/547 [==============================] - 5s 9ms/step - loss: 2.4471 - accuracy: 0.2953 - val_loss: 2.3976 - val_accuracy: 0.3054\n",
            "Epoch 3/50\n",
            "542/547 [============================>.] - ETA: 0s - loss: 2.4017 - accuracy: 0.3064\n",
            "Epoch 00003: val_loss improved from 2.39758 to 2.36902, saving model to lstmBestLoss.h5\n",
            "\n",
            "Epoch 00003: val_accuracy improved from 0.30536 to 0.30975, saving model to lsmtBestAcc.h5\n",
            "547/547 [==============================] - 5s 9ms/step - loss: 2.4018 - accuracy: 0.3063 - val_loss: 2.3690 - val_accuracy: 0.3098\n",
            "Epoch 4/50\n",
            "542/547 [============================>.] - ETA: 0s - loss: 2.3693 - accuracy: 0.3136\n",
            "Epoch 00004: val_loss improved from 2.36902 to 2.36495, saving model to lstmBestLoss.h5\n",
            "\n",
            "Epoch 00004: val_accuracy improved from 0.30975 to 0.31055, saving model to lsmtBestAcc.h5\n",
            "547/547 [==============================] - 5s 10ms/step - loss: 2.3694 - accuracy: 0.3136 - val_loss: 2.3649 - val_accuracy: 0.3106\n",
            "Epoch 5/50\n",
            "546/547 [============================>.] - ETA: 0s - loss: 2.3460 - accuracy: 0.3182\n",
            "Epoch 00005: val_loss improved from 2.36495 to 2.35261, saving model to lstmBestLoss.h5\n",
            "\n",
            "Epoch 00005: val_accuracy improved from 0.31055 to 0.31465, saving model to lsmtBestAcc.h5\n",
            "547/547 [==============================] - 5s 9ms/step - loss: 2.3459 - accuracy: 0.3183 - val_loss: 2.3526 - val_accuracy: 0.3146\n",
            "Epoch 6/50\n",
            "547/547 [==============================] - ETA: 0s - loss: 2.3214 - accuracy: 0.3246\n",
            "Epoch 00006: val_loss improved from 2.35261 to 2.34425, saving model to lstmBestLoss.h5\n",
            "\n",
            "Epoch 00006: val_accuracy improved from 0.31465 to 0.31715, saving model to lsmtBestAcc.h5\n",
            "547/547 [==============================] - 5s 10ms/step - loss: 2.3214 - accuracy: 0.3246 - val_loss: 2.3442 - val_accuracy: 0.3171\n",
            "Epoch 7/50\n",
            "543/547 [============================>.] - ETA: 0s - loss: 2.2965 - accuracy: 0.3304\n",
            "Epoch 00007: val_loss improved from 2.34425 to 2.34416, saving model to lstmBestLoss.h5\n",
            "\n",
            "Epoch 00007: val_accuracy did not improve from 0.31715\n",
            "547/547 [==============================] - 5s 10ms/step - loss: 2.2968 - accuracy: 0.3302 - val_loss: 2.3442 - val_accuracy: 0.3168\n",
            "Epoch 8/50\n",
            "543/547 [============================>.] - ETA: 0s - loss: 2.2750 - accuracy: 0.3348\n",
            "Epoch 00008: val_loss improved from 2.34416 to 2.34358, saving model to lstmBestLoss.h5\n",
            "\n",
            "Epoch 00008: val_accuracy did not improve from 0.31715\n",
            "547/547 [==============================] - 5s 9ms/step - loss: 2.2748 - accuracy: 0.3348 - val_loss: 2.3436 - val_accuracy: 0.3162\n",
            "Epoch 9/50\n",
            "545/547 [============================>.] - ETA: 0s - loss: 2.2514 - accuracy: 0.3420\n",
            "Epoch 00009: val_loss did not improve from 2.34358\n",
            "\n",
            "Epoch 00009: val_accuracy did not improve from 0.31715\n",
            "547/547 [==============================] - 5s 9ms/step - loss: 2.2517 - accuracy: 0.3418 - val_loss: 2.3492 - val_accuracy: 0.3148\n",
            "Epoch 10/50\n",
            "547/547 [==============================] - ETA: 0s - loss: 2.2242 - accuracy: 0.3486\n",
            "Epoch 00010: val_loss did not improve from 2.34358\n",
            "\n",
            "Epoch 00010: val_accuracy did not improve from 0.31715\n",
            "547/547 [==============================] - 5s 10ms/step - loss: 2.2242 - accuracy: 0.3486 - val_loss: 2.3601 - val_accuracy: 0.3114\n",
            "Epoch 11/50\n",
            "543/547 [============================>.] - ETA: 0s - loss: 2.2022 - accuracy: 0.3531\n",
            "Epoch 00011: val_loss did not improve from 2.34358\n",
            "\n",
            "Epoch 00011: val_accuracy did not improve from 0.31715\n",
            "547/547 [==============================] - 5s 9ms/step - loss: 2.2025 - accuracy: 0.3528 - val_loss: 2.3661 - val_accuracy: 0.3135\n",
            "Epoch 12/50\n",
            "543/547 [============================>.] - ETA: 0s - loss: 2.1767 - accuracy: 0.3596\n",
            "Epoch 00012: val_loss did not improve from 2.34358\n",
            "\n",
            "Epoch 00012: val_accuracy did not improve from 0.31715\n",
            "547/547 [==============================] - 5s 9ms/step - loss: 2.1766 - accuracy: 0.3596 - val_loss: 2.3938 - val_accuracy: 0.3125\n",
            "Epoch 13/50\n",
            "546/547 [============================>.] - ETA: 0s - loss: 2.1491 - accuracy: 0.3670\n",
            "Epoch 00013: val_loss did not improve from 2.34358\n",
            "\n",
            "Epoch 00013: val_accuracy did not improve from 0.31715\n",
            "547/547 [==============================] - 5s 9ms/step - loss: 2.1492 - accuracy: 0.3669 - val_loss: 2.4056 - val_accuracy: 0.3056\n",
            "Epoch 14/50\n",
            "547/547 [==============================] - ETA: 0s - loss: 2.1246 - accuracy: 0.3727\n",
            "Epoch 00014: val_loss did not improve from 2.34358\n",
            "\n",
            "Epoch 00014: val_accuracy did not improve from 0.31715\n",
            "547/547 [==============================] - 5s 10ms/step - loss: 2.1246 - accuracy: 0.3727 - val_loss: 2.4054 - val_accuracy: 0.3059\n",
            "Epoch 15/50\n",
            "544/547 [============================>.] - ETA: 0s - loss: 2.0957 - accuracy: 0.3805\n",
            "Epoch 00015: val_loss did not improve from 2.34358\n",
            "\n",
            "Epoch 00015: val_accuracy did not improve from 0.31715\n",
            "547/547 [==============================] - 5s 10ms/step - loss: 2.0958 - accuracy: 0.3805 - val_loss: 2.4429 - val_accuracy: 0.3036\n",
            "Epoch 16/50\n",
            "542/547 [============================>.] - ETA: 0s - loss: 2.0678 - accuracy: 0.3860\n",
            "Epoch 00016: val_loss did not improve from 2.34358\n",
            "\n",
            "Epoch 00016: val_accuracy did not improve from 0.31715\n",
            "547/547 [==============================] - 5s 9ms/step - loss: 2.0682 - accuracy: 0.3860 - val_loss: 2.4485 - val_accuracy: 0.3027\n",
            "Epoch 00016: early stopping\n"
          ]
        }
      ],
      "source": [
        "model = Sequential()\n",
        "model.add(LSTM(100, input_shape=(10, 200))) #hidden state has 64 dims\n",
        "model.add(Dropout(0.5))\n",
        "model.add(Dense(50, activation='relu'))\n",
        "model.add(Dropout(0.3))\n",
        "model.add(Dense(20, activation='softmax'))\n",
        "model.compile(loss='categorical_crossentropy', optimizer='adam', metrics=['accuracy'])\n",
        "model.summary()\n",
        "checkPointLoss = ModelCheckpoint('lstmBestLoss.h5', monitor='val_loss', verbose=True, save_best_only=True)\n",
        "checkPointAcc = ModelCheckpoint('lsmtBestAcc.h5', monitor='val_accuracy', verbose=True, save_best_only=True)\n",
        "earlyStopping = EarlyStopping(monitor='val_accuracy', patience=10, verbose=True)\n",
        "hist = model.fit(embeddingMatrixTrain, trainLabels, epochs=50, batch_size=128,\n",
        "                 validation_data=(embeddingMatrixVal, validLabels), shuffle=True, callbacks=[checkPointLoss, checkPointAcc, earlyStopping])\n"
      ]
    },
    {
      "cell_type": "code",
      "execution_count": null,
      "metadata": {
        "colab": {
          "base_uri": "https://localhost:8080/"
        },
        "id": "MQwOVKwMwHQj",
        "outputId": "727190f6-8705-4409-80eb-164e5e618b39"
      },
      "outputs": [
        {
          "name": "stdout",
          "output_type": "stream",
          "text": [
            "625/625 [==============================] - 3s 5ms/step - loss: 2.3325 - accuracy: 0.3181\n",
            "625/625 [==============================] - 3s 4ms/step - loss: 2.3317 - accuracy: 0.3194\n",
            "625/625 [==============================] - 3s 5ms/step - loss: 2.3325 - accuracy: 0.3181\n"
          ]
        },
        {
          "data": {
            "text/plain": [
              "[2.332508087158203, 0.3181000053882599]"
            ]
          },
          "execution_count": 41,
          "metadata": {},
          "output_type": "execute_result"
        }
      ],
      "source": [
        "model.evaluate(embeddingMatrixTest, testLabels)\n",
        "model.load_weights('lstmBestLoss.h5')\n",
        "model.evaluate(embeddingMatrixTest, testLabels)\n",
        "model.load_weights('lsmtBestAcc.h5')\n",
        "model.evaluate(embeddingMatrixTest, testLabels)"
      ]
    },
    {
      "cell_type": "code",
      "execution_count": null,
      "metadata": {
        "id": "8OP1NK_lGdLI"
      },
      "outputs": [],
      "source": [
        "import matplotlib.pyplot as plt"
      ]
    },
    {
      "cell_type": "code",
      "execution_count": null,
      "metadata": {
        "id": "s9QWt36_GpLW"
      },
      "outputs": [],
      "source": [
        "plt.style.use('seaborn')"
      ]
    },
    {
      "cell_type": "code",
      "execution_count": null,
      "metadata": {
        "colab": {
          "base_uri": "https://localhost:8080/",
          "height": 376
        },
        "id": "xunLl5qKGosX",
        "outputId": "f1f604cc-88e8-4540-c856-3ad0e70eb49f"
      },
      "outputs": [
        {
          "data": {
            "image/png": "[encoded data removed]",
            "text/plain": [
              "<Figure size 576x396 with 1 Axes>"
            ]
          },
          "metadata": {},
          "output_type": "display_data"
        }
      ],
      "source": [
        "plt.plot(hist.history['accuracy'], label='train accuracy', c='red')\n",
        "plt.plot(hist.history['val_accuracy'], label='validation accuracy')\n",
        "plt.xlabel('Accuracy')\n",
        "plt.ylabel('Epochs')\n",
        "plt.legend()\n",
        "plt.title('Accuracy vs Epochs for LSTM model')\n",
        "plt.show()"
      ]
    },
    {
      "cell_type": "code",
      "execution_count": null,
      "metadata": {
        "colab": {
          "base_uri": "https://localhost:8080/",
          "height": 376
        },
        "id": "CMyuHa8DGohM",
        "outputId": "6c7c46c7-b3ac-4938-8774-cb44b35cd18f"
      },
      "outputs": [
        {
          "data": {
            "image/png": "[encoded data removed]",
            "text/plain": [
              "<Figure size 576x396 with 1 Axes>"
            ]
          },
          "metadata": {},
          "output_type": "display_data"
        }
      ],
      "source": [
        "plt.plot(hist.history['loss'], label='train loss', c='red')\n",
        "plt.plot(hist.history['val_loss'], label='validation loss')\n",
        "plt.xlabel('Loss')\n",
        "plt.ylabel('Epochs')\n",
        "plt.legend()\n",
        "plt.title('Loss vs Epochs for LSTM model')\n",
        "plt.show()"
      ]
    },
    {
      "cell_type": "code",
      "execution_count": null,
      "metadata": {
        "id": "sJh7fABpGoXe"
      },
      "outputs": [],
      "source": [
        "from sklearn.metrics import classification_report"
      ]
    },
    {
      "cell_type": "code",
      "execution_count": null,
      "metadata": {
        "colab": {
          "base_uri": "https://localhost:8080/"
        },
        "id": "Qg8my7xEGoNI",
        "outputId": "38058dca-2efe-491b-9c2c-3e37be5d0a3e"
      },
      "outputs": [
        {
          "name": "stdout",
          "output_type": "stream",
          "text": [
            "              precision    recall  f1-score   support\n",
            "\n",
            "           0       0.29      0.80      0.43      4312\n",
            "           1       0.26      0.11      0.16      2022\n",
            "           2       0.33      0.51      0.40      1955\n",
            "           3       0.00      0.00      0.00      1099\n",
            "           4       0.39      0.44      0.41      1246\n",
            "           5       0.00      0.00      0.00       786\n",
            "           6       0.15      0.01      0.02       809\n",
            "           7       0.31      0.16      0.21       928\n",
            "           8       0.00      0.00      0.00       669\n",
            "           9       0.00      0.00      0.00       569\n",
            "          10       0.00      0.00      0.00       595\n",
            "          11       0.46      0.40      0.43       696\n",
            "          12       0.30      0.47      0.37       546\n",
            "          13       0.00      0.00      0.00       492\n",
            "          14       0.00      0.00      0.00       536\n",
            "          15       0.27      0.04      0.07       498\n",
            "          16       0.00      0.00      0.00       492\n",
            "          17       0.61      0.67      0.64       565\n",
            "          18       0.21      0.09      0.12       740\n",
            "          19       0.00      0.00      0.00       445\n",
            "\n",
            "    accuracy                           0.32     20000\n",
            "   macro avg       0.18      0.18      0.16     20000\n",
            "weighted avg       0.22      0.32      0.23     20000\n",
            "\n"
          ]
        },
        {
          "name": "stderr",
          "output_type": "stream",
          "text": [
            "/usr/local/lib/python3.7/dist-packages/sklearn/metrics/_classification.py:1308: UndefinedMetricWarning: Precision and F-score are ill-defined and being set to 0.0 in labels with no predicted samples. Use `zero_division` parameter to control this behavior.\n",
            "  _warn_prf(average, modifier, msg_start, len(result))\n",
            "/usr/local/lib/python3.7/dist-packages/sklearn/metrics/_classification.py:1308: UndefinedMetricWarning: Precision and F-score are ill-defined and being set to 0.0 in labels with no predicted samples. Use `zero_division` parameter to control this behavior.\n",
            "  _warn_prf(average, modifier, msg_start, len(result))\n",
            "/usr/local/lib/python3.7/dist-packages/sklearn/metrics/_classification.py:1308: UndefinedMetricWarning: Precision and F-score are ill-defined and being set to 0.0 in labels with no predicted samples. Use `zero_division` parameter to control this behavior.\n",
            "  _warn_prf(average, modifier, msg_start, len(result))\n"
          ]
        }
      ],
      "source": [
        "preds = model.predict(embeddingMatrixTest)\n",
        "preds = np.argmax(preds, axis=1)\n",
        "finalLabels = np.argmax(testLabels, axis=1)\n",
        "cr = classification_report(finalLabels, preds)\n",
        "print(cr)"
      ]
    },
    {
      "cell_type": "code",
      "execution_count": null,
      "metadata": {
        "colab": {
          "base_uri": "https://localhost:8080/"
        },
        "id": "xz7n_AYiGn9k",
        "outputId": "1559e8df-3b87-434a-826f-3177338cc267"
      },
      "outputs": [
        {
          "name": "stdout",
          "output_type": "stream",
          "text": [
            "              precision    recall  f1-score   support\n",
            "\n",
            "           0       0.29      0.81      0.43      2156\n",
            "           1       0.27      0.10      0.15      1011\n",
            "           2       0.33      0.49      0.40       978\n",
            "           3       0.00      0.00      0.00       549\n",
            "           4       0.37      0.43      0.40       624\n",
            "           5       0.00      0.00      0.00       393\n",
            "           6       0.15      0.01      0.02       405\n",
            "           7       0.33      0.17      0.23       465\n",
            "           8       0.00      0.00      0.00       335\n",
            "           9       0.00      0.00      0.00       285\n",
            "          10       0.00      0.00      0.00       298\n",
            "          11       0.46      0.40      0.43       348\n",
            "          12       0.30      0.44      0.36       273\n",
            "          13       0.00      0.00      0.00       246\n",
            "          14       0.00      0.00      0.00       269\n",
            "          15       0.14      0.02      0.04       250\n",
            "          16       0.00      0.00      0.00       246\n",
            "          17       0.61      0.70      0.65       283\n",
            "          18       0.20      0.08      0.11       371\n",
            "          19       0.00      0.00      0.00       223\n",
            "\n",
            "    accuracy                           0.32     10008\n",
            "   macro avg       0.17      0.18      0.16     10008\n",
            "weighted avg       0.22      0.32      0.23     10008\n",
            "\n"
          ]
        },
        {
          "name": "stderr",
          "output_type": "stream",
          "text": [
            "/usr/local/lib/python3.7/dist-packages/sklearn/metrics/_classification.py:1308: UndefinedMetricWarning: Precision and F-score are ill-defined and being set to 0.0 in labels with no predicted samples. Use `zero_division` parameter to control this behavior.\n",
            "  _warn_prf(average, modifier, msg_start, len(result))\n",
            "/usr/local/lib/python3.7/dist-packages/sklearn/metrics/_classification.py:1308: UndefinedMetricWarning: Precision and F-score are ill-defined and being set to 0.0 in labels with no predicted samples. Use `zero_division` parameter to control this behavior.\n",
            "  _warn_prf(average, modifier, msg_start, len(result))\n",
            "/usr/local/lib/python3.7/dist-packages/sklearn/metrics/_classification.py:1308: UndefinedMetricWarning: Precision and F-score are ill-defined and being set to 0.0 in labels with no predicted samples. Use `zero_division` parameter to control this behavior.\n",
            "  _warn_prf(average, modifier, msg_start, len(result))\n"
          ]
        }
      ],
      "source": [
        "preds = model.predict(embeddingMatrixVal)\n",
        "preds = np.argmax(preds, axis=1)\n",
        "finalLabels = np.argmax(validLabels, axis=1)\n",
        "cr = classification_report(finalLabels, preds)\n",
        "print(cr)"
      ]
    },
    {
      "cell_type": "code",
      "execution_count": null,
      "metadata": {
        "colab": {
          "base_uri": "https://localhost:8080/"
        },
        "id": "uqolbpQFJvgR",
        "outputId": "c040dbe8-8146-48cc-d4df-cd48ae1590e3"
      },
      "outputs": [
        {
          "name": "stdout",
          "output_type": "stream",
          "text": [
            "              precision    recall  f1-score   support\n",
            "\n",
            "           0       0.30      0.82      0.44     15090\n",
            "           1       0.35      0.14      0.20      7076\n",
            "           2       0.37      0.56      0.44      6842\n",
            "           3       0.00      0.00      0.00      3842\n",
            "           4       0.44      0.50      0.47      4363\n",
            "           5       0.00      0.00      0.00      2751\n",
            "           6       0.24      0.02      0.03      2831\n",
            "           7       0.40      0.21      0.27      3250\n",
            "           8       0.00      0.00      0.00      2341\n",
            "           9       0.00      0.00      0.00      1992\n",
            "          10       0.00      0.00      0.00      2083\n",
            "          11       0.55      0.49      0.52      2433\n",
            "          12       0.35      0.51      0.41      1908\n",
            "          13       0.00      0.00      0.00      1722\n",
            "          14       1.00      0.00      0.00      1878\n",
            "          15       0.36      0.07      0.11      1745\n",
            "          16       0.00      0.00      0.00      1721\n",
            "          17       0.61      0.70      0.65      1976\n",
            "          18       0.31      0.13      0.18      2592\n",
            "          19       0.00      0.00      0.00      1556\n",
            "\n",
            "    accuracy                           0.34     69992\n",
            "   macro avg       0.26      0.21      0.19     69992\n",
            "weighted avg       0.28      0.34      0.26     69992\n",
            "\n"
          ]
        },
        {
          "name": "stderr",
          "output_type": "stream",
          "text": [
            "/usr/local/lib/python3.7/dist-packages/sklearn/metrics/_classification.py:1308: UndefinedMetricWarning: Precision and F-score are ill-defined and being set to 0.0 in labels with no predicted samples. Use `zero_division` parameter to control this behavior.\n",
            "  _warn_prf(average, modifier, msg_start, len(result))\n",
            "/usr/local/lib/python3.7/dist-packages/sklearn/metrics/_classification.py:1308: UndefinedMetricWarning: Precision and F-score are ill-defined and being set to 0.0 in labels with no predicted samples. Use `zero_division` parameter to control this behavior.\n",
            "  _warn_prf(average, modifier, msg_start, len(result))\n",
            "/usr/local/lib/python3.7/dist-packages/sklearn/metrics/_classification.py:1308: UndefinedMetricWarning: Precision and F-score are ill-defined and being set to 0.0 in labels with no predicted samples. Use `zero_division` parameter to control this behavior.\n",
            "  _warn_prf(average, modifier, msg_start, len(result))\n"
          ]
        }
      ],
      "source": [
        "preds = model.predict(embeddingMatrixTrain)\n",
        "preds = np.argmax(preds, axis=1)\n",
        "finalLabels = np.argmax(trainLabels, axis=1)\n",
        "cr = classification_report(finalLabels, preds)\n",
        "print(cr)"
      ]
    },
    {
      "cell_type": "code",
      "execution_count": null,
      "metadata": {
        "colab": {
          "base_uri": "https://localhost:8080/"
        },
        "id": "NJDTpkJPHqFv",
        "outputId": "4f45248a-64b3-4347-e2cf-fd35bbe6b8e4"
      },
      "outputs": [
        {
          "name": "stdout",
          "output_type": "stream",
          "text": [
            "Model: \"sequential_3\"\n",
            "_________________________________________________________________\n",
            " Layer (type)                Output Shape              Param #   \n",
            "=================================================================\n",
            " lstm_4 (LSTM)               (None, 10, 100)           120400    \n",
            "                                                                 \n",
            " dropout_6 (Dropout)         (None, 10, 100)           0         \n",
            "                                                                 \n",
            " lstm_5 (LSTM)               (None, 10, 100)           80400     \n",
            "                                                                 \n",
            " dropout_7 (Dropout)         (None, 10, 100)           0         \n",
            "                                                                 \n",
            " lstm_6 (LSTM)               (None, 100)               80400     \n",
            "                                                                 \n",
            " dropout_8 (Dropout)         (None, 100)               0         \n",
            "                                                                 \n",
            " dense_4 (Dense)             (None, 50)                5050      \n",
            "                                                                 \n",
            " dropout_9 (Dropout)         (None, 50)                0         \n",
            "                                                                 \n",
            " dense_5 (Dense)             (None, 20)                1020      \n",
            "                                                                 \n",
            "=================================================================\n",
            "Total params: 287,270\n",
            "Trainable params: 287,270\n",
            "Non-trainable params: 0\n",
            "_________________________________________________________________\n",
            "Epoch 1/50\n",
            "546/547 [============================>.] - ETA: 0s - loss: 2.5855 - accuracy: 0.2640\n",
            "Epoch 00001: val_loss improved from inf to 2.43373, saving model to lstmBestLoss.h5\n",
            "\n",
            "Epoch 00001: val_accuracy improved from -inf to 0.29566, saving model to lsmtBestAcc.h5\n",
            "547/547 [==============================] - 19s 24ms/step - loss: 2.5853 - accuracy: 0.2640 - val_loss: 2.4337 - val_accuracy: 0.2957\n",
            "Epoch 2/50\n",
            "547/547 [==============================] - ETA: 0s - loss: 2.4471 - accuracy: 0.2979\n",
            "Epoch 00002: val_loss improved from 2.43373 to 2.39306, saving model to lstmBestLoss.h5\n",
            "\n",
            "Epoch 00002: val_accuracy improved from 0.29566 to 0.30685, saving model to lsmtBestAcc.h5\n",
            "547/547 [==============================] - 12s 22ms/step - loss: 2.4471 - accuracy: 0.2979 - val_loss: 2.3931 - val_accuracy: 0.3069\n",
            "Epoch 3/50\n",
            "546/547 [============================>.] - ETA: 0s - loss: 2.4067 - accuracy: 0.3056\n",
            "Epoch 00003: val_loss improved from 2.39306 to 2.36566, saving model to lstmBestLoss.h5\n",
            "\n",
            "Epoch 00003: val_accuracy improved from 0.30685 to 0.31445, saving model to lsmtBestAcc.h5\n",
            "547/547 [==============================] - 12s 22ms/step - loss: 2.4067 - accuracy: 0.3056 - val_loss: 2.3657 - val_accuracy: 0.3144\n",
            "Epoch 4/50\n",
            "546/547 [============================>.] - ETA: 0s - loss: 2.3741 - accuracy: 0.3155\n",
            "Epoch 00004: val_loss improved from 2.36566 to 2.35938, saving model to lstmBestLoss.h5\n",
            "\n",
            "Epoch 00004: val_accuracy did not improve from 0.31445\n",
            "547/547 [==============================] - 12s 21ms/step - loss: 2.3739 - accuracy: 0.3156 - val_loss: 2.3594 - val_accuracy: 0.3133\n",
            "Epoch 5/50\n",
            "545/547 [============================>.] - ETA: 0s - loss: 2.3513 - accuracy: 0.3221\n",
            "Epoch 00005: val_loss improved from 2.35938 to 2.35820, saving model to lstmBestLoss.h5\n",
            "\n",
            "Epoch 00005: val_accuracy improved from 0.31445 to 0.31625, saving model to lsmtBestAcc.h5\n",
            "547/547 [==============================] - 12s 22ms/step - loss: 2.3514 - accuracy: 0.3222 - val_loss: 2.3582 - val_accuracy: 0.3162\n",
            "Epoch 6/50\n",
            "545/547 [============================>.] - ETA: 0s - loss: 2.3265 - accuracy: 0.3258\n",
            "Epoch 00006: val_loss improved from 2.35820 to 2.35464, saving model to lstmBestLoss.h5\n",
            "\n",
            "Epoch 00006: val_accuracy improved from 0.31625 to 0.31635, saving model to lsmtBestAcc.h5\n",
            "547/547 [==============================] - 12s 22ms/step - loss: 2.3260 - accuracy: 0.3260 - val_loss: 2.3546 - val_accuracy: 0.3163\n",
            "Epoch 7/50\n",
            "546/547 [============================>.] - ETA: 0s - loss: 2.3013 - accuracy: 0.3322\n",
            "Epoch 00007: val_loss did not improve from 2.35464\n",
            "\n",
            "Epoch 00007: val_accuracy did not improve from 0.31635\n",
            "547/547 [==============================] - 11s 21ms/step - loss: 2.3014 - accuracy: 0.3321 - val_loss: 2.3609 - val_accuracy: 0.3153\n",
            "Epoch 8/50\n",
            "545/547 [============================>.] - ETA: 0s - loss: 2.2760 - accuracy: 0.3384\n",
            "Epoch 00008: val_loss did not improve from 2.35464\n",
            "\n",
            "Epoch 00008: val_accuracy did not improve from 0.31635\n",
            "547/547 [==============================] - 11s 21ms/step - loss: 2.2758 - accuracy: 0.3385 - val_loss: 2.3731 - val_accuracy: 0.3154\n",
            "Epoch 9/50\n",
            "547/547 [==============================] - ETA: 0s - loss: 2.2527 - accuracy: 0.3452\n",
            "Epoch 00009: val_loss did not improve from 2.35464\n",
            "\n",
            "Epoch 00009: val_accuracy did not improve from 0.31635\n",
            "547/547 [==============================] - 11s 20ms/step - loss: 2.2527 - accuracy: 0.3452 - val_loss: 2.3677 - val_accuracy: 0.3145\n",
            "Epoch 10/50\n",
            "547/547 [==============================] - ETA: 0s - loss: 2.2250 - accuracy: 0.3507\n",
            "Epoch 00010: val_loss did not improve from 2.35464\n",
            "\n",
            "Epoch 00010: val_accuracy did not improve from 0.31635\n",
            "547/547 [==============================] - 11s 20ms/step - loss: 2.2250 - accuracy: 0.3507 - val_loss: 2.3758 - val_accuracy: 0.3100\n",
            "Epoch 11/50\n",
            "547/547 [==============================] - ETA: 0s - loss: 2.1961 - accuracy: 0.3600\n",
            "Epoch 00011: val_loss did not improve from 2.35464\n",
            "\n",
            "Epoch 00011: val_accuracy did not improve from 0.31635\n",
            "547/547 [==============================] - 11s 20ms/step - loss: 2.1961 - accuracy: 0.3600 - val_loss: 2.4005 - val_accuracy: 0.3088\n",
            "Epoch 12/50\n",
            "547/547 [==============================] - ETA: 0s - loss: 2.1679 - accuracy: 0.3662\n",
            "Epoch 00012: val_loss did not improve from 2.35464\n",
            "\n",
            "Epoch 00012: val_accuracy did not improve from 0.31635\n",
            "547/547 [==============================] - 11s 20ms/step - loss: 2.1679 - accuracy: 0.3662 - val_loss: 2.4135 - val_accuracy: 0.3060\n",
            "Epoch 13/50\n",
            "546/547 [============================>.] - ETA: 0s - loss: 2.1394 - accuracy: 0.3751\n",
            "Epoch 00013: val_loss did not improve from 2.35464\n",
            "\n",
            "Epoch 00013: val_accuracy did not improve from 0.31635\n",
            "547/547 [==============================] - 11s 20ms/step - loss: 2.1394 - accuracy: 0.3750 - val_loss: 2.4242 - val_accuracy: 0.3052\n",
            "Epoch 14/50\n",
            "545/547 [============================>.] - ETA: 0s - loss: 2.1108 - accuracy: 0.3812\n",
            "Epoch 00014: val_loss did not improve from 2.35464\n",
            "\n",
            "Epoch 00014: val_accuracy did not improve from 0.31635\n",
            "547/547 [==============================] - 11s 21ms/step - loss: 2.1107 - accuracy: 0.3812 - val_loss: 2.4718 - val_accuracy: 0.3058\n",
            "Epoch 15/50\n",
            "546/547 [============================>.] - ETA: 0s - loss: 2.0820 - accuracy: 0.3875\n",
            "Epoch 00015: val_loss did not improve from 2.35464\n",
            "\n",
            "Epoch 00015: val_accuracy did not improve from 0.31635\n",
            "547/547 [==============================] - 11s 20ms/step - loss: 2.0820 - accuracy: 0.3875 - val_loss: 2.5049 - val_accuracy: 0.2972\n",
            "Epoch 16/50\n",
            "547/547 [==============================] - ETA: 0s - loss: 2.0535 - accuracy: 0.3953\n",
            "Epoch 00016: val_loss did not improve from 2.35464\n",
            "\n",
            "Epoch 00016: val_accuracy did not improve from 0.31635\n",
            "547/547 [==============================] - 11s 20ms/step - loss: 2.0535 - accuracy: 0.3953 - val_loss: 2.5085 - val_accuracy: 0.2990\n",
            "Epoch 00016: early stopping\n"
          ]
        }
      ],
      "source": [
        "model = Sequential()\n",
        "model.add(LSTM(100, input_shape=(10, 200), return_sequences=True)) #hidden state has 64 dims\n",
        "model.add(Dropout(0.5))\n",
        "model.add(LSTM(100, return_sequences=True))\n",
        "model.add(Dropout(0.5))\n",
        "model.add(LSTM(100))\n",
        "model.add(Dropout(0.5))\n",
        "model.add(Dense(50, activation='relu'))\n",
        "model.add(Dropout(0.3))\n",
        "model.add(Dense(20, activation='softmax'))\n",
        "model.compile(loss='categorical_crossentropy', optimizer='adam', metrics=['accuracy'])\n",
        "model.summary()\n",
        "checkPointLoss = ModelCheckpoint('lstmBestLoss.h5', monitor='val_loss', verbose=True, save_best_only=True)\n",
        "checkPointAcc = ModelCheckpoint('lsmtBestAcc.h5', monitor='val_accuracy', verbose=True, save_best_only=True)\n",
        "earlyStopping = EarlyStopping(monitor='val_accuracy', patience=10, verbose=True)\n",
        "hist = model.fit(embeddingMatrixTrain, trainLabels, epochs=50, batch_size=128,\n",
        "                 validation_data=(embeddingMatrixVal, validLabels), shuffle=True, callbacks=[checkPointLoss, checkPointAcc, earlyStopping])\n"
      ]
    },
    {
      "cell_type": "code",
      "execution_count": null,
      "metadata": {
        "colab": {
          "base_uri": "https://localhost:8080/"
        },
        "id": "5q_x7tUrHqO5",
        "outputId": "b17e7ffa-999e-47bd-f1e3-7a98c7a45bac"
      },
      "outputs": [
        {
          "name": "stdout",
          "output_type": "stream",
          "text": [
            "625/625 [==============================] - 4s 6ms/step - loss: 2.5117 - accuracy: 0.3041\n",
            "625/625 [==============================] - 4s 6ms/step - loss: 2.3314 - accuracy: 0.3178\n",
            "625/625 [==============================] - 4s 6ms/step - loss: 2.3314 - accuracy: 0.3178\n"
          ]
        },
        {
          "data": {
            "text/plain": [
              "[2.3313639163970947, 0.3178499937057495]"
            ]
          },
          "execution_count": 44,
          "metadata": {},
          "output_type": "execute_result"
        }
      ],
      "source": [
        "model.evaluate(embeddingMatrixTest, testLabels)\n",
        "model.load_weights('lstmBestLoss.h5')\n",
        "model.evaluate(embeddingMatrixTest, testLabels)\n",
        "model.load_weights('lsmtBestAcc.h5')\n",
        "model.evaluate(embeddingMatrixTest, testLabels)"
      ]
    },
    {
      "cell_type": "code",
      "execution_count": null,
      "metadata": {
        "id": "H082GMMk7HzO"
      },
      "outputs": [],
      "source": [
        "model = Sequential()\n",
        "model.add(Embedding(44843, 200, trainable=True))\n",
        "model.add(LSTM(100)) #hidden state has 64 dims\n",
        "model.add(Dropout(0.5))\n",
        "model.add(Dense(50, activation='relu'))\n",
        "model.add(Dropout(0.3))\n",
        "model.add(Dense(20, activation='softmax'))\n",
        "model.compile(loss='categorical_crossentropy', optimizer='adam', metrics=['accuracy'])\n",
        "model.summary()\n",
        "checkPointLoss = ModelCheckpoint('lstmBestLoss.h5', monitor='val_loss', verbose=True, save_best_only=True)\n",
        "checkPointAcc = ModelCheckpoint('lsmtBestAcc.h5', monitor='val_accuracy', verbose=True, save_best_only=True)\n",
        "earlyStopping = EarlyStopping(monitor='val_accuracy', patience=10, verbose=True)\n",
        "hist = model.fit(embeddingMatrixTrain, trainLabels, epochs=50, batch_size=128,\n",
        "                 validation_data=(embeddingMatrixVal, validLabels), shuffle=True, callbacks=[checkPointLoss, checkPointAcc, earlyStopping])\n"
      ]
    },
    {
      "cell_type": "code",
      "execution_count": null,
      "metadata": {
        "colab": {
          "base_uri": "https://localhost:8080/",
          "height": 1000
        },
        "id": "-MbJQ8WcxjD4",
        "outputId": "8a24eb77-3f1c-4da8-bff3-94db99420219"
      },
      "outputs": [
        {
          "name": "stdout",
          "output_type": "stream",
          "text": [
            "Model: \"sequential_2\"\n",
            "_________________________________________________________________\n",
            " Layer (type)                Output Shape              Param #   \n",
            "=================================================================\n",
            " lstm_2 (LSTM)               (None, 10, 100)           120400    \n",
            "                                                                 \n",
            " dropout_3 (Dropout)         (None, 10, 100)           0         \n",
            "                                                                 \n",
            " lstm_3 (LSTM)               (None, 10, 100)           80400     \n",
            "                                                                 \n",
            " dropout_4 (Dropout)         (None, 10, 100)           0         \n",
            "                                                                 \n",
            " lstm_4 (LSTM)               (None, 10, 100)           80400     \n",
            "                                                                 \n",
            " dropout_5 (Dropout)         (None, 10, 100)           0         \n",
            "                                                                 \n",
            " lstm_5 (LSTM)               (None, 10, 100)           80400     \n",
            "                                                                 \n",
            " dropout_6 (Dropout)         (None, 10, 100)           0         \n",
            "                                                                 \n",
            " lstm_6 (LSTM)               (None, 10, 100)           80400     \n",
            "                                                                 \n",
            " dropout_7 (Dropout)         (None, 10, 100)           0         \n",
            "                                                                 \n",
            " lstm_7 (LSTM)               (None, 10, 100)           80400     \n",
            "                                                                 \n",
            " dropout_8 (Dropout)         (None, 10, 100)           0         \n",
            "                                                                 \n",
            " lstm_8 (LSTM)               (None, 100)               80400     \n",
            "                                                                 \n",
            " dense_3 (Dense)             (None, 50)                5050      \n",
            "                                                                 \n",
            " dropout_9 (Dropout)         (None, 50)                0         \n",
            "                                                                 \n",
            " dense_4 (Dense)             (None, 20)                1020      \n",
            "                                                                 \n",
            "=================================================================\n",
            "Total params: 608,870\n",
            "Trainable params: 608,870\n",
            "Non-trainable params: 0\n",
            "_________________________________________________________________\n",
            "Epoch 1/50\n",
            "547/547 [==============================] - ETA: 0s - loss: 2.6785 - accuracy: 0.2298\n",
            "Epoch 00001: val_loss improved from inf to 2.55310, saving model to lstmBestLoss.h5\n",
            "\n",
            "Epoch 00001: val_accuracy improved from -inf to 0.26309, saving model to lsmtBestAcc.h5\n",
            "547/547 [==============================] - 143s 237ms/step - loss: 2.6785 - accuracy: 0.2298 - val_loss: 2.5531 - val_accuracy: 0.2631\n",
            "Epoch 2/50\n",
            "547/547 [==============================] - ETA: 0s - loss: 2.5241 - accuracy: 0.2780\n",
            "Epoch 00002: val_loss improved from 2.55310 to 2.46698, saving model to lstmBestLoss.h5\n",
            "\n",
            "Epoch 00002: val_accuracy improved from 0.26309 to 0.29107, saving model to lsmtBestAcc.h5\n",
            "547/547 [==============================] - 125s 229ms/step - loss: 2.5241 - accuracy: 0.2780 - val_loss: 2.4670 - val_accuracy: 0.2911\n",
            "Epoch 3/50\n",
            "547/547 [==============================] - ETA: 0s - loss: 2.4652 - accuracy: 0.2943\n",
            "Epoch 00003: val_loss improved from 2.46698 to 2.43671, saving model to lstmBestLoss.h5\n",
            "\n",
            "Epoch 00003: val_accuracy improved from 0.29107 to 0.30086, saving model to lsmtBestAcc.h5\n",
            "547/547 [==============================] - 126s 230ms/step - loss: 2.4652 - accuracy: 0.2943 - val_loss: 2.4367 - val_accuracy: 0.3009\n",
            "Epoch 4/50\n",
            "547/547 [==============================] - ETA: 0s - loss: 2.4345 - accuracy: 0.3023\n",
            "Epoch 00004: val_loss improved from 2.43671 to 2.41951, saving model to lstmBestLoss.h5\n",
            "\n",
            "Epoch 00004: val_accuracy improved from 0.30086 to 0.30386, saving model to lsmtBestAcc.h5\n",
            "547/547 [==============================] - 124s 227ms/step - loss: 2.4345 - accuracy: 0.3023 - val_loss: 2.4195 - val_accuracy: 0.3039\n",
            "Epoch 5/50\n",
            "547/547 [==============================] - ETA: 0s - loss: 2.4070 - accuracy: 0.3066\n",
            "Epoch 00005: val_loss improved from 2.41951 to 2.40884, saving model to lstmBestLoss.h5\n",
            "\n",
            "Epoch 00005: val_accuracy did not improve from 0.30386\n",
            "547/547 [==============================] - 125s 229ms/step - loss: 2.4070 - accuracy: 0.3066 - val_loss: 2.4088 - val_accuracy: 0.3012\n",
            "Epoch 6/50\n",
            "547/547 [==============================] - ETA: 0s - loss: 2.3817 - accuracy: 0.3124\n",
            "Epoch 00006: val_loss improved from 2.40884 to 2.40594, saving model to lstmBestLoss.h5\n",
            "\n",
            "Epoch 00006: val_accuracy improved from 0.30386 to 0.30735, saving model to lsmtBestAcc.h5\n",
            "547/547 [==============================] - 124s 227ms/step - loss: 2.3817 - accuracy: 0.3124 - val_loss: 2.4059 - val_accuracy: 0.3074\n",
            "Epoch 7/50\n",
            "547/547 [==============================] - ETA: 0s - loss: 2.3576 - accuracy: 0.3177\n",
            "Epoch 00007: val_loss improved from 2.40594 to 2.39076, saving model to lstmBestLoss.h5\n",
            "\n",
            "Epoch 00007: val_accuracy improved from 0.30735 to 0.31005, saving model to lsmtBestAcc.h5\n",
            "547/547 [==============================] - 124s 227ms/step - loss: 2.3576 - accuracy: 0.3177 - val_loss: 2.3908 - val_accuracy: 0.3101\n",
            "Epoch 8/50\n",
            "547/547 [==============================] - ETA: 0s - loss: 2.3297 - accuracy: 0.3254\n",
            "Epoch 00008: val_loss did not improve from 2.39076\n",
            "\n",
            "Epoch 00008: val_accuracy improved from 0.31005 to 0.31225, saving model to lsmtBestAcc.h5\n",
            "547/547 [==============================] - 122s 223ms/step - loss: 2.3297 - accuracy: 0.3254 - val_loss: 2.3917 - val_accuracy: 0.3123\n",
            "Epoch 9/50\n",
            "547/547 [==============================] - ETA: 0s - loss: 2.3083 - accuracy: 0.3299\n",
            "Epoch 00009: val_loss did not improve from 2.39076\n",
            "\n",
            "Epoch 00009: val_accuracy did not improve from 0.31225\n",
            "547/547 [==============================] - 120s 220ms/step - loss: 2.3083 - accuracy: 0.3299 - val_loss: 2.4044 - val_accuracy: 0.3114\n",
            "Epoch 10/50\n",
            "547/547 [==============================] - ETA: 0s - loss: 2.2816 - accuracy: 0.3377\n",
            "Epoch 00010: val_loss did not improve from 2.39076\n",
            "\n",
            "Epoch 00010: val_accuracy did not improve from 0.31225\n",
            "547/547 [==============================] - 122s 223ms/step - loss: 2.2816 - accuracy: 0.3377 - val_loss: 2.4164 - val_accuracy: 0.3108\n",
            "Epoch 11/50\n",
            "547/547 [==============================] - ETA: 0s - loss: 2.2600 - accuracy: 0.3431\n",
            "Epoch 00011: val_loss did not improve from 2.39076\n",
            "\n",
            "Epoch 00011: val_accuracy did not improve from 0.31225\n",
            "547/547 [==============================] - 121s 222ms/step - loss: 2.2600 - accuracy: 0.3431 - val_loss: 2.4275 - val_accuracy: 0.3040\n",
            "Epoch 12/50\n",
            "547/547 [==============================] - ETA: 0s - loss: 2.2332 - accuracy: 0.3489\n",
            "Epoch 00012: val_loss did not improve from 2.39076\n",
            "\n",
            "Epoch 00012: val_accuracy did not improve from 0.31225\n",
            "547/547 [==============================] - 119s 218ms/step - loss: 2.2332 - accuracy: 0.3489 - val_loss: 2.4418 - val_accuracy: 0.3089\n",
            "Epoch 13/50\n",
            "547/547 [==============================] - ETA: 0s - loss: 2.2114 - accuracy: 0.3555\n",
            "Epoch 00013: val_loss did not improve from 2.39076\n",
            "\n",
            "Epoch 00013: val_accuracy did not improve from 0.31225\n",
            "547/547 [==============================] - 120s 219ms/step - loss: 2.2114 - accuracy: 0.3555 - val_loss: 2.4402 - val_accuracy: 0.3046\n",
            "Epoch 14/50\n",
            "547/547 [==============================] - ETA: 0s - loss: 2.1891 - accuracy: 0.3612\n",
            "Epoch 00014: val_loss did not improve from 2.39076\n",
            "\n",
            "Epoch 00014: val_accuracy did not improve from 0.31225\n",
            "547/547 [==============================] - 122s 222ms/step - loss: 2.1891 - accuracy: 0.3612 - val_loss: 2.4857 - val_accuracy: 0.3033\n",
            "Epoch 15/50\n",
            "547/547 [==============================] - ETA: 0s - loss: 2.1655 - accuracy: 0.3666\n",
            "Epoch 00015: val_loss did not improve from 2.39076\n",
            "\n",
            "Epoch 00015: val_accuracy did not improve from 0.31225\n",
            "547/547 [==============================] - 123s 224ms/step - loss: 2.1655 - accuracy: 0.3666 - val_loss: 2.4902 - val_accuracy: 0.2999\n",
            "Epoch 16/50\n",
            "275/547 [==============>...............] - ETA: 59s - loss: 2.1351 - accuracy: 0.3724"
          ]
        },
        {
          "ename": "KeyboardInterrupt",
          "evalue": "ignored",
          "output_type": "error",
          "traceback": [
            "\u001b[0;31m---------------------------------------------------------------------------\u001b[0m",
            "\u001b[0;31mKeyboardInterrupt\u001b[0m                         Traceback (most recent call last)",
            "\u001b[0;32m<ipython-input-34-22104032914f>\u001b[0m in \u001b[0;36m<module>\u001b[0;34m()\u001b[0m\n\u001b[1;32m     22\u001b[0m \u001b[0mearlyStopping\u001b[0m \u001b[0;34m=\u001b[0m \u001b[0mEarlyStopping\u001b[0m\u001b[0;34m(\u001b[0m\u001b[0mmonitor\u001b[0m\u001b[0;34m=\u001b[0m\u001b[0;34m'val_accuracy'\u001b[0m\u001b[0;34m,\u001b[0m \u001b[0mpatience\u001b[0m\u001b[0;34m=\u001b[0m\u001b[0;36m10\u001b[0m\u001b[0;34m,\u001b[0m \u001b[0mverbose\u001b[0m\u001b[0;34m=\u001b[0m\u001b[0;32mTrue\u001b[0m\u001b[0;34m)\u001b[0m\u001b[0;34m\u001b[0m\u001b[0;34m\u001b[0m\u001b[0m\n\u001b[1;32m     23\u001b[0m hist = model.fit(embeddingMatrixTrain, trainLabels, epochs=50, batch_size=128,\n\u001b[0;32m---> 24\u001b[0;31m                  validation_data=(embeddingMatrixVal, validLabels), shuffle=True, callbacks=[checkPointLoss, checkPointAcc, earlyStopping])\n\u001b[0m",
            "\u001b[0;32m/usr/local/lib/python3.7/dist-packages/keras/utils/traceback_utils.py\u001b[0m in \u001b[0;36merror_handler\u001b[0;34m(*args, **kwargs)\u001b[0m\n\u001b[1;32m     62\u001b[0m     \u001b[0mfiltered_tb\u001b[0m \u001b[0;34m=\u001b[0m \u001b[0;32mNone\u001b[0m\u001b[0;34m\u001b[0m\u001b[0;34m\u001b[0m\u001b[0m\n\u001b[1;32m     63\u001b[0m     \u001b[0;32mtry\u001b[0m\u001b[0;34m:\u001b[0m\u001b[0;34m\u001b[0m\u001b[0;34m\u001b[0m\u001b[0m\n\u001b[0;32m---> 64\u001b[0;31m       \u001b[0;32mreturn\u001b[0m \u001b[0mfn\u001b[0m\u001b[0;34m(\u001b[0m\u001b[0;34m*\u001b[0m\u001b[0margs\u001b[0m\u001b[0;34m,\u001b[0m \u001b[0;34m**\u001b[0m\u001b[0mkwargs\u001b[0m\u001b[0;34m)\u001b[0m\u001b[0;34m\u001b[0m\u001b[0;34m\u001b[0m\u001b[0m\n\u001b[0m\u001b[1;32m     65\u001b[0m     \u001b[0;32mexcept\u001b[0m \u001b[0mException\u001b[0m \u001b[0;32mas\u001b[0m \u001b[0me\u001b[0m\u001b[0;34m:\u001b[0m  \u001b[0;31m# pylint: disable=broad-except\u001b[0m\u001b[0;34m\u001b[0m\u001b[0;34m\u001b[0m\u001b[0m\n\u001b[1;32m     66\u001b[0m       \u001b[0mfiltered_tb\u001b[0m \u001b[0;34m=\u001b[0m \u001b[0m_process_traceback_frames\u001b[0m\u001b[0;34m(\u001b[0m\u001b[0me\u001b[0m\u001b[0;34m.\u001b[0m\u001b[0m__traceback__\u001b[0m\u001b[0;34m)\u001b[0m\u001b[0;34m\u001b[0m\u001b[0;34m\u001b[0m\u001b[0m\n",
            "\u001b[0;32m/usr/local/lib/python3.7/dist-packages/keras/engine/training.py\u001b[0m in \u001b[0;36mfit\u001b[0;34m(self, x, y, batch_size, epochs, verbose, callbacks, validation_split, validation_data, shuffle, class_weight, sample_weight, initial_epoch, steps_per_epoch, validation_steps, validation_batch_size, validation_freq, max_queue_size, workers, use_multiprocessing)\u001b[0m\n\u001b[1;32m   1214\u001b[0m                 _r=1):\n\u001b[1;32m   1215\u001b[0m               \u001b[0mcallbacks\u001b[0m\u001b[0;34m.\u001b[0m\u001b[0mon_train_batch_begin\u001b[0m\u001b[0;34m(\u001b[0m\u001b[0mstep\u001b[0m\u001b[0;34m)\u001b[0m\u001b[0;34m\u001b[0m\u001b[0;34m\u001b[0m\u001b[0m\n\u001b[0;32m-> 1216\u001b[0;31m               \u001b[0mtmp_logs\u001b[0m \u001b[0;34m=\u001b[0m \u001b[0mself\u001b[0m\u001b[0;34m.\u001b[0m\u001b[0mtrain_function\u001b[0m\u001b[0;34m(\u001b[0m\u001b[0miterator\u001b[0m\u001b[0;34m)\u001b[0m\u001b[0;34m\u001b[0m\u001b[0;34m\u001b[0m\u001b[0m\n\u001b[0m\u001b[1;32m   1217\u001b[0m               \u001b[0;32mif\u001b[0m \u001b[0mdata_handler\u001b[0m\u001b[0;34m.\u001b[0m\u001b[0mshould_sync\u001b[0m\u001b[0;34m:\u001b[0m\u001b[0;34m\u001b[0m\u001b[0;34m\u001b[0m\u001b[0m\n\u001b[1;32m   1218\u001b[0m                 \u001b[0mcontext\u001b[0m\u001b[0;34m.\u001b[0m\u001b[0masync_wait\u001b[0m\u001b[0;34m(\u001b[0m\u001b[0;34m)\u001b[0m\u001b[0;34m\u001b[0m\u001b[0;34m\u001b[0m\u001b[0m\n",
            "\u001b[0;32m/usr/local/lib/python3.7/dist-packages/tensorflow/python/util/traceback_utils.py\u001b[0m in \u001b[0;36merror_handler\u001b[0;34m(*args, **kwargs)\u001b[0m\n\u001b[1;32m    148\u001b[0m     \u001b[0mfiltered_tb\u001b[0m \u001b[0;34m=\u001b[0m \u001b[0;32mNone\u001b[0m\u001b[0;34m\u001b[0m\u001b[0;34m\u001b[0m\u001b[0m\n\u001b[1;32m    149\u001b[0m     \u001b[0;32mtry\u001b[0m\u001b[0;34m:\u001b[0m\u001b[0;34m\u001b[0m\u001b[0;34m\u001b[0m\u001b[0m\n\u001b[0;32m--> 150\u001b[0;31m       \u001b[0;32mreturn\u001b[0m \u001b[0mfn\u001b[0m\u001b[0;34m(\u001b[0m\u001b[0;34m*\u001b[0m\u001b[0margs\u001b[0m\u001b[0;34m,\u001b[0m \u001b[0;34m**\u001b[0m\u001b[0mkwargs\u001b[0m\u001b[0;34m)\u001b[0m\u001b[0;34m\u001b[0m\u001b[0;34m\u001b[0m\u001b[0m\n\u001b[0m\u001b[1;32m    151\u001b[0m     \u001b[0;32mexcept\u001b[0m \u001b[0mException\u001b[0m \u001b[0;32mas\u001b[0m \u001b[0me\u001b[0m\u001b[0;34m:\u001b[0m\u001b[0;34m\u001b[0m\u001b[0;34m\u001b[0m\u001b[0m\n\u001b[1;32m    152\u001b[0m       \u001b[0mfiltered_tb\u001b[0m \u001b[0;34m=\u001b[0m \u001b[0m_process_traceback_frames\u001b[0m\u001b[0;34m(\u001b[0m\u001b[0me\u001b[0m\u001b[0;34m.\u001b[0m\u001b[0m__traceback__\u001b[0m\u001b[0;34m)\u001b[0m\u001b[0;34m\u001b[0m\u001b[0;34m\u001b[0m\u001b[0m\n",
            "\u001b[0;32m/usr/local/lib/python3.7/dist-packages/tensorflow/python/eager/def_function.py\u001b[0m in \u001b[0;36m__call__\u001b[0;34m(self, *args, **kwds)\u001b[0m\n\u001b[1;32m    908\u001b[0m \u001b[0;34m\u001b[0m\u001b[0m\n\u001b[1;32m    909\u001b[0m       \u001b[0;32mwith\u001b[0m \u001b[0mOptionalXlaContext\u001b[0m\u001b[0;34m(\u001b[0m\u001b[0mself\u001b[0m\u001b[0;34m.\u001b[0m\u001b[0m_jit_compile\u001b[0m\u001b[0;34m)\u001b[0m\u001b[0;34m:\u001b[0m\u001b[0;34m\u001b[0m\u001b[0;34m\u001b[0m\u001b[0m\n\u001b[0;32m--> 910\u001b[0;31m         \u001b[0mresult\u001b[0m \u001b[0;34m=\u001b[0m \u001b[0mself\u001b[0m\u001b[0;34m.\u001b[0m\u001b[0m_call\u001b[0m\u001b[0;34m(\u001b[0m\u001b[0;34m*\u001b[0m\u001b[0margs\u001b[0m\u001b[0;34m,\u001b[0m \u001b[0;34m**\u001b[0m\u001b[0mkwds\u001b[0m\u001b[0;34m)\u001b[0m\u001b[0;34m\u001b[0m\u001b[0;34m\u001b[0m\u001b[0m\n\u001b[0m\u001b[1;32m    911\u001b[0m \u001b[0;34m\u001b[0m\u001b[0m\n\u001b[1;32m    912\u001b[0m       \u001b[0mnew_tracing_count\u001b[0m \u001b[0;34m=\u001b[0m \u001b[0mself\u001b[0m\u001b[0;34m.\u001b[0m\u001b[0mexperimental_get_tracing_count\u001b[0m\u001b[0;34m(\u001b[0m\u001b[0;34m)\u001b[0m\u001b[0;34m\u001b[0m\u001b[0;34m\u001b[0m\u001b[0m\n",
            "\u001b[0;32m/usr/local/lib/python3.7/dist-packages/tensorflow/python/eager/def_function.py\u001b[0m in \u001b[0;36m_call\u001b[0;34m(self, *args, **kwds)\u001b[0m\n\u001b[1;32m    940\u001b[0m       \u001b[0;31m# In this case we have created variables on the first call, so we run the\u001b[0m\u001b[0;34m\u001b[0m\u001b[0;34m\u001b[0m\u001b[0;34m\u001b[0m\u001b[0m\n\u001b[1;32m    941\u001b[0m       \u001b[0;31m# defunned version which is guaranteed to never create variables.\u001b[0m\u001b[0;34m\u001b[0m\u001b[0;34m\u001b[0m\u001b[0;34m\u001b[0m\u001b[0m\n\u001b[0;32m--> 942\u001b[0;31m       \u001b[0;32mreturn\u001b[0m \u001b[0mself\u001b[0m\u001b[0;34m.\u001b[0m\u001b[0m_stateless_fn\u001b[0m\u001b[0;34m(\u001b[0m\u001b[0;34m*\u001b[0m\u001b[0margs\u001b[0m\u001b[0;34m,\u001b[0m \u001b[0;34m**\u001b[0m\u001b[0mkwds\u001b[0m\u001b[0;34m)\u001b[0m  \u001b[0;31m# pylint: disable=not-callable\u001b[0m\u001b[0;34m\u001b[0m\u001b[0;34m\u001b[0m\u001b[0m\n\u001b[0m\u001b[1;32m    943\u001b[0m     \u001b[0;32melif\u001b[0m \u001b[0mself\u001b[0m\u001b[0;34m.\u001b[0m\u001b[0m_stateful_fn\u001b[0m \u001b[0;32mis\u001b[0m \u001b[0;32mnot\u001b[0m \u001b[0;32mNone\u001b[0m\u001b[0;34m:\u001b[0m\u001b[0;34m\u001b[0m\u001b[0;34m\u001b[0m\u001b[0m\n\u001b[1;32m    944\u001b[0m       \u001b[0;31m# Release the lock early so that multiple threads can perform the call\u001b[0m\u001b[0;34m\u001b[0m\u001b[0;34m\u001b[0m\u001b[0;34m\u001b[0m\u001b[0m\n",
            "\u001b[0;32m/usr/local/lib/python3.7/dist-packages/tensorflow/python/eager/function.py\u001b[0m in \u001b[0;36m__call__\u001b[0;34m(self, *args, **kwargs)\u001b[0m\n\u001b[1;32m   3129\u001b[0m        filtered_flat_args) = self._maybe_define_function(args, kwargs)\n\u001b[1;32m   3130\u001b[0m     return graph_function._call_flat(\n\u001b[0;32m-> 3131\u001b[0;31m         filtered_flat_args, captured_inputs=graph_function.captured_inputs)  # pylint: disable=protected-access\n\u001b[0m\u001b[1;32m   3132\u001b[0m \u001b[0;34m\u001b[0m\u001b[0m\n\u001b[1;32m   3133\u001b[0m   \u001b[0;34m@\u001b[0m\u001b[0mproperty\u001b[0m\u001b[0;34m\u001b[0m\u001b[0;34m\u001b[0m\u001b[0m\n",
            "\u001b[0;32m/usr/local/lib/python3.7/dist-packages/tensorflow/python/eager/function.py\u001b[0m in \u001b[0;36m_call_flat\u001b[0;34m(self, args, captured_inputs, cancellation_manager)\u001b[0m\n\u001b[1;32m   1958\u001b[0m       \u001b[0;31m# No tape is watching; skip to running the function.\u001b[0m\u001b[0;34m\u001b[0m\u001b[0;34m\u001b[0m\u001b[0;34m\u001b[0m\u001b[0m\n\u001b[1;32m   1959\u001b[0m       return self._build_call_outputs(self._inference_function.call(\n\u001b[0;32m-> 1960\u001b[0;31m           ctx, args, cancellation_manager=cancellation_manager))\n\u001b[0m\u001b[1;32m   1961\u001b[0m     forward_backward = self._select_forward_and_backward_functions(\n\u001b[1;32m   1962\u001b[0m         \u001b[0margs\u001b[0m\u001b[0;34m,\u001b[0m\u001b[0;34m\u001b[0m\u001b[0;34m\u001b[0m\u001b[0m\n",
            "\u001b[0;32m/usr/local/lib/python3.7/dist-packages/tensorflow/python/eager/function.py\u001b[0m in \u001b[0;36mcall\u001b[0;34m(self, ctx, args, cancellation_manager)\u001b[0m\n\u001b[1;32m    601\u001b[0m               \u001b[0minputs\u001b[0m\u001b[0;34m=\u001b[0m\u001b[0margs\u001b[0m\u001b[0;34m,\u001b[0m\u001b[0;34m\u001b[0m\u001b[0;34m\u001b[0m\u001b[0m\n\u001b[1;32m    602\u001b[0m               \u001b[0mattrs\u001b[0m\u001b[0;34m=\u001b[0m\u001b[0mattrs\u001b[0m\u001b[0;34m,\u001b[0m\u001b[0;34m\u001b[0m\u001b[0;34m\u001b[0m\u001b[0m\n\u001b[0;32m--> 603\u001b[0;31m               ctx=ctx)\n\u001b[0m\u001b[1;32m    604\u001b[0m         \u001b[0;32melse\u001b[0m\u001b[0;34m:\u001b[0m\u001b[0;34m\u001b[0m\u001b[0;34m\u001b[0m\u001b[0m\n\u001b[1;32m    605\u001b[0m           outputs = execute.execute_with_cancellation(\n",
            "\u001b[0;32m/usr/local/lib/python3.7/dist-packages/tensorflow/python/eager/execute.py\u001b[0m in \u001b[0;36mquick_execute\u001b[0;34m(op_name, num_outputs, inputs, attrs, ctx, name)\u001b[0m\n\u001b[1;32m     57\u001b[0m     \u001b[0mctx\u001b[0m\u001b[0;34m.\u001b[0m\u001b[0mensure_initialized\u001b[0m\u001b[0;34m(\u001b[0m\u001b[0;34m)\u001b[0m\u001b[0;34m\u001b[0m\u001b[0;34m\u001b[0m\u001b[0m\n\u001b[1;32m     58\u001b[0m     tensors = pywrap_tfe.TFE_Py_Execute(ctx._handle, device_name, op_name,\n\u001b[0;32m---> 59\u001b[0;31m                                         inputs, attrs, num_outputs)\n\u001b[0m\u001b[1;32m     60\u001b[0m   \u001b[0;32mexcept\u001b[0m \u001b[0mcore\u001b[0m\u001b[0;34m.\u001b[0m\u001b[0m_NotOkStatusException\u001b[0m \u001b[0;32mas\u001b[0m \u001b[0me\u001b[0m\u001b[0;34m:\u001b[0m\u001b[0;34m\u001b[0m\u001b[0;34m\u001b[0m\u001b[0m\n\u001b[1;32m     61\u001b[0m     \u001b[0;32mif\u001b[0m \u001b[0mname\u001b[0m \u001b[0;32mis\u001b[0m \u001b[0;32mnot\u001b[0m \u001b[0;32mNone\u001b[0m\u001b[0;34m:\u001b[0m\u001b[0;34m\u001b[0m\u001b[0;34m\u001b[0m\u001b[0m\n",
            "\u001b[0;31mKeyboardInterrupt\u001b[0m: "
          ]
        }
      ],
      "source": [
        "model = Sequential()\n",
        "model.add(LSTM(100, input_shape=(10, 200), return_sequences=True)) #hidden state has 64 dims\n",
        "model.add(Dropout(0.5))\n",
        "model.add(LSTM(100, return_sequences=True)) \n",
        "model.add(Dropout(0.5))\n",
        "model.add(LSTM(100, return_sequences=True)) \n",
        "model.add(Dropout(0.5))\n",
        "model.add(LSTM(100, return_sequences=True)) \n",
        "model.add(Dropout(0.5))\n",
        "model.add(LSTM(100, return_sequences=True)) \n",
        "model.add(Dropout(0.5))\n",
        "model.add(LSTM(100, return_sequences=True)) \n",
        "model.add(Dropout(0.5))\n",
        "model.add(LSTM(100))\n",
        "model.add(Dense(50, activation='relu'))\n",
        "model.add(Dropout(0.3))\n",
        "model.add(Dense(20, activation='softmax'))\n",
        "model.compile(loss='categorical_crossentropy', optimizer='adam', metrics=['accuracy'])\n",
        "model.summary()\n",
        "checkPointLoss = ModelCheckpoint('lstmBestLoss.h5', monitor='val_loss', verbose=True, save_best_only=True)\n",
        "checkPointAcc = ModelCheckpoint('lsmtBestAcc.h5', monitor='val_accuracy', verbose=True, save_best_only=True)\n",
        "earlyStopping = EarlyStopping(monitor='val_accuracy', patience=10, verbose=True)\n",
        "hist = model.fit(embeddingMatrixTrain, trainLabels, epochs=50, batch_size=128,\n",
        "                 validation_data=(embeddingMatrixVal, validLabels), shuffle=True, callbacks=[checkPointLoss, checkPointAcc, earlyStopping])\n"
      ]
    },
    {
      "cell_type": "code",
      "execution_count": null,
      "metadata": {
        "colab": {
          "base_uri": "https://localhost:8080/"
        },
        "id": "8kD4zxTOxivL",
        "outputId": "6f1ef9ef-1f32-4c7a-b039-2d58e37320bd"
      },
      "outputs": [
        {
          "name": "stdout",
          "output_type": "stream",
          "text": [
            "625/625 [==============================] - 17s 23ms/step - loss: 2.4830 - accuracy: 0.3018\n",
            "625/625 [==============================] - 14s 22ms/step - loss: 2.3859 - accuracy: 0.3137\n",
            "625/625 [==============================] - 15s 24ms/step - loss: 2.3875 - accuracy: 0.3130\n"
          ]
        },
        {
          "data": {
            "text/plain": [
              "[2.387470006942749, 0.31299999356269836]"
            ]
          },
          "execution_count": 35,
          "metadata": {},
          "output_type": "execute_result"
        }
      ],
      "source": [
        "model.evaluate(embeddingMatrixTest, testLabels)\n",
        "model.load_weights('lstmBestLoss.h5')\n",
        "model.evaluate(embeddingMatrixTest, testLabels)\n",
        "model.load_weights('lsmtBestAcc.h5')\n",
        "model.evaluate(embeddingMatrixTest, testLabels)"
      ]
    },
    {
      "cell_type": "code",
      "execution_count": null,
      "metadata": {
        "colab": {
          "base_uri": "https://localhost:8080/"
        },
        "id": "Z_dbwVabDTQl",
        "outputId": "c55e16b3-fc16-4744-96c7-05b26c2b76f9"
      },
      "outputs": [
        {
          "name": "stdout",
          "output_type": "stream",
          "text": [
            "625/625 [==============================] - 3s 4ms/step - loss: 2.4386 - accuracy: 0.2979\n",
            "625/625 [==============================] - 3s 5ms/step - loss: 2.3243 - accuracy: 0.3184\n"
          ]
        },
        {
          "data": {
            "text/plain": [
              "[2.3243110179901123, 0.31839999556541443]"
            ]
          },
          "execution_count": 23,
          "metadata": {},
          "output_type": "execute_result"
        }
      ],
      "source": [
        "model.evaluate(embeddingMatrixTest, testLabels)\n",
        "model.load_weights('bestModel.h5')\n",
        "model.evaluate(embeddingMatrixTest, testLabels)"
      ]
    },
    {
      "cell_type": "code",
      "execution_count": null,
      "metadata": {
        "colab": {
          "base_uri": "https://localhost:8080/"
        },
        "id": "zrmQtAyJDiVl",
        "outputId": "9713f41e-690e-445d-e98a-366d7d47a08a"
      },
      "outputs": [
        {
          "name": "stdout",
          "output_type": "stream",
          "text": [
            "Model: \"sequential_2\"\n",
            "_________________________________________________________________\n",
            " Layer (type)                Output Shape              Param #   \n",
            "=================================================================\n",
            " lstm_3 (LSTM)               (None, 10, 64)            67840     \n",
            "                                                                 \n",
            " dropout_2 (Dropout)         (None, 10, 64)            0         \n",
            "                                                                 \n",
            " lstm_4 (LSTM)               (None, 64)                33024     \n",
            "                                                                 \n",
            " dropout_3 (Dropout)         (None, 64)                0         \n",
            "                                                                 \n",
            " dense_1 (Dense)             (None, 20)                1300      \n",
            "                                                                 \n",
            "=================================================================\n",
            "Total params: 102,164\n",
            "Trainable params: 102,164\n",
            "Non-trainable params: 0\n",
            "_________________________________________________________________\n",
            "Epoch 1/50\n",
            "546/547 [============================>.] - ETA: 0s - loss: 2.5550 - accuracy: 0.2703\n",
            "Epoch 00001: val_loss improved from inf to 2.40379, saving model to bestModel.h5\n",
            "547/547 [==============================] - 25s 40ms/step - loss: 2.5548 - accuracy: 0.2704 - val_loss: 2.4038 - val_accuracy: 0.3040\n",
            "Epoch 2/50\n",
            "546/547 [============================>.] - ETA: 0s - loss: 2.4190 - accuracy: 0.3047\n",
            "Epoch 00002: val_loss improved from 2.40379 to 2.37394, saving model to bestModel.h5\n",
            "547/547 [==============================] - 21s 39ms/step - loss: 2.4190 - accuracy: 0.3047 - val_loss: 2.3739 - val_accuracy: 0.3088\n",
            "Epoch 3/50\n",
            "547/547 [==============================] - ETA: 0s - loss: 2.3741 - accuracy: 0.3127\n",
            "Epoch 00003: val_loss improved from 2.37394 to 2.34792, saving model to bestModel.h5\n",
            "547/547 [==============================] - 21s 39ms/step - loss: 2.3741 - accuracy: 0.3127 - val_loss: 2.3479 - val_accuracy: 0.3112\n",
            "Epoch 4/50\n",
            "546/547 [============================>.] - ETA: 0s - loss: 2.3490 - accuracy: 0.3192\n",
            "Epoch 00004: val_loss improved from 2.34792 to 2.34286, saving model to bestModel.h5\n",
            "547/547 [==============================] - 21s 38ms/step - loss: 2.3488 - accuracy: 0.3193 - val_loss: 2.3429 - val_accuracy: 0.3175\n",
            "Epoch 5/50\n",
            "547/547 [==============================] - ETA: 0s - loss: 2.3251 - accuracy: 0.3250\n",
            "Epoch 00005: val_loss improved from 2.34286 to 2.33599, saving model to bestModel.h5\n",
            "547/547 [==============================] - 21s 39ms/step - loss: 2.3251 - accuracy: 0.3250 - val_loss: 2.3360 - val_accuracy: 0.3154\n",
            "Epoch 6/50\n",
            "547/547 [==============================] - ETA: 0s - loss: 2.3031 - accuracy: 0.3304\n",
            "Epoch 00006: val_loss improved from 2.33599 to 2.33302, saving model to bestModel.h5\n",
            "547/547 [==============================] - 21s 39ms/step - loss: 2.3031 - accuracy: 0.3304 - val_loss: 2.3330 - val_accuracy: 0.3136\n",
            "Epoch 7/50\n",
            "546/547 [============================>.] - ETA: 0s - loss: 2.2833 - accuracy: 0.3339\n",
            "Epoch 00007: val_loss improved from 2.33302 to 2.33115, saving model to bestModel.h5\n",
            "547/547 [==============================] - 21s 39ms/step - loss: 2.2836 - accuracy: 0.3338 - val_loss: 2.3312 - val_accuracy: 0.3160\n",
            "Epoch 8/50\n",
            "546/547 [============================>.] - ETA: 0s - loss: 2.2615 - accuracy: 0.3386\n",
            "Epoch 00008: val_loss did not improve from 2.33115\n",
            "547/547 [==============================] - 21s 38ms/step - loss: 2.2616 - accuracy: 0.3386 - val_loss: 2.3359 - val_accuracy: 0.3159\n",
            "Epoch 9/50\n",
            "546/547 [============================>.] - ETA: 0s - loss: 2.2451 - accuracy: 0.3454\n",
            "Epoch 00009: val_loss did not improve from 2.33115\n",
            "547/547 [==============================] - 21s 38ms/step - loss: 2.2449 - accuracy: 0.3455 - val_loss: 2.3346 - val_accuracy: 0.3184\n",
            "Epoch 10/50\n",
            "547/547 [==============================] - ETA: 0s - loss: 2.2267 - accuracy: 0.3477\n",
            "Epoch 00010: val_loss did not improve from 2.33115\n",
            "547/547 [==============================] - 21s 38ms/step - loss: 2.2267 - accuracy: 0.3477 - val_loss: 2.3397 - val_accuracy: 0.3131\n",
            "Epoch 11/50\n",
            "547/547 [==============================] - ETA: 0s - loss: 2.2059 - accuracy: 0.3544\n",
            "Epoch 00011: val_loss did not improve from 2.33115\n",
            "547/547 [==============================] - 21s 38ms/step - loss: 2.2059 - accuracy: 0.3544 - val_loss: 2.3552 - val_accuracy: 0.3107\n",
            "Epoch 12/50\n",
            "547/547 [==============================] - ETA: 0s - loss: 2.1870 - accuracy: 0.3571\n",
            "Epoch 00012: val_loss did not improve from 2.33115\n",
            "547/547 [==============================] - 21s 39ms/step - loss: 2.1870 - accuracy: 0.3571 - val_loss: 2.3663 - val_accuracy: 0.3075\n",
            "Epoch 13/50\n",
            "546/547 [============================>.] - ETA: 0s - loss: 2.1711 - accuracy: 0.3623\n",
            "Epoch 00013: val_loss did not improve from 2.33115\n",
            "547/547 [==============================] - 21s 38ms/step - loss: 2.1711 - accuracy: 0.3624 - val_loss: 2.3680 - val_accuracy: 0.3132\n",
            "Epoch 14/50\n",
            "547/547 [==============================] - ETA: 0s - loss: 2.1536 - accuracy: 0.3681\n",
            "Epoch 00014: val_loss did not improve from 2.33115\n",
            "547/547 [==============================] - 21s 39ms/step - loss: 2.1536 - accuracy: 0.3681 - val_loss: 2.3822 - val_accuracy: 0.3093\n",
            "Epoch 15/50\n",
            "547/547 [==============================] - ETA: 0s - loss: 2.1366 - accuracy: 0.3734\n",
            "Epoch 00015: val_loss did not improve from 2.33115\n",
            "547/547 [==============================] - 21s 39ms/step - loss: 2.1366 - accuracy: 0.3734 - val_loss: 2.4063 - val_accuracy: 0.3049\n",
            "Epoch 16/50\n",
            "546/547 [============================>.] - ETA: 0s - loss: 2.1184 - accuracy: 0.3785\n",
            "Epoch 00016: val_loss did not improve from 2.33115\n",
            "547/547 [==============================] - 21s 38ms/step - loss: 2.1184 - accuracy: 0.3785 - val_loss: 2.4053 - val_accuracy: 0.3062\n",
            "Epoch 17/50\n",
            "546/547 [============================>.] - ETA: 0s - loss: 2.1053 - accuracy: 0.3806\n",
            "Epoch 00017: val_loss did not improve from 2.33115\n",
            "547/547 [==============================] - 21s 38ms/step - loss: 2.1053 - accuracy: 0.3806 - val_loss: 2.4178 - val_accuracy: 0.3041\n",
            "Epoch 00017: early stopping\n"
          ]
        }
      ],
      "source": [
        "model = Sequential()\n",
        "model.add(LSTM(64, input_shape=(10, 200), return_sequences=True)) #hidden state has 64 dims\n",
        "model.add(Dropout(0.5))\n",
        "model.add(LSTM(64)) #hidden state has 64 dims\n",
        "model.add(Dropout(0.5))\n",
        "model.add(Dense(20, activation='softmax'))\n",
        "model.compile(loss='categorical_crossentropy', optimizer='adam', metrics=['accuracy'])\n",
        "model.summary()\n",
        "checkPoint = ModelCheckpoint('bestModel.h5', monitor='val_loss', verbose=True, save_best_only=True)\n",
        "earlyStopping = EarlyStopping(monitor='val_loss', patience=10, verbose=True)\n",
        "hist = model.fit(embeddingMatrixTrain, trainLabels, epochs=50, batch_size=128,\n",
        "                 validation_data=(embeddingMatrixVal, validLabels), shuffle=True, callbacks=[checkPoint, earlyStopping])\n"
      ]
    },
    {
      "cell_type": "code",
      "execution_count": null,
      "metadata": {
        "colab": {
          "base_uri": "https://localhost:8080/"
        },
        "id": "wxEqmdeZ9hMK",
        "outputId": "4aa5a000-716e-4b7a-d164-025e555442bb"
      },
      "outputs": [
        {
          "name": "stdout",
          "output_type": "stream",
          "text": [
            "Model: \"sequential_6\"\n",
            "_________________________________________________________________\n",
            " Layer (type)                Output Shape              Param #   \n",
            "=================================================================\n",
            " embedding_3 (Embedding)     (None, None, 200)         8968600   \n",
            "                                                                 \n",
            " lstm_12 (LSTM)              (None, 100)               120400    \n",
            "                                                                 \n",
            " dropout_16 (Dropout)        (None, 100)               0         \n",
            "                                                                 \n",
            " dense_11 (Dense)            (None, 50)                5050      \n",
            "                                                                 \n",
            " dropout_17 (Dropout)        (None, 50)                0         \n",
            "                                                                 \n",
            " dense_12 (Dense)            (None, 20)                1020      \n",
            "                                                                 \n",
            "=================================================================\n",
            "Total params: 9,095,070\n",
            "Trainable params: 9,095,070\n",
            "Non-trainable params: 0\n",
            "_________________________________________________________________\n",
            "Epoch 1/50\n",
            "547/547 [==============================] - ETA: 0s - loss: 2.6438 - accuracy: 0.2473\n",
            "Epoch 00001: val_loss improved from inf to 2.46933, saving model to lstmBestLoss.h5\n",
            "\n",
            "Epoch 00001: val_accuracy improved from -inf to 0.29057, saving model to lsmtBestAcc.h5\n",
            "547/547 [==============================] - 93s 166ms/step - loss: 2.6438 - accuracy: 0.2473 - val_loss: 2.4693 - val_accuracy: 0.2906\n",
            "Epoch 2/50\n",
            "547/547 [==============================] - ETA: 0s - loss: 2.3442 - accuracy: 0.3222\n",
            "Epoch 00002: val_loss improved from 2.46933 to 2.44814, saving model to lstmBestLoss.h5\n",
            "\n",
            "Epoch 00002: val_accuracy improved from 0.29057 to 0.29766, saving model to lsmtBestAcc.h5\n",
            "547/547 [==============================] - 86s 156ms/step - loss: 2.3442 - accuracy: 0.3222 - val_loss: 2.4481 - val_accuracy: 0.2977\n",
            "Epoch 3/50\n",
            "547/547 [==============================] - ETA: 0s - loss: 2.0734 - accuracy: 0.3878\n",
            "Epoch 00003: val_loss did not improve from 2.44814\n",
            "\n",
            "Epoch 00003: val_accuracy did not improve from 0.29766\n",
            "547/547 [==============================] - 82s 151ms/step - loss: 2.0734 - accuracy: 0.3878 - val_loss: 2.5410 - val_accuracy: 0.2865\n",
            "Epoch 4/50\n",
            "547/547 [==============================] - ETA: 0s - loss: 1.7957 - accuracy: 0.4689\n",
            "Epoch 00004: val_loss did not improve from 2.44814\n",
            "\n",
            "Epoch 00004: val_accuracy did not improve from 0.29766\n",
            "547/547 [==============================] - 76s 140ms/step - loss: 1.7957 - accuracy: 0.4689 - val_loss: 2.7060 - val_accuracy: 0.2668\n",
            "Epoch 00004: early stopping\n"
          ]
        }
      ],
      "source": [
        "model = Sequential()\n",
        "model.add(Embedding(44843, 200, trainable=True))\n",
        "model.add(LSTM(100)) #hidden state has 64 dims\n",
        "model.add(Dropout(0.5))\n",
        "model.add(Dense(50, activation='relu'))\n",
        "model.add(Dropout(0.3))\n",
        "model.add(Dense(20, activation='softmax'))\n",
        "model.compile(loss='categorical_crossentropy', optimizer='adam', metrics=['accuracy'])\n",
        "model.summary()\n",
        "checkPointLoss = ModelCheckpoint('lstmBestLoss.h5', monitor='val_loss', verbose=True, save_best_only=True)\n",
        "checkPointAcc = ModelCheckpoint('lsmtBestAcc.h5', monitor='val_accuracy', verbose=True, save_best_only=True)\n",
        "earlyStopping = EarlyStopping(monitor='val_accuracy', patience=2, verbose=True)\n",
        "hist = model.fit(X_train, trainLabels, epochs=50, batch_size=128,\n",
        "                 validation_data=(X_val, validLabels), shuffle=True, callbacks=[checkPointLoss, checkPointAcc, earlyStopping])\n"
      ]
    },
    {
      "cell_type": "code",
      "execution_count": null,
      "metadata": {
        "colab": {
          "base_uri": "https://localhost:8080/"
        },
        "id": "eUq4X2Q79hJD",
        "outputId": "451c7b3f-14fe-4ccd-ea7b-36adc170f4ca"
      },
      "outputs": [
        {
          "name": "stdout",
          "output_type": "stream",
          "text": [
            "625/625 [==============================] - 5s 7ms/step - loss: 2.6909 - accuracy: 0.2670\n",
            "625/625 [==============================] - 4s 7ms/step - loss: 2.4402 - accuracy: 0.2986\n",
            "625/625 [==============================] - 4s 6ms/step - loss: 2.4402 - accuracy: 0.2986\n"
          ]
        },
        {
          "data": {
            "text/plain": [
              "[2.4401957988739014, 0.2985999882221222]"
            ]
          },
          "execution_count": 76,
          "metadata": {},
          "output_type": "execute_result"
        }
      ],
      "source": [
        "model.evaluate(X_test, testLabels)\n",
        "model.load_weights('lstmBestLoss.h5')\n",
        "model.evaluate(X_test, testLabels)\n",
        "model.load_weights('lsmtBestAcc.h5')\n",
        "model.evaluate(X_test, testLabels)"
      ]
    },
    {
      "cell_type": "code",
      "execution_count": null,
      "metadata": {
        "colab": {
          "base_uri": "https://localhost:8080/"
        },
        "id": "ZLELeQZbEEz5",
        "outputId": "772d956f-3eaf-4763-adb6-e14360d9f177"
      },
      "outputs": [
        {
          "name": "stdout",
          "output_type": "stream",
          "text": [
            "625/625 [==============================] - 5s 6ms/step - loss: 2.4079 - accuracy: 0.3094\n",
            "625/625 [==============================] - 4s 6ms/step - loss: 2.3237 - accuracy: 0.3204\n"
          ]
        },
        {
          "data": {
            "text/plain": [
              "[2.3236546516418457, 0.3203999996185303]"
            ]
          },
          "execution_count": 26,
          "metadata": {},
          "output_type": "execute_result"
        }
      ],
      "source": [
        "model.evaluate(embeddingMatrixTest, testLabels)\n",
        "model.load_weights('bestModel.h5')\n",
        "model.evaluate(embeddingMatrixTest, testLabels)"
      ]
    },
    {
      "cell_type": "code",
      "execution_count": null,
      "metadata": {
        "colab": {
          "base_uri": "https://localhost:8080/"
        },
        "id": "Qy0IVrhCFpSX",
        "outputId": "b6e3059f-08f9-443f-be8d-759838018cc2"
      },
      "outputs": [
        {
          "name": "stdout",
          "output_type": "stream",
          "text": [
            "Model: \"sequential_4\"\n",
            "_________________________________________________________________\n",
            " Layer (type)                Output Shape              Param #   \n",
            "=================================================================\n",
            " lstm_7 (LSTM)               (None, 10, 128)           168448    \n",
            "                                                                 \n",
            " dropout_6 (Dropout)         (None, 10, 128)           0         \n",
            "                                                                 \n",
            " lstm_8 (LSTM)               (None, 128)               131584    \n",
            "                                                                 \n",
            " dropout_7 (Dropout)         (None, 128)               0         \n",
            "                                                                 \n",
            " dense_3 (Dense)             (None, 20)                2580      \n",
            "                                                                 \n",
            "=================================================================\n",
            "Total params: 302,612\n",
            "Trainable params: 302,612\n",
            "Non-trainable params: 0\n",
            "_________________________________________________________________\n",
            "Epoch 1/50\n",
            "547/547 [==============================] - ETA: 0s - loss: 2.4941 - accuracy: 0.2808\n",
            "Epoch 00001: val_loss improved from inf to 2.38838, saving model to bestModel.h5\n",
            "547/547 [==============================] - 54s 92ms/step - loss: 2.4941 - accuracy: 0.2808 - val_loss: 2.3884 - val_accuracy: 0.3057\n",
            "Epoch 2/50\n",
            "547/547 [==============================] - ETA: 0s - loss: 2.3779 - accuracy: 0.3100\n",
            "Epoch 00002: val_loss improved from 2.38838 to 2.35267, saving model to bestModel.h5\n",
            "547/547 [==============================] - 50s 91ms/step - loss: 2.3779 - accuracy: 0.3100 - val_loss: 2.3527 - val_accuracy: 0.3112\n",
            "Epoch 3/50\n",
            "547/547 [==============================] - ETA: 0s - loss: 2.3348 - accuracy: 0.3190\n",
            "Epoch 00003: val_loss improved from 2.35267 to 2.34639, saving model to bestModel.h5\n",
            "547/547 [==============================] - 50s 91ms/step - loss: 2.3348 - accuracy: 0.3190 - val_loss: 2.3464 - val_accuracy: 0.3091\n",
            "Epoch 4/50\n",
            "547/547 [==============================] - ETA: 0s - loss: 2.3008 - accuracy: 0.3248\n",
            "Epoch 00004: val_loss improved from 2.34639 to 2.33248, saving model to bestModel.h5\n",
            "547/547 [==============================] - 50s 91ms/step - loss: 2.3008 - accuracy: 0.3248 - val_loss: 2.3325 - val_accuracy: 0.3157\n",
            "Epoch 5/50\n",
            "547/547 [==============================] - ETA: 0s - loss: 2.2686 - accuracy: 0.3330\n",
            "Epoch 00005: val_loss improved from 2.33248 to 2.33107, saving model to bestModel.h5\n",
            "547/547 [==============================] - 50s 91ms/step - loss: 2.2686 - accuracy: 0.3330 - val_loss: 2.3311 - val_accuracy: 0.3125\n",
            "Epoch 6/50\n",
            "547/547 [==============================] - ETA: 0s - loss: 2.2328 - accuracy: 0.3437\n",
            "Epoch 00006: val_loss improved from 2.33107 to 2.32213, saving model to bestModel.h5\n",
            "547/547 [==============================] - 50s 92ms/step - loss: 2.2328 - accuracy: 0.3437 - val_loss: 2.3221 - val_accuracy: 0.3176\n",
            "Epoch 7/50\n",
            "547/547 [==============================] - ETA: 0s - loss: 2.1981 - accuracy: 0.3524\n",
            "Epoch 00007: val_loss did not improve from 2.32213\n",
            "547/547 [==============================] - 49s 90ms/step - loss: 2.1981 - accuracy: 0.3524 - val_loss: 2.3375 - val_accuracy: 0.3188\n",
            "Epoch 8/50\n",
            "547/547 [==============================] - ETA: 0s - loss: 2.1574 - accuracy: 0.3618\n",
            "Epoch 00008: val_loss did not improve from 2.32213\n",
            "547/547 [==============================] - 49s 90ms/step - loss: 2.1574 - accuracy: 0.3618 - val_loss: 2.3493 - val_accuracy: 0.3126\n",
            "Epoch 9/50\n",
            "547/547 [==============================] - ETA: 0s - loss: 2.1181 - accuracy: 0.3714\n",
            "Epoch 00009: val_loss did not improve from 2.32213\n",
            "547/547 [==============================] - 49s 90ms/step - loss: 2.1181 - accuracy: 0.3714 - val_loss: 2.3681 - val_accuracy: 0.3128\n",
            "Epoch 10/50\n",
            "547/547 [==============================] - ETA: 0s - loss: 2.0752 - accuracy: 0.3836\n",
            "Epoch 00010: val_loss did not improve from 2.32213\n",
            "547/547 [==============================] - 49s 90ms/step - loss: 2.0752 - accuracy: 0.3836 - val_loss: 2.4167 - val_accuracy: 0.3050\n",
            "Epoch 11/50\n",
            "547/547 [==============================] - ETA: 0s - loss: 2.0306 - accuracy: 0.3956\n",
            "Epoch 00011: val_loss did not improve from 2.32213\n",
            "547/547 [==============================] - 50s 92ms/step - loss: 2.0306 - accuracy: 0.3956 - val_loss: 2.4222 - val_accuracy: 0.3020\n",
            "Epoch 12/50\n",
            "547/547 [==============================] - ETA: 0s - loss: 1.9832 - accuracy: 0.4086\n",
            "Epoch 00012: val_loss did not improve from 2.32213\n",
            "547/547 [==============================] - 51s 93ms/step - loss: 1.9832 - accuracy: 0.4086 - val_loss: 2.4637 - val_accuracy: 0.2966\n",
            "Epoch 13/50\n",
            "547/547 [==============================] - ETA: 0s - loss: 1.9434 - accuracy: 0.4203\n",
            "Epoch 00013: val_loss did not improve from 2.32213\n",
            "547/547 [==============================] - 50s 91ms/step - loss: 1.9434 - accuracy: 0.4203 - val_loss: 2.5194 - val_accuracy: 0.2983\n",
            "Epoch 14/50\n",
            "547/547 [==============================] - ETA: 0s - loss: 1.8981 - accuracy: 0.4338\n",
            "Epoch 00014: val_loss did not improve from 2.32213\n",
            "547/547 [==============================] - 50s 91ms/step - loss: 1.8981 - accuracy: 0.4338 - val_loss: 2.5470 - val_accuracy: 0.2897\n",
            "Epoch 15/50\n",
            "547/547 [==============================] - ETA: 0s - loss: 1.8508 - accuracy: 0.4470\n",
            "Epoch 00015: val_loss did not improve from 2.32213\n",
            "547/547 [==============================] - 51s 92ms/step - loss: 1.8508 - accuracy: 0.4470 - val_loss: 2.5911 - val_accuracy: 0.2885\n",
            "Epoch 16/50\n",
            "547/547 [==============================] - ETA: 0s - loss: 1.8113 - accuracy: 0.4547\n",
            "Epoch 00016: val_loss did not improve from 2.32213\n",
            "547/547 [==============================] - 53s 96ms/step - loss: 1.8113 - accuracy: 0.4547 - val_loss: 2.6389 - val_accuracy: 0.2890\n",
            "Epoch 00016: early stopping\n"
          ]
        }
      ],
      "source": [
        "model = Sequential()\n",
        "model.add(LSTM(128, input_shape=(10, 200), return_sequences=True)) #hidden state has 64 dims\n",
        "model.add(Dropout(0.5))\n",
        "model.add(LSTM(128)) #hidden state has 64 dims\n",
        "model.add(Dropout(0.5))\n",
        "model.add(Dense(20, activation='softmax'))\n",
        "model.compile(loss='categorical_crossentropy', optimizer='adam', metrics=['accuracy'])\n",
        "model.summary()\n",
        "checkPoint = ModelCheckpoint('bestModel.h5', monitor='val_loss', verbose=True, save_best_only=True)\n",
        "earlyStopping = EarlyStopping(monitor='val_loss', patience=10, verbose=True)\n",
        "hist = model.fit(embeddingMatrixTrain, trainLabels, epochs=50, batch_size=128,\n",
        "                 validation_data=(embeddingMatrixVal, validLabels), shuffle=True, callbacks=[checkPoint, earlyStopping])\n"
      ]
    },
    {
      "cell_type": "code",
      "execution_count": null,
      "metadata": {
        "colab": {
          "base_uri": "https://localhost:8080/"
        },
        "id": "7TeDk09fJTwm",
        "outputId": "33871249-2095-4b5d-ef19-c16006a16e42"
      },
      "outputs": [
        {
          "name": "stdout",
          "output_type": "stream",
          "text": [
            "625/625 [==============================] - 9s 13ms/step - loss: 2.6290 - accuracy: 0.2891\n",
            "625/625 [==============================] - 8s 12ms/step - loss: 2.3173 - accuracy: 0.3194\n"
          ]
        },
        {
          "data": {
            "text/plain": [
              "[2.317291736602783, 0.319350004196167]"
            ]
          },
          "execution_count": 31,
          "metadata": {},
          "output_type": "execute_result"
        }
      ],
      "source": [
        "model.evaluate(embeddingMatrixTest, testLabels)\n",
        "model.load_weights('bestModel.h5')\n",
        "model.evaluate(embeddingMatrixTest, testLabels)"
      ]
    },
    {
      "cell_type": "code",
      "execution_count": null,
      "metadata": {
        "colab": {
          "base_uri": "https://localhost:8080/",
          "height": 1000
        },
        "id": "OtodTApB9VhD",
        "outputId": "e413f4a5-54bd-4756-df93-8c2e0ad08542"
      },
      "outputs": [
        {
          "name": "stdout",
          "output_type": "stream",
          "text": [
            "Model: \"sequential_10\"\n",
            "_________________________________________________________________\n",
            " Layer (type)                Output Shape              Param #   \n",
            "=================================================================\n",
            " lstm_20 (LSTM)              (None, 10, 128)           168448    \n",
            "                                                                 \n",
            " dropout_15 (Dropout)        (None, 10, 128)           0         \n",
            "                                                                 \n",
            " lstm_21 (LSTM)              (None, 10, 64)            49408     \n",
            "                                                                 \n",
            " dropout_16 (Dropout)        (None, 10, 64)            0         \n",
            "                                                                 \n",
            " lstm_22 (LSTM)              (None, 32)                12416     \n",
            "                                                                 \n",
            " dropout_17 (Dropout)        (None, 32)                0         \n",
            "                                                                 \n",
            " dense_5 (Dense)             (None, 20)                660       \n",
            "                                                                 \n",
            "=================================================================\n",
            "Total params: 230,932\n",
            "Trainable params: 230,932\n",
            "Non-trainable params: 0\n",
            "_________________________________________________________________\n",
            "Epoch 1/50\n",
            "547/547 [==============================] - ETA: 0s - loss: 2.5934 - accuracy: 0.2648\n",
            "Epoch 00001: val_loss improved from inf to 2.42920, saving model to bestModel.h5\n",
            "547/547 [==============================] - 51s 83ms/step - loss: 2.5934 - accuracy: 0.2648 - val_loss: 2.4292 - val_accuracy: 0.2971\n",
            "Epoch 2/50\n",
            "547/547 [==============================] - ETA: 0s - loss: 2.4541 - accuracy: 0.3000\n",
            "Epoch 00002: val_loss improved from 2.42920 to 2.39321, saving model to bestModel.h5\n",
            "547/547 [==============================] - 45s 82ms/step - loss: 2.4541 - accuracy: 0.3000 - val_loss: 2.3932 - val_accuracy: 0.3096\n",
            "Epoch 3/50\n",
            "547/547 [==============================] - ETA: 0s - loss: 2.4105 - accuracy: 0.3079\n",
            "Epoch 00003: val_loss improved from 2.39321 to 2.36498, saving model to bestModel.h5\n",
            "547/547 [==============================] - 45s 82ms/step - loss: 2.4105 - accuracy: 0.3079 - val_loss: 2.3650 - val_accuracy: 0.3121\n",
            "Epoch 4/50\n",
            "547/547 [==============================] - ETA: 0s - loss: 2.3779 - accuracy: 0.3159\n",
            "Epoch 00004: val_loss improved from 2.36498 to 2.35953, saving model to bestModel.h5\n",
            "547/547 [==============================] - 45s 82ms/step - loss: 2.3779 - accuracy: 0.3159 - val_loss: 2.3595 - val_accuracy: 0.3142\n",
            "Epoch 5/50\n",
            "547/547 [==============================] - ETA: 0s - loss: 2.3486 - accuracy: 0.3228\n",
            "Epoch 00005: val_loss improved from 2.35953 to 2.35372, saving model to bestModel.h5\n",
            "547/547 [==============================] - 45s 82ms/step - loss: 2.3486 - accuracy: 0.3228 - val_loss: 2.3537 - val_accuracy: 0.3151\n",
            "Epoch 6/50\n",
            "547/547 [==============================] - ETA: 0s - loss: 2.3211 - accuracy: 0.3299\n",
            "Epoch 00006: val_loss improved from 2.35372 to 2.34990, saving model to bestModel.h5\n",
            "547/547 [==============================] - 45s 82ms/step - loss: 2.3211 - accuracy: 0.3299 - val_loss: 2.3499 - val_accuracy: 0.3166\n",
            "Epoch 7/50\n",
            "547/547 [==============================] - ETA: 0s - loss: 2.2951 - accuracy: 0.3368\n",
            "Epoch 00007: val_loss did not improve from 2.34990\n",
            "547/547 [==============================] - 45s 82ms/step - loss: 2.2951 - accuracy: 0.3368 - val_loss: 2.3516 - val_accuracy: 0.3146\n",
            "Epoch 8/50\n",
            "547/547 [==============================] - ETA: 0s - loss: 2.2649 - accuracy: 0.3442\n",
            "Epoch 00008: val_loss did not improve from 2.34990\n",
            "547/547 [==============================] - 44s 81ms/step - loss: 2.2649 - accuracy: 0.3442 - val_loss: 2.3596 - val_accuracy: 0.3176\n",
            "Epoch 9/50\n",
            "547/547 [==============================] - ETA: 0s - loss: 2.2346 - accuracy: 0.3514\n",
            "Epoch 00009: val_loss did not improve from 2.34990\n",
            "547/547 [==============================] - 44s 81ms/step - loss: 2.2346 - accuracy: 0.3514 - val_loss: 2.3731 - val_accuracy: 0.3164\n",
            "Epoch 10/50\n",
            "547/547 [==============================] - ETA: 0s - loss: 2.2056 - accuracy: 0.3607\n",
            "Epoch 00010: val_loss did not improve from 2.34990\n",
            "547/547 [==============================] - 44s 81ms/step - loss: 2.2056 - accuracy: 0.3607 - val_loss: 2.3756 - val_accuracy: 0.3149\n",
            "Epoch 11/50\n",
            "547/547 [==============================] - ETA: 0s - loss: 2.1714 - accuracy: 0.3697\n",
            "Epoch 00011: val_loss did not improve from 2.34990\n",
            "547/547 [==============================] - 44s 81ms/step - loss: 2.1714 - accuracy: 0.3697 - val_loss: 2.3975 - val_accuracy: 0.3114\n",
            "Epoch 12/50\n",
            "547/547 [==============================] - ETA: 0s - loss: 2.1392 - accuracy: 0.3780\n",
            "Epoch 00012: val_loss did not improve from 2.34990\n",
            "547/547 [==============================] - 44s 81ms/step - loss: 2.1392 - accuracy: 0.3780 - val_loss: 2.4397 - val_accuracy: 0.3047\n",
            "Epoch 13/50\n",
            " 86/547 [===>..........................] - ETA: 35s - loss: 2.0721 - accuracy: 0.4022"
          ]
        },
        {
          "name": "stderr",
          "output_type": "stream",
          "text": [
            "ERROR:root:Internal Python error in the inspect module.\n",
            "Below is the traceback from this internal error.\n",
            "\n"
          ]
        },
        {
          "name": "stdout",
          "output_type": "stream",
          "text": [
            "Traceback (most recent call last):\n",
            "  File \"/usr/local/lib/python3.7/dist-packages/IPython/core/interactiveshell.py\", line 2882, in run_code\n",
            "    exec(code_obj, self.user_global_ns, self.user_ns)\n",
            "  File \"<ipython-input-37-21731bf311b8>\", line 14, in <module>\n",
            "    validation_data=(embeddingMatrixVal, validLabels), shuffle=True, callbacks=[checkPoint, earlyStopping])\n",
            "  File \"/usr/local/lib/python3.7/dist-packages/keras/utils/traceback_utils.py\", line 64, in error_handler\n",
            "    return fn(*args, **kwargs)\n",
            "  File \"/usr/local/lib/python3.7/dist-packages/keras/engine/training.py\", line 1216, in fit\n",
            "    tmp_logs = self.train_function(iterator)\n",
            "  File \"/usr/local/lib/python3.7/dist-packages/tensorflow/python/util/traceback_utils.py\", line 150, in error_handler\n",
            "    return fn(*args, **kwargs)\n",
            "  File \"/usr/local/lib/python3.7/dist-packages/tensorflow/python/eager/def_function.py\", line 910, in __call__\n",
            "    result = self._call(*args, **kwds)\n",
            "  File \"/usr/local/lib/python3.7/dist-packages/tensorflow/python/eager/def_function.py\", line 942, in _call\n",
            "    return self._stateless_fn(*args, **kwds)  # pylint: disable=not-callable\n",
            "  File \"/usr/local/lib/python3.7/dist-packages/tensorflow/python/eager/function.py\", line 3131, in __call__\n",
            "    filtered_flat_args, captured_inputs=graph_function.captured_inputs)  # pylint: disable=protected-access\n",
            "  File \"/usr/local/lib/python3.7/dist-packages/tensorflow/python/eager/function.py\", line 1960, in _call_flat\n",
            "    ctx, args, cancellation_manager=cancellation_manager))\n",
            "  File \"/usr/local/lib/python3.7/dist-packages/tensorflow/python/eager/function.py\", line 603, in call\n",
            "    ctx=ctx)\n",
            "  File \"/usr/local/lib/python3.7/dist-packages/tensorflow/python/eager/execute.py\", line 59, in quick_execute\n",
            "    inputs, attrs, num_outputs)\n",
            "KeyboardInterrupt\n",
            "\n",
            "During handling of the above exception, another exception occurred:\n",
            "\n",
            "Traceback (most recent call last):\n",
            "  File \"/usr/local/lib/python3.7/dist-packages/IPython/core/interactiveshell.py\", line 1823, in showtraceback\n",
            "    stb = value._render_traceback_()\n",
            "AttributeError: 'KeyboardInterrupt' object has no attribute '_render_traceback_'\n",
            "\n",
            "During handling of the above exception, another exception occurred:\n",
            "\n",
            "Traceback (most recent call last):\n",
            "  File \"/usr/local/lib/python3.7/dist-packages/IPython/core/ultratb.py\", line 1132, in get_records\n",
            "    return _fixed_getinnerframes(etb, number_of_lines_of_context, tb_offset)\n",
            "  File \"/usr/local/lib/python3.7/dist-packages/IPython/core/ultratb.py\", line 313, in wrapped\n",
            "    return f(*args, **kwargs)\n",
            "  File \"/usr/local/lib/python3.7/dist-packages/IPython/core/ultratb.py\", line 358, in _fixed_getinnerframes\n",
            "    records = fix_frame_records_filenames(inspect.getinnerframes(etb, context))\n",
            "  File \"/usr/lib/python3.7/inspect.py\", line 1502, in getinnerframes\n",
            "    frameinfo = (tb.tb_frame,) + getframeinfo(tb, context)\n",
            "  File \"/usr/lib/python3.7/inspect.py\", line 1460, in getframeinfo\n",
            "    filename = getsourcefile(frame) or getfile(frame)\n",
            "  File \"/usr/lib/python3.7/inspect.py\", line 696, in getsourcefile\n",
            "    if getattr(getmodule(object, filename), '__loader__', None) is not None:\n",
            "  File \"/usr/lib/python3.7/inspect.py\", line 725, in getmodule\n",
            "    file = getabsfile(object, _filename)\n",
            "  File \"/usr/lib/python3.7/inspect.py\", line 709, in getabsfile\n",
            "    return os.path.normcase(os.path.abspath(_filename))\n",
            "  File \"/usr/lib/python3.7/posixpath.py\", line 383, in abspath\n",
            "    cwd = os.getcwd()\n",
            "FileNotFoundError: [Errno 2] No such file or directory\n"
          ]
        },
        {
          "ename": "KeyboardInterrupt",
          "evalue": "ignored",
          "output_type": "error",
          "traceback": [
            "\u001b[0;31m---------------------------------------------------------------------------\u001b[0m"
          ]
        }
      ],
      "source": [
        "model = Sequential()\n",
        "model.add(LSTM(128, input_shape=(10, 200), return_sequences=True)) #hidden state has 64 dims\n",
        "model.add(Dropout(0.5))\n",
        "model.add(LSTM(64, return_sequences=True)) #hidden state has 64 dims\n",
        "model.add(Dropout(0.5))\n",
        "model.add(LSTM(32)) #hidden state has 64 dims\n",
        "model.add(Dropout(0.5))\n",
        "model.add(Dense(20, activation='softmax'))\n",
        "model.compile(loss='categorical_crossentropy', optimizer='adam', metrics=['accuracy'])\n",
        "model.summary()\n",
        "checkPoint = ModelCheckpoint('bestModel.h5', monitor='val_loss', verbose=True, save_best_only=True)\n",
        "earlyStopping = EarlyStopping(monitor='val_loss', patience=10, verbose=True)\n",
        "hist = model.fit(embeddingMatrixTrain, trainLabels, epochs=50, batch_size=128,\n",
        "                 validation_data=(embeddingMatrixVal, validLabels), shuffle=True, callbacks=[checkPoint, earlyStopping])\n"
      ]
    },
    {
      "cell_type": "code",
      "execution_count": null,
      "metadata": {
        "colab": {
          "base_uri": "https://localhost:8080/"
        },
        "id": "zcZ6MqpcRjrc",
        "outputId": "818110f7-19e3-4385-907a-a4061aab3a45"
      },
      "outputs": [
        {
          "name": "stdout",
          "output_type": "stream",
          "text": [
            "625/625 [==============================] - 9s 12ms/step - loss: 2.4514 - accuracy: 0.3044\n",
            "625/625 [==============================] - 7s 11ms/step - loss: 2.3405 - accuracy: 0.3189\n"
          ]
        },
        {
          "data": {
            "text/plain": [
              "[2.3405096530914307, 0.31894999742507935]"
            ]
          },
          "execution_count": 38,
          "metadata": {},
          "output_type": "execute_result"
        }
      ],
      "source": [
        "model.evaluate(embeddingMatrixTest, testLabels)\n",
        "model.load_weights('bestModel.h5')\n",
        "model.evaluate(embeddingMatrixTest, testLabels)"
      ]
    },
    {
      "cell_type": "code",
      "execution_count": null,
      "metadata": {
        "colab": {
          "base_uri": "https://localhost:8080/"
        },
        "id": "c6fosU4VS7lW",
        "outputId": "7025eefa-c710-4a24-e081-c06fcbe6310b"
      },
      "outputs": [
        {
          "name": "stdout",
          "output_type": "stream",
          "text": [
            "Model: \"sequential_11\"\n",
            "_________________________________________________________________\n",
            " Layer (type)                Output Shape              Param #   \n",
            "=================================================================\n",
            " lstm_23 (LSTM)              (None, 10, 128)           168448    \n",
            "                                                                 \n",
            " dropout_18 (Dropout)        (None, 10, 128)           0         \n",
            "                                                                 \n",
            " lstm_24 (LSTM)              (None, 10, 64)            49408     \n",
            "                                                                 \n",
            " dropout_19 (Dropout)        (None, 10, 64)            0         \n",
            "                                                                 \n",
            " lstm_25 (LSTM)              (None, 32)                12416     \n",
            "                                                                 \n",
            " dropout_20 (Dropout)        (None, 32)                0         \n",
            "                                                                 \n",
            " dense_6 (Dense)             (None, 20)                660       \n",
            "                                                                 \n",
            "=================================================================\n",
            "Total params: 230,932\n",
            "Trainable params: 230,932\n",
            "Non-trainable params: 0\n",
            "_________________________________________________________________\n",
            "Epoch 1/50\n",
            "547/547 [==============================] - ETA: 0s - loss: 2.5971 - accuracy: 0.2642\n",
            "Epoch 00001: val_loss improved from inf to 2.42883, saving model to bestModelLoss.h5\n",
            "\n",
            "Epoch 00001: val_accuracy improved from -inf to 0.29876, saving model to bestModelAcc.h5\n",
            "547/547 [==============================] - 52s 84ms/step - loss: 2.5971 - accuracy: 0.2642 - val_loss: 2.4288 - val_accuracy: 0.2988\n",
            "Epoch 2/50\n",
            "547/547 [==============================] - ETA: 0s - loss: 2.4540 - accuracy: 0.2997\n",
            "Epoch 00002: val_loss improved from 2.42883 to 2.39758, saving model to bestModelLoss.h5\n",
            "\n",
            "Epoch 00002: val_accuracy improved from 0.29876 to 0.30266, saving model to bestModelAcc.h5\n",
            "547/547 [==============================] - 47s 86ms/step - loss: 2.4540 - accuracy: 0.2997 - val_loss: 2.3976 - val_accuracy: 0.3027\n",
            "Epoch 3/50\n",
            "547/547 [==============================] - ETA: 0s - loss: 2.4088 - accuracy: 0.3104\n",
            "Epoch 00003: val_loss improved from 2.39758 to 2.36552, saving model to bestModelLoss.h5\n",
            "\n",
            "Epoch 00003: val_accuracy improved from 0.30266 to 0.31105, saving model to bestModelAcc.h5\n",
            "547/547 [==============================] - 45s 82ms/step - loss: 2.4088 - accuracy: 0.3104 - val_loss: 2.3655 - val_accuracy: 0.3111\n",
            "Epoch 4/50\n",
            "547/547 [==============================] - ETA: 0s - loss: 2.3785 - accuracy: 0.3164\n",
            "Epoch 00004: val_loss improved from 2.36552 to 2.35819, saving model to bestModelLoss.h5\n",
            "\n",
            "Epoch 00004: val_accuracy improved from 0.31105 to 0.31385, saving model to bestModelAcc.h5\n",
            "547/547 [==============================] - 45s 83ms/step - loss: 2.3785 - accuracy: 0.3164 - val_loss: 2.3582 - val_accuracy: 0.3138\n",
            "Epoch 5/50\n",
            "547/547 [==============================] - ETA: 0s - loss: 2.3520 - accuracy: 0.3241\n",
            "Epoch 00005: val_loss improved from 2.35819 to 2.35300, saving model to bestModelLoss.h5\n",
            "\n",
            "Epoch 00005: val_accuracy improved from 0.31385 to 0.31525, saving model to bestModelAcc.h5\n",
            "547/547 [==============================] - 45s 83ms/step - loss: 2.3520 - accuracy: 0.3241 - val_loss: 2.3530 - val_accuracy: 0.3152\n",
            "Epoch 6/50\n",
            "547/547 [==============================] - ETA: 0s - loss: 2.3238 - accuracy: 0.3305\n",
            "Epoch 00006: val_loss improved from 2.35300 to 2.34826, saving model to bestModelLoss.h5\n",
            "\n",
            "Epoch 00006: val_accuracy improved from 0.31525 to 0.31835, saving model to bestModelAcc.h5\n",
            "547/547 [==============================] - 45s 83ms/step - loss: 2.3238 - accuracy: 0.3305 - val_loss: 2.3483 - val_accuracy: 0.3183\n",
            "Epoch 7/50\n",
            "547/547 [==============================] - ETA: 0s - loss: 2.2960 - accuracy: 0.3361\n",
            "Epoch 00007: val_loss improved from 2.34826 to 2.34521, saving model to bestModelLoss.h5\n",
            "\n",
            "Epoch 00007: val_accuracy did not improve from 0.31835\n",
            "547/547 [==============================] - 45s 82ms/step - loss: 2.2960 - accuracy: 0.3361 - val_loss: 2.3452 - val_accuracy: 0.3178\n",
            "Epoch 8/50\n",
            "547/547 [==============================] - ETA: 0s - loss: 2.2682 - accuracy: 0.3430\n",
            "Epoch 00008: val_loss did not improve from 2.34521\n",
            "\n",
            "Epoch 00008: val_accuracy did not improve from 0.31835\n",
            "547/547 [==============================] - 45s 82ms/step - loss: 2.2682 - accuracy: 0.3430 - val_loss: 2.3566 - val_accuracy: 0.3173\n",
            "Epoch 9/50\n",
            "547/547 [==============================] - ETA: 0s - loss: 2.2354 - accuracy: 0.3518\n",
            "Epoch 00009: val_loss did not improve from 2.34521\n",
            "\n",
            "Epoch 00009: val_accuracy improved from 0.31835 to 0.32024, saving model to bestModelAcc.h5\n",
            "547/547 [==============================] - 45s 82ms/step - loss: 2.2354 - accuracy: 0.3518 - val_loss: 2.3645 - val_accuracy: 0.3202\n",
            "Epoch 10/50\n",
            "547/547 [==============================] - ETA: 0s - loss: 2.2054 - accuracy: 0.3599\n",
            "Epoch 00010: val_loss did not improve from 2.34521\n",
            "\n",
            "Epoch 00010: val_accuracy did not improve from 0.32024\n",
            "547/547 [==============================] - 44s 81ms/step - loss: 2.2054 - accuracy: 0.3599 - val_loss: 2.3754 - val_accuracy: 0.3135\n",
            "Epoch 11/50\n",
            "547/547 [==============================] - ETA: 0s - loss: 2.1724 - accuracy: 0.3686\n",
            "Epoch 00011: val_loss did not improve from 2.34521\n",
            "\n",
            "Epoch 00011: val_accuracy did not improve from 0.32024\n",
            "547/547 [==============================] - 44s 81ms/step - loss: 2.1724 - accuracy: 0.3686 - val_loss: 2.3930 - val_accuracy: 0.3113\n",
            "Epoch 12/50\n",
            "547/547 [==============================] - ETA: 0s - loss: 2.1394 - accuracy: 0.3785\n",
            "Epoch 00012: val_loss did not improve from 2.34521\n",
            "\n",
            "Epoch 00012: val_accuracy did not improve from 0.32024\n",
            "547/547 [==============================] - 45s 82ms/step - loss: 2.1394 - accuracy: 0.3785 - val_loss: 2.4164 - val_accuracy: 0.3087\n",
            "Epoch 13/50\n",
            "547/547 [==============================] - ETA: 0s - loss: 2.1054 - accuracy: 0.3906\n",
            "Epoch 00013: val_loss did not improve from 2.34521\n",
            "\n",
            "Epoch 00013: val_accuracy did not improve from 0.32024\n",
            "547/547 [==============================] - 44s 81ms/step - loss: 2.1054 - accuracy: 0.3906 - val_loss: 2.4540 - val_accuracy: 0.3043\n",
            "Epoch 14/50\n",
            "547/547 [==============================] - ETA: 0s - loss: 2.0721 - accuracy: 0.3976\n",
            "Epoch 00014: val_loss did not improve from 2.34521\n",
            "\n",
            "Epoch 00014: val_accuracy did not improve from 0.32024\n",
            "547/547 [==============================] - 44s 81ms/step - loss: 2.0721 - accuracy: 0.3976 - val_loss: 2.4528 - val_accuracy: 0.3037\n",
            "Epoch 15/50\n",
            "547/547 [==============================] - ETA: 0s - loss: 2.0360 - accuracy: 0.4087\n",
            "Epoch 00015: val_loss did not improve from 2.34521\n",
            "\n",
            "Epoch 00015: val_accuracy did not improve from 0.32024\n",
            "547/547 [==============================] - 44s 81ms/step - loss: 2.0360 - accuracy: 0.4087 - val_loss: 2.5205 - val_accuracy: 0.3015\n",
            "Epoch 16/50\n",
            "547/547 [==============================] - ETA: 0s - loss: 2.0045 - accuracy: 0.4156\n",
            "Epoch 00016: val_loss did not improve from 2.34521\n",
            "\n",
            "Epoch 00016: val_accuracy did not improve from 0.32024\n",
            "547/547 [==============================] - 44s 81ms/step - loss: 2.0045 - accuracy: 0.4156 - val_loss: 2.5388 - val_accuracy: 0.2976\n",
            "Epoch 17/50\n",
            "547/547 [==============================] - ETA: 0s - loss: 1.9747 - accuracy: 0.4234\n",
            "Epoch 00017: val_loss did not improve from 2.34521\n",
            "\n",
            "Epoch 00017: val_accuracy did not improve from 0.32024\n",
            "547/547 [==============================] - 45s 81ms/step - loss: 1.9747 - accuracy: 0.4234 - val_loss: 2.5656 - val_accuracy: 0.2914\n",
            "Epoch 00017: early stopping\n"
          ]
        }
      ],
      "source": [
        "model = Sequential()\n",
        "model.add(LSTM(128, input_shape=(10, 200), return_sequences=True)) #hidden state has 64 dims\n",
        "model.add(Dropout(0.5))\n",
        "model.add(LSTM(64, return_sequences=True)) #hidden state has 64 dims\n",
        "model.add(Dropout(0.5))\n",
        "model.add(LSTM(32)) #hidden state has 64 dims\n",
        "model.add(Dropout(0.5))\n",
        "model.add(Dense(20, activation='softmax'))\n",
        "model.compile(loss='categorical_crossentropy', optimizer='adam', metrics=['accuracy'])\n",
        "model.summary()\n",
        "lossCheck = ModelCheckpoint('bestModelLoss.h5', monitor='val_loss', verbose=True, save_best_only=True)\n",
        "accCheck = ModelCheckpoint('bestModelAcc.h5', monitor='val_accuracy', verbose=True, save_best_only=True)\n",
        "earlyStopping = EarlyStopping(monitor='val_loss', patience=10, verbose=True)\n",
        "hist = model.fit(embeddingMatrixTrain, trainLabels, epochs=50, batch_size=128,\n",
        "                 validation_data=(embeddingMatrixVal, validLabels), shuffle=True, callbacks=[lossCheck, accCheck, earlyStopping])\n"
      ]
    },
    {
      "cell_type": "code",
      "execution_count": null,
      "metadata": {
        "colab": {
          "base_uri": "https://localhost:8080/"
        },
        "id": "KxjnW42tTJMd",
        "outputId": "0070b020-a456-4341-94ba-572dd716995f"
      },
      "outputs": [
        {
          "name": "stdout",
          "output_type": "stream",
          "text": [
            "625/625 [==============================] - 9s 12ms/step - loss: 2.5580 - accuracy: 0.2961\n",
            "625/625 [==============================] - 7s 12ms/step - loss: 2.3366 - accuracy: 0.3191\n",
            "625/625 [==============================] - 7s 12ms/step - loss: 2.3585 - accuracy: 0.3178\n"
          ]
        },
        {
          "data": {
            "text/plain": [
              "[2.3585457801818848, 0.3177500069141388]"
            ]
          },
          "execution_count": 40,
          "metadata": {},
          "output_type": "execute_result"
        }
      ],
      "source": [
        "model.evaluate(embeddingMatrixTest, testLabels)\n",
        "model.load_weights('bestModelLoss.h5')\n",
        "model.evaluate(embeddingMatrixTest, testLabels)\n",
        "model.load_weights('bestModelAcc.h5')\n",
        "model.evaluate(embeddingMatrixTest, testLabels)"
      ]
    },
    {
      "cell_type": "code",
      "execution_count": null,
      "metadata": {
        "colab": {
          "base_uri": "https://localhost:8080/"
        },
        "id": "qny55KwFY_3Q",
        "outputId": "b1ce3e3a-dd84-4a19-9722-61454dbab775"
      },
      "outputs": [
        {
          "name": "stdout",
          "output_type": "stream",
          "text": [
            "Model: \"sequential_12\"\n",
            "_________________________________________________________________\n",
            " Layer (type)                Output Shape              Param #   \n",
            "=================================================================\n",
            " lstm_26 (LSTM)              (None, 10, 128)           168448    \n",
            "                                                                 \n",
            " dropout_21 (Dropout)        (None, 10, 128)           0         \n",
            "                                                                 \n",
            " lstm_27 (LSTM)              (None, 10, 64)            49408     \n",
            "                                                                 \n",
            " dropout_22 (Dropout)        (None, 10, 64)            0         \n",
            "                                                                 \n",
            " lstm_28 (LSTM)              (None, 32)                12416     \n",
            "                                                                 \n",
            " dropout_23 (Dropout)        (None, 32)                0         \n",
            "                                                                 \n",
            " dense_7 (Dense)             (None, 100)               3300      \n",
            "                                                                 \n",
            " dropout_24 (Dropout)        (None, 100)               0         \n",
            "                                                                 \n",
            " dense_8 (Dense)             (None, 20)                2020      \n",
            "                                                                 \n",
            "=================================================================\n",
            "Total params: 235,592\n",
            "Trainable params: 235,592\n",
            "Non-trainable params: 0\n",
            "_________________________________________________________________\n",
            "Epoch 1/50\n",
            "547/547 [==============================] - ETA: 0s - loss: 2.6405 - accuracy: 0.2442\n",
            "Epoch 00001: val_loss improved from inf to 2.46828, saving model to bestModelLoss.h5\n",
            "\n",
            "Epoch 00001: val_accuracy improved from -inf to 0.29037, saving model to bestModelAcc.h5\n",
            "547/547 [==============================] - 52s 85ms/step - loss: 2.6405 - accuracy: 0.2442 - val_loss: 2.4683 - val_accuracy: 0.2904\n",
            "Epoch 2/50\n",
            "547/547 [==============================] - ETA: 0s - loss: 2.4915 - accuracy: 0.2851\n",
            "Epoch 00002: val_loss improved from 2.46828 to 2.41297, saving model to bestModelLoss.h5\n",
            "\n",
            "Epoch 00002: val_accuracy improved from 0.29037 to 0.29726, saving model to bestModelAcc.h5\n",
            "547/547 [==============================] - 45s 82ms/step - loss: 2.4915 - accuracy: 0.2851 - val_loss: 2.4130 - val_accuracy: 0.2973\n",
            "Epoch 3/50\n",
            "547/547 [==============================] - ETA: 0s - loss: 2.4437 - accuracy: 0.3004\n",
            "Epoch 00003: val_loss improved from 2.41297 to 2.38541, saving model to bestModelLoss.h5\n",
            "\n",
            "Epoch 00003: val_accuracy improved from 0.29726 to 0.30745, saving model to bestModelAcc.h5\n",
            "547/547 [==============================] - 45s 83ms/step - loss: 2.4437 - accuracy: 0.3004 - val_loss: 2.3854 - val_accuracy: 0.3075\n",
            "Epoch 4/50\n",
            "547/547 [==============================] - ETA: 0s - loss: 2.4116 - accuracy: 0.3072\n",
            "Epoch 00004: val_loss improved from 2.38541 to 2.37579, saving model to bestModelLoss.h5\n",
            "\n",
            "Epoch 00004: val_accuracy improved from 0.30745 to 0.30825, saving model to bestModelAcc.h5\n",
            "547/547 [==============================] - 45s 83ms/step - loss: 2.4116 - accuracy: 0.3072 - val_loss: 2.3758 - val_accuracy: 0.3083\n",
            "Epoch 5/50\n",
            "547/547 [==============================] - ETA: 0s - loss: 2.3871 - accuracy: 0.3134\n",
            "Epoch 00005: val_loss improved from 2.37579 to 2.36624, saving model to bestModelLoss.h5\n",
            "\n",
            "Epoch 00005: val_accuracy improved from 0.30825 to 0.31325, saving model to bestModelAcc.h5\n",
            "547/547 [==============================] - 46s 83ms/step - loss: 2.3871 - accuracy: 0.3134 - val_loss: 2.3662 - val_accuracy: 0.3132\n",
            "Epoch 6/50\n",
            "547/547 [==============================] - ETA: 0s - loss: 2.3632 - accuracy: 0.3174\n",
            "Epoch 00006: val_loss improved from 2.36624 to 2.36188, saving model to bestModelLoss.h5\n",
            "\n",
            "Epoch 00006: val_accuracy improved from 0.31325 to 0.31715, saving model to bestModelAcc.h5\n",
            "547/547 [==============================] - 45s 83ms/step - loss: 2.3632 - accuracy: 0.3174 - val_loss: 2.3619 - val_accuracy: 0.3171\n",
            "Epoch 7/50\n",
            "547/547 [==============================] - ETA: 0s - loss: 2.3354 - accuracy: 0.3266\n",
            "Epoch 00007: val_loss did not improve from 2.36188\n",
            "\n",
            "Epoch 00007: val_accuracy did not improve from 0.31715\n",
            "547/547 [==============================] - 45s 82ms/step - loss: 2.3354 - accuracy: 0.3266 - val_loss: 2.3643 - val_accuracy: 0.3165\n",
            "Epoch 8/50\n",
            "547/547 [==============================] - ETA: 0s - loss: 2.3124 - accuracy: 0.3305\n",
            "Epoch 00008: val_loss did not improve from 2.36188\n",
            "\n",
            "Epoch 00008: val_accuracy did not improve from 0.31715\n",
            "547/547 [==============================] - 44s 81ms/step - loss: 2.3124 - accuracy: 0.3305 - val_loss: 2.3792 - val_accuracy: 0.3146\n",
            "Epoch 9/50\n",
            "547/547 [==============================] - ETA: 0s - loss: 2.2802 - accuracy: 0.3393\n",
            "Epoch 00009: val_loss did not improve from 2.36188\n",
            "\n",
            "Epoch 00009: val_accuracy did not improve from 0.31715\n",
            "547/547 [==============================] - 45s 82ms/step - loss: 2.2802 - accuracy: 0.3393 - val_loss: 2.3805 - val_accuracy: 0.3131\n",
            "Epoch 10/50\n",
            "547/547 [==============================] - ETA: 0s - loss: 2.2530 - accuracy: 0.3453\n",
            "Epoch 00010: val_loss did not improve from 2.36188\n",
            "\n",
            "Epoch 00010: val_accuracy did not improve from 0.31715\n",
            "547/547 [==============================] - 45s 82ms/step - loss: 2.2530 - accuracy: 0.3453 - val_loss: 2.3887 - val_accuracy: 0.3104\n",
            "Epoch 11/50\n",
            "547/547 [==============================] - ETA: 0s - loss: 2.2211 - accuracy: 0.3555\n",
            "Epoch 00011: val_loss did not improve from 2.36188\n",
            "\n",
            "Epoch 00011: val_accuracy did not improve from 0.31715\n",
            "547/547 [==============================] - 45s 82ms/step - loss: 2.2211 - accuracy: 0.3555 - val_loss: 2.4149 - val_accuracy: 0.3076\n",
            "Epoch 00011: early stopping\n"
          ]
        }
      ],
      "source": [
        "model = Sequential()\n",
        "model.add(LSTM(128, input_shape=(10, 200), return_sequences=True)) #hidden state has 64 dims\n",
        "model.add(Dropout(0.5))\n",
        "model.add(LSTM(64, return_sequences=True)) #hidden state has 64 dims\n",
        "model.add(Dropout(0.5))\n",
        "model.add(LSTM(32)) #hidden state has 64 dims\n",
        "model.add(Dropout(0.5))\n",
        "model.add(Dense(100, activation='relu'))\n",
        "model.add(Dropout(0.5))\n",
        "model.add(Dense(20, activation='softmax'))\n",
        "model.compile(loss='categorical_crossentropy', optimizer='adam', metrics=['accuracy'])\n",
        "model.summary()\n",
        "lossCheck = ModelCheckpoint('bestModelLoss.h5', monitor='val_loss', verbose=True, save_best_only=True)\n",
        "accCheck = ModelCheckpoint('bestModelAcc.h5', monitor='val_accuracy', verbose=True, save_best_only=True)\n",
        "earlyStopping = EarlyStopping(monitor='val_loss', patience=5, verbose=True)\n",
        "hist = model.fit(embeddingMatrixTrain, trainLabels, epochs=50, batch_size=128,\n",
        "                 validation_data=(embeddingMatrixVal, validLabels), shuffle=True, callbacks=[lossCheck, accCheck, earlyStopping])\n"
      ]
    },
    {
      "cell_type": "code",
      "execution_count": null,
      "metadata": {
        "colab": {
          "base_uri": "https://localhost:8080/"
        },
        "id": "tvnYt2KCZNTB",
        "outputId": "bcd92509-f5ff-43c9-b908-ffeacac887ac"
      },
      "outputs": [
        {
          "name": "stdout",
          "output_type": "stream",
          "text": [
            "625/625 [==============================] - 9s 12ms/step - loss: 2.4109 - accuracy: 0.3092\n",
            "625/625 [==============================] - 7s 12ms/step - loss: 2.3533 - accuracy: 0.3153\n",
            "625/625 [==============================] - 7s 12ms/step - loss: 2.3533 - accuracy: 0.3153\n"
          ]
        },
        {
          "data": {
            "text/plain": [
              "[2.3532633781433105, 0.3152500092983246]"
            ]
          },
          "execution_count": 42,
          "metadata": {},
          "output_type": "execute_result"
        }
      ],
      "source": [
        "model.evaluate(embeddingMatrixTest, testLabels)\n",
        "model.load_weights('bestModelLoss.h5')\n",
        "model.evaluate(embeddingMatrixTest, testLabels)\n",
        "model.load_weights('bestModelAcc.h5')\n",
        "model.evaluate(embeddingMatrixTest, testLabels)"
      ]
    },
    {
      "cell_type": "code",
      "execution_count": null,
      "metadata": {
        "colab": {
          "base_uri": "https://localhost:8080/"
        },
        "id": "Qd0XA2H59ZCa",
        "outputId": "3812e2cb-9125-4f8d-eec2-9357a3ce716b"
      },
      "outputs": [
        {
          "name": "stdout",
          "output_type": "stream",
          "text": [
            "625/625 [==============================] - 3s 5ms/step - loss: 2.4530 - accuracy: 0.2957\n"
          ]
        },
        {
          "data": {
            "text/plain": [
              "[2.4530069828033447, 0.29565000534057617]"
            ]
          },
          "execution_count": 102,
          "metadata": {},
          "output_type": "execute_result"
        }
      ],
      "source": [
        "model.evaluate(embeddingMatrixTest, testLabels)"
      ]
    },
    {
      "cell_type": "code",
      "execution_count": null,
      "metadata": {
        "id": "_dm0GSOf-IWg"
      },
      "outputs": [],
      "source": [
        "model.load_weights('bestModel.h5')"
      ]
    },
    {
      "cell_type": "code",
      "execution_count": null,
      "metadata": {
        "colab": {
          "base_uri": "https://localhost:8080/"
        },
        "id": "bMxf5K1r_J2L",
        "outputId": "0118a680-72fe-44ee-8667-293be4391aaa"
      },
      "outputs": [
        {
          "name": "stdout",
          "output_type": "stream",
          "text": [
            "625/625 [==============================] - 3s 4ms/step - loss: 2.3620 - accuracy: 0.3084\n"
          ]
        },
        {
          "data": {
            "text/plain": [
              "[2.3619701862335205, 0.3084000051021576]"
            ]
          },
          "execution_count": 105,
          "metadata": {},
          "output_type": "execute_result"
        }
      ],
      "source": [
        "model.evaluate(embeddingMatrixTest, testLabels)"
      ]
    },
    {
      "cell_type": "code",
      "execution_count": null,
      "metadata": {
        "colab": {
          "base_uri": "https://localhost:8080/"
        },
        "id": "oMz81Gle_KKX",
        "outputId": "310478b0-7c21-4f4c-a46d-4cd9e33c3cfb"
      },
      "outputs": [
        {
          "name": "stdout",
          "output_type": "stream",
          "text": [
            "Model: \"sequential\"\n",
            "_________________________________________________________________\n",
            " Layer (type)                Output Shape              Param #   \n",
            "=================================================================\n",
            " lstm (LSTM)                 (None, 10, 64)            29440     \n",
            "                                                                 \n",
            " dropout (Dropout)           (None, 10, 64)            0         \n",
            "                                                                 \n",
            " lstm_1 (LSTM)               (None, 64)                33024     \n",
            "                                                                 \n",
            " dropout_1 (Dropout)         (None, 64)                0         \n",
            "                                                                 \n",
            " dense (Dense)               (None, 20)                1300      \n",
            "                                                                 \n",
            "=================================================================\n",
            "Total params: 63,764\n",
            "Trainable params: 63,764\n",
            "Non-trainable params: 0\n",
            "_________________________________________________________________\n"
          ]
        }
      ],
      "source": [
        "model = Sequential()\n",
        "model.add(LSTM(64, input_shape=(10, 50), return_sequences=True)) #hidden state has 64 dims\n",
        "model.add(Dropout(0.5))\n",
        "model.add(LSTM(64, return_sequences=False))\n",
        "model.add(Dropout(0.5))\n",
        "model.add(Dense(20, activation='softmax'))\n",
        "model.compile(loss='categorical_crossentropy', optimizer='adam', metrics=['accuracy'])\n",
        "model.summary()"
      ]
    },
    {
      "cell_type": "code",
      "execution_count": null,
      "metadata": {
        "colab": {
          "base_uri": "https://localhost:8080/"
        },
        "id": "ViCw4eF6LpS8",
        "outputId": "f0c90292-bed4-42a3-cf6a-2cf85c7ef4f7"
      },
      "outputs": [
        {
          "name": "stdout",
          "output_type": "stream",
          "text": [
            "Epoch 1/50\n",
            "546/547 [============================>.] - ETA: 0s - loss: 2.6050 - accuracy: 0.2535\n",
            "Epoch 00001: val_loss improved from inf to 2.47624, saving model to bestModel.h5\n",
            "547/547 [==============================] - 28s 41ms/step - loss: 2.6048 - accuracy: 0.2536 - val_loss: 2.4762 - val_accuracy: 0.2785\n",
            "Epoch 2/50\n",
            "547/547 [==============================] - ETA: 0s - loss: 2.4917 - accuracy: 0.2804\n",
            "Epoch 00002: val_loss improved from 2.47624 to 2.44055, saving model to bestModel.h5\n",
            "547/547 [==============================] - 21s 38ms/step - loss: 2.4917 - accuracy: 0.2804 - val_loss: 2.4405 - val_accuracy: 0.2867\n",
            "Epoch 3/50\n",
            "547/547 [==============================] - ETA: 0s - loss: 2.4573 - accuracy: 0.2891\n",
            "Epoch 00003: val_loss improved from 2.44055 to 2.41873, saving model to bestModel.h5\n",
            "547/547 [==============================] - 20s 37ms/step - loss: 2.4573 - accuracy: 0.2891 - val_loss: 2.4187 - val_accuracy: 0.2914\n",
            "Epoch 4/50\n",
            "547/547 [==============================] - ETA: 0s - loss: 2.4329 - accuracy: 0.2942\n",
            "Epoch 00004: val_loss improved from 2.41873 to 2.40585, saving model to bestModel.h5\n",
            "547/547 [==============================] - 20s 36ms/step - loss: 2.4329 - accuracy: 0.2942 - val_loss: 2.4059 - val_accuracy: 0.2955\n",
            "Epoch 5/50\n",
            "547/547 [==============================] - ETA: 0s - loss: 2.4118 - accuracy: 0.3012\n",
            "Epoch 00005: val_loss improved from 2.40585 to 2.38915, saving model to bestModel.h5\n",
            "547/547 [==============================] - 20s 36ms/step - loss: 2.4118 - accuracy: 0.3012 - val_loss: 2.3892 - val_accuracy: 0.2992\n",
            "Epoch 6/50\n",
            "546/547 [============================>.] - ETA: 0s - loss: 2.3973 - accuracy: 0.3041\n",
            "Epoch 00006: val_loss improved from 2.38915 to 2.38781, saving model to bestModel.h5\n",
            "547/547 [==============================] - 19s 34ms/step - loss: 2.3979 - accuracy: 0.3039 - val_loss: 2.3878 - val_accuracy: 0.3001\n",
            "Epoch 7/50\n",
            "546/547 [============================>.] - ETA: 0s - loss: 2.3820 - accuracy: 0.3067\n",
            "Epoch 00007: val_loss improved from 2.38781 to 2.37594, saving model to bestModel.h5\n",
            "547/547 [==============================] - 19s 34ms/step - loss: 2.3818 - accuracy: 0.3067 - val_loss: 2.3759 - val_accuracy: 0.3027\n",
            "Epoch 8/50\n",
            "546/547 [============================>.] - ETA: 0s - loss: 2.3727 - accuracy: 0.3108\n",
            "Epoch 00008: val_loss improved from 2.37594 to 2.37451, saving model to bestModel.h5\n",
            "547/547 [==============================] - 19s 34ms/step - loss: 2.3729 - accuracy: 0.3107 - val_loss: 2.3745 - val_accuracy: 0.3013\n",
            "Epoch 9/50\n",
            "546/547 [============================>.] - ETA: 0s - loss: 2.3621 - accuracy: 0.3135\n",
            "Epoch 00009: val_loss improved from 2.37451 to 2.37141, saving model to bestModel.h5\n",
            "547/547 [==============================] - 20s 36ms/step - loss: 2.3623 - accuracy: 0.3135 - val_loss: 2.3714 - val_accuracy: 0.3024\n",
            "Epoch 10/50\n",
            "547/547 [==============================] - ETA: 0s - loss: 2.3524 - accuracy: 0.3152\n",
            "Epoch 00010: val_loss improved from 2.37141 to 2.36547, saving model to bestModel.h5\n",
            "547/547 [==============================] - 20s 36ms/step - loss: 2.3524 - accuracy: 0.3152 - val_loss: 2.3655 - val_accuracy: 0.3030\n",
            "Epoch 11/50\n",
            "546/547 [============================>.] - ETA: 0s - loss: 2.3471 - accuracy: 0.3161\n",
            "Epoch 00011: val_loss improved from 2.36547 to 2.36350, saving model to bestModel.h5\n",
            "547/547 [==============================] - 20s 37ms/step - loss: 2.3470 - accuracy: 0.3161 - val_loss: 2.3635 - val_accuracy: 0.3056\n",
            "Epoch 12/50\n",
            "547/547 [==============================] - ETA: 0s - loss: 2.3361 - accuracy: 0.3188\n",
            "Epoch 00012: val_loss did not improve from 2.36350\n",
            "547/547 [==============================] - 19s 35ms/step - loss: 2.3361 - accuracy: 0.3188 - val_loss: 2.3638 - val_accuracy: 0.3083\n",
            "Epoch 13/50\n",
            "546/547 [============================>.] - ETA: 0s - loss: 2.3274 - accuracy: 0.3198\n",
            "Epoch 00013: val_loss improved from 2.36350 to 2.36088, saving model to bestModel.h5\n",
            "547/547 [==============================] - 20s 36ms/step - loss: 2.3275 - accuracy: 0.3197 - val_loss: 2.3609 - val_accuracy: 0.3071\n",
            "Epoch 14/50\n",
            "546/547 [============================>.] - ETA: 0s - loss: 2.3245 - accuracy: 0.3201\n",
            "Epoch 00014: val_loss improved from 2.36088 to 2.35889, saving model to bestModel.h5\n",
            "547/547 [==============================] - 21s 38ms/step - loss: 2.3246 - accuracy: 0.3201 - val_loss: 2.3589 - val_accuracy: 0.3055\n",
            "Epoch 15/50\n",
            "546/547 [============================>.] - ETA: 0s - loss: 2.3152 - accuracy: 0.3237\n",
            "Epoch 00015: val_loss did not improve from 2.35889\n",
            "547/547 [==============================] - 19s 35ms/step - loss: 2.3153 - accuracy: 0.3236 - val_loss: 2.3617 - val_accuracy: 0.3063\n",
            "Epoch 16/50\n",
            "546/547 [============================>.] - ETA: 0s - loss: 2.3079 - accuracy: 0.3248\n",
            "Epoch 00016: val_loss did not improve from 2.35889\n",
            "547/547 [==============================] - 19s 35ms/step - loss: 2.3079 - accuracy: 0.3248 - val_loss: 2.3592 - val_accuracy: 0.3082\n",
            "Epoch 17/50\n",
            "546/547 [============================>.] - ETA: 0s - loss: 2.3030 - accuracy: 0.3257\n",
            "Epoch 00017: val_loss did not improve from 2.35889\n",
            "547/547 [==============================] - 19s 35ms/step - loss: 2.3030 - accuracy: 0.3257 - val_loss: 2.3642 - val_accuracy: 0.3096\n",
            "Epoch 18/50\n",
            "547/547 [==============================] - ETA: 0s - loss: 2.2938 - accuracy: 0.3288\n",
            "Epoch 00018: val_loss did not improve from 2.35889\n",
            "547/547 [==============================] - 19s 35ms/step - loss: 2.2938 - accuracy: 0.3288 - val_loss: 2.3600 - val_accuracy: 0.3099\n",
            "Epoch 19/50\n",
            "547/547 [==============================] - ETA: 0s - loss: 2.2884 - accuracy: 0.3298\n",
            "Epoch 00019: val_loss did not improve from 2.35889\n",
            "547/547 [==============================] - 20s 36ms/step - loss: 2.2884 - accuracy: 0.3298 - val_loss: 2.3711 - val_accuracy: 0.3058\n",
            "Epoch 20/50\n",
            "546/547 [============================>.] - ETA: 0s - loss: 2.2814 - accuracy: 0.3316\n",
            "Epoch 00020: val_loss did not improve from 2.35889\n",
            "547/547 [==============================] - 20s 37ms/step - loss: 2.2813 - accuracy: 0.3317 - val_loss: 2.3715 - val_accuracy: 0.3080\n",
            "Epoch 21/50\n",
            "546/547 [============================>.] - ETA: 0s - loss: 2.2776 - accuracy: 0.3320\n",
            "Epoch 00021: val_loss did not improve from 2.35889\n",
            "547/547 [==============================] - 20s 37ms/step - loss: 2.2777 - accuracy: 0.3321 - val_loss: 2.3670 - val_accuracy: 0.3076\n",
            "Epoch 22/50\n",
            "546/547 [============================>.] - ETA: 0s - loss: 2.2681 - accuracy: 0.3343\n",
            "Epoch 00022: val_loss did not improve from 2.35889\n",
            "547/547 [==============================] - 19s 35ms/step - loss: 2.2679 - accuracy: 0.3344 - val_loss: 2.3682 - val_accuracy: 0.3044\n",
            "Epoch 23/50\n",
            "547/547 [==============================] - ETA: 0s - loss: 2.2670 - accuracy: 0.3353\n",
            "Epoch 00023: val_loss did not improve from 2.35889\n",
            "547/547 [==============================] - 19s 35ms/step - loss: 2.2670 - accuracy: 0.3353 - val_loss: 2.3770 - val_accuracy: 0.3081\n",
            "Epoch 24/50\n",
            "547/547 [==============================] - ETA: 0s - loss: 2.2586 - accuracy: 0.3382\n",
            "Epoch 00024: val_loss did not improve from 2.35889\n",
            "547/547 [==============================] - 19s 35ms/step - loss: 2.2586 - accuracy: 0.3382 - val_loss: 2.3750 - val_accuracy: 0.3068\n",
            "Epoch 25/50\n",
            "547/547 [==============================] - ETA: 0s - loss: 2.2526 - accuracy: 0.3391\n",
            "Epoch 00025: val_loss did not improve from 2.35889\n",
            "547/547 [==============================] - 20s 36ms/step - loss: 2.2526 - accuracy: 0.3391 - val_loss: 2.3802 - val_accuracy: 0.3037\n",
            "Epoch 26/50\n",
            "546/547 [============================>.] - ETA: 0s - loss: 2.2473 - accuracy: 0.3419\n",
            "Epoch 00026: val_loss did not improve from 2.35889\n",
            "547/547 [==============================] - 21s 38ms/step - loss: 2.2472 - accuracy: 0.3419 - val_loss: 2.3805 - val_accuracy: 0.3077\n",
            "Epoch 27/50\n",
            "547/547 [==============================] - ETA: 0s - loss: 2.2429 - accuracy: 0.3429\n",
            "Epoch 00027: val_loss did not improve from 2.35889\n",
            "547/547 [==============================] - 20s 36ms/step - loss: 2.2429 - accuracy: 0.3429 - val_loss: 2.3911 - val_accuracy: 0.3041\n",
            "Epoch 28/50\n",
            "546/547 [============================>.] - ETA: 0s - loss: 2.2367 - accuracy: 0.3445\n",
            "Epoch 00028: val_loss did not improve from 2.35889\n",
            "547/547 [==============================] - 19s 35ms/step - loss: 2.2366 - accuracy: 0.3444 - val_loss: 2.3939 - val_accuracy: 0.3079\n",
            "Epoch 29/50\n",
            "547/547 [==============================] - ETA: 0s - loss: 2.2313 - accuracy: 0.3461\n",
            "Epoch 00029: val_loss did not improve from 2.35889\n",
            "547/547 [==============================] - 19s 35ms/step - loss: 2.2313 - accuracy: 0.3461 - val_loss: 2.3912 - val_accuracy: 0.3050\n",
            "Epoch 30/50\n",
            "546/547 [============================>.] - ETA: 0s - loss: 2.2270 - accuracy: 0.3467\n",
            "Epoch 00030: val_loss did not improve from 2.35889\n",
            "547/547 [==============================] - 19s 35ms/step - loss: 2.2268 - accuracy: 0.3466 - val_loss: 2.3967 - val_accuracy: 0.3036\n",
            "Epoch 31/50\n",
            "547/547 [==============================] - ETA: 0s - loss: 2.2194 - accuracy: 0.3475\n",
            "Epoch 00031: val_loss did not improve from 2.35889\n",
            "547/547 [==============================] - 20s 37ms/step - loss: 2.2194 - accuracy: 0.3475 - val_loss: 2.3959 - val_accuracy: 0.3023\n",
            "Epoch 32/50\n",
            "546/547 [============================>.] - ETA: 0s - loss: 2.2161 - accuracy: 0.3495\n",
            "Epoch 00032: val_loss did not improve from 2.35889\n",
            "547/547 [==============================] - 23s 43ms/step - loss: 2.2158 - accuracy: 0.3495 - val_loss: 2.4030 - val_accuracy: 0.3040\n",
            "Epoch 33/50\n",
            "547/547 [==============================] - ETA: 0s - loss: 2.2104 - accuracy: 0.3511\n",
            "Epoch 00033: val_loss did not improve from 2.35889\n",
            "547/547 [==============================] - 22s 40ms/step - loss: 2.2104 - accuracy: 0.3511 - val_loss: 2.3995 - val_accuracy: 0.3057\n",
            "Epoch 34/50\n",
            "547/547 [==============================] - ETA: 0s - loss: 2.2065 - accuracy: 0.3524\n",
            "Epoch 00034: val_loss did not improve from 2.35889\n",
            "547/547 [==============================] - 21s 39ms/step - loss: 2.2065 - accuracy: 0.3524 - val_loss: 2.4107 - val_accuracy: 0.3012\n",
            "Epoch 35/50\n",
            "546/547 [============================>.] - ETA: 0s - loss: 2.1993 - accuracy: 0.3538\n",
            "Epoch 00035: val_loss did not improve from 2.35889\n",
            "547/547 [==============================] - 20s 36ms/step - loss: 2.1994 - accuracy: 0.3538 - val_loss: 2.4263 - val_accuracy: 0.3007\n",
            "Epoch 36/50\n",
            "546/547 [============================>.] - ETA: 0s - loss: 2.1951 - accuracy: 0.3555\n",
            "Epoch 00036: val_loss did not improve from 2.35889\n",
            "547/547 [==============================] - 20s 36ms/step - loss: 2.1952 - accuracy: 0.3555 - val_loss: 2.4163 - val_accuracy: 0.3014\n",
            "Epoch 37/50\n",
            "546/547 [============================>.] - ETA: 0s - loss: 2.1909 - accuracy: 0.3569\n",
            "Epoch 00037: val_loss did not improve from 2.35889\n",
            "547/547 [==============================] - 20s 36ms/step - loss: 2.1913 - accuracy: 0.3568 - val_loss: 2.4202 - val_accuracy: 0.3000\n",
            "Epoch 38/50\n",
            "547/547 [==============================] - ETA: 0s - loss: 2.1816 - accuracy: 0.3603\n",
            "Epoch 00038: val_loss did not improve from 2.35889\n",
            "547/547 [==============================] - 20s 37ms/step - loss: 2.1816 - accuracy: 0.3603 - val_loss: 2.4254 - val_accuracy: 0.3036\n",
            "Epoch 39/50\n",
            "547/547 [==============================] - ETA: 0s - loss: 2.1819 - accuracy: 0.3596\n",
            "Epoch 00039: val_loss did not improve from 2.35889\n",
            "547/547 [==============================] - 20s 37ms/step - loss: 2.1819 - accuracy: 0.3596 - val_loss: 2.4364 - val_accuracy: 0.2990\n",
            "Epoch 40/50\n",
            "546/547 [============================>.] - ETA: 0s - loss: 2.1725 - accuracy: 0.3621\n",
            "Epoch 00040: val_loss did not improve from 2.35889\n",
            "547/547 [==============================] - 20s 37ms/step - loss: 2.1727 - accuracy: 0.3621 - val_loss: 2.4411 - val_accuracy: 0.3023\n",
            "Epoch 41/50\n",
            "546/547 [============================>.] - ETA: 0s - loss: 2.1700 - accuracy: 0.3628\n",
            "Epoch 00041: val_loss did not improve from 2.35889\n",
            "547/547 [==============================] - 20s 37ms/step - loss: 2.1700 - accuracy: 0.3627 - val_loss: 2.4472 - val_accuracy: 0.2984\n",
            "Epoch 42/50\n",
            "546/547 [============================>.] - ETA: 0s - loss: 2.1653 - accuracy: 0.3628\n",
            "Epoch 00042: val_loss did not improve from 2.35889\n",
            "547/547 [==============================] - 21s 38ms/step - loss: 2.1649 - accuracy: 0.3629 - val_loss: 2.4496 - val_accuracy: 0.2983\n",
            "Epoch 43/50\n",
            "546/547 [============================>.] - ETA: 0s - loss: 2.1587 - accuracy: 0.3650\n",
            "Epoch 00043: val_loss did not improve from 2.35889\n",
            "547/547 [==============================] - 20s 36ms/step - loss: 2.1587 - accuracy: 0.3650 - val_loss: 2.4463 - val_accuracy: 0.2991\n",
            "Epoch 44/50\n",
            "547/547 [==============================] - ETA: 0s - loss: 2.1570 - accuracy: 0.3664\n",
            "Epoch 00044: val_loss did not improve from 2.35889\n",
            "547/547 [==============================] - 19s 35ms/step - loss: 2.1570 - accuracy: 0.3664 - val_loss: 2.4592 - val_accuracy: 0.2985\n",
            "Epoch 45/50\n",
            "546/547 [============================>.] - ETA: 0s - loss: 2.1516 - accuracy: 0.3697\n",
            "Epoch 00045: val_loss did not improve from 2.35889\n",
            "547/547 [==============================] - 20s 36ms/step - loss: 2.1516 - accuracy: 0.3695 - val_loss: 2.4632 - val_accuracy: 0.2966\n",
            "Epoch 46/50\n",
            "547/547 [==============================] - ETA: 0s - loss: 2.1468 - accuracy: 0.3686\n",
            "Epoch 00046: val_loss did not improve from 2.35889\n",
            "547/547 [==============================] - 20s 36ms/step - loss: 2.1468 - accuracy: 0.3686 - val_loss: 2.4719 - val_accuracy: 0.2985\n",
            "Epoch 47/50\n",
            "547/547 [==============================] - ETA: 0s - loss: 2.1421 - accuracy: 0.3694\n",
            "Epoch 00047: val_loss did not improve from 2.35889\n",
            "547/547 [==============================] - 20s 37ms/step - loss: 2.1421 - accuracy: 0.3694 - val_loss: 2.4898 - val_accuracy: 0.2989\n",
            "Epoch 48/50\n",
            "547/547 [==============================] - ETA: 0s - loss: 2.1386 - accuracy: 0.3707\n",
            "Epoch 00048: val_loss did not improve from 2.35889\n",
            "547/547 [==============================] - 21s 38ms/step - loss: 2.1386 - accuracy: 0.3707 - val_loss: 2.4801 - val_accuracy: 0.2988\n",
            "Epoch 49/50\n",
            "546/547 [============================>.] - ETA: 0s - loss: 2.1341 - accuracy: 0.3731\n",
            "Epoch 00049: val_loss did not improve from 2.35889\n",
            "547/547 [==============================] - 20s 36ms/step - loss: 2.1342 - accuracy: 0.3730 - val_loss: 2.4854 - val_accuracy: 0.2953\n",
            "Epoch 50/50\n",
            "547/547 [==============================] - ETA: 0s - loss: 2.1284 - accuracy: 0.3743\n",
            "Epoch 00050: val_loss did not improve from 2.35889\n",
            "547/547 [==============================] - 20s 37ms/step - loss: 2.1284 - accuracy: 0.3743 - val_loss: 2.4837 - val_accuracy: 0.2968\n"
          ]
        }
      ],
      "source": [
        "checkPoint = ModelCheckpoint('bestModel.h5', monitor='val_loss', verbose=True, save_best_only=True)\n",
        "earlyStopping = EarlyStopping(monitor='val_loss', patience=10, verbose=True)\n",
        "hist = model.fit(embeddingMatrixTrain, trainLabels, epochs=50, batch_size=128,\n",
        "                 validation_data=(embeddingMatrixVal, validLabels), shuffle=True, callbacks=[checkPoint])\n"
      ]
    },
    {
      "cell_type": "code",
      "execution_count": null,
      "metadata": {
        "colab": {
          "base_uri": "https://localhost:8080/"
        },
        "id": "O_tviTp1LsDu",
        "outputId": "44ac8684-f61d-4da7-e0d1-dcb15b53d902"
      },
      "outputs": [
        {
          "name": "stdout",
          "output_type": "stream",
          "text": [
            "625/625 [==============================] - 6s 7ms/step - loss: 2.4827 - accuracy: 0.2964\n"
          ]
        },
        {
          "data": {
            "text/plain": [
              "[2.482708215713501, 0.2964000105857849]"
            ]
          },
          "execution_count": 40,
          "metadata": {},
          "output_type": "execute_result"
        }
      ],
      "source": [
        "model.evaluate(embeddingMatrixTest, testLabels)"
      ]
    },
    {
      "cell_type": "code",
      "execution_count": null,
      "metadata": {
        "id": "UcW27tpvLv_8"
      },
      "outputs": [],
      "source": [
        "model.load_weights('bestModel.h5')"
      ]
    },
    {
      "cell_type": "code",
      "execution_count": null,
      "metadata": {
        "colab": {
          "base_uri": "https://localhost:8080/"
        },
        "id": "R8zJwX7dLwWf",
        "outputId": "ef1ecf03-ecd7-4b35-fdfb-b307be609365"
      },
      "outputs": [
        {
          "name": "stdout",
          "output_type": "stream",
          "text": [
            "625/625 [==============================] - 5s 7ms/step - loss: 2.3595 - accuracy: 0.3091\n"
          ]
        },
        {
          "data": {
            "text/plain": [
              "[2.359462022781372, 0.3091000020503998]"
            ]
          },
          "execution_count": 42,
          "metadata": {},
          "output_type": "execute_result"
        }
      ],
      "source": [
        "model.evaluate(embeddingMatrixTest, testLabels)"
      ]
    }
  ],
  "metadata": {
    "accelerator": "GPU",
    "colab": {
      "collapsed_sections": [],
      "name": "emoji_lstm.ipynb",
      "provenance": []
    },
    "kernelspec": {
      "display_name": "Python 3",
      "name": "python3"
    },
    "language_info": {
      "name": "python"
    }
  },
  "nbformat": 4,
  "nbformat_minor": 0
}
