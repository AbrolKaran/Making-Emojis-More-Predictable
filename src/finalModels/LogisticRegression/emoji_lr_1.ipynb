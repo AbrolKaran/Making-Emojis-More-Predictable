{
  "nbformat": 4,
  "nbformat_minor": 0,
  "metadata": {
    "colab": {
      "name": "emoji_lr_1.ipynb",
      "provenance": []
    },
    "kernelspec": {
      "name": "python3",
      "display_name": "Python 3"
    },
    "language_info": {
      "name": "python"
    },
    "accelerator": "TPU"
  },
  "cells": [
    {
      "cell_type": "code",
      "metadata": {
        "colab": {
          "base_uri": "https://localhost:8080/"
        },
        "id": "9V-zAXo1HPkC",
        "outputId": "f90dac01-bd93-4748-ccaa-1352e355122d"
      },
      "source": [
        "from google.colab import drive\n",
        "drive.mount('/content/drive')"
      ],
      "execution_count": 1,
      "outputs": [
        {
          "output_type": "stream",
          "name": "stdout",
          "text": [
            "Mounted at /content/drive\n"
          ]
        }
      ]
    },
    {
      "cell_type": "code",
      "metadata": {
        "colab": {
          "base_uri": "https://localhost:8080/"
        },
        "id": "9dBt9roxHzYS",
        "outputId": "d7f960a9-cf8b-4f72-c487-8ba109895882"
      },
      "source": [
        "ls"
      ],
      "execution_count": 2,
      "outputs": [
        {
          "output_type": "stream",
          "name": "stdout",
          "text": [
            "\u001b[0m\u001b[01;34mdrive\u001b[0m/  \u001b[01;34msample_data\u001b[0m/\n"
          ]
        }
      ]
    },
    {
      "cell_type": "code",
      "metadata": {
        "colab": {
          "base_uri": "https://localhost:8080/"
        },
        "id": "H7Swf4P8H5xv",
        "outputId": "5c118dfb-07c3-4165-e34f-48e5ccfd3778"
      },
      "source": [
        "cd drive/MyDrive/"
      ],
      "execution_count": 3,
      "outputs": [
        {
          "output_type": "stream",
          "name": "stdout",
          "text": [
            "/content/drive/MyDrive\n"
          ]
        }
      ]
    },
    {
      "cell_type": "code",
      "metadata": {
        "colab": {
          "base_uri": "https://localhost:8080/"
        },
        "id": "E5gKTj8mIPGf",
        "outputId": "dc0fbc82-363e-46a0-a5a0-bf40818f2c3f"
      },
      "source": [
        "cd NLP"
      ],
      "execution_count": 7,
      "outputs": [
        {
          "output_type": "stream",
          "name": "stdout",
          "text": [
            "/content/drive/.shortcut-targets-by-id/1plMjpYu4pyxTZsV33MlYa9xEP127qxWB/NLP_Project\n"
          ]
        }
      ]
    },
    {
      "cell_type": "code",
      "metadata": {
        "colab": {
          "base_uri": "https://localhost:8080/"
        },
        "id": "zFN9a9w6IQHk",
        "outputId": "2717fdfe-8405-4a76-953a-17255bf94f74"
      },
      "source": [
        "ls"
      ],
      "execution_count": 8,
      "outputs": [
        {
          "output_type": "stream",
          "name": "stdout",
          "text": [
            "100k_t1_test.npy         fin_t2_test.npy\n",
            "100k_t1_train.npy        fin_t2_train.npy\n",
            "100k_t1_trial.npy        fin_t2_trial.npy\n",
            "100k_t2_test.npy         NLP_Project.gdoc\n",
            "100k_t2_train.npy        t2_test.npy\n",
            "100k_t2_trial.npy        t2_train.npy\n",
            "finalDevLabels.labels    t2_trial.npy\n",
            "finalTestLabels.labels   tweet_by_ID_08_10_2021__12_50_02.txt\n",
            "finalTrainLabels.labels  tweet_by_ID_08_10_2021__12_50_02.txt.ids\n",
            "fin_t1_test.npy          tweet_by_ID_08_10_2021__12_50_02.txt.labels\n",
            "fin_t1_train.npy         tweet_by_ID_08_10_2021__12_50_02.txt.text\n",
            "fin_t1_trial.npy\n"
          ]
        }
      ]
    },
    {
      "cell_type": "code",
      "metadata": {
        "id": "6135jyy5IQ2B"
      },
      "source": [
        "import numpy as np\n",
        "import pandas as pd\n",
        "from tqdm import tqdm"
      ],
      "execution_count": 9,
      "outputs": []
    },
    {
      "cell_type": "code",
      "metadata": {
        "id": "wCsgwo7tIvAs"
      },
      "source": [
        "trainData = np.load('fin_t2_train.npy')\n",
        "trainLabels = open('finalTrainLabels.labels', 'r').readlines()\n",
        "testData = np.load('fin_t2_test.npy')\n",
        "testLabels = open('finalTestLabels.labels', 'r').readlines()"
      ],
      "execution_count": 10,
      "outputs": []
    },
    {
      "cell_type": "code",
      "metadata": {
        "colab": {
          "base_uri": "https://localhost:8080/"
        },
        "id": "52vL88loEOhc",
        "outputId": "25ee7a2b-a2b1-4ebb-a23b-379e3c63d759"
      },
      "source": [
        "trainData.shape"
      ],
      "execution_count": 11,
      "outputs": [
        {
          "output_type": "execute_result",
          "data": {
            "text/plain": [
              "(69992, 2200)"
            ]
          },
          "metadata": {},
          "execution_count": 11
        }
      ]
    },
    {
      "cell_type": "code",
      "metadata": {
        "colab": {
          "base_uri": "https://localhost:8080/",
          "height": 35
        },
        "id": "muI-UzjzGCqc",
        "outputId": "b1085ef4-1881-4081-c391-673ab7588e59"
      },
      "source": [
        "trainLabels[0]"
      ],
      "execution_count": 12,
      "outputs": [
        {
          "output_type": "execute_result",
          "data": {
            "application/vnd.google.colaboratory.intrinsic+json": {
              "type": "string"
            },
            "text/plain": [
              "'4\\n'"
            ]
          },
          "metadata": {},
          "execution_count": 12
        }
      ]
    },
    {
      "cell_type": "code",
      "metadata": {
        "colab": {
          "base_uri": "https://localhost:8080/"
        },
        "id": "1QjcQGoVGDJB",
        "outputId": "dca6dacb-392d-464f-8046-12195e8d2eba"
      },
      "source": [
        "for i in tqdm(range(len(trainLabels))):\n",
        "    trainLabels[i] = int(trainLabels[i])\n",
        "for i in tqdm(range(len(testLabels))):\n",
        "    testLabels[i] = int(testLabels[i])"
      ],
      "execution_count": 13,
      "outputs": [
        {
          "output_type": "stream",
          "name": "stderr",
          "text": [
            "100%|██████████| 69992/69992 [00:00<00:00, 1389584.19it/s]\n",
            "100%|██████████| 20000/20000 [00:00<00:00, 1048012.69it/s]\n"
          ]
        }
      ]
    },
    {
      "cell_type": "code",
      "metadata": {
        "colab": {
          "base_uri": "https://localhost:8080/"
        },
        "id": "FtQteW7OEfhd",
        "outputId": "75fcd166-67b4-4c83-893d-b248590dc475"
      },
      "source": [
        "trainData[0], trainLabels[0]"
      ],
      "execution_count": 14,
      "outputs": [
        {
          "output_type": "execute_result",
          "data": {
            "text/plain": [
              "(array([ 0.03065726, -0.06623586,  0.18018572, ...,  0.        ,\n",
              "         0.        ,  0.        ]), 4)"
            ]
          },
          "metadata": {},
          "execution_count": 14
        }
      ]
    },
    {
      "cell_type": "code",
      "metadata": {
        "id": "PmwGybOiE549"
      },
      "source": [
        "from tqdm import tqdm"
      ],
      "execution_count": 15,
      "outputs": []
    },
    {
      "cell_type": "code",
      "metadata": {
        "id": "A6A_MlQgJlte"
      },
      "source": [
        "trainLabels = np.array(trainLabels)\n",
        "testLabels = np.array(testLabels)"
      ],
      "execution_count": 16,
      "outputs": []
    },
    {
      "cell_type": "code",
      "metadata": {
        "id": "DKP-WkGmFDsE"
      },
      "source": [
        "trainLabels = trainLabels.reshape((-1, ))\n",
        "testLabels = testLabels.reshape((-1, ))"
      ],
      "execution_count": 17,
      "outputs": []
    },
    {
      "cell_type": "code",
      "metadata": {
        "id": "vmoUSWT1FmSQ"
      },
      "source": [
        "from sklearn.linear_model import LogisticRegression"
      ],
      "execution_count": 18,
      "outputs": []
    },
    {
      "cell_type": "code",
      "metadata": {
        "id": "BNIsi8K9G9aX"
      },
      "source": [
        "lr = LogisticRegression(verbose=1, max_iter=200)"
      ],
      "execution_count": 19,
      "outputs": []
    },
    {
      "cell_type": "code",
      "metadata": {
        "colab": {
          "base_uri": "https://localhost:8080/"
        },
        "id": "ZiOimks7cUSH",
        "outputId": "ac10135b-d0de-45b6-b971-87e3a1b26ee3"
      },
      "source": [
        "lr = LogisticRegression(verbose=1, max_iter=500, solver='saga')\n",
        "lr.fit(trainData, trainLabels)\n",
        "print('train: ', lr.score(trainData, trainLabels))\n",
        "print('test: ', lr.score(testData, testLabels))"
      ],
      "execution_count": 25,
      "outputs": [
        {
          "output_type": "stream",
          "name": "stderr",
          "text": [
            "[Parallel(n_jobs=1)]: Using backend SequentialBackend with 1 concurrent workers.\n"
          ]
        },
        {
          "output_type": "stream",
          "name": "stdout",
          "text": [
            "convergence after 63 epochs took 1020 seconds\n"
          ]
        },
        {
          "output_type": "stream",
          "name": "stderr",
          "text": [
            "[Parallel(n_jobs=1)]: Done   1 out of   1 | elapsed: 17.0min finished\n"
          ]
        },
        {
          "output_type": "stream",
          "name": "stdout",
          "text": [
            "train:  0.3359241056120699\n",
            "test:  0.25545\n"
          ]
        }
      ]
    },
    {
      "cell_type": "code",
      "metadata": {
        "colab": {
          "base_uri": "https://localhost:8080/"
        },
        "id": "pId-sFVRHLcW",
        "outputId": "b698816b-ee76-45d6-b621-337d06f2c4a8"
      },
      "source": [
        "lr = LogisticRegression(verbose=1, max_iter=500, solver='liblinear')\n",
        "lr.fit(trainData, trainLabels)\n",
        "print('train: ', lr.score(trainData, trainLabels))\n",
        "print('test: ', lr.score(testData, testLabels))"
      ],
      "execution_count": 26,
      "outputs": [
        {
          "output_type": "stream",
          "name": "stdout",
          "text": [
            "[LibLinear]train:  0.333038061492742\n",
            "test:  0.2637\n"
          ]
        }
      ]
    },
    {
      "cell_type": "code",
      "metadata": {
        "colab": {
          "base_uri": "https://localhost:8080/"
        },
        "id": "A7gIZuV-YSuX",
        "outputId": "3b53669e-718d-411f-bc1e-b20a05ed1427"
      },
      "source": [
        "lr = LogisticRegression(verbose=1, max_iter=500, solver='newton-cg')\n",
        "lr.fit(trainData, trainLabels)\n",
        "print('train: ', lr.score(trainData, trainLabels))\n",
        "print('test: ', lr.score(testData, testLabels))"
      ],
      "execution_count": 27,
      "outputs": [
        {
          "output_type": "stream",
          "name": "stderr",
          "text": [
            "[Parallel(n_jobs=1)]: Using backend SequentialBackend with 1 concurrent workers.\n",
            "[Parallel(n_jobs=1)]: Done   1 out of   1 | elapsed: 15.4min finished\n"
          ]
        },
        {
          "output_type": "stream",
          "name": "stdout",
          "text": [
            "train:  0.33590981826494454\n",
            "test:  0.25555\n"
          ]
        }
      ]
    },
    {
      "cell_type": "code",
      "metadata": {
        "colab": {
          "base_uri": "https://localhost:8080/"
        },
        "id": "lAtayYSFYSBD",
        "outputId": "290c57d7-af20-4efc-f76e-23c402670673"
      },
      "source": [
        "lr = LogisticRegression(verbose=1, max_iter=500, solver='lbfgs')\n",
        "lr.fit(trainData, trainLabels)\n",
        "print('train: ', lr.score(trainData, trainLabels))\n",
        "print('test: ', lr.score(testData, testLabels))"
      ],
      "execution_count": 28,
      "outputs": [
        {
          "output_type": "stream",
          "name": "stderr",
          "text": [
            "[Parallel(n_jobs=1)]: Using backend SequentialBackend with 1 concurrent workers.\n",
            "/usr/local/lib/python3.7/dist-packages/sklearn/linear_model/_logistic.py:818: ConvergenceWarning: lbfgs failed to converge (status=1):\n",
            "STOP: TOTAL NO. of ITERATIONS REACHED LIMIT.\n",
            "\n",
            "Increase the number of iterations (max_iter) or scale the data as shown in:\n",
            "    https://scikit-learn.org/stable/modules/preprocessing.html\n",
            "Please also refer to the documentation for alternative solver options:\n",
            "    https://scikit-learn.org/stable/modules/linear_model.html#logistic-regression\n",
            "  extra_warning_msg=_LOGISTIC_SOLVER_CONVERGENCE_MSG,\n",
            "[Parallel(n_jobs=1)]: Done   1 out of   1 | elapsed: 12.8min finished\n"
          ]
        },
        {
          "output_type": "stream",
          "name": "stdout",
          "text": [
            "train:  0.3358240941821922\n",
            "test:  0.25555\n"
          ]
        }
      ]
    },
    {
      "cell_type": "code",
      "metadata": {
        "colab": {
          "base_uri": "https://localhost:8080/"
        },
        "id": "8MZxRSYtYUv_",
        "outputId": "24067bd6-e9b0-4124-a047-05eeff37ec79"
      },
      "source": [
        "lr = LogisticRegression(verbose=1, max_iter=500, solver='sag')\n",
        "lr.fit(trainData, trainLabels)\n",
        "print('train: ', lr.score(trainData, trainLabels))\n",
        "print('test: ', lr.score(testData, testLabels))"
      ],
      "execution_count": 29,
      "outputs": [
        {
          "output_type": "stream",
          "name": "stderr",
          "text": [
            "[Parallel(n_jobs=1)]: Using backend SequentialBackend with 1 concurrent workers.\n"
          ]
        },
        {
          "output_type": "stream",
          "name": "stdout",
          "text": [
            "convergence after 35 epochs took 435 seconds\n"
          ]
        },
        {
          "output_type": "stream",
          "name": "stderr",
          "text": [
            "[Parallel(n_jobs=1)]: Done   1 out of   1 | elapsed:  7.2min finished\n"
          ]
        },
        {
          "output_type": "stream",
          "name": "stdout",
          "text": [
            "train:  0.33590981826494454\n",
            "test:  0.2555\n"
          ]
        }
      ]
    },
    {
      "cell_type": "code",
      "metadata": {
        "colab": {
          "base_uri": "https://localhost:8080/"
        },
        "id": "1rgvtf48QmDU",
        "outputId": "2e2f0753-1ae3-4029-8119-3005e391d524"
      },
      "source": [
        "lr = LogisticRegression(verbose=1, max_iter=2000, solver='lbfgs')\n",
        "lr.fit(trainData, trainLabels)\n",
        "print('train: ', lr.score(trainData, trainLabels))\n",
        "print('test: ', lr.score(testData, testLabels))"
      ],
      "execution_count": 30,
      "outputs": [
        {
          "output_type": "stream",
          "name": "stderr",
          "text": [
            "[Parallel(n_jobs=1)]: Using backend SequentialBackend with 1 concurrent workers.\n",
            "[Parallel(n_jobs=1)]: Done   1 out of   1 | elapsed: 17.3min finished\n"
          ]
        },
        {
          "output_type": "stream",
          "name": "stdout",
          "text": [
            "train:  0.335852668876443\n",
            "test:  0.25545\n"
          ]
        }
      ]
    },
    {
      "cell_type": "code",
      "metadata": {
        "id": "0Fph6ls-p6_X"
      },
      "source": [
        ""
      ],
      "execution_count": null,
      "outputs": []
    }
  ]
}