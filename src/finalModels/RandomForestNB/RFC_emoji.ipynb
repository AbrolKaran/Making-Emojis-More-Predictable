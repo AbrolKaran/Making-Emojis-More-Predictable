{
  "nbformat": 4,
  "nbformat_minor": 0,
  "metadata": {
    "colab": {
      "name": "RFC_emoji.ipynb",
      "provenance": []
    },
    "kernelspec": {
      "name": "python3",
      "display_name": "Python 3"
    },
    "language_info": {
      "name": "python"
    }
  },
  "cells": [
    {
      "cell_type": "code",
      "metadata": {
        "colab": {
          "base_uri": "https://localhost:8080/"
        },
        "id": "bRqNl6G-mPT7",
        "outputId": "68b29eb7-ad2e-49f9-af64-ab03ba0add06"
      },
      "source": [
        "from google.colab import drive\n",
        "drive.mount('/content/drive')"
      ],
      "execution_count": null,
      "outputs": [
        {
          "name": "stdout",
          "output_type": "stream",
          "text": [
            "Mounted at /content/drive\n"
          ]
        }
      ]
    },
    {
      "cell_type": "code",
      "metadata": {
        "colab": {
          "base_uri": "https://localhost:8080/"
        },
        "id": "H7Swf4P8H5xv",
        "outputId": "c6fdfb30-7d8e-4a4f-b28a-927f6cb8e76d"
      },
      "source": [
        "cd drive/MyDrive/NLP_Project"
      ],
      "execution_count": null,
      "outputs": [
        {
          "name": "stdout",
          "output_type": "stream",
          "text": [
            "/content/drive/.shortcut-targets-by-id/1plMjpYu4pyxTZsV33MlYa9xEP127qxWB/NLP_Project\n"
          ]
        }
      ]
    },
    {
      "cell_type": "code",
      "metadata": {
        "id": "6135jyy5IQ2B"
      },
      "source": [
        "# !pip install pandas matplotlib tqdm seaborn sklearn numpy graphviz\n",
        "import pandas as pd\n",
        "import matplotlib.pyplot as plt\n",
        "from tqdm import tqdm\n",
        "import seaborn as sns\n",
        "from sklearn.model_selection import train_test_split\n",
        "from sklearn.tree import DecisionTreeClassifier\n",
        "from sklearn.ensemble import RandomForestClassifier\n",
        "from sklearn.ensemble import AdaBoostClassifier\n",
        "from sklearn.model_selection import GridSearchCV\n",
        "import numpy as np\n",
        "from sklearn.metrics import  recall_score, precision_score, accuracy_score, roc_curve\n",
        "import graphviz"
      ],
      "execution_count": null,
      "outputs": []
    },
    {
      "cell_type": "code",
      "metadata": {
        "id": "wCsgwo7tIvAs"
      },
      "source": [
        "trainData = np.load('fin_t2_train.npy')\n",
        "trainLabels = open('finalTrainLabels.labels', 'r').readlines()\n",
        "testData = np.load('fin_t2_test.npy')\n",
        "testLabels = open('finalTestLabels.labels', 'r').readlines()"
      ],
      "execution_count": null,
      "outputs": []
    },
    {
      "cell_type": "code",
      "metadata": {
        "colab": {
          "base_uri": "https://localhost:8080/"
        },
        "id": "1QjcQGoVGDJB",
        "outputId": "ff4a6bee-c555-4753-a288-9b5baed2bb0b"
      },
      "source": [
        "for i in tqdm(range(len(trainLabels))):\n",
        "    trainLabels[i] = int(trainLabels[i])\n",
        "for i in tqdm(range(len(testLabels))):\n",
        "    testLabels[i] = int(testLabels[i])"
      ],
      "execution_count": null,
      "outputs": [
        {
          "name": "stderr",
          "output_type": "stream",
          "text": [
            "100%|██████████| 69992/69992 [00:00<00:00, 1402630.34it/s]\n",
            "100%|██████████| 20000/20000 [00:00<00:00, 1283093.40it/s]\n"
          ]
        }
      ]
    },
    {
      "cell_type": "code",
      "metadata": {
        "id": "A6A_MlQgJlte"
      },
      "source": [
        "trainLabels = np.array(trainLabels)\n",
        "testLabels = np.array(testLabels)\n",
        "trainLabels = trainLabels.reshape((-1, ))\n",
        "testLabels = testLabels.reshape((-1, ))"
      ],
      "execution_count": null,
      "outputs": []
    },
    {
      "cell_type": "code",
      "metadata": {
        "id": "QyM-1-Y95VDd"
      },
      "source": [
        "import warnings\n",
        "warnings.filterwarnings('always') \n",
        "from sklearn.metrics import classification_report"
      ],
      "execution_count": null,
      "outputs": []
    },
    {
      "cell_type": "code",
      "metadata": {
        "id": "DV-FaEI1fm76"
      },
      "source": [
        ""
      ],
      "execution_count": null,
      "outputs": []
    },
    {
      "cell_type": "markdown",
      "metadata": {
        "id": "QNjxJbCpa6SS"
      },
      "source": [
        "### Max Depth\n"
      ]
    },
    {
      "cell_type": "code",
      "metadata": {
        "colab": {
          "base_uri": "https://localhost:8080/",
          "height": 312
        },
        "id": "HFjI0dv-n9g2",
        "outputId": "f44d579f-e1df-457a-de14-0a9fc04fc7fa"
      },
      "source": [
        "accuracy = []\n",
        "depth = []\n",
        "for i in tqdm(range(1,30,1)):\n",
        "    clf = RandomForestClassifier(max_depth=i, random_state=0)\n",
        "    clf.fit(trainData, trainLabels)\n",
        "    y_pred = clf.predict(testData)\n",
        "    accuracy.append(round(accuracy_score(y_pred = y_pred, y_true = testLabels) * 100,2))\n",
        "    depth.append(i)\n",
        "\n",
        "plt.plot(depth, accuracy)\n",
        "plt.xlabel('Max Depth')\n",
        "plt.ylabel('Accuracy')\n",
        "plt.title('Accuracy vs Max Depth')\n",
        "plt.show()"
      ],
      "execution_count": null,
      "outputs": [
        {
          "name": "stderr",
          "output_type": "stream",
          "text": [
            "100%|██████████| 29/29 [49:01<00:00, 101.44s/it]\n"
          ]
        },
        {
          "data": {
            "image/png": "[encoded data removed]",
            "text/plain": [
              "<Figure size 432x288 with 1 Axes>"
            ]
          },
          "metadata": {},
          "output_type": "display_data"
        }
      ]
    },
    {
      "cell_type": "code",
      "metadata": {
        "colab": {
          "background_save": true,
          "base_uri": "https://localhost:8080/"
        },
        "id": "JoayXNdUGVlM",
        "outputId": "6a21663e-8d65-47b1-b14a-a45b9288ea59"
      },
      "source": [
        "accuracy = []\n",
        "predVal = []\n",
        "for i in tqdm(range(1,30,1)):\n",
        "    clf = RandomForestClassifier(criterion='gini', max_depth=i, random_state=0)\n",
        "    clf.fit(trainData, trainLabels)\n",
        "    y_pred = clf.predict(testData)\n",
        "    print(\"Classification report for case: \",i)\n",
        "    print(classification_report(testLabels,y_pred,labels = [1, 2, 3, 4, 5, 6, 7, 8, 9, 10, 11, 12, 13, 14, 15, 16, 17, 18, 19]))\n",
        "    accuracy.append(round(accuracy_score(y_pred = y_pred, y_true = testLabels) * 100,2))\n",
        "    predVal.append(i)\n",
        "\n",
        "\n",
        "plt.plot(predVal, accuracy)\n",
        "plt.xlabel('Max Depth')\n",
        "plt.ylabel('Accuracy')\n",
        "plt.title('Accuracy vs Max Depth')\n",
        "plt.show()"
      ],
      "execution_count": null,
      "outputs": [
        {
          "name": "stderr",
          "output_type": "stream",
          "text": [
            "  0%|          | 0/29 [00:00<?, ?it/s]/usr/local/lib/python3.7/dist-packages/sklearn/metrics/_classification.py:1308: UndefinedMetricWarning: Precision and F-score are ill-defined and being set to 0.0 in labels with no predicted samples. Use `zero_division` parameter to control this behavior.\n",
            "  _warn_prf(average, modifier, msg_start, len(result))\n",
            "/usr/local/lib/python3.7/dist-packages/sklearn/metrics/_classification.py:1308: UndefinedMetricWarning: Precision and F-score are ill-defined and being set to 0.0 due to no predicted samples. Use `zero_division` parameter to control this behavior.\n",
            "  _warn_prf(average, modifier, msg_start, len(result))\n",
            "/usr/local/lib/python3.7/dist-packages/sklearn/metrics/_classification.py:1308: UndefinedMetricWarning: Precision and F-score are ill-defined and being set to 0.0 in labels with no predicted samples. Use `zero_division` parameter to control this behavior.\n",
            "  _warn_prf(average, modifier, msg_start, len(result))\n",
            "/usr/local/lib/python3.7/dist-packages/sklearn/metrics/_classification.py:1308: UndefinedMetricWarning: Precision and F-score are ill-defined and being set to 0.0 in labels with no predicted samples. Use `zero_division` parameter to control this behavior.\n",
            "  _warn_prf(average, modifier, msg_start, len(result))\n",
            "  3%|▎         | 1/29 [00:09<04:30,  9.65s/it]"
          ]
        },
        {
          "name": "stdout",
          "output_type": "stream",
          "text": [
            "Classification report for case:  1\n",
            "              precision    recall  f1-score   support\n",
            "\n",
            "           1       0.00      0.00      0.00      2022\n",
            "           2       0.00      0.00      0.00      1955\n",
            "           3       0.00      0.00      0.00      1099\n",
            "           4       0.00      0.00      0.00      1246\n",
            "           5       0.00      0.00      0.00       786\n",
            "           6       0.00      0.00      0.00       809\n",
            "           7       0.00      0.00      0.00       928\n",
            "           8       0.00      0.00      0.00       669\n",
            "           9       0.00      0.00      0.00       569\n",
            "          10       0.00      0.00      0.00       595\n",
            "          11       0.00      0.00      0.00       696\n",
            "          12       0.00      0.00      0.00       546\n",
            "          13       0.00      0.00      0.00       492\n",
            "          14       0.00      0.00      0.00       536\n",
            "          15       0.00      0.00      0.00       498\n",
            "          16       0.00      0.00      0.00       492\n",
            "          17       0.00      0.00      0.00       565\n",
            "          18       0.00      0.00      0.00       740\n",
            "          19       0.00      0.00      0.00       445\n",
            "\n",
            "   micro avg       0.00      0.00      0.00     15688\n",
            "   macro avg       0.00      0.00      0.00     15688\n",
            "weighted avg       0.00      0.00      0.00     15688\n",
            "\n"
          ]
        },
        {
          "name": "stderr",
          "output_type": "stream",
          "text": [
            "/usr/local/lib/python3.7/dist-packages/sklearn/metrics/_classification.py:1308: UndefinedMetricWarning: Precision and F-score are ill-defined and being set to 0.0 in labels with no predicted samples. Use `zero_division` parameter to control this behavior.\n",
            "  _warn_prf(average, modifier, msg_start, len(result))\n",
            "/usr/local/lib/python3.7/dist-packages/sklearn/metrics/_classification.py:1308: UndefinedMetricWarning: Precision and F-score are ill-defined and being set to 0.0 due to no predicted samples. Use `zero_division` parameter to control this behavior.\n",
            "  _warn_prf(average, modifier, msg_start, len(result))\n",
            "/usr/local/lib/python3.7/dist-packages/sklearn/metrics/_classification.py:1308: UndefinedMetricWarning: Precision and F-score are ill-defined and being set to 0.0 in labels with no predicted samples. Use `zero_division` parameter to control this behavior.\n",
            "  _warn_prf(average, modifier, msg_start, len(result))\n",
            "/usr/local/lib/python3.7/dist-packages/sklearn/metrics/_classification.py:1308: UndefinedMetricWarning: Precision and F-score are ill-defined and being set to 0.0 in labels with no predicted samples. Use `zero_division` parameter to control this behavior.\n",
            "  _warn_prf(average, modifier, msg_start, len(result))\n",
            "\r  7%|▋         | 2/29 [00:26<06:09, 13.69s/it]"
          ]
        },
        {
          "name": "stdout",
          "output_type": "stream",
          "text": [
            "Classification report for case:  2\n",
            "              precision    recall  f1-score   support\n",
            "\n",
            "           1       0.00      0.00      0.00      2022\n",
            "           2       0.00      0.00      0.00      1955\n",
            "           3       0.00      0.00      0.00      1099\n",
            "           4       0.00      0.00      0.00      1246\n",
            "           5       0.00      0.00      0.00       786\n",
            "           6       0.00      0.00      0.00       809\n",
            "           7       0.00      0.00      0.00       928\n",
            "           8       0.00      0.00      0.00       669\n",
            "           9       0.00      0.00      0.00       569\n",
            "          10       0.00      0.00      0.00       595\n",
            "          11       0.00      0.00      0.00       696\n",
            "          12       0.00      0.00      0.00       546\n",
            "          13       0.00      0.00      0.00       492\n",
            "          14       0.00      0.00      0.00       536\n",
            "          15       0.00      0.00      0.00       498\n",
            "          16       0.00      0.00      0.00       492\n",
            "          17       0.00      0.00      0.00       565\n",
            "          18       0.00      0.00      0.00       740\n",
            "          19       0.00      0.00      0.00       445\n",
            "\n",
            "   micro avg       0.00      0.00      0.00     15688\n",
            "   macro avg       0.00      0.00      0.00     15688\n",
            "weighted avg       0.00      0.00      0.00     15688\n",
            "\n"
          ]
        },
        {
          "name": "stderr",
          "output_type": "stream",
          "text": [
            "/usr/local/lib/python3.7/dist-packages/sklearn/metrics/_classification.py:1308: UndefinedMetricWarning: Precision and F-score are ill-defined and being set to 0.0 in labels with no predicted samples. Use `zero_division` parameter to control this behavior.\n",
            "  _warn_prf(average, modifier, msg_start, len(result))\n",
            "/usr/local/lib/python3.7/dist-packages/sklearn/metrics/_classification.py:1308: UndefinedMetricWarning: Precision and F-score are ill-defined and being set to 0.0 in labels with no predicted samples. Use `zero_division` parameter to control this behavior.\n",
            "  _warn_prf(average, modifier, msg_start, len(result))\n",
            "/usr/local/lib/python3.7/dist-packages/sklearn/metrics/_classification.py:1308: UndefinedMetricWarning: Precision and F-score are ill-defined and being set to 0.0 in labels with no predicted samples. Use `zero_division` parameter to control this behavior.\n",
            "  _warn_prf(average, modifier, msg_start, len(result))\n",
            "\r 10%|█         | 3/29 [00:49<07:53, 18.21s/it]"
          ]
        },
        {
          "name": "stdout",
          "output_type": "stream",
          "text": [
            "Classification report for case:  3\n",
            "              precision    recall  f1-score   support\n",
            "\n",
            "           1       0.00      0.00      0.00      2022\n",
            "           2       0.00      0.00      0.00      1955\n",
            "           3       0.00      0.00      0.00      1099\n",
            "           4       0.00      0.00      0.00      1246\n",
            "           5       0.00      0.00      0.00       786\n",
            "           6       0.00      0.00      0.00       809\n",
            "           7       0.00      0.00      0.00       928\n",
            "           8       0.00      0.00      0.00       669\n",
            "           9       0.00      0.00      0.00       569\n",
            "          10       0.00      0.00      0.00       595\n",
            "          11       1.00      0.00      0.01       696\n",
            "          12       0.00      0.00      0.00       546\n",
            "          13       0.00      0.00      0.00       492\n",
            "          14       0.00      0.00      0.00       536\n",
            "          15       0.00      0.00      0.00       498\n",
            "          16       0.00      0.00      0.00       492\n",
            "          17       0.00      0.00      0.00       565\n",
            "          18       0.00      0.00      0.00       740\n",
            "          19       0.00      0.00      0.00       445\n",
            "\n",
            "   micro avg       1.00      0.00      0.00     15688\n",
            "   macro avg       0.05      0.00      0.00     15688\n",
            "weighted avg       0.04      0.00      0.00     15688\n",
            "\n"
          ]
        },
        {
          "name": "stderr",
          "output_type": "stream",
          "text": [
            "/usr/local/lib/python3.7/dist-packages/sklearn/metrics/_classification.py:1308: UndefinedMetricWarning: Precision and F-score are ill-defined and being set to 0.0 in labels with no predicted samples. Use `zero_division` parameter to control this behavior.\n",
            "  _warn_prf(average, modifier, msg_start, len(result))\n",
            "/usr/local/lib/python3.7/dist-packages/sklearn/metrics/_classification.py:1308: UndefinedMetricWarning: Precision and F-score are ill-defined and being set to 0.0 in labels with no predicted samples. Use `zero_division` parameter to control this behavior.\n",
            "  _warn_prf(average, modifier, msg_start, len(result))\n",
            "/usr/local/lib/python3.7/dist-packages/sklearn/metrics/_classification.py:1308: UndefinedMetricWarning: Precision and F-score are ill-defined and being set to 0.0 in labels with no predicted samples. Use `zero_division` parameter to control this behavior.\n",
            "  _warn_prf(average, modifier, msg_start, len(result))\n",
            "\r 14%|█▍        | 4/29 [01:20<09:39, 23.18s/it]"
          ]
        },
        {
          "name": "stdout",
          "output_type": "stream",
          "text": [
            "Classification report for case:  4\n",
            "              precision    recall  f1-score   support\n",
            "\n",
            "           1       0.00      0.00      0.00      2022\n",
            "           2       0.00      0.00      0.00      1955\n",
            "           3       0.00      0.00      0.00      1099\n",
            "           4       1.00      0.00      0.00      1246\n",
            "           5       0.00      0.00      0.00       786\n",
            "           6       0.00      0.00      0.00       809\n",
            "           7       0.00      0.00      0.00       928\n",
            "           8       0.00      0.00      0.00       669\n",
            "           9       0.00      0.00      0.00       569\n",
            "          10       0.00      0.00      0.00       595\n",
            "          11       1.00      0.02      0.03       696\n",
            "          12       0.00      0.00      0.00       546\n",
            "          13       0.00      0.00      0.00       492\n",
            "          14       0.00      0.00      0.00       536\n",
            "          15       0.00      0.00      0.00       498\n",
            "          16       0.00      0.00      0.00       492\n",
            "          17       0.00      0.00      0.00       565\n",
            "          18       0.00      0.00      0.00       740\n",
            "          19       0.00      0.00      0.00       445\n",
            "\n",
            "   micro avg       1.00      0.00      0.00     15688\n",
            "   macro avg       0.11      0.00      0.00     15688\n",
            "weighted avg       0.12      0.00      0.00     15688\n",
            "\n"
          ]
        },
        {
          "name": "stderr",
          "output_type": "stream",
          "text": [
            "/usr/local/lib/python3.7/dist-packages/sklearn/metrics/_classification.py:1308: UndefinedMetricWarning: Precision and F-score are ill-defined and being set to 0.0 in labels with no predicted samples. Use `zero_division` parameter to control this behavior.\n",
            "  _warn_prf(average, modifier, msg_start, len(result))\n",
            "/usr/local/lib/python3.7/dist-packages/sklearn/metrics/_classification.py:1308: UndefinedMetricWarning: Precision and F-score are ill-defined and being set to 0.0 in labels with no predicted samples. Use `zero_division` parameter to control this behavior.\n",
            "  _warn_prf(average, modifier, msg_start, len(result))\n",
            "/usr/local/lib/python3.7/dist-packages/sklearn/metrics/_classification.py:1308: UndefinedMetricWarning: Precision and F-score are ill-defined and being set to 0.0 in labels with no predicted samples. Use `zero_division` parameter to control this behavior.\n",
            "  _warn_prf(average, modifier, msg_start, len(result))\n",
            "\r 17%|█▋        | 5/29 [01:58<11:19, 28.33s/it]"
          ]
        },
        {
          "name": "stdout",
          "output_type": "stream",
          "text": [
            "Classification report for case:  5\n",
            "              precision    recall  f1-score   support\n",
            "\n",
            "           1       0.00      0.00      0.00      2022\n",
            "           2       1.00      0.00      0.00      1955\n",
            "           3       0.00      0.00      0.00      1099\n",
            "           4       1.00      0.00      0.00      1246\n",
            "           5       0.00      0.00      0.00       786\n",
            "           6       0.00      0.00      0.00       809\n",
            "           7       0.00      0.00      0.00       928\n",
            "           8       0.00      0.00      0.00       669\n",
            "           9       0.00      0.00      0.00       569\n",
            "          10       0.00      0.00      0.00       595\n",
            "          11       0.95      0.03      0.05       696\n",
            "          12       0.00      0.00      0.00       546\n",
            "          13       0.00      0.00      0.00       492\n",
            "          14       0.00      0.00      0.00       536\n",
            "          15       0.00      0.00      0.00       498\n",
            "          16       0.00      0.00      0.00       492\n",
            "          17       0.00      0.00      0.00       565\n",
            "          18       0.00      0.00      0.00       740\n",
            "          19       0.00      0.00      0.00       445\n",
            "\n",
            "   micro avg       0.95      0.00      0.00     15688\n",
            "   macro avg       0.16      0.00      0.00     15688\n",
            "weighted avg       0.25      0.00      0.00     15688\n",
            "\n"
          ]
        },
        {
          "name": "stderr",
          "output_type": "stream",
          "text": [
            "/usr/local/lib/python3.7/dist-packages/sklearn/metrics/_classification.py:1308: UndefinedMetricWarning: Precision and F-score are ill-defined and being set to 0.0 in labels with no predicted samples. Use `zero_division` parameter to control this behavior.\n",
            "  _warn_prf(average, modifier, msg_start, len(result))\n",
            "/usr/local/lib/python3.7/dist-packages/sklearn/metrics/_classification.py:1308: UndefinedMetricWarning: Precision and F-score are ill-defined and being set to 0.0 in labels with no predicted samples. Use `zero_division` parameter to control this behavior.\n",
            "  _warn_prf(average, modifier, msg_start, len(result))\n",
            "/usr/local/lib/python3.7/dist-packages/sklearn/metrics/_classification.py:1308: UndefinedMetricWarning: Precision and F-score are ill-defined and being set to 0.0 in labels with no predicted samples. Use `zero_division` parameter to control this behavior.\n",
            "  _warn_prf(average, modifier, msg_start, len(result))\n",
            "\r 21%|██        | 6/29 [02:44<13:12, 34.47s/it]"
          ]
        },
        {
          "name": "stdout",
          "output_type": "stream",
          "text": [
            "Classification report for case:  6\n",
            "              precision    recall  f1-score   support\n",
            "\n",
            "           1       0.00      0.00      0.00      2022\n",
            "           2       1.00      0.00      0.00      1955\n",
            "           3       0.00      0.00      0.00      1099\n",
            "           4       1.00      0.00      0.00      1246\n",
            "           5       0.00      0.00      0.00       786\n",
            "           6       0.00      0.00      0.00       809\n",
            "           7       0.00      0.00      0.00       928\n",
            "           8       0.00      0.00      0.00       669\n",
            "           9       0.00      0.00      0.00       569\n",
            "          10       0.00      0.00      0.00       595\n",
            "          11       0.94      0.02      0.05       696\n",
            "          12       0.00      0.00      0.00       546\n",
            "          13       0.00      0.00      0.00       492\n",
            "          14       0.00      0.00      0.00       536\n",
            "          15       0.00      0.00      0.00       498\n",
            "          16       0.00      0.00      0.00       492\n",
            "          17       0.68      0.10      0.17       565\n",
            "          18       0.00      0.00      0.00       740\n",
            "          19       0.00      0.00      0.00       445\n",
            "\n",
            "   micro avg       0.74      0.00      0.01     15688\n",
            "   macro avg       0.19      0.01      0.01     15688\n",
            "weighted avg       0.27      0.00      0.01     15688\n",
            "\n"
          ]
        },
        {
          "name": "stderr",
          "output_type": "stream",
          "text": [
            "/usr/local/lib/python3.7/dist-packages/sklearn/metrics/_classification.py:1308: UndefinedMetricWarning: Precision and F-score are ill-defined and being set to 0.0 in labels with no predicted samples. Use `zero_division` parameter to control this behavior.\n",
            "  _warn_prf(average, modifier, msg_start, len(result))\n",
            "/usr/local/lib/python3.7/dist-packages/sklearn/metrics/_classification.py:1308: UndefinedMetricWarning: Precision and F-score are ill-defined and being set to 0.0 in labels with no predicted samples. Use `zero_division` parameter to control this behavior.\n",
            "  _warn_prf(average, modifier, msg_start, len(result))\n",
            "/usr/local/lib/python3.7/dist-packages/sklearn/metrics/_classification.py:1308: UndefinedMetricWarning: Precision and F-score are ill-defined and being set to 0.0 in labels with no predicted samples. Use `zero_division` parameter to control this behavior.\n",
            "  _warn_prf(average, modifier, msg_start, len(result))\n",
            "\r 24%|██▍       | 7/29 [03:37<14:54, 40.65s/it]"
          ]
        },
        {
          "name": "stdout",
          "output_type": "stream",
          "text": [
            "Classification report for case:  7\n",
            "              precision    recall  f1-score   support\n",
            "\n",
            "           1       0.00      0.00      0.00      2022\n",
            "           2       0.86      0.01      0.01      1955\n",
            "           3       0.00      0.00      0.00      1099\n",
            "           4       1.00      0.00      0.00      1246\n",
            "           5       0.00      0.00      0.00       786\n",
            "           6       0.00      0.00      0.00       809\n",
            "           7       0.00      0.00      0.00       928\n",
            "           8       0.00      0.00      0.00       669\n",
            "           9       0.00      0.00      0.00       569\n",
            "          10       0.00      0.00      0.00       595\n",
            "          11       1.00      0.02      0.04       696\n",
            "          12       0.00      0.00      0.00       546\n",
            "          13       0.00      0.00      0.00       492\n",
            "          14       0.00      0.00      0.00       536\n",
            "          15       0.00      0.00      0.00       498\n",
            "          16       0.00      0.00      0.00       492\n",
            "          17       0.68      0.08      0.14       565\n",
            "          18       0.00      0.00      0.00       740\n",
            "          19       0.00      0.00      0.00       445\n",
            "\n",
            "   micro avg       0.76      0.00      0.01     15688\n",
            "   macro avg       0.19      0.01      0.01     15688\n",
            "weighted avg       0.25      0.00      0.01     15688\n",
            "\n"
          ]
        },
        {
          "name": "stderr",
          "output_type": "stream",
          "text": [
            "/usr/local/lib/python3.7/dist-packages/sklearn/metrics/_classification.py:1308: UndefinedMetricWarning: Precision and F-score are ill-defined and being set to 0.0 in labels with no predicted samples. Use `zero_division` parameter to control this behavior.\n",
            "  _warn_prf(average, modifier, msg_start, len(result))\n",
            "/usr/local/lib/python3.7/dist-packages/sklearn/metrics/_classification.py:1308: UndefinedMetricWarning: Precision and F-score are ill-defined and being set to 0.0 in labels with no predicted samples. Use `zero_division` parameter to control this behavior.\n",
            "  _warn_prf(average, modifier, msg_start, len(result))\n",
            "/usr/local/lib/python3.7/dist-packages/sklearn/metrics/_classification.py:1308: UndefinedMetricWarning: Precision and F-score are ill-defined and being set to 0.0 in labels with no predicted samples. Use `zero_division` parameter to control this behavior.\n",
            "  _warn_prf(average, modifier, msg_start, len(result))\n",
            "\r 28%|██▊       | 8/29 [04:38<16:28, 47.06s/it]"
          ]
        },
        {
          "name": "stdout",
          "output_type": "stream",
          "text": [
            "Classification report for case:  8\n",
            "              precision    recall  f1-score   support\n",
            "\n",
            "           1       0.00      0.00      0.00      2022\n",
            "           2       0.67      0.00      0.00      1955\n",
            "           3       0.00      0.00      0.00      1099\n",
            "           4       0.67      0.00      0.01      1246\n",
            "           5       0.00      0.00      0.00       786\n",
            "           6       0.00      0.00      0.00       809\n",
            "           7       0.00      0.00      0.00       928\n",
            "           8       0.00      0.00      0.00       669\n",
            "           9       0.00      0.00      0.00       569\n",
            "          10       0.00      0.00      0.00       595\n",
            "          11       0.94      0.02      0.05       696\n",
            "          12       0.00      0.00      0.00       546\n",
            "          13       0.00      0.00      0.00       492\n",
            "          14       0.00      0.00      0.00       536\n",
            "          15       0.00      0.00      0.00       498\n",
            "          16       0.00      0.00      0.00       492\n",
            "          17       0.73      0.13      0.22       565\n",
            "          18       0.00      0.00      0.00       740\n",
            "          19       0.00      0.00      0.00       445\n",
            "\n",
            "   micro avg       0.75      0.01      0.01     15688\n",
            "   macro avg       0.16      0.01      0.01     15688\n",
            "weighted avg       0.20      0.01      0.01     15688\n",
            "\n"
          ]
        },
        {
          "name": "stderr",
          "output_type": "stream",
          "text": [
            "/usr/local/lib/python3.7/dist-packages/sklearn/metrics/_classification.py:1308: UndefinedMetricWarning: Precision and F-score are ill-defined and being set to 0.0 in labels with no predicted samples. Use `zero_division` parameter to control this behavior.\n",
            "  _warn_prf(average, modifier, msg_start, len(result))\n",
            "/usr/local/lib/python3.7/dist-packages/sklearn/metrics/_classification.py:1308: UndefinedMetricWarning: Precision and F-score are ill-defined and being set to 0.0 in labels with no predicted samples. Use `zero_division` parameter to control this behavior.\n",
            "  _warn_prf(average, modifier, msg_start, len(result))\n",
            "/usr/local/lib/python3.7/dist-packages/sklearn/metrics/_classification.py:1308: UndefinedMetricWarning: Precision and F-score are ill-defined and being set to 0.0 in labels with no predicted samples. Use `zero_division` parameter to control this behavior.\n",
            "  _warn_prf(average, modifier, msg_start, len(result))\n",
            "\r 31%|███       | 9/29 [05:46<17:52, 53.63s/it]"
          ]
        },
        {
          "name": "stdout",
          "output_type": "stream",
          "text": [
            "Classification report for case:  9\n",
            "              precision    recall  f1-score   support\n",
            "\n",
            "           1       0.00      0.00      0.00      2022\n",
            "           2       0.80      0.00      0.01      1955\n",
            "           3       0.00      0.00      0.00      1099\n",
            "           4       1.00      0.00      0.01      1246\n",
            "           5       0.00      0.00      0.00       786\n",
            "           6       0.00      0.00      0.00       809\n",
            "           7       0.00      0.00      0.00       928\n",
            "           8       0.00      0.00      0.00       669\n",
            "           9       0.00      0.00      0.00       569\n",
            "          10       0.00      0.00      0.00       595\n",
            "          11       1.00      0.03      0.05       696\n",
            "          12       0.00      0.00      0.00       546\n",
            "          13       0.00      0.00      0.00       492\n",
            "          14       0.00      0.00      0.00       536\n",
            "          15       0.00      0.00      0.00       498\n",
            "          16       0.00      0.00      0.00       492\n",
            "          17       0.71      0.02      0.03       565\n",
            "          18       0.00      0.00      0.00       740\n",
            "          19       0.00      0.00      0.00       445\n",
            "\n",
            "   micro avg       0.88      0.00      0.01     15688\n",
            "   macro avg       0.18      0.00      0.01     15688\n",
            "weighted avg       0.25      0.00      0.01     15688\n",
            "\n"
          ]
        },
        {
          "name": "stderr",
          "output_type": "stream",
          "text": [
            "/usr/local/lib/python3.7/dist-packages/sklearn/metrics/_classification.py:1308: UndefinedMetricWarning: Precision and F-score are ill-defined and being set to 0.0 in labels with no predicted samples. Use `zero_division` parameter to control this behavior.\n",
            "  _warn_prf(average, modifier, msg_start, len(result))\n",
            "/usr/local/lib/python3.7/dist-packages/sklearn/metrics/_classification.py:1308: UndefinedMetricWarning: Precision and F-score are ill-defined and being set to 0.0 in labels with no predicted samples. Use `zero_division` parameter to control this behavior.\n",
            "  _warn_prf(average, modifier, msg_start, len(result))\n",
            "/usr/local/lib/python3.7/dist-packages/sklearn/metrics/_classification.py:1308: UndefinedMetricWarning: Precision and F-score are ill-defined and being set to 0.0 in labels with no predicted samples. Use `zero_division` parameter to control this behavior.\n",
            "  _warn_prf(average, modifier, msg_start, len(result))\n",
            "\r 34%|███▍      | 10/29 [07:02<19:07, 60.41s/it]"
          ]
        },
        {
          "name": "stdout",
          "output_type": "stream",
          "text": [
            "Classification report for case:  10\n",
            "              precision    recall  f1-score   support\n",
            "\n",
            "           1       0.00      0.00      0.00      2022\n",
            "           2       0.85      0.02      0.04      1955\n",
            "           3       0.00      0.00      0.00      1099\n",
            "           4       0.63      0.02      0.04      1246\n",
            "           5       0.00      0.00      0.00       786\n",
            "           6       0.00      0.00      0.00       809\n",
            "           7       0.00      0.00      0.00       928\n",
            "           8       0.00      0.00      0.00       669\n",
            "           9       0.00      0.00      0.00       569\n",
            "          10       0.00      0.00      0.00       595\n",
            "          11       0.81      0.04      0.08       696\n",
            "          12       0.00      0.00      0.00       546\n",
            "          13       0.00      0.00      0.00       492\n",
            "          14       0.00      0.00      0.00       536\n",
            "          15       0.00      0.00      0.00       498\n",
            "          16       0.00      0.00      0.00       492\n",
            "          17       0.69      0.13      0.22       565\n",
            "          18       0.00      0.00      0.00       740\n",
            "          19       0.00      0.00      0.00       445\n",
            "\n",
            "   micro avg       0.73      0.01      0.02     15688\n",
            "   macro avg       0.16      0.01      0.02     15688\n",
            "weighted avg       0.22      0.01      0.02     15688\n",
            "\n"
          ]
        },
        {
          "name": "stderr",
          "output_type": "stream",
          "text": [
            "/usr/local/lib/python3.7/dist-packages/sklearn/metrics/_classification.py:1308: UndefinedMetricWarning: Precision and F-score are ill-defined and being set to 0.0 in labels with no predicted samples. Use `zero_division` parameter to control this behavior.\n",
            "  _warn_prf(average, modifier, msg_start, len(result))\n",
            "/usr/local/lib/python3.7/dist-packages/sklearn/metrics/_classification.py:1308: UndefinedMetricWarning: Precision and F-score are ill-defined and being set to 0.0 in labels with no predicted samples. Use `zero_division` parameter to control this behavior.\n",
            "  _warn_prf(average, modifier, msg_start, len(result))\n",
            "/usr/local/lib/python3.7/dist-packages/sklearn/metrics/_classification.py:1308: UndefinedMetricWarning: Precision and F-score are ill-defined and being set to 0.0 in labels with no predicted samples. Use `zero_division` parameter to control this behavior.\n",
            "  _warn_prf(average, modifier, msg_start, len(result))\n",
            "\r 38%|███▊      | 11/29 [08:27<20:23, 67.95s/it]"
          ]
        },
        {
          "name": "stdout",
          "output_type": "stream",
          "text": [
            "Classification report for case:  11\n",
            "              precision    recall  f1-score   support\n",
            "\n",
            "           1       0.00      0.00      0.00      2022\n",
            "           2       0.85      0.03      0.06      1955\n",
            "           3       0.00      0.00      0.00      1099\n",
            "           4       0.78      0.06      0.12      1246\n",
            "           5       0.00      0.00      0.00       786\n",
            "           6       0.00      0.00      0.00       809\n",
            "           7       0.00      0.00      0.00       928\n",
            "           8       0.00      0.00      0.00       669\n",
            "           9       0.00      0.00      0.00       569\n",
            "          10       0.00      0.00      0.00       595\n",
            "          11       0.67      0.05      0.10       696\n",
            "          12       0.00      0.00      0.00       546\n",
            "          13       0.00      0.00      0.00       492\n",
            "          14       0.00      0.00      0.00       536\n",
            "          15       0.00      0.00      0.00       498\n",
            "          16       0.00      0.00      0.00       492\n",
            "          17       0.70      0.25      0.37       565\n",
            "          18       0.00      0.00      0.00       740\n",
            "          19       0.00      0.00      0.00       445\n",
            "\n",
            "   micro avg       0.74      0.02      0.04     15688\n",
            "   macro avg       0.16      0.02      0.03     15688\n",
            "weighted avg       0.22      0.02      0.03     15688\n",
            "\n"
          ]
        },
        {
          "name": "stderr",
          "output_type": "stream",
          "text": [
            "/usr/local/lib/python3.7/dist-packages/sklearn/metrics/_classification.py:1308: UndefinedMetricWarning: Precision and F-score are ill-defined and being set to 0.0 in labels with no predicted samples. Use `zero_division` parameter to control this behavior.\n",
            "  _warn_prf(average, modifier, msg_start, len(result))\n",
            "/usr/local/lib/python3.7/dist-packages/sklearn/metrics/_classification.py:1308: UndefinedMetricWarning: Precision and F-score are ill-defined and being set to 0.0 in labels with no predicted samples. Use `zero_division` parameter to control this behavior.\n",
            "  _warn_prf(average, modifier, msg_start, len(result))\n",
            "/usr/local/lib/python3.7/dist-packages/sklearn/metrics/_classification.py:1308: UndefinedMetricWarning: Precision and F-score are ill-defined and being set to 0.0 in labels with no predicted samples. Use `zero_division` parameter to control this behavior.\n",
            "  _warn_prf(average, modifier, msg_start, len(result))\n",
            "\r 41%|████▏     | 12/29 [09:57<21:09, 74.69s/it]"
          ]
        },
        {
          "name": "stdout",
          "output_type": "stream",
          "text": [
            "Classification report for case:  12\n",
            "              precision    recall  f1-score   support\n",
            "\n",
            "           1       0.00      0.00      0.00      2022\n",
            "           2       0.69      0.06      0.11      1955\n",
            "           3       0.00      0.00      0.00      1099\n",
            "           4       0.78      0.02      0.05      1246\n",
            "           5       0.00      0.00      0.00       786\n",
            "           6       0.00      0.00      0.00       809\n",
            "           7       0.00      0.00      0.00       928\n",
            "           8       0.00      0.00      0.00       669\n",
            "           9       0.00      0.00      0.00       569\n",
            "          10       0.00      0.00      0.00       595\n",
            "          11       0.73      0.06      0.11       696\n",
            "          12       0.00      0.00      0.00       546\n",
            "          13       0.00      0.00      0.00       492\n",
            "          14       0.00      0.00      0.00       536\n",
            "          15       0.00      0.00      0.00       498\n",
            "          16       0.00      0.00      0.00       492\n",
            "          17       0.69      0.22      0.34       565\n",
            "          18       0.00      0.00      0.00       740\n",
            "          19       0.00      0.00      0.00       445\n",
            "\n",
            "   micro avg       0.69      0.02      0.04     15688\n",
            "   macro avg       0.15      0.02      0.03     15688\n",
            "weighted avg       0.20      0.02      0.03     15688\n",
            "\n"
          ]
        },
        {
          "name": "stderr",
          "output_type": "stream",
          "text": [
            "/usr/local/lib/python3.7/dist-packages/sklearn/metrics/_classification.py:1308: UndefinedMetricWarning: Precision and F-score are ill-defined and being set to 0.0 in labels with no predicted samples. Use `zero_division` parameter to control this behavior.\n",
            "  _warn_prf(average, modifier, msg_start, len(result))\n",
            "/usr/local/lib/python3.7/dist-packages/sklearn/metrics/_classification.py:1308: UndefinedMetricWarning: Precision and F-score are ill-defined and being set to 0.0 in labels with no predicted samples. Use `zero_division` parameter to control this behavior.\n",
            "  _warn_prf(average, modifier, msg_start, len(result))\n",
            "/usr/local/lib/python3.7/dist-packages/sklearn/metrics/_classification.py:1308: UndefinedMetricWarning: Precision and F-score are ill-defined and being set to 0.0 in labels with no predicted samples. Use `zero_division` parameter to control this behavior.\n",
            "  _warn_prf(average, modifier, msg_start, len(result))\n",
            "\r 45%|████▍     | 13/29 [11:29<21:20, 80.05s/it]"
          ]
        },
        {
          "name": "stdout",
          "output_type": "stream",
          "text": [
            "Classification report for case:  13\n",
            "              precision    recall  f1-score   support\n",
            "\n",
            "           1       0.00      0.00      0.00      2022\n",
            "           2       0.80      0.03      0.05      1955\n",
            "           3       0.00      0.00      0.00      1099\n",
            "           4       0.82      0.03      0.05      1246\n",
            "           5       0.00      0.00      0.00       786\n",
            "           6       0.00      0.00      0.00       809\n",
            "           7       0.00      0.00      0.00       928\n",
            "           8       0.00      0.00      0.00       669\n",
            "           9       0.00      0.00      0.00       569\n",
            "          10       0.00      0.00      0.00       595\n",
            "          11       0.75      0.06      0.11       696\n",
            "          12       0.00      0.00      0.00       546\n",
            "          13       0.00      0.00      0.00       492\n",
            "          14       0.00      0.00      0.00       536\n",
            "          15       0.00      0.00      0.00       498\n",
            "          16       0.00      0.00      0.00       492\n",
            "          17       0.69      0.12      0.20       565\n",
            "          18       0.00      0.00      0.00       740\n",
            "          19       0.00      0.00      0.00       445\n",
            "\n",
            "   micro avg       0.73      0.01      0.02     15688\n",
            "   macro avg       0.16      0.01      0.02     15688\n",
            "weighted avg       0.22      0.01      0.02     15688\n",
            "\n"
          ]
        },
        {
          "name": "stderr",
          "output_type": "stream",
          "text": [
            "/usr/local/lib/python3.7/dist-packages/sklearn/metrics/_classification.py:1308: UndefinedMetricWarning: Precision and F-score are ill-defined and being set to 0.0 in labels with no predicted samples. Use `zero_division` parameter to control this behavior.\n",
            "  _warn_prf(average, modifier, msg_start, len(result))\n",
            "/usr/local/lib/python3.7/dist-packages/sklearn/metrics/_classification.py:1308: UndefinedMetricWarning: Precision and F-score are ill-defined and being set to 0.0 in labels with no predicted samples. Use `zero_division` parameter to control this behavior.\n",
            "  _warn_prf(average, modifier, msg_start, len(result))\n",
            "/usr/local/lib/python3.7/dist-packages/sklearn/metrics/_classification.py:1308: UndefinedMetricWarning: Precision and F-score are ill-defined and being set to 0.0 in labels with no predicted samples. Use `zero_division` parameter to control this behavior.\n",
            "  _warn_prf(average, modifier, msg_start, len(result))\n",
            "\r 48%|████▊     | 14/29 [13:10<21:35, 86.38s/it]"
          ]
        },
        {
          "name": "stdout",
          "output_type": "stream",
          "text": [
            "Classification report for case:  14\n",
            "              precision    recall  f1-score   support\n",
            "\n",
            "           1       0.00      0.00      0.00      2022\n",
            "           2       0.85      0.02      0.04      1955\n",
            "           3       1.00      0.00      0.00      1099\n",
            "           4       0.79      0.02      0.04      1246\n",
            "           5       0.00      0.00      0.00       786\n",
            "           6       0.00      0.00      0.00       809\n",
            "           7       0.00      0.00      0.00       928\n",
            "           8       0.00      0.00      0.00       669\n",
            "           9       0.00      0.00      0.00       569\n",
            "          10       0.00      0.00      0.00       595\n",
            "          11       0.90      0.04      0.07       696\n",
            "          12       0.00      0.00      0.00       546\n",
            "          13       0.00      0.00      0.00       492\n",
            "          14       0.00      0.00      0.00       536\n",
            "          15       0.00      0.00      0.00       498\n",
            "          16       0.00      0.00      0.00       492\n",
            "          17       0.74      0.29      0.42       565\n",
            "          18       0.00      0.00      0.00       740\n",
            "          19       0.00      0.00      0.00       445\n",
            "\n",
            "   micro avg       0.78      0.02      0.03     15688\n",
            "   macro avg       0.23      0.02      0.03     15688\n",
            "weighted avg       0.31      0.02      0.03     15688\n",
            "\n"
          ]
        },
        {
          "name": "stderr",
          "output_type": "stream",
          "text": [
            "/usr/local/lib/python3.7/dist-packages/sklearn/metrics/_classification.py:1308: UndefinedMetricWarning: Precision and F-score are ill-defined and being set to 0.0 in labels with no predicted samples. Use `zero_division` parameter to control this behavior.\n",
            "  _warn_prf(average, modifier, msg_start, len(result))\n",
            "/usr/local/lib/python3.7/dist-packages/sklearn/metrics/_classification.py:1308: UndefinedMetricWarning: Precision and F-score are ill-defined and being set to 0.0 in labels with no predicted samples. Use `zero_division` parameter to control this behavior.\n",
            "  _warn_prf(average, modifier, msg_start, len(result))\n",
            "/usr/local/lib/python3.7/dist-packages/sklearn/metrics/_classification.py:1308: UndefinedMetricWarning: Precision and F-score are ill-defined and being set to 0.0 in labels with no predicted samples. Use `zero_division` parameter to control this behavior.\n",
            "  _warn_prf(average, modifier, msg_start, len(result))\n",
            "\r 52%|█████▏    | 15/29 [14:58<21:40, 92.89s/it]"
          ]
        },
        {
          "name": "stdout",
          "output_type": "stream",
          "text": [
            "Classification report for case:  15\n",
            "              precision    recall  f1-score   support\n",
            "\n",
            "           1       0.00      0.00      0.00      2022\n",
            "           2       0.82      0.02      0.04      1955\n",
            "           3       0.00      0.00      0.00      1099\n",
            "           4       0.73      0.08      0.14      1246\n",
            "           5       0.00      0.00      0.00       786\n",
            "           6       0.00      0.00      0.00       809\n",
            "           7       0.00      0.00      0.00       928\n",
            "           8       0.00      0.00      0.00       669\n",
            "           9       0.00      0.00      0.00       569\n",
            "          10       0.00      0.00      0.00       595\n",
            "          11       0.77      0.06      0.11       696\n",
            "          12       0.00      0.00      0.00       546\n",
            "          13       0.00      0.00      0.00       492\n",
            "          14       0.00      0.00      0.00       536\n",
            "          15       0.00      0.00      0.00       498\n",
            "          16       0.00      0.00      0.00       492\n",
            "          17       0.70      0.08      0.15       565\n",
            "          18       0.00      0.00      0.00       740\n",
            "          19       0.00      0.00      0.00       445\n",
            "\n",
            "   micro avg       0.74      0.01      0.03     15688\n",
            "   macro avg       0.16      0.01      0.02     15688\n",
            "weighted avg       0.22      0.01      0.03     15688\n",
            "\n"
          ]
        },
        {
          "name": "stderr",
          "output_type": "stream",
          "text": [
            "/usr/local/lib/python3.7/dist-packages/sklearn/metrics/_classification.py:1308: UndefinedMetricWarning: Precision and F-score are ill-defined and being set to 0.0 in labels with no predicted samples. Use `zero_division` parameter to control this behavior.\n",
            "  _warn_prf(average, modifier, msg_start, len(result))\n",
            "/usr/local/lib/python3.7/dist-packages/sklearn/metrics/_classification.py:1308: UndefinedMetricWarning: Precision and F-score are ill-defined and being set to 0.0 in labels with no predicted samples. Use `zero_division` parameter to control this behavior.\n",
            "  _warn_prf(average, modifier, msg_start, len(result))\n",
            "/usr/local/lib/python3.7/dist-packages/sklearn/metrics/_classification.py:1308: UndefinedMetricWarning: Precision and F-score are ill-defined and being set to 0.0 in labels with no predicted samples. Use `zero_division` parameter to control this behavior.\n",
            "  _warn_prf(average, modifier, msg_start, len(result))\n",
            "\r 55%|█████▌    | 16/29 [16:51<21:26, 98.94s/it]"
          ]
        },
        {
          "name": "stdout",
          "output_type": "stream",
          "text": [
            "Classification report for case:  16\n",
            "              precision    recall  f1-score   support\n",
            "\n",
            "           1       0.00      0.00      0.00      2022\n",
            "           2       0.86      0.03      0.06      1955\n",
            "           3       0.00      0.00      0.00      1099\n",
            "           4       0.69      0.05      0.09      1246\n",
            "           5       0.00      0.00      0.00       786\n",
            "           6       0.00      0.00      0.00       809\n",
            "           7       0.00      0.00      0.00       928\n",
            "           8       0.00      0.00      0.00       669\n",
            "           9       0.00      0.00      0.00       569\n",
            "          10       0.00      0.00      0.00       595\n",
            "          11       0.63      0.07      0.12       696\n",
            "          12       0.00      0.00      0.00       546\n",
            "          13       0.00      0.00      0.00       492\n",
            "          14       0.00      0.00      0.00       536\n",
            "          15       0.00      0.00      0.00       498\n",
            "          16       0.00      0.00      0.00       492\n",
            "          17       0.70      0.22      0.34       565\n",
            "          18       0.00      0.00      0.00       740\n",
            "          19       0.00      0.00      0.00       445\n",
            "\n",
            "   micro avg       0.70      0.02      0.04     15688\n",
            "   macro avg       0.15      0.02      0.03     15688\n",
            "weighted avg       0.21      0.02      0.03     15688\n",
            "\n"
          ]
        },
        {
          "name": "stderr",
          "output_type": "stream",
          "text": [
            "/usr/local/lib/python3.7/dist-packages/sklearn/metrics/_classification.py:1308: UndefinedMetricWarning: Precision and F-score are ill-defined and being set to 0.0 in labels with no predicted samples. Use `zero_division` parameter to control this behavior.\n",
            "  _warn_prf(average, modifier, msg_start, len(result))\n",
            "/usr/local/lib/python3.7/dist-packages/sklearn/metrics/_classification.py:1308: UndefinedMetricWarning: Precision and F-score are ill-defined and being set to 0.0 in labels with no predicted samples. Use `zero_division` parameter to control this behavior.\n",
            "  _warn_prf(average, modifier, msg_start, len(result))\n",
            "/usr/local/lib/python3.7/dist-packages/sklearn/metrics/_classification.py:1308: UndefinedMetricWarning: Precision and F-score are ill-defined and being set to 0.0 in labels with no predicted samples. Use `zero_division` parameter to control this behavior.\n",
            "  _warn_prf(average, modifier, msg_start, len(result))\n",
            "\r 59%|█████▊    | 17/29 [18:53<21:10, 105.85s/it]"
          ]
        },
        {
          "name": "stdout",
          "output_type": "stream",
          "text": [
            "Classification report for case:  17\n",
            "              precision    recall  f1-score   support\n",
            "\n",
            "           1       0.00      0.00      0.00      2022\n",
            "           2       0.83      0.03      0.06      1955\n",
            "           3       0.00      0.00      0.00      1099\n",
            "           4       0.79      0.06      0.10      1246\n",
            "           5       0.00      0.00      0.00       786\n",
            "           6       0.00      0.00      0.00       809\n",
            "           7       0.00      0.00      0.00       928\n",
            "           8       0.00      0.00      0.00       669\n",
            "           9       0.00      0.00      0.00       569\n",
            "          10       0.00      0.00      0.00       595\n",
            "          11       0.80      0.06      0.12       696\n",
            "          12       0.00      0.00      0.00       546\n",
            "          13       0.00      0.00      0.00       492\n",
            "          14       0.00      0.00      0.00       536\n",
            "          15       0.00      0.00      0.00       498\n",
            "          16       0.00      0.00      0.00       492\n",
            "          17       0.72      0.23      0.35       565\n",
            "          18       0.00      0.00      0.00       740\n",
            "          19       0.00      0.00      0.00       445\n",
            "\n",
            "   micro avg       0.75      0.02      0.04     15688\n",
            "   macro avg       0.17      0.02      0.03     15688\n",
            "weighted avg       0.23      0.02      0.03     15688\n",
            "\n"
          ]
        },
        {
          "name": "stderr",
          "output_type": "stream",
          "text": [
            "/usr/local/lib/python3.7/dist-packages/sklearn/metrics/_classification.py:1308: UndefinedMetricWarning: Precision and F-score are ill-defined and being set to 0.0 in labels with no predicted samples. Use `zero_division` parameter to control this behavior.\n",
            "  _warn_prf(average, modifier, msg_start, len(result))\n",
            "/usr/local/lib/python3.7/dist-packages/sklearn/metrics/_classification.py:1308: UndefinedMetricWarning: Precision and F-score are ill-defined and being set to 0.0 in labels with no predicted samples. Use `zero_division` parameter to control this behavior.\n",
            "  _warn_prf(average, modifier, msg_start, len(result))\n",
            "/usr/local/lib/python3.7/dist-packages/sklearn/metrics/_classification.py:1308: UndefinedMetricWarning: Precision and F-score are ill-defined and being set to 0.0 in labels with no predicted samples. Use `zero_division` parameter to control this behavior.\n",
            "  _warn_prf(average, modifier, msg_start, len(result))\n",
            "\r 62%|██████▏   | 18/29 [20:57<20:23, 111.22s/it]"
          ]
        },
        {
          "name": "stdout",
          "output_type": "stream",
          "text": [
            "Classification report for case:  18\n",
            "              precision    recall  f1-score   support\n",
            "\n",
            "           1       0.15      0.01      0.01      2022\n",
            "           2       0.73      0.05      0.09      1955\n",
            "           3       0.00      0.00      0.00      1099\n",
            "           4       0.78      0.06      0.11      1246\n",
            "           5       0.00      0.00      0.00       786\n",
            "           6       0.00      0.00      0.00       809\n",
            "           7       0.00      0.00      0.00       928\n",
            "           8       0.00      0.00      0.00       669\n",
            "           9       0.00      0.00      0.00       569\n",
            "          10       0.00      0.00      0.00       595\n",
            "          11       0.80      0.07      0.12       696\n",
            "          12       0.75      0.01      0.01       546\n",
            "          13       0.00      0.00      0.00       492\n",
            "          14       0.00      0.00      0.00       536\n",
            "          15       0.00      0.00      0.00       498\n",
            "          16       0.00      0.00      0.00       492\n",
            "          17       0.72      0.18      0.28       565\n",
            "          18       0.00      0.00      0.00       740\n",
            "          19       0.00      0.00      0.00       445\n",
            "\n",
            "   micro avg       0.66      0.02      0.04     15688\n",
            "   macro avg       0.21      0.02      0.03     15688\n",
            "weighted avg       0.26      0.02      0.04     15688\n",
            "\n"
          ]
        },
        {
          "name": "stderr",
          "output_type": "stream",
          "text": [
            "/usr/local/lib/python3.7/dist-packages/sklearn/metrics/_classification.py:1308: UndefinedMetricWarning: Precision and F-score are ill-defined and being set to 0.0 in labels with no predicted samples. Use `zero_division` parameter to control this behavior.\n",
            "  _warn_prf(average, modifier, msg_start, len(result))\n",
            "/usr/local/lib/python3.7/dist-packages/sklearn/metrics/_classification.py:1308: UndefinedMetricWarning: Precision and F-score are ill-defined and being set to 0.0 in labels with no predicted samples. Use `zero_division` parameter to control this behavior.\n",
            "  _warn_prf(average, modifier, msg_start, len(result))\n",
            "/usr/local/lib/python3.7/dist-packages/sklearn/metrics/_classification.py:1308: UndefinedMetricWarning: Precision and F-score are ill-defined and being set to 0.0 in labels with no predicted samples. Use `zero_division` parameter to control this behavior.\n",
            "  _warn_prf(average, modifier, msg_start, len(result))\n",
            "\r 66%|██████▌   | 19/29 [23:05<19:23, 116.38s/it]"
          ]
        },
        {
          "name": "stdout",
          "output_type": "stream",
          "text": [
            "Classification report for case:  19\n",
            "              precision    recall  f1-score   support\n",
            "\n",
            "           1       0.00      0.00      0.00      2022\n",
            "           2       0.52      0.06      0.10      1955\n",
            "           3       0.00      0.00      0.00      1099\n",
            "           4       0.73      0.10      0.17      1246\n",
            "           5       0.00      0.00      0.00       786\n",
            "           6       0.00      0.00      0.00       809\n",
            "           7       0.50      0.00      0.00       928\n",
            "           8       0.00      0.00      0.00       669\n",
            "           9       0.00      0.00      0.00       569\n",
            "          10       0.00      0.00      0.00       595\n",
            "          11       0.75      0.07      0.12       696\n",
            "          12       0.60      0.02      0.03       546\n",
            "          13       0.00      0.00      0.00       492\n",
            "          14       0.00      0.00      0.00       536\n",
            "          15       0.00      0.00      0.00       498\n",
            "          16       0.00      0.00      0.00       492\n",
            "          17       0.68      0.23      0.35       565\n",
            "          18       0.00      0.00      0.00       740\n",
            "          19       0.00      0.00      0.00       445\n",
            "\n",
            "   micro avg       0.62      0.03      0.05     15688\n",
            "   macro avg       0.20      0.02      0.04     15688\n",
            "weighted avg       0.23      0.03      0.05     15688\n",
            "\n"
          ]
        },
        {
          "name": "stderr",
          "output_type": "stream",
          "text": [
            "/usr/local/lib/python3.7/dist-packages/sklearn/metrics/_classification.py:1308: UndefinedMetricWarning: Precision and F-score are ill-defined and being set to 0.0 in labels with no predicted samples. Use `zero_division` parameter to control this behavior.\n",
            "  _warn_prf(average, modifier, msg_start, len(result))\n",
            "/usr/local/lib/python3.7/dist-packages/sklearn/metrics/_classification.py:1308: UndefinedMetricWarning: Precision and F-score are ill-defined and being set to 0.0 in labels with no predicted samples. Use `zero_division` parameter to control this behavior.\n",
            "  _warn_prf(average, modifier, msg_start, len(result))\n",
            "/usr/local/lib/python3.7/dist-packages/sklearn/metrics/_classification.py:1308: UndefinedMetricWarning: Precision and F-score are ill-defined and being set to 0.0 in labels with no predicted samples. Use `zero_division` parameter to control this behavior.\n",
            "  _warn_prf(average, modifier, msg_start, len(result))\n",
            "\r 69%|██████▉   | 20/29 [25:20<18:18, 122.04s/it]"
          ]
        },
        {
          "name": "stdout",
          "output_type": "stream",
          "text": [
            "Classification report for case:  20\n",
            "              precision    recall  f1-score   support\n",
            "\n",
            "           1       0.00      0.00      0.00      2022\n",
            "           2       0.56      0.06      0.10      1955\n",
            "           3       0.12      0.01      0.02      1099\n",
            "           4       0.71      0.09      0.16      1246\n",
            "           5       0.00      0.00      0.00       786\n",
            "           6       0.00      0.00      0.00       809\n",
            "           7       0.00      0.00      0.00       928\n",
            "           8       0.00      0.00      0.00       669\n",
            "           9       0.00      0.00      0.00       569\n",
            "          10       0.00      0.00      0.00       595\n",
            "          11       0.60      0.10      0.17       696\n",
            "          12       0.00      0.00      0.00       546\n",
            "          13       0.00      0.00      0.00       492\n",
            "          14       0.00      0.00      0.00       536\n",
            "          15       0.00      0.00      0.00       498\n",
            "          16       0.00      0.00      0.00       492\n",
            "          17       0.69      0.14      0.24       565\n",
            "          18       0.00      0.00      0.00       740\n",
            "          19       0.00      0.00      0.00       445\n",
            "\n",
            "   micro avg       0.55      0.02      0.05     15688\n",
            "   macro avg       0.14      0.02      0.04     15688\n",
            "weighted avg       0.19      0.02      0.04     15688\n",
            "\n"
          ]
        },
        {
          "name": "stderr",
          "output_type": "stream",
          "text": [
            "/usr/local/lib/python3.7/dist-packages/sklearn/metrics/_classification.py:1308: UndefinedMetricWarning: Precision and F-score are ill-defined and being set to 0.0 in labels with no predicted samples. Use `zero_division` parameter to control this behavior.\n",
            "  _warn_prf(average, modifier, msg_start, len(result))\n",
            "/usr/local/lib/python3.7/dist-packages/sklearn/metrics/_classification.py:1308: UndefinedMetricWarning: Precision and F-score are ill-defined and being set to 0.0 in labels with no predicted samples. Use `zero_division` parameter to control this behavior.\n",
            "  _warn_prf(average, modifier, msg_start, len(result))\n",
            "/usr/local/lib/python3.7/dist-packages/sklearn/metrics/_classification.py:1308: UndefinedMetricWarning: Precision and F-score are ill-defined and being set to 0.0 in labels with no predicted samples. Use `zero_division` parameter to control this behavior.\n",
            "  _warn_prf(average, modifier, msg_start, len(result))\n",
            "\r 72%|███████▏  | 21/29 [27:45<17:10, 128.83s/it]"
          ]
        },
        {
          "name": "stdout",
          "output_type": "stream",
          "text": [
            "Classification report for case:  21\n",
            "              precision    recall  f1-score   support\n",
            "\n",
            "           1       0.20      0.00      0.00      2022\n",
            "           2       0.74      0.02      0.05      1955\n",
            "           3       0.00      0.00      0.00      1099\n",
            "           4       0.63      0.04      0.07      1246\n",
            "           5       0.00      0.00      0.00       786\n",
            "           6       0.00      0.00      0.00       809\n",
            "           7       0.00      0.00      0.00       928\n",
            "           8       0.00      0.00      0.00       669\n",
            "           9       0.00      0.00      0.00       569\n",
            "          10       0.00      0.00      0.00       595\n",
            "          11       0.76      0.09      0.17       696\n",
            "          12       0.00      0.00      0.00       546\n",
            "          13       0.00      0.00      0.00       492\n",
            "          14       0.00      0.00      0.00       536\n",
            "          15       0.00      0.00      0.00       498\n",
            "          16       0.00      0.00      0.00       492\n",
            "          17       0.69      0.24      0.36       565\n",
            "          18       0.00      0.00      0.00       740\n",
            "          19       0.00      0.00      0.00       445\n",
            "\n",
            "   micro avg       0.69      0.02      0.04     15688\n",
            "   macro avg       0.16      0.02      0.03     15688\n",
            "weighted avg       0.23      0.02      0.03     15688\n",
            "\n"
          ]
        },
        {
          "name": "stderr",
          "output_type": "stream",
          "text": [
            "/usr/local/lib/python3.7/dist-packages/sklearn/metrics/_classification.py:1308: UndefinedMetricWarning: Precision and F-score are ill-defined and being set to 0.0 in labels with no predicted samples. Use `zero_division` parameter to control this behavior.\n",
            "  _warn_prf(average, modifier, msg_start, len(result))\n",
            "/usr/local/lib/python3.7/dist-packages/sklearn/metrics/_classification.py:1308: UndefinedMetricWarning: Precision and F-score are ill-defined and being set to 0.0 in labels with no predicted samples. Use `zero_division` parameter to control this behavior.\n",
            "  _warn_prf(average, modifier, msg_start, len(result))\n",
            "/usr/local/lib/python3.7/dist-packages/sklearn/metrics/_classification.py:1308: UndefinedMetricWarning: Precision and F-score are ill-defined and being set to 0.0 in labels with no predicted samples. Use `zero_division` parameter to control this behavior.\n",
            "  _warn_prf(average, modifier, msg_start, len(result))\n",
            "\r 76%|███████▌  | 22/29 [30:15<15:45, 135.08s/it]"
          ]
        },
        {
          "name": "stdout",
          "output_type": "stream",
          "text": [
            "Classification report for case:  22\n",
            "              precision    recall  f1-score   support\n",
            "\n",
            "           1       0.03      0.00      0.00      2022\n",
            "           2       0.49      0.06      0.11      1955\n",
            "           3       0.00      0.00      0.00      1099\n",
            "           4       0.68      0.10      0.18      1246\n",
            "           5       0.00      0.00      0.00       786\n",
            "           6       0.00      0.00      0.00       809\n",
            "           7       0.00      0.00      0.00       928\n",
            "           8       0.00      0.00      0.00       669\n",
            "           9       0.00      0.00      0.00       569\n",
            "          10       0.00      0.00      0.00       595\n",
            "          11       0.72      0.09      0.16       696\n",
            "          12       0.00      0.00      0.00       546\n",
            "          13       0.00      0.00      0.00       492\n",
            "          14       0.00      0.00      0.00       536\n",
            "          15       0.00      0.00      0.00       498\n",
            "          16       0.00      0.00      0.00       492\n",
            "          17       0.74      0.15      0.25       565\n",
            "          18       0.00      0.00      0.00       740\n",
            "          19       0.00      0.00      0.00       445\n",
            "\n",
            "   micro avg       0.56      0.03      0.05     15688\n",
            "   macro avg       0.14      0.02      0.04     15688\n",
            "weighted avg       0.18      0.03      0.04     15688\n",
            "\n"
          ]
        },
        {
          "name": "stderr",
          "output_type": "stream",
          "text": [
            "/usr/local/lib/python3.7/dist-packages/sklearn/metrics/_classification.py:1308: UndefinedMetricWarning: Precision and F-score are ill-defined and being set to 0.0 in labels with no predicted samples. Use `zero_division` parameter to control this behavior.\n",
            "  _warn_prf(average, modifier, msg_start, len(result))\n",
            "/usr/local/lib/python3.7/dist-packages/sklearn/metrics/_classification.py:1308: UndefinedMetricWarning: Precision and F-score are ill-defined and being set to 0.0 in labels with no predicted samples. Use `zero_division` parameter to control this behavior.\n",
            "  _warn_prf(average, modifier, msg_start, len(result))\n",
            "/usr/local/lib/python3.7/dist-packages/sklearn/metrics/_classification.py:1308: UndefinedMetricWarning: Precision and F-score are ill-defined and being set to 0.0 in labels with no predicted samples. Use `zero_division` parameter to control this behavior.\n",
            "  _warn_prf(average, modifier, msg_start, len(result))\n",
            "\r 79%|███████▉  | 23/29 [32:50<14:06, 141.00s/it]"
          ]
        },
        {
          "name": "stdout",
          "output_type": "stream",
          "text": [
            "Classification report for case:  23\n",
            "              precision    recall  f1-score   support\n",
            "\n",
            "           1       0.03      0.00      0.00      2022\n",
            "           2       0.67      0.04      0.08      1955\n",
            "           3       0.15      0.01      0.01      1099\n",
            "           4       0.68      0.08      0.14      1246\n",
            "           5       0.00      0.00      0.00       786\n",
            "           6       0.00      0.00      0.00       809\n",
            "           7       0.00      0.00      0.00       928\n",
            "           8       0.00      0.00      0.00       669\n",
            "           9       0.00      0.00      0.00       569\n",
            "          10       0.00      0.00      0.00       595\n",
            "          11       0.60      0.13      0.21       696\n",
            "          12       1.00      0.01      0.01       546\n",
            "          13       0.00      0.00      0.00       492\n",
            "          14       0.00      0.00      0.00       536\n",
            "          15       0.00      0.00      0.00       498\n",
            "          16       0.00      0.00      0.00       492\n",
            "          17       0.69      0.23      0.34       565\n",
            "          18       0.00      0.00      0.00       740\n",
            "          19       0.00      0.00      0.00       445\n",
            "\n",
            "   micro avg       0.56      0.03      0.05     15688\n",
            "   macro avg       0.20      0.03      0.04     15688\n",
            "weighted avg       0.24      0.03      0.04     15688\n",
            "\n"
          ]
        },
        {
          "name": "stderr",
          "output_type": "stream",
          "text": [
            "/usr/local/lib/python3.7/dist-packages/sklearn/metrics/_classification.py:1308: UndefinedMetricWarning: Precision and F-score are ill-defined and being set to 0.0 in labels with no predicted samples. Use `zero_division` parameter to control this behavior.\n",
            "  _warn_prf(average, modifier, msg_start, len(result))\n",
            "/usr/local/lib/python3.7/dist-packages/sklearn/metrics/_classification.py:1308: UndefinedMetricWarning: Precision and F-score are ill-defined and being set to 0.0 in labels with no predicted samples. Use `zero_division` parameter to control this behavior.\n",
            "  _warn_prf(average, modifier, msg_start, len(result))\n",
            "/usr/local/lib/python3.7/dist-packages/sklearn/metrics/_classification.py:1308: UndefinedMetricWarning: Precision and F-score are ill-defined and being set to 0.0 in labels with no predicted samples. Use `zero_division` parameter to control this behavior.\n",
            "  _warn_prf(average, modifier, msg_start, len(result))\n",
            "\r 83%|████████▎ | 24/29 [35:27<12:09, 145.95s/it]"
          ]
        },
        {
          "name": "stdout",
          "output_type": "stream",
          "text": [
            "Classification report for case:  24\n",
            "              precision    recall  f1-score   support\n",
            "\n",
            "           1       0.14      0.00      0.00      2022\n",
            "           2       0.60      0.09      0.16      1955\n",
            "           3       0.17      0.00      0.01      1099\n",
            "           4       0.65      0.10      0.18      1246\n",
            "           5       0.00      0.00      0.00       786\n",
            "           6       0.00      0.00      0.00       809\n",
            "           7       0.00      0.00      0.00       928\n",
            "           8       0.00      0.00      0.00       669\n",
            "           9       0.00      0.00      0.00       569\n",
            "          10       0.00      0.00      0.00       595\n",
            "          11       0.40      0.13      0.19       696\n",
            "          12       0.55      0.07      0.12       546\n",
            "          13       0.00      0.00      0.00       492\n",
            "          14       0.00      0.00      0.00       536\n",
            "          15       0.00      0.00      0.00       498\n",
            "          16       0.00      0.00      0.00       492\n",
            "          17       0.70      0.27      0.39       565\n",
            "          18       0.00      0.00      0.00       740\n",
            "          19       0.00      0.00      0.00       445\n",
            "\n",
            "   micro avg       0.57      0.04      0.07     15688\n",
            "   macro avg       0.17      0.03      0.06     15688\n",
            "weighted avg       0.22      0.04      0.06     15688\n",
            "\n"
          ]
        },
        {
          "name": "stderr",
          "output_type": "stream",
          "text": [
            "/usr/local/lib/python3.7/dist-packages/sklearn/metrics/_classification.py:1308: UndefinedMetricWarning: Precision and F-score are ill-defined and being set to 0.0 in labels with no predicted samples. Use `zero_division` parameter to control this behavior.\n",
            "  _warn_prf(average, modifier, msg_start, len(result))\n",
            "/usr/local/lib/python3.7/dist-packages/sklearn/metrics/_classification.py:1308: UndefinedMetricWarning: Precision and F-score are ill-defined and being set to 0.0 in labels with no predicted samples. Use `zero_division` parameter to control this behavior.\n",
            "  _warn_prf(average, modifier, msg_start, len(result))\n",
            "/usr/local/lib/python3.7/dist-packages/sklearn/metrics/_classification.py:1308: UndefinedMetricWarning: Precision and F-score are ill-defined and being set to 0.0 in labels with no predicted samples. Use `zero_division` parameter to control this behavior.\n",
            "  _warn_prf(average, modifier, msg_start, len(result))\n",
            "\r 86%|████████▌ | 25/29 [38:10<10:04, 151.14s/it]"
          ]
        },
        {
          "name": "stdout",
          "output_type": "stream",
          "text": [
            "Classification report for case:  25\n",
            "              precision    recall  f1-score   support\n",
            "\n",
            "           1       0.17      0.01      0.02      2022\n",
            "           2       0.39      0.09      0.15      1955\n",
            "           3       0.00      0.00      0.00      1099\n",
            "           4       0.66      0.13      0.22      1246\n",
            "           5       0.00      0.00      0.00       786\n",
            "           6       0.00      0.00      0.00       809\n",
            "           7       0.00      0.00      0.00       928\n",
            "           8       0.00      0.00      0.00       669\n",
            "           9       0.00      0.00      0.00       569\n",
            "          10       0.00      0.00      0.00       595\n",
            "          11       0.54      0.12      0.20       696\n",
            "          12       0.75      0.01      0.01       546\n",
            "          13       0.00      0.00      0.00       492\n",
            "          14       0.00      0.00      0.00       536\n",
            "          15       0.00      0.00      0.00       498\n",
            "          16       0.00      0.00      0.00       492\n",
            "          17       0.71      0.29      0.41       565\n",
            "          18       0.00      0.00      0.00       740\n",
            "          19       0.00      0.00      0.00       445\n",
            "\n",
            "   micro avg       0.50      0.04      0.07     15688\n",
            "   macro avg       0.17      0.03      0.05     15688\n",
            "weighted avg       0.20      0.04      0.06     15688\n",
            "\n"
          ]
        },
        {
          "name": "stderr",
          "output_type": "stream",
          "text": [
            "/usr/local/lib/python3.7/dist-packages/sklearn/metrics/_classification.py:1308: UndefinedMetricWarning: Precision and F-score are ill-defined and being set to 0.0 in labels with no predicted samples. Use `zero_division` parameter to control this behavior.\n",
            "  _warn_prf(average, modifier, msg_start, len(result))\n",
            "/usr/local/lib/python3.7/dist-packages/sklearn/metrics/_classification.py:1308: UndefinedMetricWarning: Precision and F-score are ill-defined and being set to 0.0 in labels with no predicted samples. Use `zero_division` parameter to control this behavior.\n",
            "  _warn_prf(average, modifier, msg_start, len(result))\n",
            "/usr/local/lib/python3.7/dist-packages/sklearn/metrics/_classification.py:1308: UndefinedMetricWarning: Precision and F-score are ill-defined and being set to 0.0 in labels with no predicted samples. Use `zero_division` parameter to control this behavior.\n",
            "  _warn_prf(average, modifier, msg_start, len(result))\n",
            "\r 90%|████████▉ | 26/29 [41:02<07:51, 157.30s/it]"
          ]
        },
        {
          "name": "stdout",
          "output_type": "stream",
          "text": [
            "Classification report for case:  26\n",
            "              precision    recall  f1-score   support\n",
            "\n",
            "           1       0.08      0.01      0.02      2022\n",
            "           2       0.71      0.07      0.12      1955\n",
            "           3       0.05      0.00      0.00      1099\n",
            "           4       0.69      0.13      0.21      1246\n",
            "           5       0.00      0.00      0.00       786\n",
            "           6       1.00      0.00      0.00       809\n",
            "           7       0.33      0.01      0.01       928\n",
            "           8       0.00      0.00      0.00       669\n",
            "           9       0.00      0.00      0.00       569\n",
            "          10       0.00      0.00      0.00       595\n",
            "          11       0.76      0.11      0.20       696\n",
            "          12       1.00      0.00      0.00       546\n",
            "          13       0.00      0.00      0.00       492\n",
            "          14       0.00      0.00      0.00       536\n",
            "          15       0.00      0.00      0.00       498\n",
            "          16       0.00      0.00      0.00       492\n",
            "          17       0.69      0.31      0.43       565\n",
            "          18       0.00      0.00      0.00       740\n",
            "          19       0.00      0.00      0.00       445\n",
            "\n",
            "   micro avg       0.54      0.04      0.07     15688\n",
            "   macro avg       0.28      0.03      0.05     15688\n",
            "weighted avg       0.32      0.04      0.06     15688\n",
            "\n"
          ]
        },
        {
          "name": "stderr",
          "output_type": "stream",
          "text": [
            "/usr/local/lib/python3.7/dist-packages/sklearn/metrics/_classification.py:1308: UndefinedMetricWarning: Precision and F-score are ill-defined and being set to 0.0 in labels with no predicted samples. Use `zero_division` parameter to control this behavior.\n",
            "  _warn_prf(average, modifier, msg_start, len(result))\n",
            "/usr/local/lib/python3.7/dist-packages/sklearn/metrics/_classification.py:1308: UndefinedMetricWarning: Precision and F-score are ill-defined and being set to 0.0 in labels with no predicted samples. Use `zero_division` parameter to control this behavior.\n",
            "  _warn_prf(average, modifier, msg_start, len(result))\n",
            "/usr/local/lib/python3.7/dist-packages/sklearn/metrics/_classification.py:1308: UndefinedMetricWarning: Precision and F-score are ill-defined and being set to 0.0 in labels with no predicted samples. Use `zero_division` parameter to control this behavior.\n",
            "  _warn_prf(average, modifier, msg_start, len(result))\n",
            "\r 93%|█████████▎| 27/29 [43:58<05:25, 162.95s/it]"
          ]
        },
        {
          "name": "stdout",
          "output_type": "stream",
          "text": [
            "Classification report for case:  27\n",
            "              precision    recall  f1-score   support\n",
            "\n",
            "           1       0.18      0.03      0.06      2022\n",
            "           2       0.67      0.09      0.16      1955\n",
            "           3       0.29      0.01      0.02      1099\n",
            "           4       0.66      0.13      0.22      1246\n",
            "           5       0.00      0.00      0.00       786\n",
            "           6       0.00      0.00      0.00       809\n",
            "           7       0.00      0.00      0.00       928\n",
            "           8       0.00      0.00      0.00       669\n",
            "           9       0.00      0.00      0.00       569\n",
            "          10       0.00      0.00      0.00       595\n",
            "          11       0.77      0.09      0.16       696\n",
            "          12       1.00      0.01      0.01       546\n",
            "          13       0.00      0.00      0.00       492\n",
            "          14       0.00      0.00      0.00       536\n",
            "          15       0.00      0.00      0.00       498\n",
            "          16       0.00      0.00      0.00       492\n",
            "          17       0.70      0.15      0.24       565\n",
            "          18       0.00      0.00      0.00       740\n",
            "          19       0.00      0.00      0.00       445\n",
            "\n",
            "   micro avg       0.50      0.04      0.07     15688\n",
            "   macro avg       0.22      0.03      0.05     15688\n",
            "weighted avg       0.27      0.04      0.06     15688\n",
            "\n"
          ]
        },
        {
          "name": "stderr",
          "output_type": "stream",
          "text": [
            "/usr/local/lib/python3.7/dist-packages/sklearn/metrics/_classification.py:1308: UndefinedMetricWarning: Precision and F-score are ill-defined and being set to 0.0 in labels with no predicted samples. Use `zero_division` parameter to control this behavior.\n",
            "  _warn_prf(average, modifier, msg_start, len(result))\n",
            "/usr/local/lib/python3.7/dist-packages/sklearn/metrics/_classification.py:1308: UndefinedMetricWarning: Precision and F-score are ill-defined and being set to 0.0 in labels with no predicted samples. Use `zero_division` parameter to control this behavior.\n",
            "  _warn_prf(average, modifier, msg_start, len(result))\n",
            "/usr/local/lib/python3.7/dist-packages/sklearn/metrics/_classification.py:1308: UndefinedMetricWarning: Precision and F-score are ill-defined and being set to 0.0 in labels with no predicted samples. Use `zero_division` parameter to control this behavior.\n",
            "  _warn_prf(average, modifier, msg_start, len(result))\n",
            "\r 97%|█████████▋| 28/29 [47:00<02:48, 168.54s/it]"
          ]
        },
        {
          "name": "stdout",
          "output_type": "stream",
          "text": [
            "Classification report for case:  28\n",
            "              precision    recall  f1-score   support\n",
            "\n",
            "           1       0.18      0.02      0.03      2022\n",
            "           2       0.24      0.23      0.24      1955\n",
            "           3       0.17      0.02      0.03      1099\n",
            "           4       0.63      0.12      0.20      1246\n",
            "           5       0.00      0.00      0.00       786\n",
            "           6       0.00      0.00      0.00       809\n",
            "           7       0.38      0.00      0.01       928\n",
            "           8       0.00      0.00      0.00       669\n",
            "           9       0.00      0.00      0.00       569\n",
            "          10       0.00      0.00      0.00       595\n",
            "          11       0.63      0.14      0.22       696\n",
            "          12       0.82      0.02      0.03       546\n",
            "          13       0.00      0.00      0.00       492\n",
            "          14       0.00      0.00      0.00       536\n",
            "          15       0.00      0.00      0.00       498\n",
            "          16       0.00      0.00      0.00       492\n",
            "          17       0.68      0.11      0.19       565\n",
            "          18       0.00      0.00      0.00       740\n",
            "          19       0.00      0.00      0.00       445\n",
            "\n",
            "   micro avg       0.31      0.05      0.09     15688\n",
            "   macro avg       0.20      0.03      0.05     15688\n",
            "weighted avg       0.22      0.05      0.07     15688\n",
            "\n"
          ]
        },
        {
          "name": "stderr",
          "output_type": "stream",
          "text": [
            "/usr/local/lib/python3.7/dist-packages/sklearn/metrics/_classification.py:1308: UndefinedMetricWarning: Precision and F-score are ill-defined and being set to 0.0 in labels with no predicted samples. Use `zero_division` parameter to control this behavior.\n",
            "  _warn_prf(average, modifier, msg_start, len(result))\n",
            "/usr/local/lib/python3.7/dist-packages/sklearn/metrics/_classification.py:1308: UndefinedMetricWarning: Precision and F-score are ill-defined and being set to 0.0 in labels with no predicted samples. Use `zero_division` parameter to control this behavior.\n",
            "  _warn_prf(average, modifier, msg_start, len(result))\n",
            "/usr/local/lib/python3.7/dist-packages/sklearn/metrics/_classification.py:1308: UndefinedMetricWarning: Precision and F-score are ill-defined and being set to 0.0 in labels with no predicted samples. Use `zero_division` parameter to control this behavior.\n",
            "  _warn_prf(average, modifier, msg_start, len(result))\n",
            "100%|██████████| 29/29 [50:06<00:00, 103.67s/it]"
          ]
        },
        {
          "name": "stdout",
          "output_type": "stream",
          "text": [
            "Classification report for case:  29\n",
            "              precision    recall  f1-score   support\n",
            "\n",
            "           1       0.12      0.00      0.00      2022\n",
            "           2       0.78      0.03      0.05      1955\n",
            "           3       0.12      0.01      0.01      1099\n",
            "           4       0.65      0.06      0.10      1246\n",
            "           5       0.00      0.00      0.00       786\n",
            "           6       0.00      0.00      0.00       809\n",
            "           7       0.50      0.00      0.01       928\n",
            "           8       0.00      0.00      0.00       669\n",
            "           9       0.00      0.00      0.00       569\n",
            "          10       0.00      0.00      0.00       595\n",
            "          11       0.77      0.08      0.14       696\n",
            "          12       0.33      0.00      0.00       546\n",
            "          13       0.00      0.00      0.00       492\n",
            "          14       0.00      0.00      0.00       536\n",
            "          15       0.00      0.00      0.00       498\n",
            "          16       0.00      0.00      0.00       492\n",
            "          17       0.69      0.25      0.37       565\n",
            "          18       0.00      0.00      0.00       740\n",
            "          19       0.00      0.00      0.00       445\n",
            "\n",
            "   micro avg       0.64      0.02      0.04     15688\n",
            "   macro avg       0.21      0.02      0.04     15688\n",
            "weighted avg       0.27      0.02      0.04     15688\n",
            "\n"
          ]
        },
        {
          "name": "stderr",
          "output_type": "stream",
          "text": [
            "\n"
          ]
        },
        {
          "data": {
            "image/png": "[encoded data removed]",
            "text/plain": [
              "<Figure size 432x288 with 1 Axes>"
            ]
          },
          "metadata": {},
          "output_type": "display_data"
        }
      ]
    },
    {
      "cell_type": "code",
      "metadata": {
        "id": "zv8LigKcbAe4"
      },
      "source": [
        ""
      ],
      "execution_count": null,
      "outputs": []
    },
    {
      "cell_type": "markdown",
      "metadata": {
        "id": "J1BFRUvebBRK"
      },
      "source": [
        "### Criterion"
      ]
    },
    {
      "cell_type": "code",
      "metadata": {
        "colab": {
          "base_uri": "https://localhost:8080/"
        },
        "id": "uR-PA59-IiPU",
        "outputId": "aa2eb214-d98b-4df8-8a1a-3b8392421294"
      },
      "source": [
        "X_train, X_test, y_train, y_test = trainData, testData, trainLabels, testLabels\n",
        "clf = RandomForestClassifier(criterion='gini', max_depth=25, random_state=0)\n",
        "clf.fit(X_train, y_train)\n",
        "y_pred = clf.predict(X_test)\n",
        "print(classification_report(testLabels,y_pred,labels = [1, 2, 3, 4, 5, 6, 7, 8, 9, 10, 11, 12, 13, 14, 15, 16, 17, 18, 19]))\n",
        "\n"
      ],
      "execution_count": null,
      "outputs": [
        {
          "name": "stdout",
          "output_type": "stream",
          "text": [
            "              precision    recall  f1-score   support\n",
            "\n",
            "           1       0.17      0.01      0.02      2022\n",
            "           2       0.39      0.09      0.15      1955\n",
            "           3       0.00      0.00      0.00      1099\n",
            "           4       0.66      0.13      0.22      1246\n",
            "           5       0.00      0.00      0.00       786\n",
            "           6       0.00      0.00      0.00       809\n",
            "           7       0.00      0.00      0.00       928\n",
            "           8       0.00      0.00      0.00       669\n",
            "           9       0.00      0.00      0.00       569\n",
            "          10       0.00      0.00      0.00       595\n",
            "          11       0.54      0.12      0.20       696\n",
            "          12       0.75      0.01      0.01       546\n",
            "          13       0.00      0.00      0.00       492\n",
            "          14       0.00      0.00      0.00       536\n",
            "          15       0.00      0.00      0.00       498\n",
            "          16       0.00      0.00      0.00       492\n",
            "          17       0.71      0.29      0.41       565\n",
            "          18       0.00      0.00      0.00       740\n",
            "          19       0.00      0.00      0.00       445\n",
            "\n",
            "   micro avg       0.50      0.04      0.07     15688\n",
            "   macro avg       0.17      0.03      0.05     15688\n",
            "weighted avg       0.20      0.04      0.06     15688\n",
            "\n"
          ]
        },
        {
          "name": "stderr",
          "output_type": "stream",
          "text": [
            "/usr/local/lib/python3.7/dist-packages/sklearn/metrics/_classification.py:1308: UndefinedMetricWarning: Precision and F-score are ill-defined and being set to 0.0 in labels with no predicted samples. Use `zero_division` parameter to control this behavior.\n",
            "  _warn_prf(average, modifier, msg_start, len(result))\n",
            "/usr/local/lib/python3.7/dist-packages/sklearn/metrics/_classification.py:1308: UndefinedMetricWarning: Precision and F-score are ill-defined and being set to 0.0 in labels with no predicted samples. Use `zero_division` parameter to control this behavior.\n",
            "  _warn_prf(average, modifier, msg_start, len(result))\n",
            "/usr/local/lib/python3.7/dist-packages/sklearn/metrics/_classification.py:1308: UndefinedMetricWarning: Precision and F-score are ill-defined and being set to 0.0 in labels with no predicted samples. Use `zero_division` parameter to control this behavior.\n",
            "  _warn_prf(average, modifier, msg_start, len(result))\n"
          ]
        }
      ]
    },
    {
      "cell_type": "code",
      "metadata": {
        "colab": {
          "base_uri": "https://localhost:8080/"
        },
        "id": "5B_Dv-sti1RX",
        "outputId": "d225c805-bcd1-4b96-a762-4162e2db6c3c"
      },
      "source": [
        "X_train, X_test, y_train, y_test = trainData, testData, trainLabels, testLabels\n",
        "clf = RandomForestClassifier(criterion='gini', max_depth=25, random_state=0)\n",
        "clf.fit(X_train, y_train)\n",
        "y_pred = clf.predict(X_test)\n",
        "accuracy = round(accuracy_score(y_pred = y_pred, y_true = y_test) * 100,2)\n",
        "print(\"Accuracy: \", accuracy)"
      ],
      "execution_count": null,
      "outputs": [
        {
          "name": "stdout",
          "output_type": "stream",
          "text": [
            "Accuracy:  24.08\n"
          ]
        }
      ]
    },
    {
      "cell_type": "code",
      "metadata": {
        "colab": {
          "base_uri": "https://localhost:8080/"
        },
        "id": "SogLKmNRIssx",
        "outputId": "8e77fb68-56eb-47f8-cbe0-b227d2e156d6"
      },
      "source": [
        "X_train, X_test, y_train, y_test = trainData, testData, trainLabels, testLabels\n",
        "clf = RandomForestClassifier(criterion='entropy', max_depth=25, random_state=0)\n",
        "clf.fit(X_train, y_train)\n",
        "y_pred = clf.predict(X_test)\n",
        "print(classification_report(testLabels,y_pred,labels = [1, 2, 3, 4, 5, 6, 7, 8, 9, 10, 11, 12, 13, 14, 15, 16, 17, 18, 19]))"
      ],
      "execution_count": null,
      "outputs": [
        {
          "name": "stdout",
          "output_type": "stream",
          "text": [
            "              precision    recall  f1-score   support\n",
            "\n",
            "           1       0.03      0.00      0.00      2022\n",
            "           2       0.23      0.11      0.15      1955\n",
            "           3       0.00      0.00      0.00      1099\n",
            "           4       0.33      0.10      0.16      1246\n",
            "           5       0.00      0.00      0.00       786\n",
            "           6       0.00      0.00      0.00       809\n",
            "           7       0.00      0.00      0.00       928\n",
            "           8       0.00      0.00      0.00       669\n",
            "           9       0.00      0.00      0.00       569\n",
            "          10       0.00      0.00      0.00       595\n",
            "          11       0.61      0.06      0.10       696\n",
            "          12       0.50      0.01      0.01       546\n",
            "          13       0.00      0.00      0.00       492\n",
            "          14       0.00      0.00      0.00       536\n",
            "          15       0.00      0.00      0.00       498\n",
            "          16       0.00      0.00      0.00       492\n",
            "          17       0.70      0.17      0.27       565\n",
            "          18       0.00      0.00      0.00       740\n",
            "          19       0.00      0.00      0.00       445\n",
            "\n",
            "   micro avg       0.30      0.03      0.06     15688\n",
            "   macro avg       0.13      0.02      0.04     15688\n",
            "weighted avg       0.13      0.03      0.05     15688\n",
            "\n"
          ]
        },
        {
          "name": "stderr",
          "output_type": "stream",
          "text": [
            "/usr/local/lib/python3.7/dist-packages/sklearn/metrics/_classification.py:1308: UndefinedMetricWarning: Precision and F-score are ill-defined and being set to 0.0 in labels with no predicted samples. Use `zero_division` parameter to control this behavior.\n",
            "  _warn_prf(average, modifier, msg_start, len(result))\n",
            "/usr/local/lib/python3.7/dist-packages/sklearn/metrics/_classification.py:1308: UndefinedMetricWarning: Precision and F-score are ill-defined and being set to 0.0 in labels with no predicted samples. Use `zero_division` parameter to control this behavior.\n",
            "  _warn_prf(average, modifier, msg_start, len(result))\n",
            "/usr/local/lib/python3.7/dist-packages/sklearn/metrics/_classification.py:1308: UndefinedMetricWarning: Precision and F-score are ill-defined and being set to 0.0 in labels with no predicted samples. Use `zero_division` parameter to control this behavior.\n",
            "  _warn_prf(average, modifier, msg_start, len(result))\n"
          ]
        }
      ]
    },
    {
      "cell_type": "code",
      "metadata": {
        "colab": {
          "base_uri": "https://localhost:8080/"
        },
        "id": "w8TFacgRI1XY",
        "outputId": "70ff6f4b-ad77-4471-a118-270a23577fe3"
      },
      "source": [
        "accuracy = round(accuracy_score(y_pred = y_pred, y_true = y_test) * 100,2)\n",
        "print(\"Accuracy: \", accuracy)"
      ],
      "execution_count": null,
      "outputs": [
        {
          "name": "stdout",
          "output_type": "stream",
          "text": [
            "Accuracy:  22.87\n"
          ]
        }
      ]
    },
    {
      "cell_type": "markdown",
      "metadata": {
        "id": "FyFPMif9gI8X"
      },
      "source": [
        "#### Gini is better"
      ]
    },
    {
      "cell_type": "code",
      "metadata": {
        "id": "DQ9DnLojI15B"
      },
      "source": [
        ""
      ],
      "execution_count": null,
      "outputs": []
    },
    {
      "cell_type": "markdown",
      "metadata": {
        "id": "C6SwKZxQgm3x"
      },
      "source": [
        "### Number of Estimators"
      ]
    },
    {
      "cell_type": "code",
      "metadata": {
        "id": "geFjQDZygrP4"
      },
      "source": [
        ""
      ],
      "execution_count": null,
      "outputs": []
    },
    {
      "cell_type": "markdown",
      "metadata": {
        "id": "oj8XTXb_gsZM"
      },
      "source": [
        "#### Estimators Range 1\n",
        "\n"
      ]
    },
    {
      "cell_type": "code",
      "metadata": {
        "id": "XthbRkOOCkF4"
      },
      "source": [
        "import warnings\n",
        "warnings.filterwarnings('always') \n",
        "from sklearn.metrics import classification_report"
      ],
      "execution_count": null,
      "outputs": []
    },
    {
      "cell_type": "code",
      "metadata": {
        "colab": {
          "base_uri": "https://localhost:8080/",
          "height": 1000
        },
        "id": "QKEEt9ldoC92",
        "outputId": "6f04a327-44da-4a3e-d3de-0f387defccfb"
      },
      "source": [
        "accuracy = []\n",
        "predVal = []\n",
        "itr= [10, 30, 50, 70, 90, 110, 130, 150, 170, 190]\n",
        "for i in tqdm(range(len(itr))):\n",
        "    clf = RandomForestClassifier(criterion='gini', max_depth=25, n_estimators=itr[i], random_state=0)\n",
        "    clf.fit(trainData, trainLabels)\n",
        "    y_pred = clf.predict(testData)\n",
        "    print(\"Classification report for case: \",itr[i])\n",
        "    print(classification_report(testLabels,y_pred,labels = [1, 2, 3, 4, 5, 6, 7, 8, 9, 10, 11, 12, 13, 14, 15, 16, 17, 18, 19]))\n",
        "    accuracy.append(round(accuracy_score(y_pred = y_pred, y_true = testLabels) * 100,2))\n",
        "    predVal.append(itr[i])\n",
        "\n",
        "\n",
        "plt.plot(predVal, accuracy)\n",
        "plt.xlabel('Num estimators')\n",
        "plt.ylabel('Accuracy')\n",
        "plt.title('Accuracy vs Num estimators')\n",
        "plt.show()"
      ],
      "execution_count": null,
      "outputs": [
        {
          "output_type": "stream",
          "name": "stderr",
          "text": [
            "  0%|          | 0/10 [00:00<?, ?it/s]/usr/local/lib/python3.7/dist-packages/sklearn/metrics/_classification.py:1308: UndefinedMetricWarning: Precision and F-score are ill-defined and being set to 0.0 in labels with no predicted samples. Use `zero_division` parameter to control this behavior.\n",
            "  _warn_prf(average, modifier, msg_start, len(result))\n",
            "/usr/local/lib/python3.7/dist-packages/sklearn/metrics/_classification.py:1308: UndefinedMetricWarning: Precision and F-score are ill-defined and being set to 0.0 in labels with no predicted samples. Use `zero_division` parameter to control this behavior.\n",
            "  _warn_prf(average, modifier, msg_start, len(result))\n",
            "/usr/local/lib/python3.7/dist-packages/sklearn/metrics/_classification.py:1308: UndefinedMetricWarning: Precision and F-score are ill-defined and being set to 0.0 in labels with no predicted samples. Use `zero_division` parameter to control this behavior.\n",
            "  _warn_prf(average, modifier, msg_start, len(result))\n",
            " 10%|█         | 1/10 [00:17<02:36, 17.39s/it]"
          ]
        },
        {
          "output_type": "stream",
          "name": "stdout",
          "text": [
            "Classification report for case:  10\n",
            "              precision    recall  f1-score   support\n",
            "\n",
            "           1       0.16      0.06      0.08      2022\n",
            "           2       0.23      0.06      0.10      1955\n",
            "           3       0.18      0.01      0.02      1099\n",
            "           4       0.52      0.07      0.13      1246\n",
            "           5       0.00      0.00      0.00       786\n",
            "           6       0.00      0.00      0.00       809\n",
            "           7       0.22      0.01      0.02       928\n",
            "           8       0.00      0.00      0.00       669\n",
            "           9       0.05      0.02      0.03       569\n",
            "          10       0.00      0.00      0.00       595\n",
            "          11       0.36      0.11      0.17       696\n",
            "          12       0.68      0.05      0.09       546\n",
            "          13       0.00      0.00      0.00       492\n",
            "          14       0.01      0.00      0.00       536\n",
            "          15       0.00      0.00      0.00       498\n",
            "          16       0.00      0.00      0.00       492\n",
            "          17       0.68      0.10      0.18       565\n",
            "          18       0.00      0.00      0.00       740\n",
            "          19       0.00      0.00      0.00       445\n",
            "\n",
            "   micro avg       0.21      0.03      0.06     15688\n",
            "   macro avg       0.16      0.03      0.04     15688\n",
            "weighted avg       0.18      0.03      0.05     15688\n",
            "\n"
          ]
        },
        {
          "output_type": "stream",
          "name": "stderr",
          "text": [
            "/usr/local/lib/python3.7/dist-packages/sklearn/metrics/_classification.py:1308: UndefinedMetricWarning: Precision and F-score are ill-defined and being set to 0.0 in labels with no predicted samples. Use `zero_division` parameter to control this behavior.\n",
            "  _warn_prf(average, modifier, msg_start, len(result))\n",
            "/usr/local/lib/python3.7/dist-packages/sklearn/metrics/_classification.py:1308: UndefinedMetricWarning: Precision and F-score are ill-defined and being set to 0.0 in labels with no predicted samples. Use `zero_division` parameter to control this behavior.\n",
            "  _warn_prf(average, modifier, msg_start, len(result))\n",
            "/usr/local/lib/python3.7/dist-packages/sklearn/metrics/_classification.py:1308: UndefinedMetricWarning: Precision and F-score are ill-defined and being set to 0.0 in labels with no predicted samples. Use `zero_division` parameter to control this behavior.\n",
            "  _warn_prf(average, modifier, msg_start, len(result))\n",
            "\r 20%|██        | 2/10 [01:06<04:49, 36.16s/it]"
          ]
        },
        {
          "output_type": "stream",
          "name": "stdout",
          "text": [
            "Classification report for case:  30\n",
            "              precision    recall  f1-score   support\n",
            "\n",
            "           1       0.16      0.04      0.07      2022\n",
            "           2       0.18      0.08      0.11      1955\n",
            "           3       0.11      0.00      0.00      1099\n",
            "           4       0.66      0.09      0.15      1246\n",
            "           5       0.00      0.00      0.00       786\n",
            "           6       0.00      0.00      0.00       809\n",
            "           7       0.11      0.00      0.00       928\n",
            "           8       0.00      0.00      0.00       669\n",
            "           9       0.08      0.00      0.00       569\n",
            "          10       0.00      0.00      0.00       595\n",
            "          11       0.38      0.10      0.16       696\n",
            "          12       0.67      0.00      0.01       546\n",
            "          13       0.00      0.00      0.00       492\n",
            "          14       0.02      0.00      0.00       536\n",
            "          15       0.00      0.00      0.00       498\n",
            "          16       0.00      0.00      0.00       492\n",
            "          17       0.75      0.09      0.16       565\n",
            "          18       0.00      0.00      0.00       740\n",
            "          19       0.00      0.00      0.00       445\n",
            "\n",
            "   micro avg       0.25      0.03      0.05     15688\n",
            "   macro avg       0.16      0.02      0.03     15688\n",
            "weighted avg       0.18      0.03      0.05     15688\n",
            "\n"
          ]
        },
        {
          "output_type": "stream",
          "name": "stderr",
          "text": [
            "/usr/local/lib/python3.7/dist-packages/sklearn/metrics/_classification.py:1308: UndefinedMetricWarning: Precision and F-score are ill-defined and being set to 0.0 in labels with no predicted samples. Use `zero_division` parameter to control this behavior.\n",
            "  _warn_prf(average, modifier, msg_start, len(result))\n",
            "/usr/local/lib/python3.7/dist-packages/sklearn/metrics/_classification.py:1308: UndefinedMetricWarning: Precision and F-score are ill-defined and being set to 0.0 in labels with no predicted samples. Use `zero_division` parameter to control this behavior.\n",
            "  _warn_prf(average, modifier, msg_start, len(result))\n",
            "/usr/local/lib/python3.7/dist-packages/sklearn/metrics/_classification.py:1308: UndefinedMetricWarning: Precision and F-score are ill-defined and being set to 0.0 in labels with no predicted samples. Use `zero_division` parameter to control this behavior.\n",
            "  _warn_prf(average, modifier, msg_start, len(result))\n",
            "\r 30%|███       | 3/10 [02:29<06:42, 57.49s/it]"
          ]
        },
        {
          "output_type": "stream",
          "name": "stdout",
          "text": [
            "Classification report for case:  50\n",
            "              precision    recall  f1-score   support\n",
            "\n",
            "           1       0.21      0.04      0.06      2022\n",
            "           2       0.27      0.10      0.15      1955\n",
            "           3       0.08      0.00      0.01      1099\n",
            "           4       0.70      0.13      0.22      1246\n",
            "           5       0.00      0.00      0.00       786\n",
            "           6       0.00      0.00      0.00       809\n",
            "           7       0.00      0.00      0.00       928\n",
            "           8       0.00      0.00      0.00       669\n",
            "           9       0.00      0.00      0.00       569\n",
            "          10       0.00      0.00      0.00       595\n",
            "          11       0.29      0.14      0.19       696\n",
            "          12       0.67      0.00      0.01       546\n",
            "          13       0.00      0.00      0.00       492\n",
            "          14       0.00      0.00      0.00       536\n",
            "          15       0.00      0.00      0.00       498\n",
            "          16       0.00      0.00      0.00       492\n",
            "          17       0.69      0.21      0.33       565\n",
            "          18       0.00      0.00      0.00       740\n",
            "          19       0.00      0.00      0.00       445\n",
            "\n",
            "   micro avg       0.35      0.04      0.07     15688\n",
            "   macro avg       0.15      0.03      0.05     15688\n",
            "weighted avg       0.18      0.04      0.06     15688\n",
            "\n"
          ]
        },
        {
          "output_type": "stream",
          "name": "stderr",
          "text": [
            "/usr/local/lib/python3.7/dist-packages/sklearn/metrics/_classification.py:1308: UndefinedMetricWarning: Precision and F-score are ill-defined and being set to 0.0 in labels with no predicted samples. Use `zero_division` parameter to control this behavior.\n",
            "  _warn_prf(average, modifier, msg_start, len(result))\n",
            "/usr/local/lib/python3.7/dist-packages/sklearn/metrics/_classification.py:1308: UndefinedMetricWarning: Precision and F-score are ill-defined and being set to 0.0 in labels with no predicted samples. Use `zero_division` parameter to control this behavior.\n",
            "  _warn_prf(average, modifier, msg_start, len(result))\n",
            "/usr/local/lib/python3.7/dist-packages/sklearn/metrics/_classification.py:1308: UndefinedMetricWarning: Precision and F-score are ill-defined and being set to 0.0 in labels with no predicted samples. Use `zero_division` parameter to control this behavior.\n",
            "  _warn_prf(average, modifier, msg_start, len(result))\n",
            "\r 40%|████      | 4/10 [04:24<08:01, 80.27s/it]"
          ]
        },
        {
          "output_type": "stream",
          "name": "stdout",
          "text": [
            "Classification report for case:  70\n",
            "              precision    recall  f1-score   support\n",
            "\n",
            "           1       0.21      0.03      0.06      2022\n",
            "           2       0.32      0.10      0.16      1955\n",
            "           3       0.10      0.00      0.01      1099\n",
            "           4       0.66      0.14      0.23      1246\n",
            "           5       0.00      0.00      0.00       786\n",
            "           6       0.00      0.00      0.00       809\n",
            "           7       0.00      0.00      0.00       928\n",
            "           8       0.00      0.00      0.00       669\n",
            "           9       0.00      0.00      0.00       569\n",
            "          10       0.00      0.00      0.00       595\n",
            "          11       0.35      0.14      0.20       696\n",
            "          12       0.70      0.01      0.03       546\n",
            "          13       0.00      0.00      0.00       492\n",
            "          14       0.00      0.00      0.00       536\n",
            "          15       0.00      0.00      0.00       498\n",
            "          16       0.00      0.00      0.00       492\n",
            "          17       0.70      0.31      0.43       565\n",
            "          18       0.00      0.00      0.00       740\n",
            "          19       0.00      0.00      0.00       445\n",
            "\n",
            "   micro avg       0.41      0.05      0.08     15688\n",
            "   macro avg       0.16      0.04      0.06     15688\n",
            "weighted avg       0.19      0.05      0.07     15688\n",
            "\n"
          ]
        },
        {
          "output_type": "stream",
          "name": "stderr",
          "text": [
            "/usr/local/lib/python3.7/dist-packages/sklearn/metrics/_classification.py:1308: UndefinedMetricWarning: Precision and F-score are ill-defined and being set to 0.0 in labels with no predicted samples. Use `zero_division` parameter to control this behavior.\n",
            "  _warn_prf(average, modifier, msg_start, len(result))\n",
            "/usr/local/lib/python3.7/dist-packages/sklearn/metrics/_classification.py:1308: UndefinedMetricWarning: Precision and F-score are ill-defined and being set to 0.0 in labels with no predicted samples. Use `zero_division` parameter to control this behavior.\n",
            "  _warn_prf(average, modifier, msg_start, len(result))\n",
            "/usr/local/lib/python3.7/dist-packages/sklearn/metrics/_classification.py:1308: UndefinedMetricWarning: Precision and F-score are ill-defined and being set to 0.0 in labels with no predicted samples. Use `zero_division` parameter to control this behavior.\n",
            "  _warn_prf(average, modifier, msg_start, len(result))\n",
            "\r 50%|█████     | 5/10 [06:52<08:43, 104.61s/it]"
          ]
        },
        {
          "output_type": "stream",
          "name": "stdout",
          "text": [
            "Classification report for case:  90\n",
            "              precision    recall  f1-score   support\n",
            "\n",
            "           1       0.17      0.01      0.02      2022\n",
            "           2       0.35      0.09      0.14      1955\n",
            "           3       0.00      0.00      0.00      1099\n",
            "           4       0.66      0.14      0.22      1246\n",
            "           5       0.00      0.00      0.00       786\n",
            "           6       0.00      0.00      0.00       809\n",
            "           7       0.00      0.00      0.00       928\n",
            "           8       0.00      0.00      0.00       669\n",
            "           9       0.00      0.00      0.00       569\n",
            "          10       0.00      0.00      0.00       595\n",
            "          11       0.58      0.11      0.19       696\n",
            "          12       0.57      0.01      0.03       546\n",
            "          13       0.00      0.00      0.00       492\n",
            "          14       0.00      0.00      0.00       536\n",
            "          15       0.00      0.00      0.00       498\n",
            "          16       0.00      0.00      0.00       492\n",
            "          17       0.72      0.26      0.39       565\n",
            "          18       0.00      0.00      0.00       740\n",
            "          19       0.00      0.00      0.00       445\n",
            "\n",
            "   micro avg       0.48      0.04      0.07     15688\n",
            "   macro avg       0.16      0.03      0.05     15688\n",
            "weighted avg       0.19      0.04      0.06     15688\n",
            "\n"
          ]
        },
        {
          "output_type": "stream",
          "name": "stderr",
          "text": [
            "/usr/local/lib/python3.7/dist-packages/sklearn/metrics/_classification.py:1308: UndefinedMetricWarning: Precision and F-score are ill-defined and being set to 0.0 in labels with no predicted samples. Use `zero_division` parameter to control this behavior.\n",
            "  _warn_prf(average, modifier, msg_start, len(result))\n",
            "/usr/local/lib/python3.7/dist-packages/sklearn/metrics/_classification.py:1308: UndefinedMetricWarning: Precision and F-score are ill-defined and being set to 0.0 in labels with no predicted samples. Use `zero_division` parameter to control this behavior.\n",
            "  _warn_prf(average, modifier, msg_start, len(result))\n",
            "/usr/local/lib/python3.7/dist-packages/sklearn/metrics/_classification.py:1308: UndefinedMetricWarning: Precision and F-score are ill-defined and being set to 0.0 in labels with no predicted samples. Use `zero_division` parameter to control this behavior.\n",
            "  _warn_prf(average, modifier, msg_start, len(result))\n",
            "\r 60%|██████    | 6/10 [09:51<08:38, 129.74s/it]"
          ]
        },
        {
          "output_type": "stream",
          "name": "stdout",
          "text": [
            "Classification report for case:  110\n",
            "              precision    recall  f1-score   support\n",
            "\n",
            "           1       0.20      0.02      0.04      2022\n",
            "           2       0.35      0.11      0.16      1955\n",
            "           3       0.00      0.00      0.00      1099\n",
            "           4       0.67      0.13      0.22      1246\n",
            "           5       0.00      0.00      0.00       786\n",
            "           6       0.00      0.00      0.00       809\n",
            "           7       0.33      0.00      0.00       928\n",
            "           8       0.00      0.00      0.00       669\n",
            "           9       0.00      0.00      0.00       569\n",
            "          10       0.00      0.00      0.00       595\n",
            "          11       0.71      0.11      0.20       696\n",
            "          12       0.75      0.01      0.02       546\n",
            "          13       0.00      0.00      0.00       492\n",
            "          14       0.00      0.00      0.00       536\n",
            "          15       0.00      0.00      0.00       498\n",
            "          16       0.00      0.00      0.00       492\n",
            "          17       0.71      0.32      0.44       565\n",
            "          18       0.00      0.00      0.00       740\n",
            "          19       0.00      0.00      0.00       445\n",
            "\n",
            "   micro avg       0.48      0.04      0.08     15688\n",
            "   macro avg       0.20      0.04      0.06     15688\n",
            "weighted avg       0.23      0.04      0.07     15688\n",
            "\n"
          ]
        },
        {
          "output_type": "stream",
          "name": "stderr",
          "text": [
            "/usr/local/lib/python3.7/dist-packages/sklearn/metrics/_classification.py:1308: UndefinedMetricWarning: Precision and F-score are ill-defined and being set to 0.0 in labels with no predicted samples. Use `zero_division` parameter to control this behavior.\n",
            "  _warn_prf(average, modifier, msg_start, len(result))\n",
            "/usr/local/lib/python3.7/dist-packages/sklearn/metrics/_classification.py:1308: UndefinedMetricWarning: Precision and F-score are ill-defined and being set to 0.0 in labels with no predicted samples. Use `zero_division` parameter to control this behavior.\n",
            "  _warn_prf(average, modifier, msg_start, len(result))\n",
            "/usr/local/lib/python3.7/dist-packages/sklearn/metrics/_classification.py:1308: UndefinedMetricWarning: Precision and F-score are ill-defined and being set to 0.0 in labels with no predicted samples. Use `zero_division` parameter to control this behavior.\n",
            "  _warn_prf(average, modifier, msg_start, len(result))\n",
            "\r 70%|███████   | 7/10 [13:24<07:51, 157.26s/it]"
          ]
        },
        {
          "output_type": "stream",
          "name": "stdout",
          "text": [
            "Classification report for case:  130\n",
            "              precision    recall  f1-score   support\n",
            "\n",
            "           1       0.18      0.01      0.02      2022\n",
            "           2       0.47      0.09      0.16      1955\n",
            "           3       0.00      0.00      0.00      1099\n",
            "           4       0.68      0.13      0.22      1246\n",
            "           5       0.00      0.00      0.00       786\n",
            "           6       0.00      0.00      0.00       809\n",
            "           7       0.20      0.00      0.00       928\n",
            "           8       0.00      0.00      0.00       669\n",
            "           9       0.00      0.00      0.00       569\n",
            "          10       0.00      0.00      0.00       595\n",
            "          11       0.70      0.10      0.18       696\n",
            "          12       0.62      0.02      0.04       546\n",
            "          13       0.00      0.00      0.00       492\n",
            "          14       0.00      0.00      0.00       536\n",
            "          15       0.00      0.00      0.00       498\n",
            "          16       0.00      0.00      0.00       492\n",
            "          17       0.71      0.33      0.45       565\n",
            "          18       0.00      0.00      0.00       740\n",
            "          19       0.00      0.00      0.00       445\n",
            "\n",
            "   micro avg       0.56      0.04      0.08     15688\n",
            "   macro avg       0.19      0.04      0.06     15688\n",
            "weighted avg       0.23      0.04      0.07     15688\n",
            "\n"
          ]
        },
        {
          "output_type": "stream",
          "name": "stderr",
          "text": [
            "/usr/local/lib/python3.7/dist-packages/sklearn/metrics/_classification.py:1308: UndefinedMetricWarning: Precision and F-score are ill-defined and being set to 0.0 in labels with no predicted samples. Use `zero_division` parameter to control this behavior.\n",
            "  _warn_prf(average, modifier, msg_start, len(result))\n",
            "/usr/local/lib/python3.7/dist-packages/sklearn/metrics/_classification.py:1308: UndefinedMetricWarning: Precision and F-score are ill-defined and being set to 0.0 in labels with no predicted samples. Use `zero_division` parameter to control this behavior.\n",
            "  _warn_prf(average, modifier, msg_start, len(result))\n",
            "/usr/local/lib/python3.7/dist-packages/sklearn/metrics/_classification.py:1308: UndefinedMetricWarning: Precision and F-score are ill-defined and being set to 0.0 in labels with no predicted samples. Use `zero_division` parameter to control this behavior.\n",
            "  _warn_prf(average, modifier, msg_start, len(result))\n",
            "\r 80%|████████  | 8/10 [17:27<06:08, 184.40s/it]"
          ]
        },
        {
          "output_type": "stream",
          "name": "stdout",
          "text": [
            "Classification report for case:  150\n",
            "              precision    recall  f1-score   support\n",
            "\n",
            "           1       0.05      0.00      0.00      2022\n",
            "           2       0.44      0.10      0.16      1955\n",
            "           3       0.00      0.00      0.00      1099\n",
            "           4       0.67      0.13      0.21      1246\n",
            "           5       0.00      0.00      0.00       786\n",
            "           6       0.00      0.00      0.00       809\n",
            "           7       0.00      0.00      0.00       928\n",
            "           8       0.00      0.00      0.00       669\n",
            "           9       0.00      0.00      0.00       569\n",
            "          10       0.00      0.00      0.00       595\n",
            "          11       0.63      0.10      0.18       696\n",
            "          12       0.71      0.02      0.04       546\n",
            "          13       0.00      0.00      0.00       492\n",
            "          14       0.00      0.00      0.00       536\n",
            "          15       0.00      0.00      0.00       498\n",
            "          16       0.00      0.00      0.00       492\n",
            "          17       0.71      0.34      0.46       565\n",
            "          18       0.00      0.00      0.00       740\n",
            "          19       0.00      0.00      0.00       445\n",
            "\n",
            "   micro avg       0.56      0.04      0.07     15688\n",
            "   macro avg       0.17      0.04      0.06     15688\n",
            "weighted avg       0.19      0.04      0.06     15688\n",
            "\n"
          ]
        },
        {
          "output_type": "stream",
          "name": "stderr",
          "text": [
            "/usr/local/lib/python3.7/dist-packages/sklearn/metrics/_classification.py:1308: UndefinedMetricWarning: Precision and F-score are ill-defined and being set to 0.0 in labels with no predicted samples. Use `zero_division` parameter to control this behavior.\n",
            "  _warn_prf(average, modifier, msg_start, len(result))\n",
            "/usr/local/lib/python3.7/dist-packages/sklearn/metrics/_classification.py:1308: UndefinedMetricWarning: Precision and F-score are ill-defined and being set to 0.0 in labels with no predicted samples. Use `zero_division` parameter to control this behavior.\n",
            "  _warn_prf(average, modifier, msg_start, len(result))\n",
            "/usr/local/lib/python3.7/dist-packages/sklearn/metrics/_classification.py:1308: UndefinedMetricWarning: Precision and F-score are ill-defined and being set to 0.0 in labels with no predicted samples. Use `zero_division` parameter to control this behavior.\n",
            "  _warn_prf(average, modifier, msg_start, len(result))\n",
            "\r 90%|█████████ | 9/10 [22:05<03:33, 213.73s/it]"
          ]
        },
        {
          "output_type": "stream",
          "name": "stdout",
          "text": [
            "Classification report for case:  170\n",
            "              precision    recall  f1-score   support\n",
            "\n",
            "           1       0.00      0.00      0.00      2022\n",
            "           2       0.42      0.10      0.16      1955\n",
            "           3       0.00      0.00      0.00      1099\n",
            "           4       0.66      0.13      0.21      1246\n",
            "           5       0.00      0.00      0.00       786\n",
            "           6       0.00      0.00      0.00       809\n",
            "           7       0.00      0.00      0.00       928\n",
            "           8       0.00      0.00      0.00       669\n",
            "           9       0.00      0.00      0.00       569\n",
            "          10       0.00      0.00      0.00       595\n",
            "          11       0.62      0.10      0.18       696\n",
            "          12       0.71      0.01      0.02       546\n",
            "          13       0.00      0.00      0.00       492\n",
            "          14       0.00      0.00      0.00       536\n",
            "          15       0.00      0.00      0.00       498\n",
            "          16       0.00      0.00      0.00       492\n",
            "          17       0.70      0.36      0.48       565\n",
            "          18       0.00      0.00      0.00       740\n",
            "          19       0.00      0.00      0.00       445\n",
            "\n",
            "   micro avg       0.56      0.04      0.07     15688\n",
            "   macro avg       0.16      0.04      0.05     15688\n",
            "weighted avg       0.18      0.04      0.06     15688\n",
            "\n"
          ]
        },
        {
          "output_type": "stream",
          "name": "stderr",
          "text": [
            "/usr/local/lib/python3.7/dist-packages/sklearn/metrics/_classification.py:1308: UndefinedMetricWarning: Precision and F-score are ill-defined and being set to 0.0 in labels with no predicted samples. Use `zero_division` parameter to control this behavior.\n",
            "  _warn_prf(average, modifier, msg_start, len(result))\n",
            "/usr/local/lib/python3.7/dist-packages/sklearn/metrics/_classification.py:1308: UndefinedMetricWarning: Precision and F-score are ill-defined and being set to 0.0 in labels with no predicted samples. Use `zero_division` parameter to control this behavior.\n",
            "  _warn_prf(average, modifier, msg_start, len(result))\n",
            "/usr/local/lib/python3.7/dist-packages/sklearn/metrics/_classification.py:1308: UndefinedMetricWarning: Precision and F-score are ill-defined and being set to 0.0 in labels with no predicted samples. Use `zero_division` parameter to control this behavior.\n",
            "  _warn_prf(average, modifier, msg_start, len(result))\n",
            "100%|██████████| 10/10 [27:15<00:00, 163.57s/it]"
          ]
        },
        {
          "output_type": "stream",
          "name": "stdout",
          "text": [
            "Classification report for case:  190\n",
            "              precision    recall  f1-score   support\n",
            "\n",
            "           1       0.07      0.00      0.00      2022\n",
            "           2       0.36      0.13      0.19      1955\n",
            "           3       0.00      0.00      0.00      1099\n",
            "           4       0.66      0.13      0.22      1246\n",
            "           5       0.00      0.00      0.00       786\n",
            "           6       0.00      0.00      0.00       809\n",
            "           7       0.00      0.00      0.00       928\n",
            "           8       0.00      0.00      0.00       669\n",
            "           9       0.00      0.00      0.00       569\n",
            "          10       0.00      0.00      0.00       595\n",
            "          11       0.67      0.10      0.18       696\n",
            "          12       0.75      0.01      0.02       546\n",
            "          13       0.00      0.00      0.00       492\n",
            "          14       0.00      0.00      0.00       536\n",
            "          15       0.00      0.00      0.00       498\n",
            "          16       0.00      0.00      0.00       492\n",
            "          17       0.72      0.33      0.46       565\n",
            "          18       0.00      0.00      0.00       740\n",
            "          19       0.00      0.00      0.00       445\n",
            "\n",
            "   micro avg       0.51      0.04      0.08     15688\n",
            "   macro avg       0.17      0.04      0.06     15688\n",
            "weighted avg       0.19      0.04      0.07     15688\n",
            "\n"
          ]
        },
        {
          "output_type": "stream",
          "name": "stderr",
          "text": [
            "\n"
          ]
        },
        {
          "output_type": "display_data",
          "data": {
            "image/png": "[encoded data removed]",
            "text/plain": [
              "<Figure size 432x288 with 1 Axes>"
            ]
          },
          "metadata": {
            "needs_background": "light"
          }
        }
      ]
    },
    {
      "cell_type": "code",
      "metadata": {
        "id": "wQvUlgZfvwig"
      },
      "source": [
        "X_train, X_test, y_train, y_test = trainData, testData, trainLabels, testLabels\n"
      ],
      "execution_count": null,
      "outputs": []
    },
    {
      "cell_type": "markdown",
      "metadata": {
        "id": "3VJBgnp6g5dI"
      },
      "source": [
        "#### Estimators Range 2"
      ]
    },
    {
      "cell_type": "code",
      "metadata": {
        "id": "93po27kJjDM6"
      },
      "source": [
        ""
      ],
      "execution_count": null,
      "outputs": []
    },
    {
      "cell_type": "code",
      "metadata": {
        "id": "t5K9U8hmd4eA",
        "outputId": "fff2ba74-dabb-48e7-8240-c4c64a5c7a18"
      },
      "source": [
        "accuracy = []\n",
        "predVal = []\n",
        "itr= [400, 500, 600, 700, 800, 900, 1000]\n",
        "\n",
        "for i in tqdm(range(len(itr))):\n",
        "    clf = RandomForestClassifier(criterion='gini', max_depth=25, n_estimators=itr[i], random_state=0)\n",
        "    clf.fit(trainData, trainLabels)\n",
        "    y_pred = clf.predict(testData)\n",
        "    print(\"Classification report for case: \",itr[i])\n",
        "    accuracy = round(accuracy_score(y_pred, y_test) * 100,2)\n",
        "    print(\"Accuracy: \", accuracy)\n",
        "    print(classification_report(testLabels,y_pred,labels = [1, 2, 3, 4, 5, 6, 7, 8, 9, 10, 11, 12, 13, 14, 15, 16, 17, 18, 19]))\n",
        "    # accuracy.append(round(accuracy_score(y_pred,testLabels) * 100,2))\n",
        "    # predVal.append(predVal, float(itr[i]))\n",
        "\n",
        "\n",
        "# plt.plot(predVal, accuracy)\n",
        "# plt.xlabel('Num estimators')\n",
        "# plt.ylabel('Accuracy')\n",
        "# plt.title('Accuracy vs Num estimators')\n",
        "# plt.show()"
      ],
      "execution_count": null,
      "outputs": [
        {
          "name": "stderr",
          "output_type": "stream",
          "text": [
            "  0%|          | 0/7 [00:00<?, ?it/s]/usr/local/lib/python3.9/site-packages/sklearn/metrics/_classification.py:1308: UndefinedMetricWarning: Precision and F-score are ill-defined and being set to 0.0 in labels with no predicted samples. Use `zero_division` parameter to control this behavior.\n",
            "  _warn_prf(average, modifier, msg_start, len(result))\n",
            "/usr/local/lib/python3.9/site-packages/sklearn/metrics/_classification.py:1308: UndefinedMetricWarning: Precision and F-score are ill-defined and being set to 0.0 in labels with no predicted samples. Use `zero_division` parameter to control this behavior.\n",
            "  _warn_prf(average, modifier, msg_start, len(result))\n",
            "/usr/local/lib/python3.9/site-packages/sklearn/metrics/_classification.py:1308: UndefinedMetricWarning: Precision and F-score are ill-defined and being set to 0.0 in labels with no predicted samples. Use `zero_division` parameter to control this behavior.\n",
            "  _warn_prf(average, modifier, msg_start, len(result))\n",
            " 14%|█▍        | 1/7 [05:28<32:49, 328.31s/it]"
          ]
        },
        {
          "name": "stdout",
          "output_type": "stream",
          "text": [
            "Classification report for case:  400\n",
            "Accuracy:  24.02\n",
            "              precision    recall  f1-score   support\n",
            "\n",
            "           1       0.00      0.00      0.00      2022\n",
            "           2       0.67      0.08      0.15      1955\n",
            "           3       0.00      0.00      0.00      1099\n",
            "           4       0.71      0.12      0.21      1246\n",
            "           5       0.00      0.00      0.00       786\n",
            "           6       0.00      0.00      0.00       809\n",
            "           7       0.00      0.00      0.00       928\n",
            "           8       0.00      0.00      0.00       669\n",
            "           9       0.00      0.00      0.00       569\n",
            "          10       0.00      0.00      0.00       595\n",
            "          11       0.68      0.10      0.17       696\n",
            "          12       0.00      0.00      0.00       546\n",
            "          13       0.00      0.00      0.00       492\n",
            "          14       0.00      0.00      0.00       536\n",
            "          15       0.00      0.00      0.00       498\n",
            "          16       0.00      0.00      0.00       492\n",
            "          17       0.72      0.28      0.40       565\n",
            "          18       0.00      0.00      0.00       740\n",
            "          19       0.00      0.00      0.00       445\n",
            "\n",
            "   micro avg       0.70      0.03      0.07     15688\n",
            "   macro avg       0.15      0.03      0.05     15688\n",
            "weighted avg       0.20      0.03      0.06     15688\n",
            "\n"
          ]
        },
        {
          "name": "stderr",
          "output_type": "stream",
          "text": [
            "/usr/local/lib/python3.9/site-packages/sklearn/metrics/_classification.py:1308: UndefinedMetricWarning: Precision and F-score are ill-defined and being set to 0.0 in labels with no predicted samples. Use `zero_division` parameter to control this behavior.\n",
            "  _warn_prf(average, modifier, msg_start, len(result))\n",
            "/usr/local/lib/python3.9/site-packages/sklearn/metrics/_classification.py:1308: UndefinedMetricWarning: Precision and F-score are ill-defined and being set to 0.0 in labels with no predicted samples. Use `zero_division` parameter to control this behavior.\n",
            "  _warn_prf(average, modifier, msg_start, len(result))\n",
            "/usr/local/lib/python3.9/site-packages/sklearn/metrics/_classification.py:1308: UndefinedMetricWarning: Precision and F-score are ill-defined and being set to 0.0 in labels with no predicted samples. Use `zero_division` parameter to control this behavior.\n",
            "  _warn_prf(average, modifier, msg_start, len(result))\n",
            " 29%|██▊       | 2/7 [12:31<31:59, 383.84s/it]"
          ]
        },
        {
          "name": "stdout",
          "output_type": "stream",
          "text": [
            "Classification report for case:  500\n",
            "Accuracy:  23.98\n",
            "              precision    recall  f1-score   support\n",
            "\n",
            "           1       0.00      0.00      0.00      2022\n",
            "           2       0.67      0.08      0.15      1955\n",
            "           3       0.00      0.00      0.00      1099\n",
            "           4       0.70      0.12      0.20      1246\n",
            "           5       0.00      0.00      0.00       786\n",
            "           6       0.00      0.00      0.00       809\n",
            "           7       0.00      0.00      0.00       928\n",
            "           8       0.00      0.00      0.00       669\n",
            "           9       0.00      0.00      0.00       569\n",
            "          10       0.00      0.00      0.00       595\n",
            "          11       0.70      0.10      0.17       696\n",
            "          12       0.00      0.00      0.00       546\n",
            "          13       0.00      0.00      0.00       492\n",
            "          14       0.00      0.00      0.00       536\n",
            "          15       0.00      0.00      0.00       498\n",
            "          16       0.00      0.00      0.00       492\n",
            "          17       0.72      0.28      0.40       565\n",
            "          18       0.00      0.00      0.00       740\n",
            "          19       0.00      0.00      0.00       445\n",
            "\n",
            "   micro avg       0.69      0.03      0.07     15688\n",
            "   macro avg       0.15      0.03      0.05     15688\n",
            "weighted avg       0.20      0.03      0.06     15688\n",
            "\n"
          ]
        },
        {
          "name": "stderr",
          "output_type": "stream",
          "text": [
            "/usr/local/lib/python3.9/site-packages/sklearn/metrics/_classification.py:1308: UndefinedMetricWarning: Precision and F-score are ill-defined and being set to 0.0 in labels with no predicted samples. Use `zero_division` parameter to control this behavior.\n",
            "  _warn_prf(average, modifier, msg_start, len(result))\n",
            "/usr/local/lib/python3.9/site-packages/sklearn/metrics/_classification.py:1308: UndefinedMetricWarning: Precision and F-score are ill-defined and being set to 0.0 in labels with no predicted samples. Use `zero_division` parameter to control this behavior.\n",
            "  _warn_prf(average, modifier, msg_start, len(result))\n",
            "/usr/local/lib/python3.9/site-packages/sklearn/metrics/_classification.py:1308: UndefinedMetricWarning: Precision and F-score are ill-defined and being set to 0.0 in labels with no predicted samples. Use `zero_division` parameter to control this behavior.\n",
            "  _warn_prf(average, modifier, msg_start, len(result))\n",
            " 43%|████▎     | 3/7 [21:03<29:31, 442.76s/it]"
          ]
        },
        {
          "name": "stdout",
          "output_type": "stream",
          "text": [
            "Classification report for case:  600\n",
            "Accuracy:  23.98\n",
            "              precision    recall  f1-score   support\n",
            "\n",
            "           1       0.00      0.00      0.00      2022\n",
            "           2       0.69      0.08      0.14      1955\n",
            "           3       0.00      0.00      0.00      1099\n",
            "           4       0.71      0.12      0.20      1246\n",
            "           5       0.00      0.00      0.00       786\n",
            "           6       0.00      0.00      0.00       809\n",
            "           7       0.00      0.00      0.00       928\n",
            "           8       0.00      0.00      0.00       669\n",
            "           9       0.00      0.00      0.00       569\n",
            "          10       0.00      0.00      0.00       595\n",
            "          11       0.68      0.09      0.16       696\n",
            "          12       0.00      0.00      0.00       546\n",
            "          13       0.00      0.00      0.00       492\n",
            "          14       0.00      0.00      0.00       536\n",
            "          15       0.00      0.00      0.00       498\n",
            "          16       0.00      0.00      0.00       492\n",
            "          17       0.73      0.29      0.42       565\n",
            "          18       0.00      0.00      0.00       740\n",
            "          19       0.00      0.00      0.00       445\n",
            "\n",
            "   micro avg       0.70      0.03      0.07     15688\n",
            "   macro avg       0.15      0.03      0.05     15688\n",
            "weighted avg       0.20      0.03      0.06     15688\n",
            "\n"
          ]
        },
        {
          "name": "stderr",
          "output_type": "stream",
          "text": [
            "/usr/local/lib/python3.9/site-packages/sklearn/metrics/_classification.py:1308: UndefinedMetricWarning: Precision and F-score are ill-defined and being set to 0.0 in labels with no predicted samples. Use `zero_division` parameter to control this behavior.\n",
            "  _warn_prf(average, modifier, msg_start, len(result))\n",
            "/usr/local/lib/python3.9/site-packages/sklearn/metrics/_classification.py:1308: UndefinedMetricWarning: Precision and F-score are ill-defined and being set to 0.0 in labels with no predicted samples. Use `zero_division` parameter to control this behavior.\n",
            "  _warn_prf(average, modifier, msg_start, len(result))\n",
            "/usr/local/lib/python3.9/site-packages/sklearn/metrics/_classification.py:1308: UndefinedMetricWarning: Precision and F-score are ill-defined and being set to 0.0 in labels with no predicted samples. Use `zero_division` parameter to control this behavior.\n",
            "  _warn_prf(average, modifier, msg_start, len(result))\n",
            " 57%|█████▋    | 4/7 [33:44<28:24, 568.24s/it]"
          ]
        },
        {
          "name": "stdout",
          "output_type": "stream",
          "text": [
            "Classification report for case:  700\n",
            "Accuracy:  23.96\n",
            "              precision    recall  f1-score   support\n",
            "\n",
            "           1       0.00      0.00      0.00      2022\n",
            "           2       0.70      0.07      0.13      1955\n",
            "           3       0.00      0.00      0.00      1099\n",
            "           4       0.70      0.11      0.20      1246\n",
            "           5       0.00      0.00      0.00       786\n",
            "           6       0.00      0.00      0.00       809\n",
            "           7       0.00      0.00      0.00       928\n",
            "           8       0.00      0.00      0.00       669\n",
            "           9       0.00      0.00      0.00       569\n",
            "          10       0.00      0.00      0.00       595\n",
            "          11       0.70      0.09      0.17       696\n",
            "          12       0.00      0.00      0.00       546\n",
            "          13       0.00      0.00      0.00       492\n",
            "          14       0.00      0.00      0.00       536\n",
            "          15       0.00      0.00      0.00       498\n",
            "          16       0.00      0.00      0.00       492\n",
            "          17       0.73      0.31      0.44       565\n",
            "          18       0.00      0.00      0.00       740\n",
            "          19       0.00      0.00      0.00       445\n",
            "\n",
            "   micro avg       0.71      0.03      0.06     15688\n",
            "   macro avg       0.15      0.03      0.05     15688\n",
            "weighted avg       0.20      0.03      0.06     15688\n",
            "\n"
          ]
        },
        {
          "name": "stderr",
          "output_type": "stream",
          "text": [
            "/usr/local/lib/python3.9/site-packages/sklearn/metrics/_classification.py:1308: UndefinedMetricWarning: Precision and F-score are ill-defined and being set to 0.0 in labels with no predicted samples. Use `zero_division` parameter to control this behavior.\n",
            "  _warn_prf(average, modifier, msg_start, len(result))\n",
            "/usr/local/lib/python3.9/site-packages/sklearn/metrics/_classification.py:1308: UndefinedMetricWarning: Precision and F-score are ill-defined and being set to 0.0 in labels with no predicted samples. Use `zero_division` parameter to control this behavior.\n",
            "  _warn_prf(average, modifier, msg_start, len(result))\n",
            "/usr/local/lib/python3.9/site-packages/sklearn/metrics/_classification.py:1308: UndefinedMetricWarning: Precision and F-score are ill-defined and being set to 0.0 in labels with no predicted samples. Use `zero_division` parameter to control this behavior.\n",
            "  _warn_prf(average, modifier, msg_start, len(result))\n",
            " 71%|███████▏  | 5/7 [47:07<21:45, 652.95s/it]"
          ]
        },
        {
          "name": "stdout",
          "output_type": "stream",
          "text": [
            "Classification report for case:  800\n",
            "Accuracy:  23.97\n",
            "              precision    recall  f1-score   support\n",
            "\n",
            "           1       0.00      0.00      0.00      2022\n",
            "           2       0.71      0.07      0.13      1955\n",
            "           3       0.00      0.00      0.00      1099\n",
            "           4       0.68      0.12      0.21      1246\n",
            "           5       0.00      0.00      0.00       786\n",
            "           6       0.00      0.00      0.00       809\n",
            "           7       0.00      0.00      0.00       928\n",
            "           8       0.00      0.00      0.00       669\n",
            "           9       0.00      0.00      0.00       569\n",
            "          10       0.00      0.00      0.00       595\n",
            "          11       0.72      0.10      0.17       696\n",
            "          12       0.00      0.00      0.00       546\n",
            "          13       0.00      0.00      0.00       492\n",
            "          14       0.00      0.00      0.00       536\n",
            "          15       0.00      0.00      0.00       498\n",
            "          16       0.00      0.00      0.00       492\n",
            "          17       0.74      0.30      0.43       565\n",
            "          18       0.00      0.00      0.00       740\n",
            "          19       0.00      0.00      0.00       445\n",
            "\n",
            "   micro avg       0.70      0.03      0.07     15688\n",
            "   macro avg       0.15      0.03      0.05     15688\n",
            "weighted avg       0.20      0.03      0.06     15688\n",
            "\n"
          ]
        },
        {
          "name": "stderr",
          "output_type": "stream",
          "text": [
            "/usr/local/lib/python3.9/site-packages/sklearn/metrics/_classification.py:1308: UndefinedMetricWarning: Precision and F-score are ill-defined and being set to 0.0 in labels with no predicted samples. Use `zero_division` parameter to control this behavior.\n",
            "  _warn_prf(average, modifier, msg_start, len(result))\n",
            "/usr/local/lib/python3.9/site-packages/sklearn/metrics/_classification.py:1308: UndefinedMetricWarning: Precision and F-score are ill-defined and being set to 0.0 in labels with no predicted samples. Use `zero_division` parameter to control this behavior.\n",
            "  _warn_prf(average, modifier, msg_start, len(result))\n",
            "/usr/local/lib/python3.9/site-packages/sklearn/metrics/_classification.py:1308: UndefinedMetricWarning: Precision and F-score are ill-defined and being set to 0.0 in labels with no predicted samples. Use `zero_division` parameter to control this behavior.\n",
            "  _warn_prf(average, modifier, msg_start, len(result))\n",
            " 86%|████████▌ | 6/7 [1:01:40<12:07, 727.70s/it]"
          ]
        },
        {
          "name": "stdout",
          "output_type": "stream",
          "text": [
            "Classification report for case:  900\n",
            "Accuracy:  23.88\n",
            "              precision    recall  f1-score   support\n",
            "\n",
            "           1       0.00      0.00      0.00      2022\n",
            "           2       0.71      0.07      0.13      1955\n",
            "           3       0.00      0.00      0.00      1099\n",
            "           4       0.69      0.12      0.21      1246\n",
            "           5       0.00      0.00      0.00       786\n",
            "           6       0.00      0.00      0.00       809\n",
            "           7       0.00      0.00      0.00       928\n",
            "           8       0.00      0.00      0.00       669\n",
            "           9       0.00      0.00      0.00       569\n",
            "          10       0.00      0.00      0.00       595\n",
            "          11       0.70      0.09      0.16       696\n",
            "          12       0.00      0.00      0.00       546\n",
            "          13       0.00      0.00      0.00       492\n",
            "          14       0.00      0.00      0.00       536\n",
            "          15       0.00      0.00      0.00       498\n",
            "          16       0.00      0.00      0.00       492\n",
            "          17       0.72      0.27      0.40       565\n",
            "          18       0.00      0.00      0.00       740\n",
            "          19       0.00      0.00      0.00       445\n",
            "\n",
            "   micro avg       0.71      0.03      0.06     15688\n",
            "   macro avg       0.15      0.03      0.05     15688\n",
            "weighted avg       0.20      0.03      0.05     15688\n",
            "\n"
          ]
        },
        {
          "name": "stderr",
          "output_type": "stream",
          "text": [
            "/usr/local/lib/python3.9/site-packages/sklearn/metrics/_classification.py:1308: UndefinedMetricWarning: Precision and F-score are ill-defined and being set to 0.0 in labels with no predicted samples. Use `zero_division` parameter to control this behavior.\n",
            "  _warn_prf(average, modifier, msg_start, len(result))\n",
            "/usr/local/lib/python3.9/site-packages/sklearn/metrics/_classification.py:1308: UndefinedMetricWarning: Precision and F-score are ill-defined and being set to 0.0 in labels with no predicted samples. Use `zero_division` parameter to control this behavior.\n",
            "  _warn_prf(average, modifier, msg_start, len(result))\n",
            "/usr/local/lib/python3.9/site-packages/sklearn/metrics/_classification.py:1308: UndefinedMetricWarning: Precision and F-score are ill-defined and being set to 0.0 in labels with no predicted samples. Use `zero_division` parameter to control this behavior.\n",
            "  _warn_prf(average, modifier, msg_start, len(result))\n",
            "100%|██████████| 7/7 [1:17:56<00:00, 668.14s/it]"
          ]
        },
        {
          "name": "stdout",
          "output_type": "stream",
          "text": [
            "Classification report for case:  1000\n",
            "Accuracy:  23.83\n",
            "              precision    recall  f1-score   support\n",
            "\n",
            "           1       0.00      0.00      0.00      2022\n",
            "           2       0.72      0.07      0.13      1955\n",
            "           3       0.00      0.00      0.00      1099\n",
            "           4       0.69      0.12      0.21      1246\n",
            "           5       0.00      0.00      0.00       786\n",
            "           6       0.00      0.00      0.00       809\n",
            "           7       0.00      0.00      0.00       928\n",
            "           8       0.00      0.00      0.00       669\n",
            "           9       0.00      0.00      0.00       569\n",
            "          10       0.00      0.00      0.00       595\n",
            "          11       0.68      0.09      0.16       696\n",
            "          12       0.00      0.00      0.00       546\n",
            "          13       0.00      0.00      0.00       492\n",
            "          14       0.00      0.00      0.00       536\n",
            "          15       0.00      0.00      0.00       498\n",
            "          16       0.00      0.00      0.00       492\n",
            "          17       0.71      0.27      0.39       565\n",
            "          18       0.00      0.00      0.00       740\n",
            "          19       0.00      0.00      0.00       445\n",
            "\n",
            "   micro avg       0.70      0.03      0.06     15688\n",
            "   macro avg       0.15      0.03      0.05     15688\n",
            "weighted avg       0.20      0.03      0.05     15688\n",
            "\n"
          ]
        },
        {
          "name": "stderr",
          "output_type": "stream",
          "text": [
            "\n"
          ]
        }
      ]
    }
  ]
}