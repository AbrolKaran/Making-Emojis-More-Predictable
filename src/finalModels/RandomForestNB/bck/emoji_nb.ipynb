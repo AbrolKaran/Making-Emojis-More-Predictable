{
 "cells": [
  {
   "cell_type": "code",
   "execution_count": null,
   "metadata": {
    "id": "6135jyy5IQ2B"
   },
   "outputs": [],
   "source": [
    "import pandas as pd\n",
    "import matplotlib.pyplot as plt\n",
    "from tqdm import tqdm\n",
    "import seaborn as sns\n",
    "from sklearn.model_selection import train_test_split\n",
    "from sklearn.tree import DecisionTreeClassifier\n",
    "from sklearn.ensemble import RandomForestClassifier\n",
    "from sklearn.ensemble import AdaBoostClassifier\n",
    "from sklearn.model_selection import GridSearchCV\n",
    "import numpy as np\n",
    "from sklearn.metrics import  recall_score, precision_score, accuracy_score, roc_curve\n",
    "import graphviz"
   ]
  },
  {
   "cell_type": "code",
   "execution_count": null,
   "metadata": {
    "id": "wCsgwo7tIvAs"
   },
   "outputs": [],
   "source": [
    "trainData = np.load('fin_t2_train.npy')\n",
    "trainLabels = open('finalTrainLabels.labels', 'r').readlines()\n",
    "testData = np.load('fin_t2_test.npy')\n",
    "testLabels = open('finalTestLabels.labels', 'r').readlines()"
   ]
  },
  {
   "cell_type": "code",
   "execution_count": null,
   "metadata": {
    "colab": {
     "base_uri": "https://localhost:8080/"
    },
    "id": "52vL88loEOhc",
    "outputId": "25ee7a2b-a2b1-4ebb-a23b-379e3c63d759"
   },
   "outputs": [
    {
     "data": {
      "text/plain": [
       "(69992, 2200)"
      ]
     },
     "metadata": {},
     "output_type": "display_data"
    }
   ],
   "source": [
    "trainData.shape"
   ]
  },
  {
   "cell_type": "code",
   "execution_count": null,
   "metadata": {
    "colab": {
     "base_uri": "https://localhost:8080/"
    },
    "id": "1QjcQGoVGDJB",
    "outputId": "dca6dacb-392d-464f-8046-12195e8d2eba"
   },
   "outputs": [
    {
     "name": "stderr",
     "output_type": "stream",
     "text": [
      "100%|██████████| 69992/69992 [00:00<00:00, 1543679.61it/s]\n",
      "100%|██████████| 20000/20000 [00:00<00:00, 2055124.70it/s]\n"
     ]
    }
   ],
   "source": [
    "for i in tqdm(range(len(trainLabels))):\n",
    "    trainLabels[i] = int(trainLabels[i])\n",
    "for i in tqdm(range(len(testLabels))):\n",
    "    testLabels[i] = int(testLabels[i])"
   ]
  },
  {
   "cell_type": "code",
   "execution_count": null,
   "metadata": {
    "id": "A6A_MlQgJlte"
   },
   "outputs": [],
   "source": [
    "trainLabels = np.array(trainLabels)\n",
    "testLabels = np.array(testLabels)\n",
    "trainLabels = trainLabels.reshape((-1, ))\n",
    "testLabels = testLabels.reshape((-1, ))"
   ]
  },
  {
   "cell_type": "code",
   "execution_count": null,
   "metadata": {},
   "outputs": [],
   "source": [
    "from sklearn.metrics import classification_report\n",
    "import warnings\n",
    "warnings.filterwarnings('always') \n",
    "from sklearn.metrics import classification_report\n",
    "X_train, X_test, y_train, y_test = trainData, testData, trainLabels, testLabels"
   ]
  },
  {
   "cell_type": "code",
   "execution_count": null,
   "metadata": {},
   "outputs": [],
   "source": [
    "\n",
    "\n",
    "# accuracy = round(accuracy_score(y_pred = y_pred, y_true = y_test) * 100,2)\n",
    "# print(\"Accuracy: \", accuracy)\n",
    "# print(classification_report(testLabels,y_pred,labels = [1, 2, 3, 4, 5, 6, 7, 8, 9, 10, 11, 12, 13, 14, 15, 16, 17, 18, 19]))"
   ]
  },
  {
   "cell_type": "markdown",
   "metadata": {
    "id": "vO1xwQMynOnC"
   },
   "source": [
    "# Naive Bayes\n"
   ]
  },
  {
   "cell_type": "markdown",
   "metadata": {
    "id": "13pLC5g7nUJO"
   },
   "source": [
    "### Gaussian - Better"
   ]
  },
  {
   "cell_type": "code",
   "execution_count": null,
   "metadata": {
    "id": "eSVyYN35d4d_",
    "outputId": "7b5add08-2107-4166-ccd6-d2c5237283e8"
   },
   "outputs": [
    {
     "name": "stdout",
     "output_type": "stream",
     "text": [
      "Accuracy:  22.78\n",
      "              precision    recall  f1-score   support\n",
      "\n",
      "           1       0.00      0.00      0.00      2022\n",
      "           2       0.43      0.00      0.00      1955\n",
      "           3       0.00      0.00      0.00      1099\n",
      "           4       0.37      0.01      0.02      1246\n",
      "           5       0.00      0.00      0.00       786\n",
      "           6       0.20      0.00      0.01       809\n",
      "           7       0.14      0.00      0.00       928\n",
      "           8       0.06      0.01      0.02       669\n",
      "           9       0.07      0.04      0.05       569\n",
      "          10       0.06      0.05      0.05       595\n",
      "          11       0.10      0.44      0.16       696\n",
      "          12       0.09      0.46      0.15       546\n",
      "          13       0.05      0.06      0.06       492\n",
      "          14       0.00      0.00      0.00       536\n",
      "          15       0.04      0.68      0.07       498\n",
      "          16       0.04      0.02      0.03       492\n",
      "          17       0.17      0.54      0.26       565\n",
      "          18       0.07      0.05      0.06       740\n",
      "          19       0.04      0.10      0.06       445\n",
      "\n",
      "   micro avg       0.07      0.09      0.08     15688\n",
      "   macro avg       0.10      0.13      0.05     15688\n",
      "weighted avg       0.13      0.09      0.04     15688\n",
      "\n"
     ]
    }
   ],
   "source": [
    "from sklearn.naive_bayes import GaussianNB\n",
    "clf_mnb = GaussianNB()\n",
    "accuracy = round(accuracy_score(y_pred = y_pred, y_true = y_test) * 100,2)\n",
    "print(\"Accuracy: \", accuracy)\n",
    "clf_mnb.fit(X_train, y_train)\n",
    "y_pred = clf_mnb.predict(X_test)\n",
    "print(classification_report(testLabels,y_pred,labels = [1, 2, 3, 4, 5, 6, 7, 8, 9, 10, 11, 12, 13, 14, 15, 16, 17, 18, 19]))"
   ]
  },
  {
   "cell_type": "markdown",
   "metadata": {
    "id": "vBGw25QQndDk"
   },
   "source": [
    "### Bernoulli"
   ]
  },
  {
   "cell_type": "code",
   "execution_count": null,
   "metadata": {
    "id": "0cbQ_Tndd4d_",
    "outputId": "d9212cd4-e54c-4891-dae0-f0f508220908"
   },
   "outputs": [
    {
     "name": "stdout",
     "output_type": "stream",
     "text": [
      "Accuracy:  7.0\n",
      "              precision    recall  f1-score   support\n",
      "\n",
      "           1       0.00      0.00      0.00      2022\n",
      "           2       0.00      0.00      0.00      1955\n",
      "           3       0.00      0.00      0.00      1099\n",
      "           4       0.00      0.00      0.00      1246\n",
      "           5       0.00      0.00      0.00       786\n",
      "           6       0.00      0.00      0.00       809\n",
      "           7       0.00      0.00      0.00       928\n",
      "           8       0.00      0.00      0.00       669\n",
      "           9       0.07      0.00      0.00       569\n",
      "          10       0.00      0.00      0.00       595\n",
      "          11       0.52      0.08      0.15       696\n",
      "          12       0.40      0.03      0.06       546\n",
      "          13       0.04      0.01      0.01       492\n",
      "          14       0.00      0.00      0.00       536\n",
      "          15       0.03      0.97      0.05       498\n",
      "          16       0.01      0.00      0.00       492\n",
      "          17       0.69      0.12      0.20       565\n",
      "          18       0.00      0.00      0.00       740\n",
      "          19       0.03      0.06      0.04       445\n",
      "\n",
      "   micro avg       0.03      0.04      0.04     15688\n",
      "   macro avg       0.09      0.07      0.03     15688\n",
      "weighted avg       0.07      0.04      0.02     15688\n",
      "\n"
     ]
    },
    {
     "name": "stderr",
     "output_type": "stream",
     "text": [
      "/usr/local/lib/python3.9/site-packages/sklearn/metrics/_classification.py:1308: UndefinedMetricWarning: Precision and F-score are ill-defined and being set to 0.0 in labels with no predicted samples. Use `zero_division` parameter to control this behavior.\n",
      "  _warn_prf(average, modifier, msg_start, len(result))\n",
      "/usr/local/lib/python3.9/site-packages/sklearn/metrics/_classification.py:1308: UndefinedMetricWarning: Precision and F-score are ill-defined and being set to 0.0 in labels with no predicted samples. Use `zero_division` parameter to control this behavior.\n",
      "  _warn_prf(average, modifier, msg_start, len(result))\n",
      "/usr/local/lib/python3.9/site-packages/sklearn/metrics/_classification.py:1308: UndefinedMetricWarning: Precision and F-score are ill-defined and being set to 0.0 in labels with no predicted samples. Use `zero_division` parameter to control this behavior.\n",
      "  _warn_prf(average, modifier, msg_start, len(result))\n"
     ]
    }
   ],
   "source": [
    "from sklearn.naive_bayes import BernoulliNB\n",
    "clf_mnb = BernoulliNB()\n",
    "accuracy = round(accuracy_score(y_pred = y_pred, y_true = y_test) * 100,2)\n",
    "print(\"Accuracy: \", accuracy)\n",
    "clf_mnb.fit(X_train, y_train)\n",
    "y_pred = clf_mnb.predict(X_test)\n",
    "print(classification_report(testLabels,y_pred,labels = [1, 2, 3, 4, 5, 6, 7, 8, 9, 10, 11, 12, 13, 14, 15, 16, 17, 18, 19]))"
   ]
  },
  {
   "cell_type": "markdown",
   "metadata": {
    "id": "0J9r1GCFnhNu"
   },
   "source": [
    "### Multinomial"
   ]
  },
  {
   "cell_type": "code",
   "execution_count": null,
   "metadata": {
    "id": "W8uIr5sHd4d_",
    "outputId": "e4fc82c2-fbc2-45cf-c4ab-0b9688134b1f"
   },
   "outputs": [
    {
     "name": "stdout",
     "output_type": "stream",
     "text": [
      "Accuracy:  3.32\n"
     ]
    },
    {
     "ename": "AttributeError",
     "evalue": "'numpy.ndarray' object has no attribute 'todense'",
     "output_type": "error",
     "traceback": [
      "\u001b[0;31m---------------------------------------------------------------------------\u001b[0m\n",
      "\u001b[0;31mAttributeError\u001b[0m                            Traceback (most recent call last)\n",
      "\u001b[0;32m/var/folders/gj/mzxgltyj3wb83jl14fkhz8_w0000gn/T/ipykernel_9414/2022616975.py\u001b[0m in \u001b[0;36m<module>\u001b[0;34m\u001b[0m\n",
      "\u001b[1;32m      5\u001b[0m \u001b[0maccuracy\u001b[0m \u001b[0;34m=\u001b[0m \u001b[0mround\u001b[0m\u001b[0;34m(\u001b[0m\u001b[0maccuracy_score\u001b[0m\u001b[0;34m(\u001b[0m\u001b[0my_pred\u001b[0m \u001b[0;34m=\u001b[0m \u001b[0my_pred\u001b[0m\u001b[0;34m,\u001b[0m \u001b[0my_true\u001b[0m \u001b[0;34m=\u001b[0m \u001b[0my_test\u001b[0m\u001b[0;34m)\u001b[0m \u001b[0;34m*\u001b[0m \u001b[0;36m100\u001b[0m\u001b[0;34m,\u001b[0m\u001b[0;36m2\u001b[0m\u001b[0;34m)\u001b[0m\u001b[0;34m\u001b[0m\u001b[0;34m\u001b[0m\u001b[0m\n",
      "\u001b[1;32m      6\u001b[0m \u001b[0mprint\u001b[0m\u001b[0;34m(\u001b[0m\u001b[0;34m\"Accuracy: \"\u001b[0m\u001b[0;34m,\u001b[0m \u001b[0maccuracy\u001b[0m\u001b[0;34m)\u001b[0m\u001b[0;34m\u001b[0m\u001b[0;34m\u001b[0m\u001b[0m\n",
      "\u001b[0;32m----> 7\u001b[0;31m \u001b[0mclf_mnb\u001b[0m\u001b[0;34m.\u001b[0m\u001b[0mfit\u001b[0m\u001b[0;34m(\u001b[0m\u001b[0mX_train\u001b[0m\u001b[0;34m.\u001b[0m\u001b[0mtodense\u001b[0m\u001b[0;34m(\u001b[0m\u001b[0;34m)\u001b[0m\u001b[0;34m,\u001b[0m \u001b[0my_train\u001b[0m\u001b[0;34m.\u001b[0m\u001b[0mtodense\u001b[0m\u001b[0;34m(\u001b[0m\u001b[0;34m)\u001b[0m\u001b[0;34m)\u001b[0m\u001b[0;34m\u001b[0m\u001b[0;34m\u001b[0m\u001b[0m\n",
      "\u001b[0m\u001b[1;32m      8\u001b[0m \u001b[0my_pred\u001b[0m \u001b[0;34m=\u001b[0m \u001b[0mclf_mnb\u001b[0m\u001b[0;34m.\u001b[0m\u001b[0mpredict\u001b[0m\u001b[0;34m(\u001b[0m\u001b[0mX_test\u001b[0m\u001b[0;34m)\u001b[0m\u001b[0;34m\u001b[0m\u001b[0;34m\u001b[0m\u001b[0m\n",
      "\u001b[1;32m      9\u001b[0m \u001b[0mprint\u001b[0m\u001b[0;34m(\u001b[0m\u001b[0mclassification_report\u001b[0m\u001b[0;34m(\u001b[0m\u001b[0mtestLabels\u001b[0m\u001b[0;34m,\u001b[0m\u001b[0my_pred\u001b[0m\u001b[0;34m,\u001b[0m\u001b[0mlabels\u001b[0m \u001b[0;34m=\u001b[0m \u001b[0;34m[\u001b[0m\u001b[0;36m1\u001b[0m\u001b[0;34m,\u001b[0m \u001b[0;36m2\u001b[0m\u001b[0;34m,\u001b[0m \u001b[0;36m3\u001b[0m\u001b[0;34m,\u001b[0m \u001b[0;36m4\u001b[0m\u001b[0;34m,\u001b[0m \u001b[0;36m5\u001b[0m\u001b[0;34m,\u001b[0m \u001b[0;36m6\u001b[0m\u001b[0;34m,\u001b[0m \u001b[0;36m7\u001b[0m\u001b[0;34m,\u001b[0m \u001b[0;36m8\u001b[0m\u001b[0;34m,\u001b[0m \u001b[0;36m9\u001b[0m\u001b[0;34m,\u001b[0m \u001b[0;36m10\u001b[0m\u001b[0;34m,\u001b[0m \u001b[0;36m11\u001b[0m\u001b[0;34m,\u001b[0m \u001b[0;36m12\u001b[0m\u001b[0;34m,\u001b[0m \u001b[0;36m13\u001b[0m\u001b[0;34m,\u001b[0m \u001b[0;36m14\u001b[0m\u001b[0;34m,\u001b[0m \u001b[0;36m15\u001b[0m\u001b[0;34m,\u001b[0m \u001b[0;36m16\u001b[0m\u001b[0;34m,\u001b[0m \u001b[0;36m17\u001b[0m\u001b[0;34m,\u001b[0m \u001b[0;36m18\u001b[0m\u001b[0;34m,\u001b[0m \u001b[0;36m19\u001b[0m\u001b[0;34m]\u001b[0m\u001b[0;34m)\u001b[0m\u001b[0;34m)\u001b[0m\u001b[0;34m\u001b[0m\u001b[0;34m\u001b[0m\u001b[0m\n",
      "\n",
      "\u001b[0;31mAttributeError\u001b[0m: 'numpy.ndarray' object has no attribute 'todense'"
     ]
    }
   ],
   "source": [
    "# .np.todense()\n",
    "import numpy as np\n",
    "from sklearn.naive_bayes import MultinomialNB\n",
    "clf_mnb = MultinomialNB()\n",
    "accuracy = round(accuracy_score(y_pred = y_pred, y_true = y_test) * 100,2)\n",
    "print(\"Accuracy: \", accuracy)\n",
    "clf_mnb.fit(X_train.todense(), y_train.todense())\n",
    "y_pred = clf_mnb.predict(X_test)\n",
    "print(classification_report(testLabels,y_pred,labels = [1, 2, 3, 4, 5, 6, 7, 8, 9, 10, 11, 12, 13, 14, 15, 16, 17, 18, 19]))"
   ]
  },
  {
   "cell_type": "code",
   "execution_count": null,
   "metadata": {
    "id": "DQ9DnLojI15B"
   },
   "outputs": [],
   "source": []
  },
  {
   "cell_type": "code",
   "execution_count": null,
   "metadata": {
    "id": "wQvUlgZfvwig"
   },
   "outputs": [],
   "source": [
    "X_train, X_test, y_train, y_test = trainData, testData, trainLabels, testLabels\n"
   ]
  }
 ],
 "metadata": {
  "language_info": {
   "name": "python"
  },
  "orig_nbformat": 4
 },
 "nbformat": 4,
 "nbformat_minor": 2
}
