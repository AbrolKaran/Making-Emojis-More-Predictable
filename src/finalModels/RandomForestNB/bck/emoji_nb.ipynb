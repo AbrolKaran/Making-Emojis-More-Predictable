{
  "cells": [
    {
      "cell_type": "code",
      "execution_count": 6,
      "metadata": {
        "id": "6135jyy5IQ2B"
      },
      "outputs": [],
      "source": [
        "import pandas as pd\n",
        "import matplotlib.pyplot as plt\n",
        "from tqdm import tqdm\n",
        "import seaborn as sns\n",
        "from sklearn.model_selection import train_test_split\n",
        "from sklearn.tree import DecisionTreeClassifier\n",
        "from sklearn.ensemble import RandomForestClassifier\n",
        "from sklearn.ensemble import AdaBoostClassifier\n",
        "from sklearn.model_selection import GridSearchCV\n",
        "import numpy as np\n",
        "from sklearn.metrics import  recall_score, precision_score, accuracy_score, roc_curve\n",
        "import graphviz"
      ]
    },
    {
      "cell_type": "code",
      "execution_count": 2,
      "metadata": {
        "id": "wCsgwo7tIvAs"
      },
      "outputs": [],
      "source": [
        "trainData = np.load('fin_t2_train.npy')\n",
        "trainLabels = open('finalTrainLabels.labels', 'r').readlines()\n",
        "testData = np.load('fin_t2_test.npy')\n",
        "testLabels = open('finalTestLabels.labels', 'r').readlines()"
      ]
    },
    {
      "cell_type": "code",
      "execution_count": 3,
      "metadata": {
        "colab": {
          "base_uri": "https://localhost:8080/"
        },
        "id": "1QjcQGoVGDJB",
        "outputId": "dca6dacb-392d-464f-8046-12195e8d2eba"
      },
      "outputs": [
        {
          "name": "stderr",
          "output_type": "stream",
          "text": [
            "100%|██████████| 69992/69992 [00:00<00:00, 2231605.67it/s]\n",
            "100%|██████████| 20000/20000 [00:00<00:00, 2152139.16it/s]\n"
          ]
        }
      ],
      "source": [
        "for i in tqdm(range(len(trainLabels))):\n",
        "    trainLabels[i] = int(trainLabels[i])\n",
        "for i in tqdm(range(len(testLabels))):\n",
        "    testLabels[i] = int(testLabels[i])"
      ]
    },
    {
      "cell_type": "code",
      "execution_count": 4,
      "metadata": {
        "id": "A6A_MlQgJlte"
      },
      "outputs": [],
      "source": [
        "trainLabels = np.array(trainLabels)\n",
        "testLabels = np.array(testLabels)\n",
        "trainLabels = trainLabels.reshape((-1, ))\n",
        "testLabels = testLabels.reshape((-1, ))"
      ]
    },
    {
      "cell_type": "code",
      "execution_count": 5,
      "metadata": {},
      "outputs": [],
      "source": [
        "from sklearn.metrics import classification_report\n",
        "X_train, X_test, y_train, y_test = trainData, testData, trainLabels, testLabels"
      ]
    },
    {
      "cell_type": "code",
      "execution_count": null,
      "metadata": {},
      "outputs": [],
      "source": []
    },
    {
      "cell_type": "code",
      "execution_count": 7,
      "metadata": {},
      "outputs": [
        {
          "name": "stderr",
          "output_type": "stream",
          "text": [
            "  0%|          | 0/6 [00:00<?, ?it/s]/usr/local/lib/python3.9/site-packages/sklearn/metrics/_classification.py:1308: UndefinedMetricWarning: Precision and F-score are ill-defined and being set to 0.0 in labels with no predicted samples. Use `zero_division` parameter to control this behavior.\n",
            "  _warn_prf(average, modifier, msg_start, len(result))\n",
            "/usr/local/lib/python3.9/site-packages/sklearn/metrics/_classification.py:1308: UndefinedMetricWarning: Precision and F-score are ill-defined and being set to 0.0 in labels with no predicted samples. Use `zero_division` parameter to control this behavior.\n",
            "  _warn_prf(average, modifier, msg_start, len(result))\n",
            "/usr/local/lib/python3.9/site-packages/sklearn/metrics/_classification.py:1308: UndefinedMetricWarning: Precision and F-score are ill-defined and being set to 0.0 in labels with no predicted samples. Use `zero_division` parameter to control this behavior.\n",
            "  _warn_prf(average, modifier, msg_start, len(result))\n",
            " 17%|█▋        | 1/6 [05:16<26:24, 316.82s/it]"
          ]
        },
        {
          "name": "stdout",
          "output_type": "stream",
          "text": [
            "Classification report for case:  50\n",
            "              precision    recall  f1-score   support\n",
            "\n",
            "           1       0.20      0.00      0.00      2022\n",
            "           2       0.68      0.06      0.12      1955\n",
            "           3       0.35      0.01      0.01      1099\n",
            "           4       0.63      0.14      0.23      1246\n",
            "           5       0.17      0.00      0.00       786\n",
            "           6       0.45      0.04      0.07       809\n",
            "           7       0.39      0.05      0.09       928\n",
            "           8       0.38      0.04      0.07       669\n",
            "           9       0.00      0.00      0.00       569\n",
            "          10       0.20      0.00      0.00       595\n",
            "          11       0.58      0.29      0.38       696\n",
            "          12       0.41      0.24      0.30       546\n",
            "          13       0.37      0.01      0.03       492\n",
            "          14       0.00      0.00      0.00       536\n",
            "          15       0.00      0.00      0.00       498\n",
            "          16       0.22      0.02      0.04       492\n",
            "          17       0.61      0.65      0.63       565\n",
            "          18       0.29      0.03      0.05       740\n",
            "          19       0.00      0.00      0.00       445\n",
            "\n",
            "   micro avg       0.53      0.07      0.13     15688\n",
            "   macro avg       0.31      0.08      0.11     15688\n",
            "weighted avg       0.36      0.07      0.10     15688\n",
            "\n"
          ]
        },
        {
          "name": "stderr",
          "output_type": "stream",
          "text": [
            "/usr/local/lib/python3.9/site-packages/sklearn/metrics/_classification.py:1308: UndefinedMetricWarning: Precision and F-score are ill-defined and being set to 0.0 in labels with no predicted samples. Use `zero_division` parameter to control this behavior.\n",
            "  _warn_prf(average, modifier, msg_start, len(result))\n",
            "/usr/local/lib/python3.9/site-packages/sklearn/metrics/_classification.py:1308: UndefinedMetricWarning: Precision and F-score are ill-defined and being set to 0.0 in labels with no predicted samples. Use `zero_division` parameter to control this behavior.\n",
            "  _warn_prf(average, modifier, msg_start, len(result))\n",
            "/usr/local/lib/python3.9/site-packages/sklearn/metrics/_classification.py:1308: UndefinedMetricWarning: Precision and F-score are ill-defined and being set to 0.0 in labels with no predicted samples. Use `zero_division` parameter to control this behavior.\n",
            "  _warn_prf(average, modifier, msg_start, len(result))\n",
            " 33%|███▎      | 2/6 [18:41<40:14, 603.58s/it]"
          ]
        },
        {
          "name": "stdout",
          "output_type": "stream",
          "text": [
            "Classification report for case:  150\n",
            "              precision    recall  f1-score   support\n",
            "\n",
            "           1       0.31      0.00      0.01      2022\n",
            "           2       0.36      0.15      0.21      1955\n",
            "           3       0.33      0.01      0.01      1099\n",
            "           4       0.50      0.21      0.30      1246\n",
            "           5       0.12      0.00      0.01       786\n",
            "           6       0.45      0.05      0.09       809\n",
            "           7       0.42      0.07      0.12       928\n",
            "           8       0.33      0.04      0.07       669\n",
            "           9       0.19      0.01      0.02       569\n",
            "          10       0.08      0.01      0.01       595\n",
            "          11       0.54      0.30      0.39       696\n",
            "          12       0.30      0.41      0.35       546\n",
            "          13       0.37      0.02      0.04       492\n",
            "          14       0.00      0.00      0.00       536\n",
            "          15       0.20      0.06      0.09       498\n",
            "          16       0.21      0.01      0.03       492\n",
            "          17       0.54      0.68      0.60       565\n",
            "          18       0.25      0.05      0.09       740\n",
            "          19       0.10      0.01      0.01       445\n",
            "\n",
            "   micro avg       0.40      0.10      0.16     15688\n",
            "   macro avg       0.30      0.11      0.13     15688\n",
            "weighted avg       0.32      0.10      0.13     15688\n",
            "\n"
          ]
        },
        {
          "name": "stderr",
          "output_type": "stream",
          "text": [
            " 50%|█████     | 3/6 [34:39<38:17, 765.81s/it]"
          ]
        },
        {
          "name": "stdout",
          "output_type": "stream",
          "text": [
            "Classification report for case:  250\n",
            "              precision    recall  f1-score   support\n",
            "\n",
            "           1       0.23      0.02      0.04      2022\n",
            "           2       0.31      0.19      0.24      1955\n",
            "           3       0.22      0.01      0.01      1099\n",
            "           4       0.46      0.22      0.30      1246\n",
            "           5       0.09      0.01      0.01       786\n",
            "           6       0.41      0.05      0.09       809\n",
            "           7       0.37      0.08      0.13       928\n",
            "           8       0.33      0.04      0.07       669\n",
            "           9       0.15      0.01      0.02       569\n",
            "          10       0.10      0.01      0.02       595\n",
            "          11       0.54      0.30      0.39       696\n",
            "          12       0.29      0.41      0.34       546\n",
            "          13       0.33      0.02      0.04       492\n",
            "          14       0.12      0.00      0.00       536\n",
            "          15       0.20      0.06      0.09       498\n",
            "          16       0.23      0.01      0.03       492\n",
            "          17       0.56      0.61      0.58       565\n",
            "          18       0.22      0.05      0.08       740\n",
            "          19       0.13      0.01      0.02       445\n",
            "\n",
            "   micro avg       0.36      0.11      0.17     15688\n",
            "   macro avg       0.28      0.11      0.13     15688\n",
            "weighted avg       0.29      0.11      0.14     15688\n",
            "\n"
          ]
        },
        {
          "name": "stderr",
          "output_type": "stream",
          "text": [
            " 67%|██████▋   | 4/6 [56:42<32:51, 985.56s/it]"
          ]
        },
        {
          "name": "stdout",
          "output_type": "stream",
          "text": [
            "Classification report for case:  350\n",
            "              precision    recall  f1-score   support\n",
            "\n",
            "           1       0.23      0.03      0.05      2022\n",
            "           2       0.29      0.20      0.24      1955\n",
            "           3       0.20      0.01      0.01      1099\n",
            "           4       0.45      0.23      0.30      1246\n",
            "           5       0.08      0.01      0.01       786\n",
            "           6       0.39      0.05      0.09       809\n",
            "           7       0.35      0.08      0.13       928\n",
            "           8       0.32      0.04      0.07       669\n",
            "           9       0.19      0.01      0.03       569\n",
            "          10       0.07      0.01      0.01       595\n",
            "          11       0.55      0.30      0.39       696\n",
            "          12       0.27      0.41      0.33       546\n",
            "          13       0.31      0.02      0.04       492\n",
            "          14       0.10      0.00      0.00       536\n",
            "          15       0.21      0.06      0.10       498\n",
            "          16       0.23      0.01      0.03       492\n",
            "          17       0.43      0.62      0.51       565\n",
            "          18       0.22      0.04      0.07       740\n",
            "          19       0.14      0.01      0.02       445\n",
            "\n",
            "   micro avg       0.34      0.11      0.17     15688\n",
            "   macro avg       0.26      0.11      0.13     15688\n",
            "weighted avg       0.27      0.11      0.13     15688\n",
            "\n"
          ]
        },
        {
          "name": "stderr",
          "output_type": "stream",
          "text": [
            " 83%|████████▎ | 5/6 [1:20:23<19:02, 1142.54s/it]"
          ]
        },
        {
          "name": "stdout",
          "output_type": "stream",
          "text": [
            "Classification report for case:  450\n",
            "              precision    recall  f1-score   support\n",
            "\n",
            "           1       0.23      0.02      0.04      2022\n",
            "           2       0.30      0.19      0.24      1955\n",
            "           3       0.19      0.01      0.01      1099\n",
            "           4       0.45      0.22      0.29      1246\n",
            "           5       0.07      0.01      0.01       786\n",
            "           6       0.37      0.05      0.09       809\n",
            "           7       0.35      0.08      0.13       928\n",
            "           8       0.31      0.04      0.07       669\n",
            "           9       0.20      0.01      0.03       569\n",
            "          10       0.07      0.01      0.01       595\n",
            "          11       0.55      0.29      0.38       696\n",
            "          12       0.27      0.41      0.33       546\n",
            "          13       0.31      0.02      0.04       492\n",
            "          14       0.08      0.00      0.00       536\n",
            "          15       0.17      0.06      0.09       498\n",
            "          16       0.19      0.01      0.03       492\n",
            "          17       0.27      0.54      0.36       565\n",
            "          18       0.22      0.04      0.07       740\n",
            "          19       0.15      0.01      0.02       445\n",
            "\n",
            "   micro avg       0.31      0.11      0.16     15688\n",
            "   macro avg       0.25      0.11      0.12     15688\n",
            "weighted avg       0.26      0.11      0.13     15688\n",
            "\n"
          ]
        },
        {
          "name": "stderr",
          "output_type": "stream",
          "text": [
            "/usr/local/lib/python3.9/site-packages/sklearn/metrics/_classification.py:1308: UndefinedMetricWarning: Precision and F-score are ill-defined and being set to 0.0 in labels with no predicted samples. Use `zero_division` parameter to control this behavior.\n",
            "  _warn_prf(average, modifier, msg_start, len(result))\n",
            "/usr/local/lib/python3.9/site-packages/sklearn/metrics/_classification.py:1308: UndefinedMetricWarning: Precision and F-score are ill-defined and being set to 0.0 in labels with no predicted samples. Use `zero_division` parameter to control this behavior.\n",
            "  _warn_prf(average, modifier, msg_start, len(result))\n",
            "/usr/local/lib/python3.9/site-packages/sklearn/metrics/_classification.py:1308: UndefinedMetricWarning: Precision and F-score are ill-defined and being set to 0.0 in labels with no predicted samples. Use `zero_division` parameter to control this behavior.\n",
            "  _warn_prf(average, modifier, msg_start, len(result))\n",
            "100%|██████████| 6/6 [1:49:18<00:00, 1093.07s/it]"
          ]
        },
        {
          "name": "stdout",
          "output_type": "stream",
          "text": [
            "Classification report for case:  550\n",
            "              precision    recall  f1-score   support\n",
            "\n",
            "           1       0.17      0.00      0.00      2022\n",
            "           2       0.00      0.00      0.00      1955\n",
            "           3       0.00      0.00      0.00      1099\n",
            "           4       0.00      0.00      0.00      1246\n",
            "           5       0.00      0.00      0.00       786\n",
            "           6       0.10      0.13      0.11       809\n",
            "           7       0.00      0.00      0.00       928\n",
            "           8       0.00      0.00      0.00       669\n",
            "           9       0.00      0.00      0.00       569\n",
            "          10       0.00      0.00      0.00       595\n",
            "          11       0.00      0.00      0.00       696\n",
            "          12       0.00      0.00      0.00       546\n",
            "          13       0.00      0.00      0.00       492\n",
            "          14       0.00      0.00      0.00       536\n",
            "          15       0.00      0.00      0.00       498\n",
            "          16       0.00      0.00      0.00       492\n",
            "          17       0.17      0.69      0.27       565\n",
            "          18       0.22      0.05      0.08       740\n",
            "          19       0.00      0.00      0.00       445\n",
            "\n",
            "   micro avg       0.15      0.03      0.06     15688\n",
            "   macro avg       0.03      0.05      0.03     15688\n",
            "weighted avg       0.04      0.03      0.02     15688\n",
            "\n"
          ]
        },
        {
          "name": "stderr",
          "output_type": "stream",
          "text": [
            "\n"
          ]
        },
        {
          "data": {
            "image/png": "[encoded data removed]",
            "text/plain": [
              "<Figure size 432x288 with 1 Axes>"
            ]
          },
          "metadata": {
            "needs_background": "light"
          },
          "output_type": "display_data"
        }
      ],
      "source": [
        "accuracy = []\n",
        "predVal = []\n",
        "itr= [50, 150, 250, 350, 450, 550]\n",
        "for i in tqdm(range(len(itr))):\n",
        "    clf = AdaBoostClassifier(algorithm=\"SAMME.R\",n_estimators=itr[i], random_state=0)\n",
        "    clf.fit(trainData, trainLabels)\n",
        "    y_pred = clf.predict(testData)\n",
        "    print(\"Classification report for case: \",itr[i])\n",
        "    print(classification_report(testLabels,y_pred,labels = [1, 2, 3, 4, 5, 6, 7, 8, 9, 10, 11, 12, 13, 14, 15, 16, 17, 18, 19]))\n",
        "    accuracy.append(round(accuracy_score(y_pred = y_pred, y_true = testLabels) * 100,2))\n",
        "    predVal.append(itr[i])\n",
        "\n",
        "\n",
        "plt.plot(predVal, accuracy)\n",
        "plt.xlabel('Num estimators')\n",
        "plt.ylabel('Accuracy')\n",
        "plt.title('Accuracy vs Num estimators')\n",
        "plt.show()"
      ]
    },
    {
      "cell_type": "code",
      "execution_count": 8,
      "metadata": {},
      "outputs": [
        {
          "name": "stdout",
          "output_type": "stream",
          "text": [
            "Accuracy:  [26.12, 27.17, 27.1, 26.78, 25.94, 21.47]\n",
            "predVal  [50, 150, 250, 350, 450, 550]\n"
          ]
        }
      ],
      "source": [
        "print(\"Accuracy: \", accuracy)\n",
        "print(\"predVal \",predVal)"
      ]
    },
    {
      "cell_type": "code",
      "execution_count": null,
      "metadata": {},
      "outputs": [],
      "source": []
    }
  ],
  "metadata": {
    "accelerator": "TPU",
    "colab": {
      "name": "emoji_lr_1.ipynb",
      "provenance": []
    },
    "kernelspec": {
      "display_name": "Python 3",
      "name": "python3"
    },
    "language_info": {
      "codemirror_mode": {
        "name": "ipython",
        "version": 3
      },
      "file_extension": ".py",
      "mimetype": "text/x-python",
      "name": "python",
      "nbconvert_exporter": "python",
      "pygments_lexer": "ipython3",
      "version": "3.9.8"
    }
  },
  "nbformat": 4,
  "nbformat_minor": 0
}
