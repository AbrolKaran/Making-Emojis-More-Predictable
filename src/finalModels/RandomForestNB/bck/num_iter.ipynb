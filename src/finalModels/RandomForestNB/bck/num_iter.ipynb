{
  "cells": [
    {
      "cell_type": "code",
      "execution_count": 2,
      "metadata": {
        "id": "6135jyy5IQ2B"
      },
      "outputs": [],
      "source": [
        "import pandas as pd\n",
        "import matplotlib.pyplot as plt\n",
        "from tqdm import tqdm\n",
        "import seaborn as sns\n",
        "from sklearn.model_selection import train_test_split\n",
        "from sklearn.tree import DecisionTreeClassifier\n",
        "from sklearn.ensemble import RandomForestClassifier\n",
        "from sklearn.ensemble import AdaBoostClassifier\n",
        "from sklearn.model_selection import GridSearchCV\n",
        "import numpy as np\n",
        "from sklearn.metrics import  recall_score, precision_score, accuracy_score, roc_curve\n",
        "import graphviz"
      ]
    },
    {
      "cell_type": "code",
      "execution_count": 3,
      "metadata": {
        "id": "wCsgwo7tIvAs"
      },
      "outputs": [],
      "source": [
        "trainData = np.load('fin_t2_train.npy')\n",
        "trainLabels = open('finalTrainLabels.labels', 'r').readlines()\n",
        "testData = np.load('fin_t2_test.npy')\n",
        "testLabels = open('finalTestLabels.labels', 'r').readlines()"
      ]
    },
    {
      "cell_type": "code",
      "execution_count": 4,
      "metadata": {
        "colab": {
          "base_uri": "https://localhost:8080/"
        },
        "id": "52vL88loEOhc",
        "outputId": "25ee7a2b-a2b1-4ebb-a23b-379e3c63d759"
      },
      "outputs": [
        {
          "data": {
            "text/plain": [
              "(69992, 2200)"
            ]
          },
          "execution_count": 4,
          "metadata": {},
          "output_type": "execute_result"
        }
      ],
      "source": [
        "trainData.shape"
      ]
    },
    {
      "cell_type": "code",
      "execution_count": 5,
      "metadata": {
        "colab": {
          "base_uri": "https://localhost:8080/"
        },
        "id": "1QjcQGoVGDJB",
        "outputId": "dca6dacb-392d-464f-8046-12195e8d2eba"
      },
      "outputs": [
        {
          "name": "stderr",
          "output_type": "stream",
          "text": [
            "100%|██████████| 69992/69992 [00:00<00:00, 1543679.61it/s]\n",
            "100%|██████████| 20000/20000 [00:00<00:00, 2055124.70it/s]\n"
          ]
        }
      ],
      "source": [
        "for i in tqdm(range(len(trainLabels))):\n",
        "    trainLabels[i] = int(trainLabels[i])\n",
        "for i in tqdm(range(len(testLabels))):\n",
        "    testLabels[i] = int(testLabels[i])"
      ]
    },
    {
      "cell_type": "code",
      "execution_count": 6,
      "metadata": {
        "id": "A6A_MlQgJlte"
      },
      "outputs": [],
      "source": [
        "trainLabels = np.array(trainLabels)\n",
        "testLabels = np.array(testLabels)\n",
        "trainLabels = trainLabels.reshape((-1, ))\n",
        "testLabels = testLabels.reshape((-1, ))"
      ]
    },
    {
      "cell_type": "code",
      "execution_count": 7,
      "metadata": {},
      "outputs": [],
      "source": [
        "from sklearn.metrics import classification_report\n",
        "import warnings\n",
        "warnings.filterwarnings('always') \n",
        "from sklearn.metrics import classification_report\n",
        "X_train, X_test, y_train, y_test = trainData, testData, trainLabels, testLabels"
      ]
    },
    {
      "cell_type": "code",
      "execution_count": 8,
      "metadata": {},
      "outputs": [],
      "source": [
        "\n",
        "\n",
        "# accuracy = round(accuracy_score(y_pred = y_pred, y_true = y_test) * 100,2)\n",
        "# print(\"Accuracy: \", accuracy)\n",
        "# print(classification_report(testLabels,y_pred,labels = [1, 2, 3, 4, 5, 6, 7, 8, 9, 10, 11, 12, 13, 14, 15, 16, 17, 18, 19]))"
      ]
    },
    {
      "cell_type": "code",
      "execution_count": 9,
      "metadata": {},
      "outputs": [
        {
          "name": "stdout",
          "output_type": "stream",
          "text": [
            "Accuracy:  24.51\n",
            "              precision    recall  f1-score   support\n",
            "\n",
            "           1       0.00      0.00      0.00      2022\n",
            "           2       0.38      0.13      0.20      1955\n",
            "           3       0.00      0.00      0.00      1099\n",
            "           4       0.68      0.13      0.22      1246\n",
            "           5       0.00      0.00      0.00       786\n",
            "           6       0.00      0.00      0.00       809\n",
            "           7       0.00      0.00      0.00       928\n",
            "           8       0.00      0.00      0.00       669\n",
            "           9       0.00      0.00      0.00       569\n",
            "          10       0.00      0.00      0.00       595\n",
            "          11       0.66      0.12      0.21       696\n",
            "          12       1.00      0.00      0.01       546\n",
            "          13       0.00      0.00      0.00       492\n",
            "          14       0.00      0.00      0.00       536\n",
            "          15       0.00      0.00      0.00       498\n",
            "          16       0.00      0.00      0.00       492\n",
            "          17       0.72      0.33      0.45       565\n",
            "          18       0.00      0.00      0.00       740\n",
            "          19       0.00      0.00      0.00       445\n",
            "\n",
            "   micro avg       0.52      0.04      0.08     15688\n",
            "   macro avg       0.18      0.04      0.06     15688\n",
            "weighted avg       0.19      0.04      0.07     15688\n",
            "\n"
          ]
        },
        {
          "name": "stderr",
          "output_type": "stream",
          "text": [
            "/usr/local/lib/python3.9/site-packages/sklearn/metrics/_classification.py:1308: UndefinedMetricWarning: Precision and F-score are ill-defined and being set to 0.0 in labels with no predicted samples. Use `zero_division` parameter to control this behavior.\n",
            "  _warn_prf(average, modifier, msg_start, len(result))\n",
            "/usr/local/lib/python3.9/site-packages/sklearn/metrics/_classification.py:1308: UndefinedMetricWarning: Precision and F-score are ill-defined and being set to 0.0 in labels with no predicted samples. Use `zero_division` parameter to control this behavior.\n",
            "  _warn_prf(average, modifier, msg_start, len(result))\n",
            "/usr/local/lib/python3.9/site-packages/sklearn/metrics/_classification.py:1308: UndefinedMetricWarning: Precision and F-score are ill-defined and being set to 0.0 in labels with no predicted samples. Use `zero_division` parameter to control this behavior.\n",
            "  _warn_prf(average, modifier, msg_start, len(result))\n"
          ]
        }
      ],
      "source": [
        "clf = RandomForestClassifier(criterion='gini', max_depth=25, n_estimators=250, random_state=0)\n",
        "clf.fit(trainData, trainLabels)\n",
        "y_pred = clf.predict(testData)\n",
        "accuracy = round(accuracy_score(y_pred, y_test) * 100,2)\n",
        "print(\"Accuracy: \", accuracy)\n",
        "print(classification_report(testLabels,y_pred,labels = [1, 2, 3, 4, 5, 6, 7, 8, 9, 10, 11, 12, 13, 14, 15, 16, 17, 18, 19]))"
      ]
    },
    {
      "cell_type": "code",
      "execution_count": 10,
      "metadata": {},
      "outputs": [
        {
          "name": "stdout",
          "output_type": "stream",
          "text": [
            "Accuracy:  27.24\n",
            "              precision    recall  f1-score   support\n",
            "\n",
            "           1       0.23      0.02      0.03      2022\n",
            "           2       0.31      0.19      0.23      1955\n",
            "           3       0.31      0.01      0.01      1099\n",
            "           4       0.47      0.22      0.30      1246\n",
            "           5       0.10      0.01      0.01       786\n",
            "           6       0.43      0.05      0.09       809\n",
            "           7       0.36      0.08      0.12       928\n",
            "           8       0.33      0.04      0.07       669\n",
            "           9       0.16      0.01      0.02       569\n",
            "          10       0.10      0.01      0.02       595\n",
            "          11       0.54      0.31      0.39       696\n",
            "          12       0.30      0.41      0.35       546\n",
            "          13       0.37      0.02      0.04       492\n",
            "          14       0.17      0.00      0.00       536\n",
            "          15       0.19      0.05      0.08       498\n",
            "          16       0.23      0.01      0.03       492\n",
            "          17       0.55      0.66      0.60       565\n",
            "          18       0.24      0.05      0.08       740\n",
            "          19       0.14      0.01      0.02       445\n",
            "\n",
            "   micro avg       0.37      0.11      0.17     15688\n",
            "   macro avg       0.29      0.11      0.13     15688\n",
            "weighted avg       0.30      0.11      0.14     15688\n",
            "\n"
          ]
        }
      ],
      "source": [
        "clf = AdaBoostClassifier(algorithm=\"SAMME.R\",n_estimators=200, random_state=0)\n",
        "clf.fit(trainData, trainLabels)\n",
        "y_pred = clf.predict(testData)\n",
        "accuracy = round(accuracy_score(y_pred, y_test) * 100,2)\n",
        "print(\"Accuracy: \", accuracy)\n",
        "print(classification_report(testLabels,y_pred,labels = [1, 2, 3, 4, 5, 6, 7, 8, 9, 10, 11, 12, 13, 14, 15, 16, 17, 18, 19]))"
      ]
    },
    {
      "cell_type": "markdown",
      "metadata": {},
      "source": [
        "## RFC NUM"
      ]
    },
    {
      "cell_type": "code",
      "execution_count": 7,
      "metadata": {},
      "outputs": [
        {
          "name": "stderr",
          "output_type": "stream",
          "text": [
            "  0%|          | 0/4 [00:00<?, ?it/s]/usr/local/lib/python3.9/site-packages/sklearn/metrics/_classification.py:1308: UndefinedMetricWarning: Precision and F-score are ill-defined and being set to 0.0 in labels with no predicted samples. Use `zero_division` parameter to control this behavior.\n",
            "  _warn_prf(average, modifier, msg_start, len(result))\n",
            "/usr/local/lib/python3.9/site-packages/sklearn/metrics/_classification.py:1308: UndefinedMetricWarning: Precision and F-score are ill-defined and being set to 0.0 in labels with no predicted samples. Use `zero_division` parameter to control this behavior.\n",
            "  _warn_prf(average, modifier, msg_start, len(result))\n",
            "/usr/local/lib/python3.9/site-packages/sklearn/metrics/_classification.py:1308: UndefinedMetricWarning: Precision and F-score are ill-defined and being set to 0.0 in labels with no predicted samples. Use `zero_division` parameter to control this behavior.\n",
            "  _warn_prf(average, modifier, msg_start, len(result))\n",
            " 25%|██▌       | 1/4 [02:43<08:10, 163.59s/it]"
          ]
        },
        {
          "name": "stdout",
          "output_type": "stream",
          "text": [
            "Classification report for case:  200\n",
            "Accuracy:  24.45\n",
            "              precision    recall  f1-score   support\n",
            "\n",
            "           1       0.09      0.00      0.00      2022\n",
            "           2       0.36      0.13      0.19      1955\n",
            "           3       0.00      0.00      0.00      1099\n",
            "           4       0.66      0.13      0.22      1246\n",
            "           5       0.00      0.00      0.00       786\n",
            "           6       0.00      0.00      0.00       809\n",
            "           7       0.00      0.00      0.00       928\n",
            "           8       0.00      0.00      0.00       669\n",
            "           9       0.00      0.00      0.00       569\n",
            "          10       0.00      0.00      0.00       595\n",
            "          11       0.66      0.10      0.18       696\n",
            "          12       0.80      0.01      0.01       546\n",
            "          13       0.00      0.00      0.00       492\n",
            "          14       0.00      0.00      0.00       536\n",
            "          15       0.00      0.00      0.00       498\n",
            "          16       0.00      0.00      0.00       492\n",
            "          17       0.71      0.33      0.45       565\n",
            "          18       0.00      0.00      0.00       740\n",
            "          19       0.00      0.00      0.00       445\n",
            "\n",
            "   micro avg       0.51      0.04      0.08     15688\n",
            "   macro avg       0.17      0.04      0.06     15688\n",
            "weighted avg       0.19      0.04      0.07     15688\n",
            "\n"
          ]
        },
        {
          "name": "stderr",
          "output_type": "stream",
          "text": [
            "/usr/local/lib/python3.9/site-packages/sklearn/metrics/_classification.py:1308: UndefinedMetricWarning: Precision and F-score are ill-defined and being set to 0.0 in labels with no predicted samples. Use `zero_division` parameter to control this behavior.\n",
            "  _warn_prf(average, modifier, msg_start, len(result))\n",
            "/usr/local/lib/python3.9/site-packages/sklearn/metrics/_classification.py:1308: UndefinedMetricWarning: Precision and F-score are ill-defined and being set to 0.0 in labels with no predicted samples. Use `zero_division` parameter to control this behavior.\n",
            "  _warn_prf(average, modifier, msg_start, len(result))\n",
            "/usr/local/lib/python3.9/site-packages/sklearn/metrics/_classification.py:1308: UndefinedMetricWarning: Precision and F-score are ill-defined and being set to 0.0 in labels with no predicted samples. Use `zero_division` parameter to control this behavior.\n",
            "  _warn_prf(average, modifier, msg_start, len(result))\n",
            " 50%|█████     | 2/4 [06:06<06:13, 186.88s/it]"
          ]
        },
        {
          "name": "stdout",
          "output_type": "stream",
          "text": [
            "Classification report for case:  250\n",
            "Accuracy:  24.51\n",
            "              precision    recall  f1-score   support\n",
            "\n",
            "           1       0.00      0.00      0.00      2022\n",
            "           2       0.38      0.13      0.20      1955\n",
            "           3       0.00      0.00      0.00      1099\n",
            "           4       0.68      0.13      0.22      1246\n",
            "           5       0.00      0.00      0.00       786\n",
            "           6       0.00      0.00      0.00       809\n",
            "           7       0.00      0.00      0.00       928\n",
            "           8       0.00      0.00      0.00       669\n",
            "           9       0.00      0.00      0.00       569\n",
            "          10       0.00      0.00      0.00       595\n",
            "          11       0.66      0.12      0.21       696\n",
            "          12       1.00      0.00      0.01       546\n",
            "          13       0.00      0.00      0.00       492\n",
            "          14       0.00      0.00      0.00       536\n",
            "          15       0.00      0.00      0.00       498\n",
            "          16       0.00      0.00      0.00       492\n",
            "          17       0.72      0.33      0.45       565\n",
            "          18       0.00      0.00      0.00       740\n",
            "          19       0.00      0.00      0.00       445\n",
            "\n",
            "   micro avg       0.52      0.04      0.08     15688\n",
            "   macro avg       0.18      0.04      0.06     15688\n",
            "weighted avg       0.19      0.04      0.07     15688\n",
            "\n"
          ]
        },
        {
          "name": "stderr",
          "output_type": "stream",
          "text": [
            "/usr/local/lib/python3.9/site-packages/sklearn/metrics/_classification.py:1308: UndefinedMetricWarning: Precision and F-score are ill-defined and being set to 0.0 in labels with no predicted samples. Use `zero_division` parameter to control this behavior.\n",
            "  _warn_prf(average, modifier, msg_start, len(result))\n",
            "/usr/local/lib/python3.9/site-packages/sklearn/metrics/_classification.py:1308: UndefinedMetricWarning: Precision and F-score are ill-defined and being set to 0.0 in labels with no predicted samples. Use `zero_division` parameter to control this behavior.\n",
            "  _warn_prf(average, modifier, msg_start, len(result))\n",
            "/usr/local/lib/python3.9/site-packages/sklearn/metrics/_classification.py:1308: UndefinedMetricWarning: Precision and F-score are ill-defined and being set to 0.0 in labels with no predicted samples. Use `zero_division` parameter to control this behavior.\n",
            "  _warn_prf(average, modifier, msg_start, len(result))\n",
            " 75%|███████▌  | 3/4 [10:10<03:32, 212.71s/it]"
          ]
        },
        {
          "name": "stdout",
          "output_type": "stream",
          "text": [
            "Classification report for case:  300\n",
            "Accuracy:  24.22\n",
            "              precision    recall  f1-score   support\n",
            "\n",
            "           1       0.00      0.00      0.00      2022\n",
            "           2       0.51      0.10      0.17      1955\n",
            "           3       0.00      0.00      0.00      1099\n",
            "           4       0.71      0.12      0.21      1246\n",
            "           5       0.00      0.00      0.00       786\n",
            "           6       0.00      0.00      0.00       809\n",
            "           7       0.00      0.00      0.00       928\n",
            "           8       0.00      0.00      0.00       669\n",
            "           9       0.00      0.00      0.00       569\n",
            "          10       0.00      0.00      0.00       595\n",
            "          11       0.66      0.10      0.18       696\n",
            "          12       1.00      0.00      0.01       546\n",
            "          13       0.00      0.00      0.00       492\n",
            "          14       0.00      0.00      0.00       536\n",
            "          15       0.00      0.00      0.00       498\n",
            "          16       0.00      0.00      0.00       492\n",
            "          17       0.73      0.32      0.44       565\n",
            "          18       0.00      0.00      0.00       740\n",
            "          19       0.00      0.00      0.00       445\n",
            "\n",
            "   micro avg       0.63      0.04      0.07     15688\n",
            "   macro avg       0.19      0.03      0.05     15688\n",
            "weighted avg       0.21      0.04      0.06     15688\n",
            "\n"
          ]
        },
        {
          "name": "stderr",
          "output_type": "stream",
          "text": [
            "/usr/local/lib/python3.9/site-packages/sklearn/metrics/_classification.py:1308: UndefinedMetricWarning: Precision and F-score are ill-defined and being set to 0.0 in labels with no predicted samples. Use `zero_division` parameter to control this behavior.\n",
            "  _warn_prf(average, modifier, msg_start, len(result))\n",
            "/usr/local/lib/python3.9/site-packages/sklearn/metrics/_classification.py:1308: UndefinedMetricWarning: Precision and F-score are ill-defined and being set to 0.0 in labels with no predicted samples. Use `zero_division` parameter to control this behavior.\n",
            "  _warn_prf(average, modifier, msg_start, len(result))\n",
            "/usr/local/lib/python3.9/site-packages/sklearn/metrics/_classification.py:1308: UndefinedMetricWarning: Precision and F-score are ill-defined and being set to 0.0 in labels with no predicted samples. Use `zero_division` parameter to control this behavior.\n",
            "  _warn_prf(average, modifier, msg_start, len(result))\n",
            "100%|██████████| 4/4 [15:34<00:00, 233.60s/it]"
          ]
        },
        {
          "name": "stdout",
          "output_type": "stream",
          "text": [
            "Classification report for case:  400\n",
            "Accuracy:  24.02\n",
            "              precision    recall  f1-score   support\n",
            "\n",
            "           1       0.00      0.00      0.00      2022\n",
            "           2       0.67      0.08      0.15      1955\n",
            "           3       0.00      0.00      0.00      1099\n",
            "           4       0.71      0.12      0.21      1246\n",
            "           5       0.00      0.00      0.00       786\n",
            "           6       0.00      0.00      0.00       809\n",
            "           7       0.00      0.00      0.00       928\n",
            "           8       0.00      0.00      0.00       669\n",
            "           9       0.00      0.00      0.00       569\n",
            "          10       0.00      0.00      0.00       595\n",
            "          11       0.68      0.10      0.17       696\n",
            "          12       0.00      0.00      0.00       546\n",
            "          13       0.00      0.00      0.00       492\n",
            "          14       0.00      0.00      0.00       536\n",
            "          15       0.00      0.00      0.00       498\n",
            "          16       0.00      0.00      0.00       492\n",
            "          17       0.72      0.28      0.40       565\n",
            "          18       0.00      0.00      0.00       740\n",
            "          19       0.00      0.00      0.00       445\n",
            "\n",
            "   micro avg       0.70      0.03      0.07     15688\n",
            "   macro avg       0.15      0.03      0.05     15688\n",
            "weighted avg       0.20      0.03      0.06     15688\n",
            "\n"
          ]
        },
        {
          "name": "stderr",
          "output_type": "stream",
          "text": [
            "\n"
          ]
        }
      ],
      "source": [
        "accuracy = []\n",
        "predVal = []\n",
        "itr= [200, 250, 300, 400]\n",
        "\n",
        "for i in tqdm(range(len(itr))):\n",
        "    clf = RandomForestClassifier(criterion='gini', max_depth=25, n_estimators=itr[i], random_state=0)\n",
        "    clf.fit(trainData, trainLabels)\n",
        "    y_pred = clf.predict(testData)\n",
        "    print(\"Classification report for case: \",itr[i])\n",
        "    accuracy = round(accuracy_score(y_pred, y_test) * 100,2)\n",
        "    print(\"Accuracy: \", accuracy)\n",
        "    print(classification_report(testLabels,y_pred,labels = [1, 2, 3, 4, 5, 6, 7, 8, 9, 10, 11, 12, 13, 14, 15, 16, 17, 18, 19]))"
      ]
    },
    {
      "cell_type": "markdown",
      "metadata": {},
      "source": [
        "### ada num\n"
      ]
    },
    {
      "cell_type": "code",
      "execution_count": 8,
      "metadata": {},
      "outputs": [
        {
          "name": "stderr",
          "output_type": "stream",
          "text": [
            "  0%|          | 0/4 [00:00<?, ?it/s]/usr/local/lib/python3.9/site-packages/sklearn/metrics/_classification.py:1308: UndefinedMetricWarning: Precision and F-score are ill-defined and being set to 0.0 in labels with no predicted samples. Use `zero_division` parameter to control this behavior.\n",
            "  _warn_prf(average, modifier, msg_start, len(result))\n",
            "/usr/local/lib/python3.9/site-packages/sklearn/metrics/_classification.py:1308: UndefinedMetricWarning: Precision and F-score are ill-defined and being set to 0.0 in labels with no predicted samples. Use `zero_division` parameter to control this behavior.\n",
            "  _warn_prf(average, modifier, msg_start, len(result))\n",
            "/usr/local/lib/python3.9/site-packages/sklearn/metrics/_classification.py:1308: UndefinedMetricWarning: Precision and F-score are ill-defined and being set to 0.0 in labels with no predicted samples. Use `zero_division` parameter to control this behavior.\n",
            "  _warn_prf(average, modifier, msg_start, len(result))\n",
            " 25%|██▌       | 1/4 [07:55<23:46, 475.52s/it]"
          ]
        },
        {
          "name": "stdout",
          "output_type": "stream",
          "text": [
            "Classification report for case:  150\n",
            "Accuracy:  27.17\n",
            "              precision    recall  f1-score   support\n",
            "\n",
            "           1       0.31      0.00      0.01      2022\n",
            "           2       0.36      0.15      0.21      1955\n",
            "           3       0.33      0.01      0.01      1099\n",
            "           4       0.50      0.21      0.30      1246\n",
            "           5       0.12      0.00      0.01       786\n",
            "           6       0.45      0.05      0.09       809\n",
            "           7       0.42      0.07      0.12       928\n",
            "           8       0.33      0.04      0.07       669\n",
            "           9       0.19      0.01      0.02       569\n",
            "          10       0.08      0.01      0.01       595\n",
            "          11       0.54      0.30      0.39       696\n",
            "          12       0.30      0.41      0.35       546\n",
            "          13       0.37      0.02      0.04       492\n",
            "          14       0.00      0.00      0.00       536\n",
            "          15       0.20      0.06      0.09       498\n",
            "          16       0.21      0.01      0.03       492\n",
            "          17       0.54      0.68      0.60       565\n",
            "          18       0.25      0.05      0.09       740\n",
            "          19       0.10      0.01      0.01       445\n",
            "\n",
            "   micro avg       0.40      0.10      0.16     15688\n",
            "   macro avg       0.30      0.11      0.13     15688\n",
            "weighted avg       0.32      0.10      0.13     15688\n",
            "\n"
          ]
        },
        {
          "name": "stderr",
          "output_type": "stream",
          "text": [
            "/usr/local/lib/python3.9/site-packages/sklearn/metrics/_classification.py:1308: UndefinedMetricWarning: Precision and F-score are ill-defined and being set to 0.0 in labels with no predicted samples. Use `zero_division` parameter to control this behavior.\n",
            "  _warn_prf(average, modifier, msg_start, len(result))\n",
            "/usr/local/lib/python3.9/site-packages/sklearn/metrics/_classification.py:1308: UndefinedMetricWarning: Precision and F-score are ill-defined and being set to 0.0 in labels with no predicted samples. Use `zero_division` parameter to control this behavior.\n",
            "  _warn_prf(average, modifier, msg_start, len(result))\n",
            "/usr/local/lib/python3.9/site-packages/sklearn/metrics/_classification.py:1308: UndefinedMetricWarning: Precision and F-score are ill-defined and being set to 0.0 in labels with no predicted samples. Use `zero_division` parameter to control this behavior.\n",
            "  _warn_prf(average, modifier, msg_start, len(result))\n",
            " 50%|█████     | 2/4 [17:10<17:24, 522.00s/it]"
          ]
        },
        {
          "name": "stdout",
          "output_type": "stream",
          "text": [
            "Classification report for case:  175\n",
            "Accuracy:  27.1\n",
            "              precision    recall  f1-score   support\n",
            "\n",
            "           1       0.24      0.01      0.01      2022\n",
            "           2       0.34      0.16      0.22      1955\n",
            "           3       0.31      0.01      0.01      1099\n",
            "           4       0.48      0.22      0.30      1246\n",
            "           5       0.11      0.01      0.01       786\n",
            "           6       0.45      0.05      0.09       809\n",
            "           7       0.36      0.07      0.12       928\n",
            "           8       0.33      0.04      0.07       669\n",
            "           9       0.17      0.01      0.02       569\n",
            "          10       0.07      0.01      0.01       595\n",
            "          11       0.54      0.31      0.39       696\n",
            "          12       0.30      0.41      0.35       546\n",
            "          13       0.37      0.02      0.04       492\n",
            "          14       0.00      0.00      0.00       536\n",
            "          15       0.19      0.05      0.08       498\n",
            "          16       0.23      0.01      0.03       492\n",
            "          17       0.55      0.66      0.60       565\n",
            "          18       0.24      0.05      0.08       740\n",
            "          19       0.11      0.01      0.01       445\n",
            "\n",
            "   micro avg       0.39      0.10      0.17     15688\n",
            "   macro avg       0.28      0.11      0.13     15688\n",
            "weighted avg       0.30      0.10      0.13     15688\n",
            "\n"
          ]
        },
        {
          "name": "stderr",
          "output_type": "stream",
          "text": [
            " 75%|███████▌  | 3/4 [27:44<09:33, 573.31s/it]"
          ]
        },
        {
          "name": "stdout",
          "output_type": "stream",
          "text": [
            "Classification report for case:  200\n",
            "Accuracy:  27.24\n",
            "              precision    recall  f1-score   support\n",
            "\n",
            "           1       0.23      0.02      0.03      2022\n",
            "           2       0.31      0.19      0.23      1955\n",
            "           3       0.31      0.01      0.01      1099\n",
            "           4       0.47      0.22      0.30      1246\n",
            "           5       0.10      0.01      0.01       786\n",
            "           6       0.43      0.05      0.09       809\n",
            "           7       0.36      0.08      0.12       928\n",
            "           8       0.33      0.04      0.07       669\n",
            "           9       0.16      0.01      0.02       569\n",
            "          10       0.10      0.01      0.02       595\n",
            "          11       0.54      0.31      0.39       696\n",
            "          12       0.30      0.41      0.35       546\n",
            "          13       0.37      0.02      0.04       492\n",
            "          14       0.17      0.00      0.00       536\n",
            "          15       0.19      0.05      0.08       498\n",
            "          16       0.23      0.01      0.03       492\n",
            "          17       0.55      0.66      0.60       565\n",
            "          18       0.24      0.05      0.08       740\n",
            "          19       0.14      0.01      0.02       445\n",
            "\n",
            "   micro avg       0.37      0.11      0.17     15688\n",
            "   macro avg       0.29      0.11      0.13     15688\n",
            "weighted avg       0.30      0.11      0.14     15688\n",
            "\n"
          ]
        },
        {
          "name": "stderr",
          "output_type": "stream",
          "text": [
            "100%|██████████| 4/4 [43:08<00:00, 647.19s/it]"
          ]
        },
        {
          "name": "stdout",
          "output_type": "stream",
          "text": [
            "Classification report for case:  225\n",
            "Accuracy:  27.08\n",
            "              precision    recall  f1-score   support\n",
            "\n",
            "           1       0.23      0.02      0.03      2022\n",
            "           2       0.31      0.19      0.24      1955\n",
            "           3       0.27      0.01      0.01      1099\n",
            "           4       0.46      0.22      0.30      1246\n",
            "           5       0.10      0.01      0.01       786\n",
            "           6       0.42      0.05      0.09       809\n",
            "           7       0.36      0.08      0.12       928\n",
            "           8       0.33      0.04      0.07       669\n",
            "           9       0.16      0.01      0.02       569\n",
            "          10       0.11      0.01      0.02       595\n",
            "          11       0.54      0.30      0.39       696\n",
            "          12       0.29      0.41      0.34       546\n",
            "          13       0.33      0.02      0.04       492\n",
            "          14       0.12      0.00      0.00       536\n",
            "          15       0.20      0.06      0.09       498\n",
            "          16       0.23      0.01      0.03       492\n",
            "          17       0.53      0.64      0.58       565\n",
            "          18       0.22      0.04      0.07       740\n",
            "          19       0.13      0.01      0.02       445\n",
            "\n",
            "   micro avg       0.37      0.11      0.17     15688\n",
            "   macro avg       0.28      0.11      0.13     15688\n",
            "weighted avg       0.29      0.11      0.13     15688\n",
            "\n"
          ]
        },
        {
          "name": "stderr",
          "output_type": "stream",
          "text": [
            "\n"
          ]
        }
      ],
      "source": [
        "ada_accuracy = []\n",
        "ada_predVal = []\n",
        "itr= [150, 175, 200, 225]\n",
        "for i in tqdm(range(len(itr))):\n",
        "    clf = AdaBoostClassifier(algorithm=\"SAMME.R\",n_estimators=itr[i], random_state=0)\n",
        "    clf.fit(trainData, trainLabels)\n",
        "    y_pred = clf.predict(testData)\n",
        "    print(\"Classification report for case: \",itr[i])\n",
        "    accuracy = round(accuracy_score(y_pred, y_test) * 100,2)\n",
        "    print(\"Accuracy: \", accuracy)\n",
        "    print(classification_report(testLabels,y_pred,labels = [1, 2, 3, 4, 5, 6, 7, 8, 9, 10, 11, 12, 13, 14, 15, 16, 17, 18, 19]))\n",
        "    # ada_accuracy.append(round(accuracy_score(y_pred = y_pred, y_true = testLabels) * 100,2))\n",
        "    # ada_predVal.append(itr[i])\n",
        "\n",
        "\n",
        "# plt.plot(ada_predVal, ada_accuracy)\n",
        "# plt.xlabel('Num estimators')\n",
        "# plt.ylabel('ada_Accuracy')\n",
        "# plt.title('ada_Accuracy vs Num estimators')\n",
        "# plt.show()"
      ]
    },
    {
      "cell_type": "code",
      "execution_count": null,
      "metadata": {},
      "outputs": [],
      "source": []
    }
  ],
  "metadata": {
    "accelerator": "TPU",
    "colab": {
      "name": "emoji_lr_1.ipynb",
      "provenance": []
    },
    "kernelspec": {
      "display_name": "Python 3",
      "name": "python3"
    },
    "language_info": {
      "codemirror_mode": {
        "name": "ipython",
        "version": 3
      },
      "file_extension": ".py",
      "mimetype": "text/x-python",
      "name": "python",
      "nbconvert_exporter": "python",
      "pygments_lexer": "ipython3",
      "version": "3.9.8"
    }
  },
  "nbformat": 4,
  "nbformat_minor": 0
}
