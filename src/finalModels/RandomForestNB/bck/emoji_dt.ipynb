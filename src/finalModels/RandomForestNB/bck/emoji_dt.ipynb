{
  "cells": [
    {
      "cell_type": "code",
      "execution_count": 17,
      "metadata": {
        "id": "6135jyy5IQ2B"
      },
      "outputs": [],
      "source": [
        "import pandas as pd\n",
        "import matplotlib.pyplot as plt\n",
        "from tqdm import tqdm\n",
        "import seaborn as sns\n",
        "from sklearn.model_selection import train_test_split\n",
        "from sklearn.tree import DecisionTreeClassifier\n",
        "from sklearn.ensemble import RandomForestClassifier\n",
        "from sklearn.ensemble import AdaBoostClassifier\n",
        "from sklearn.model_selection import GridSearchCV\n",
        "import numpy as np\n",
        "from sklearn.metrics import  recall_score, precision_score, accuracy_score, roc_curve\n",
        "import graphviz"
      ]
    },
    {
      "cell_type": "code",
      "execution_count": 18,
      "metadata": {
        "id": "wCsgwo7tIvAs"
      },
      "outputs": [],
      "source": [
        "trainData = np.load('fin_t2_train.npy')\n",
        "trainLabels = open('finalTrainLabels.labels', 'r').readlines()\n",
        "testData = np.load('fin_t2_test.npy')\n",
        "testLabels = open('finalTestLabels.labels', 'r').readlines()"
      ]
    },
    {
      "cell_type": "code",
      "execution_count": 3,
      "metadata": {
        "colab": {
          "base_uri": "https://localhost:8080/"
        },
        "id": "52vL88loEOhc",
        "outputId": "25ee7a2b-a2b1-4ebb-a23b-379e3c63d759"
      },
      "outputs": [
        {
          "data": {
            "text/plain": [
              "(69992, 2200)"
            ]
          },
          "execution_count": 3,
          "metadata": {},
          "output_type": "execute_result"
        }
      ],
      "source": [
        "trainData.shape"
      ]
    },
    {
      "cell_type": "code",
      "execution_count": 19,
      "metadata": {
        "colab": {
          "base_uri": "https://localhost:8080/"
        },
        "id": "1QjcQGoVGDJB",
        "outputId": "dca6dacb-392d-464f-8046-12195e8d2eba"
      },
      "outputs": [
        {
          "name": "stderr",
          "output_type": "stream",
          "text": [
            "100%|██████████| 69992/69992 [00:00<00:00, 2042608.13it/s]\n",
            "100%|██████████| 20000/20000 [00:00<00:00, 2244683.85it/s]\n"
          ]
        }
      ],
      "source": [
        "for i in tqdm(range(len(trainLabels))):\n",
        "    trainLabels[i] = int(trainLabels[i])\n",
        "for i in tqdm(range(len(testLabels))):\n",
        "    testLabels[i] = int(testLabels[i])"
      ]
    },
    {
      "cell_type": "code",
      "execution_count": 20,
      "metadata": {
        "id": "A6A_MlQgJlte"
      },
      "outputs": [],
      "source": [
        "trainLabels = np.array(trainLabels)\n",
        "testLabels = np.array(testLabels)\n",
        "trainLabels = trainLabels.reshape((-1, ))\n",
        "testLabels = testLabels.reshape((-1, ))"
      ]
    },
    {
      "cell_type": "code",
      "execution_count": 9,
      "metadata": {},
      "outputs": [
        {
          "data": {
            "image/png": "[encoded data removed]",
            "text/plain": [
              "<Figure size 432x288 with 1 Axes>"
            ]
          },
          "metadata": {
            "needs_background": "light"
          },
          "output_type": "display_data"
        }
      ],
      "source": [
        "accuracy = []\n",
        "depth = []\n",
        "for i in range(1,10,1):\n",
        "    clf = DecisionTreeClassifier(max_depth=i, random_state=0)\n",
        "    clf.fit(trainData, trainLabels)\n",
        "    y_pred = clf.predict(testData)\n",
        "    accuracy.append(round(accuracy_score(y_pred = y_pred, y_true = testLabels) * 100,2))\n",
        "    depth.append(clf.get_depth())\n",
        "\n",
        "plt.plot(depth, accuracy)\n",
        "plt.xlabel('Max Depth')\n",
        "plt.ylabel('Accuracy')\n",
        "plt.title('Accuracy vs Max Depth')\n",
        "plt.show()"
      ]
    },
    {
      "cell_type": "code",
      "execution_count": 26,
      "metadata": {},
      "outputs": [],
      "source": [
        "from sklearn.metrics import classification_report"
      ]
    },
    {
      "cell_type": "code",
      "execution_count": null,
      "metadata": {},
      "outputs": [],
      "source": [
        "accuracy = []\n",
        "depth = []\n",
        "for i in tqdm(range(1,30,1)):\n",
        "    clf = RandomForestClassifier(max_depth=i, random_state=0)\n",
        "    clf.fit(trainData, trainLabels)\n",
        "    y_pred = clf.predict(testData)\n",
        "    accuracy.append(round(accuracy_score(y_pred = y_pred, y_true = testLabels) * 100,2))\n",
        "    depth.append(i)\n",
        "\n",
        "plt.plot(depth, accuracy)\n",
        "plt.xlabel('Max Depth')\n",
        "plt.ylabel('Accuracy')\n",
        "plt.title('Accuracy vs Max Depth')\n",
        "plt.show()"
      ]
    },
    {
      "cell_type": "code",
      "execution_count": 23,
      "metadata": {},
      "outputs": [
        {
          "name": "stdout",
          "output_type": "stream",
          "text": [
            "Accuracy:  19.84\n",
            "Precision:  [13.27 11.95  0.  ]\n",
            "Recall:  [ 1.29 48.75  0.  ]\n"
          ]
        }
      ],
      "source": [
        "X_train, X_test, y_train, y_test = trainData, testData, trainLabels, testLabels\n",
        "clf = RandomForestClassifier(criterion='entropy', random_state=0)\n",
        "clf.fit(X_train, y_train)\n",
        "get_dt_performance(clf, X_test, y_test)"
      ]
    },
    {
      "cell_type": "code",
      "execution_count": 24,
      "metadata": {},
      "outputs": [
        {
          "name": "stdout",
          "output_type": "stream",
          "text": [
            "Accuracy:  24.93\n",
            "Precision:  [16.08 35.11 22.33]\n",
            "Recall:  [ 1.58 15.14  2.09]\n"
          ]
        }
      ],
      "source": [
        "X_train, X_test, y_train, y_test = trainData, testData, trainLabels, testLabels\n",
        "clf = RandomForestClassifier(criterion='gini', random_state=0)\n",
        "clf.fit(X_train, y_train)\n",
        "print\n",
        "get_dt_performance(clf, X_test, y_test)"
      ]
    },
    {
      "cell_type": "code",
      "execution_count": 25,
      "metadata": {},
      "outputs": [],
      "source": [
        "def get_dt_performance(clf, X_test, y_test, skip_roc=False):\n",
        "    ## Accuracy, Recall and Precision\n",
        "    y_pred = clf.predict(X_test)\n",
        "    accuracy = round(accuracy_score(y_pred = y_pred, y_true = y_test) * 100,2)\n",
        "    print(\"Accuracy: \", accuracy)\n",
        "    precision = precision_score(y_pred = y_pred, y_true = y_test, average=None)\n",
        "    precision = np.round(np.multiply(precision, 100), 2)\n",
        "    print(\"Precision: \", precision)\n",
        "    recall = recall_score(y_pred = y_pred, y_true = y_test, average=None)\n",
        "    recall = np.round(np.multiply(recall, 100), 2)\n",
        "    print(\"Recall: \", recall)"
      ]
    },
    {
      "cell_type": "code",
      "execution_count": null,
      "metadata": {},
      "outputs": [],
      "source": [
        "accuracy = []\n",
        "predVal = []\n",
        "itr= [10, 30, 50, 70, 90, 110, 130, 150, 170, 190]\n",
        "for i in tqdm(range(len(itr))):\n",
        "    clf = RandomForestClassifier(algorithm=, random_state=0)\n",
        "    clf.fit(trainData, trainLabels)\n",
        "    y_pred = clf.predict(testData)\n",
        "    print(\"Classification report for case: \",itr[i])\n",
        "    print(classification_report(testLabels,y_pred,labels = [1, 2, 3, 4, 5, 6, 7, 8, 9, 10, 11, 12, 13, 14, 15, 16, 17, 18, 19]))\n",
        "    accuracy.append(round(accuracy_score(y_pred = y_pred, y_true = testLabels) * 100,2))\n",
        "    predVal.append(itr[i])\n",
        "\n",
        "\n",
        "plt.plot(predVal, accuracy)\n",
        "plt.xlabel('Num estimators')\n",
        "plt.ylabel('Accuracy')\n",
        "plt.title('Accuracy vs Num estimators')\n",
        "plt.show()"
      ]
    },
    {
      "cell_type": "code",
      "execution_count": 34,
      "metadata": {},
      "outputs": [
        {
          "name": "stdout",
          "output_type": "stream",
          "text": [
            "Accuracy:  22.78\n",
            "              precision    recall  f1-score   support\n",
            "\n",
            "           1       0.00      0.00      0.00      2022\n",
            "           2       0.00      0.00      0.00      1955\n",
            "           3       0.00      0.00      0.00      1099\n",
            "           4       1.00      0.00      0.00      1246\n",
            "           5       0.00      0.00      0.00       786\n",
            "           6       0.00      0.00      0.00       809\n",
            "           7       0.00      0.00      0.00       928\n",
            "           8       0.00      0.00      0.00       669\n",
            "           9       0.00      0.00      0.00       569\n",
            "          10       0.00      0.00      0.00       595\n",
            "          11       0.00      0.00      0.00       696\n",
            "          12       0.00      0.00      0.00       546\n",
            "          13       0.00      0.00      0.00       492\n",
            "          14       0.00      0.00      0.00       536\n",
            "          15       0.00      0.00      0.00       498\n",
            "          16       0.00      0.00      0.00       492\n",
            "          17       0.67      0.52      0.59       565\n",
            "          18       0.00      0.00      0.00       740\n",
            "          19       0.00      0.00      0.00       445\n",
            "\n",
            "   micro avg       0.67      0.02      0.04     15688\n",
            "   macro avg       0.09      0.03      0.03     15688\n",
            "weighted avg       0.10      0.02      0.02     15688\n",
            "\n"
          ]
        },
        {
          "name": "stderr",
          "output_type": "stream",
          "text": [
            "/usr/local/lib/python3.9/site-packages/sklearn/metrics/_classification.py:1308: UndefinedMetricWarning: Precision and F-score are ill-defined and being set to 0.0 in labels with no predicted samples. Use `zero_division` parameter to control this behavior.\n",
            "  _warn_prf(average, modifier, msg_start, len(result))\n",
            "/usr/local/lib/python3.9/site-packages/sklearn/metrics/_classification.py:1308: UndefinedMetricWarning: Precision and F-score are ill-defined and being set to 0.0 in labels with no predicted samples. Use `zero_division` parameter to control this behavior.\n",
            "  _warn_prf(average, modifier, msg_start, len(result))\n",
            "/usr/local/lib/python3.9/site-packages/sklearn/metrics/_classification.py:1308: UndefinedMetricWarning: Precision and F-score are ill-defined and being set to 0.0 in labels with no predicted samples. Use `zero_division` parameter to control this behavior.\n",
            "  _warn_prf(average, modifier, msg_start, len(result))\n"
          ]
        }
      ],
      "source": [
        "X_train, X_test, y_train, y_test = trainData, testData, trainLabels, testLabels\n",
        "clf = AdaBoostClassifier(algorithm=\"SAMME\", random_state=0)\n",
        "clf.fit(X_train, y_train)\n",
        "y_pred = clf.predict(X_test)\n",
        "accuracy = round(accuracy_score(y_pred = y_pred, y_true = y_test) * 100,2)\n",
        "print(\"Accuracy: \", accuracy)\n",
        "print(classification_report(testLabels,y_pred,labels = [1, 2, 3, 4, 5, 6, 7, 8, 9, 10, 11, 12, 13, 14, 15, 16, 17, 18, 19]))"
      ]
    },
    {
      "cell_type": "code",
      "execution_count": 32,
      "metadata": {},
      "outputs": [
        {
          "name": "stdout",
          "output_type": "stream",
          "text": [
            "              precision    recall  f1-score   support\n",
            "\n",
            "           1       0.20      0.00      0.00      2022\n",
            "           2       0.68      0.06      0.12      1955\n",
            "           3       0.35      0.01      0.01      1099\n",
            "           4       0.63      0.14      0.23      1246\n",
            "           5       0.17      0.00      0.00       786\n",
            "           6       0.45      0.04      0.07       809\n",
            "           7       0.39      0.05      0.09       928\n",
            "           8       0.38      0.04      0.07       669\n",
            "           9       0.00      0.00      0.00       569\n",
            "          10       0.20      0.00      0.00       595\n",
            "          11       0.58      0.29      0.38       696\n",
            "          12       0.41      0.24      0.30       546\n",
            "          13       0.37      0.01      0.03       492\n",
            "          14       0.00      0.00      0.00       536\n",
            "          15       0.00      0.00      0.00       498\n",
            "          16       0.22      0.02      0.04       492\n",
            "          17       0.61      0.65      0.63       565\n",
            "          18       0.29      0.03      0.05       740\n",
            "          19       0.00      0.00      0.00       445\n",
            "\n",
            "   micro avg       0.53      0.07      0.13     15688\n",
            "   macro avg       0.31      0.08      0.11     15688\n",
            "weighted avg       0.36      0.07      0.10     15688\n",
            "\n"
          ]
        },
        {
          "name": "stderr",
          "output_type": "stream",
          "text": [
            "/usr/local/lib/python3.9/site-packages/sklearn/metrics/_classification.py:1308: UndefinedMetricWarning: Precision and F-score are ill-defined and being set to 0.0 in labels with no predicted samples. Use `zero_division` parameter to control this behavior.\n",
            "  _warn_prf(average, modifier, msg_start, len(result))\n",
            "/usr/local/lib/python3.9/site-packages/sklearn/metrics/_classification.py:1308: UndefinedMetricWarning: Precision and F-score are ill-defined and being set to 0.0 in labels with no predicted samples. Use `zero_division` parameter to control this behavior.\n",
            "  _warn_prf(average, modifier, msg_start, len(result))\n",
            "/usr/local/lib/python3.9/site-packages/sklearn/metrics/_classification.py:1308: UndefinedMetricWarning: Precision and F-score are ill-defined and being set to 0.0 in labels with no predicted samples. Use `zero_division` parameter to control this behavior.\n",
            "  _warn_prf(average, modifier, msg_start, len(result))\n"
          ]
        }
      ],
      "source": [
        "X_train, X_test, y_train, y_test = trainData, testData, trainLabels, testLabels\n",
        "clf = AdaBoostClassifier(algorithm=\"SAMME.R\", random_state=0)\n",
        "clf.fit(X_train, y_train)\n",
        "y_pred = clf.predict(X_test)\n",
        "print(classification_report(testLabels,y_pred,labels = [1, 2, 3, 4, 5, 6, 7, 8, 9, 10, 11, 12, 13, 14, 15, 16, 17, 18, 19]))\n"
      ]
    },
    {
      "cell_type": "code",
      "execution_count": 33,
      "metadata": {},
      "outputs": [
        {
          "name": "stdout",
          "output_type": "stream",
          "text": [
            "Accuracy:  26.12\n"
          ]
        }
      ],
      "source": [
        "accuracy = round(accuracy_score(y_pred = y_pred, y_true = y_test) * 100,2)\n",
        "print(\"Accuracy: \", accuracy)"
      ]
    },
    {
      "cell_type": "markdown",
      "metadata": {},
      "source": [
        "### colab\n"
      ]
    },
    {
      "cell_type": "markdown",
      "metadata": {},
      "source": []
    },
    {
      "cell_type": "code",
      "execution_count": null,
      "metadata": {},
      "outputs": [],
      "source": [
        "accuracy = []\n",
        "predVal = []\n",
        "itr= []\n",
        "for i in tqdm(range(len(itr))):\n",
        "    clf = AdaBoostClassifier(algorithm=\"SAMME.R\",n_estimators=itr[i], random_state=0)\n",
        "    clf.fit(trainData, trainLabels)\n",
        "    y_pred = clf.predict(testData)\n",
        "    print(\"Classification report for case: \",itr[i])\n",
        "    print(classification_report(testLabels,y_pred,labels = [1, 2, 3, 4, 5, 6, 7, 8, 9, 10, 11, 12, 13, 14, 15, 16, 17, 18, 19]))\n",
        "    accuracy.append(round(accuracy_score(y_pred = y_pred, y_true = testLabels) * 100,2))\n",
        "    predVal.append(itr[i])\n",
        "\n",
        "\n",
        "plt.plot(predVal, accuracy)\n",
        "plt.xlabel('Num estimators')\n",
        "plt.ylabel('Accuracy')\n",
        "plt.title('Accuracy vs Num estimators')\n",
        "plt.show()"
      ]
    },
    {
      "cell_type": "code",
      "execution_count": null,
      "metadata": {},
      "outputs": [],
      "source": [
        "accuracy = []\n",
        "predVal = []\n",
        "itr= [400, 500, 600, 700, 800, 900, 1000]\n",
        "for i in tqdm(range(len(itr))):\n",
        "    clf = RandomForestClassifier(criterion='gini', max_depth=25, n_estimators=itr[i], random_state=0)\n",
        "    clf.fit(trainData, trainLabels)\n",
        "    y_pred = clf.predict(testData)\n",
        "    print(\"Classification report for case: \",itr[i])\n",
        "    accuracy = round(accuracy_score(y_pred = y_pred, y_true = y_test) * 100,2)\n",
        "    print(\"Accuracy: \", accuracy)\n",
        "    print(classification_report(testLabels,y_pred,labels = [1, 2, 3, 4, 5, 6, 7, 8, 9, 10, 11, 12, 13, 14, 15, 16, 17, 18, 19]))\n",
        "    accuracy.append(round(accuracy_score(y_pred = y_pred, y_true = testLabels) * 100,2))\n",
        "    predVal.append(itr[i])\n",
        "\n",
        "\n",
        "plt.plot(predVal, accuracy)\n",
        "plt.xlabel('Num estimators')\n",
        "plt.ylabel('Accuracy')\n",
        "plt.title('Accuracy vs Num estimators')\n",
        "plt.show()"
      ]
    },
    {
      "cell_type": "code",
      "execution_count": 36,
      "metadata": {},
      "outputs": [
        {
          "name": "stdout",
          "output_type": "stream",
          "text": [
            "Accuracy:  22.78\n",
            "              precision    recall  f1-score   support\n",
            "\n",
            "           1       0.00      0.00      0.00      2022\n",
            "           2       0.43      0.00      0.00      1955\n",
            "           3       0.00      0.00      0.00      1099\n",
            "           4       0.37      0.01      0.02      1246\n",
            "           5       0.00      0.00      0.00       786\n",
            "           6       0.20      0.00      0.01       809\n",
            "           7       0.14      0.00      0.00       928\n",
            "           8       0.06      0.01      0.02       669\n",
            "           9       0.07      0.04      0.05       569\n",
            "          10       0.06      0.05      0.05       595\n",
            "          11       0.10      0.44      0.16       696\n",
            "          12       0.09      0.46      0.15       546\n",
            "          13       0.05      0.06      0.06       492\n",
            "          14       0.00      0.00      0.00       536\n",
            "          15       0.04      0.68      0.07       498\n",
            "          16       0.04      0.02      0.03       492\n",
            "          17       0.17      0.54      0.26       565\n",
            "          18       0.07      0.05      0.06       740\n",
            "          19       0.04      0.10      0.06       445\n",
            "\n",
            "   micro avg       0.07      0.09      0.08     15688\n",
            "   macro avg       0.10      0.13      0.05     15688\n",
            "weighted avg       0.13      0.09      0.04     15688\n",
            "\n"
          ]
        }
      ],
      "source": [
        "from sklearn.naive_bayes import GaussianNB\n",
        "clf_mnb = GaussianNB()\n",
        "accuracy = round(accuracy_score(y_pred = y_pred, y_true = y_test) * 100,2)\n",
        "print(\"Accuracy: \", accuracy)\n",
        "clf_mnb.fit(X_train, y_train)\n",
        "y_pred = clf_mnb.predict(X_test)\n",
        "print(classification_report(testLabels,y_pred,labels = [1, 2, 3, 4, 5, 6, 7, 8, 9, 10, 11, 12, 13, 14, 15, 16, 17, 18, 19]))"
      ]
    },
    {
      "cell_type": "code",
      "execution_count": 37,
      "metadata": {},
      "outputs": [
        {
          "name": "stdout",
          "output_type": "stream",
          "text": [
            "Accuracy:  7.0\n",
            "              precision    recall  f1-score   support\n",
            "\n",
            "           1       0.00      0.00      0.00      2022\n",
            "           2       0.00      0.00      0.00      1955\n",
            "           3       0.00      0.00      0.00      1099\n",
            "           4       0.00      0.00      0.00      1246\n",
            "           5       0.00      0.00      0.00       786\n",
            "           6       0.00      0.00      0.00       809\n",
            "           7       0.00      0.00      0.00       928\n",
            "           8       0.00      0.00      0.00       669\n",
            "           9       0.07      0.00      0.00       569\n",
            "          10       0.00      0.00      0.00       595\n",
            "          11       0.52      0.08      0.15       696\n",
            "          12       0.40      0.03      0.06       546\n",
            "          13       0.04      0.01      0.01       492\n",
            "          14       0.00      0.00      0.00       536\n",
            "          15       0.03      0.97      0.05       498\n",
            "          16       0.01      0.00      0.00       492\n",
            "          17       0.69      0.12      0.20       565\n",
            "          18       0.00      0.00      0.00       740\n",
            "          19       0.03      0.06      0.04       445\n",
            "\n",
            "   micro avg       0.03      0.04      0.04     15688\n",
            "   macro avg       0.09      0.07      0.03     15688\n",
            "weighted avg       0.07      0.04      0.02     15688\n",
            "\n"
          ]
        },
        {
          "name": "stderr",
          "output_type": "stream",
          "text": [
            "/usr/local/lib/python3.9/site-packages/sklearn/metrics/_classification.py:1308: UndefinedMetricWarning: Precision and F-score are ill-defined and being set to 0.0 in labels with no predicted samples. Use `zero_division` parameter to control this behavior.\n",
            "  _warn_prf(average, modifier, msg_start, len(result))\n",
            "/usr/local/lib/python3.9/site-packages/sklearn/metrics/_classification.py:1308: UndefinedMetricWarning: Precision and F-score are ill-defined and being set to 0.0 in labels with no predicted samples. Use `zero_division` parameter to control this behavior.\n",
            "  _warn_prf(average, modifier, msg_start, len(result))\n",
            "/usr/local/lib/python3.9/site-packages/sklearn/metrics/_classification.py:1308: UndefinedMetricWarning: Precision and F-score are ill-defined and being set to 0.0 in labels with no predicted samples. Use `zero_division` parameter to control this behavior.\n",
            "  _warn_prf(average, modifier, msg_start, len(result))\n"
          ]
        }
      ],
      "source": [
        "from sklearn.naive_bayes import BernoulliNB\n",
        "clf_mnb = BernoulliNB()\n",
        "accuracy = round(accuracy_score(y_pred = y_pred, y_true = y_test) * 100,2)\n",
        "print(\"Accuracy: \", accuracy)\n",
        "clf_mnb.fit(X_train, y_train)\n",
        "y_pred = clf_mnb.predict(X_test)\n",
        "print(classification_report(testLabels,y_pred,labels = [1, 2, 3, 4, 5, 6, 7, 8, 9, 10, 11, 12, 13, 14, 15, 16, 17, 18, 19]))"
      ]
    },
    {
      "cell_type": "code",
      "execution_count": 40,
      "metadata": {},
      "outputs": [
        {
          "name": "stdout",
          "output_type": "stream",
          "text": [
            "Accuracy:  3.32\n"
          ]
        },
        {
          "ename": "AttributeError",
          "evalue": "'numpy.ndarray' object has no attribute 'todense'",
          "output_type": "error",
          "traceback": [
            "\u001b[0;31m---------------------------------------------------------------------------\u001b[0m",
            "\u001b[0;31mAttributeError\u001b[0m                            Traceback (most recent call last)",
            "\u001b[0;32m/var/folders/gj/mzxgltyj3wb83jl14fkhz8_w0000gn/T/ipykernel_9414/2022616975.py\u001b[0m in \u001b[0;36m<module>\u001b[0;34m\u001b[0m\n\u001b[1;32m      5\u001b[0m \u001b[0maccuracy\u001b[0m \u001b[0;34m=\u001b[0m \u001b[0mround\u001b[0m\u001b[0;34m(\u001b[0m\u001b[0maccuracy_score\u001b[0m\u001b[0;34m(\u001b[0m\u001b[0my_pred\u001b[0m \u001b[0;34m=\u001b[0m \u001b[0my_pred\u001b[0m\u001b[0;34m,\u001b[0m \u001b[0my_true\u001b[0m \u001b[0;34m=\u001b[0m \u001b[0my_test\u001b[0m\u001b[0;34m)\u001b[0m \u001b[0;34m*\u001b[0m \u001b[0;36m100\u001b[0m\u001b[0;34m,\u001b[0m\u001b[0;36m2\u001b[0m\u001b[0;34m)\u001b[0m\u001b[0;34m\u001b[0m\u001b[0;34m\u001b[0m\u001b[0m\n\u001b[1;32m      6\u001b[0m \u001b[0mprint\u001b[0m\u001b[0;34m(\u001b[0m\u001b[0;34m\"Accuracy: \"\u001b[0m\u001b[0;34m,\u001b[0m \u001b[0maccuracy\u001b[0m\u001b[0;34m)\u001b[0m\u001b[0;34m\u001b[0m\u001b[0;34m\u001b[0m\u001b[0m\n\u001b[0;32m----> 7\u001b[0;31m \u001b[0mclf_mnb\u001b[0m\u001b[0;34m.\u001b[0m\u001b[0mfit\u001b[0m\u001b[0;34m(\u001b[0m\u001b[0mX_train\u001b[0m\u001b[0;34m.\u001b[0m\u001b[0mtodense\u001b[0m\u001b[0;34m(\u001b[0m\u001b[0;34m)\u001b[0m\u001b[0;34m,\u001b[0m \u001b[0my_train\u001b[0m\u001b[0;34m.\u001b[0m\u001b[0mtodense\u001b[0m\u001b[0;34m(\u001b[0m\u001b[0;34m)\u001b[0m\u001b[0;34m)\u001b[0m\u001b[0;34m\u001b[0m\u001b[0;34m\u001b[0m\u001b[0m\n\u001b[0m\u001b[1;32m      8\u001b[0m \u001b[0my_pred\u001b[0m \u001b[0;34m=\u001b[0m \u001b[0mclf_mnb\u001b[0m\u001b[0;34m.\u001b[0m\u001b[0mpredict\u001b[0m\u001b[0;34m(\u001b[0m\u001b[0mX_test\u001b[0m\u001b[0;34m)\u001b[0m\u001b[0;34m\u001b[0m\u001b[0;34m\u001b[0m\u001b[0m\n\u001b[1;32m      9\u001b[0m \u001b[0mprint\u001b[0m\u001b[0;34m(\u001b[0m\u001b[0mclassification_report\u001b[0m\u001b[0;34m(\u001b[0m\u001b[0mtestLabels\u001b[0m\u001b[0;34m,\u001b[0m\u001b[0my_pred\u001b[0m\u001b[0;34m,\u001b[0m\u001b[0mlabels\u001b[0m \u001b[0;34m=\u001b[0m \u001b[0;34m[\u001b[0m\u001b[0;36m1\u001b[0m\u001b[0;34m,\u001b[0m \u001b[0;36m2\u001b[0m\u001b[0;34m,\u001b[0m \u001b[0;36m3\u001b[0m\u001b[0;34m,\u001b[0m \u001b[0;36m4\u001b[0m\u001b[0;34m,\u001b[0m \u001b[0;36m5\u001b[0m\u001b[0;34m,\u001b[0m \u001b[0;36m6\u001b[0m\u001b[0;34m,\u001b[0m \u001b[0;36m7\u001b[0m\u001b[0;34m,\u001b[0m \u001b[0;36m8\u001b[0m\u001b[0;34m,\u001b[0m \u001b[0;36m9\u001b[0m\u001b[0;34m,\u001b[0m \u001b[0;36m10\u001b[0m\u001b[0;34m,\u001b[0m \u001b[0;36m11\u001b[0m\u001b[0;34m,\u001b[0m \u001b[0;36m12\u001b[0m\u001b[0;34m,\u001b[0m \u001b[0;36m13\u001b[0m\u001b[0;34m,\u001b[0m \u001b[0;36m14\u001b[0m\u001b[0;34m,\u001b[0m \u001b[0;36m15\u001b[0m\u001b[0;34m,\u001b[0m \u001b[0;36m16\u001b[0m\u001b[0;34m,\u001b[0m \u001b[0;36m17\u001b[0m\u001b[0;34m,\u001b[0m \u001b[0;36m18\u001b[0m\u001b[0;34m,\u001b[0m \u001b[0;36m19\u001b[0m\u001b[0;34m]\u001b[0m\u001b[0;34m)\u001b[0m\u001b[0;34m)\u001b[0m\u001b[0;34m\u001b[0m\u001b[0;34m\u001b[0m\u001b[0m\n",
            "\u001b[0;31mAttributeError\u001b[0m: 'numpy.ndarray' object has no attribute 'todense'"
          ]
        }
      ],
      "source": [
        "# .np.todense()\n",
        "import numpy as np\n",
        "from sklearn.naive_bayes import MultinomialNB\n",
        "clf_mnb = MultinomialNB()\n",
        "accuracy = round(accuracy_score(y_pred = y_pred, y_true = y_test) * 100,2)\n",
        "print(\"Accuracy: \", accuracy)\n",
        "clf_mnb.fit(X_train.todense(), y_train.todense())\n",
        "y_pred = clf_mnb.predict(X_test)\n",
        "print(classification_report(testLabels,y_pred,labels = [1, 2, 3, 4, 5, 6, 7, 8, 9, 10, 11, 12, 13, 14, 15, 16, 17, 18, 19]))"
      ]
    },
    {
      "cell_type": "code",
      "execution_count": 43,
      "metadata": {},
      "outputs": [
        {
          "name": "stderr",
          "output_type": "stream",
          "text": [
            "  0%|          | 0/7 [00:00<?, ?it/s]/usr/local/lib/python3.9/site-packages/sklearn/metrics/_classification.py:1308: UndefinedMetricWarning: Precision and F-score are ill-defined and being set to 0.0 in labels with no predicted samples. Use `zero_division` parameter to control this behavior.\n",
            "  _warn_prf(average, modifier, msg_start, len(result))\n",
            "/usr/local/lib/python3.9/site-packages/sklearn/metrics/_classification.py:1308: UndefinedMetricWarning: Precision and F-score are ill-defined and being set to 0.0 in labels with no predicted samples. Use `zero_division` parameter to control this behavior.\n",
            "  _warn_prf(average, modifier, msg_start, len(result))\n",
            "/usr/local/lib/python3.9/site-packages/sklearn/metrics/_classification.py:1308: UndefinedMetricWarning: Precision and F-score are ill-defined and being set to 0.0 in labels with no predicted samples. Use `zero_division` parameter to control this behavior.\n",
            "  _warn_prf(average, modifier, msg_start, len(result))\n",
            " 14%|█▍        | 1/7 [05:28<32:49, 328.31s/it]"
          ]
        },
        {
          "name": "stdout",
          "output_type": "stream",
          "text": [
            "Classification report for case:  400\n",
            "Accuracy:  24.02\n",
            "              precision    recall  f1-score   support\n",
            "\n",
            "           1       0.00      0.00      0.00      2022\n",
            "           2       0.67      0.08      0.15      1955\n",
            "           3       0.00      0.00      0.00      1099\n",
            "           4       0.71      0.12      0.21      1246\n",
            "           5       0.00      0.00      0.00       786\n",
            "           6       0.00      0.00      0.00       809\n",
            "           7       0.00      0.00      0.00       928\n",
            "           8       0.00      0.00      0.00       669\n",
            "           9       0.00      0.00      0.00       569\n",
            "          10       0.00      0.00      0.00       595\n",
            "          11       0.68      0.10      0.17       696\n",
            "          12       0.00      0.00      0.00       546\n",
            "          13       0.00      0.00      0.00       492\n",
            "          14       0.00      0.00      0.00       536\n",
            "          15       0.00      0.00      0.00       498\n",
            "          16       0.00      0.00      0.00       492\n",
            "          17       0.72      0.28      0.40       565\n",
            "          18       0.00      0.00      0.00       740\n",
            "          19       0.00      0.00      0.00       445\n",
            "\n",
            "   micro avg       0.70      0.03      0.07     15688\n",
            "   macro avg       0.15      0.03      0.05     15688\n",
            "weighted avg       0.20      0.03      0.06     15688\n",
            "\n"
          ]
        },
        {
          "name": "stderr",
          "output_type": "stream",
          "text": [
            "/usr/local/lib/python3.9/site-packages/sklearn/metrics/_classification.py:1308: UndefinedMetricWarning: Precision and F-score are ill-defined and being set to 0.0 in labels with no predicted samples. Use `zero_division` parameter to control this behavior.\n",
            "  _warn_prf(average, modifier, msg_start, len(result))\n",
            "/usr/local/lib/python3.9/site-packages/sklearn/metrics/_classification.py:1308: UndefinedMetricWarning: Precision and F-score are ill-defined and being set to 0.0 in labels with no predicted samples. Use `zero_division` parameter to control this behavior.\n",
            "  _warn_prf(average, modifier, msg_start, len(result))\n",
            "/usr/local/lib/python3.9/site-packages/sklearn/metrics/_classification.py:1308: UndefinedMetricWarning: Precision and F-score are ill-defined and being set to 0.0 in labels with no predicted samples. Use `zero_division` parameter to control this behavior.\n",
            "  _warn_prf(average, modifier, msg_start, len(result))\n",
            " 29%|██▊       | 2/7 [12:31<31:59, 383.84s/it]"
          ]
        },
        {
          "name": "stdout",
          "output_type": "stream",
          "text": [
            "Classification report for case:  500\n",
            "Accuracy:  23.98\n",
            "              precision    recall  f1-score   support\n",
            "\n",
            "           1       0.00      0.00      0.00      2022\n",
            "           2       0.67      0.08      0.15      1955\n",
            "           3       0.00      0.00      0.00      1099\n",
            "           4       0.70      0.12      0.20      1246\n",
            "           5       0.00      0.00      0.00       786\n",
            "           6       0.00      0.00      0.00       809\n",
            "           7       0.00      0.00      0.00       928\n",
            "           8       0.00      0.00      0.00       669\n",
            "           9       0.00      0.00      0.00       569\n",
            "          10       0.00      0.00      0.00       595\n",
            "          11       0.70      0.10      0.17       696\n",
            "          12       0.00      0.00      0.00       546\n",
            "          13       0.00      0.00      0.00       492\n",
            "          14       0.00      0.00      0.00       536\n",
            "          15       0.00      0.00      0.00       498\n",
            "          16       0.00      0.00      0.00       492\n",
            "          17       0.72      0.28      0.40       565\n",
            "          18       0.00      0.00      0.00       740\n",
            "          19       0.00      0.00      0.00       445\n",
            "\n",
            "   micro avg       0.69      0.03      0.07     15688\n",
            "   macro avg       0.15      0.03      0.05     15688\n",
            "weighted avg       0.20      0.03      0.06     15688\n",
            "\n"
          ]
        },
        {
          "name": "stderr",
          "output_type": "stream",
          "text": [
            "/usr/local/lib/python3.9/site-packages/sklearn/metrics/_classification.py:1308: UndefinedMetricWarning: Precision and F-score are ill-defined and being set to 0.0 in labels with no predicted samples. Use `zero_division` parameter to control this behavior.\n",
            "  _warn_prf(average, modifier, msg_start, len(result))\n",
            "/usr/local/lib/python3.9/site-packages/sklearn/metrics/_classification.py:1308: UndefinedMetricWarning: Precision and F-score are ill-defined and being set to 0.0 in labels with no predicted samples. Use `zero_division` parameter to control this behavior.\n",
            "  _warn_prf(average, modifier, msg_start, len(result))\n",
            "/usr/local/lib/python3.9/site-packages/sklearn/metrics/_classification.py:1308: UndefinedMetricWarning: Precision and F-score are ill-defined and being set to 0.0 in labels with no predicted samples. Use `zero_division` parameter to control this behavior.\n",
            "  _warn_prf(average, modifier, msg_start, len(result))\n",
            " 43%|████▎     | 3/7 [21:03<29:31, 442.76s/it]"
          ]
        },
        {
          "name": "stdout",
          "output_type": "stream",
          "text": [
            "Classification report for case:  600\n",
            "Accuracy:  23.98\n",
            "              precision    recall  f1-score   support\n",
            "\n",
            "           1       0.00      0.00      0.00      2022\n",
            "           2       0.69      0.08      0.14      1955\n",
            "           3       0.00      0.00      0.00      1099\n",
            "           4       0.71      0.12      0.20      1246\n",
            "           5       0.00      0.00      0.00       786\n",
            "           6       0.00      0.00      0.00       809\n",
            "           7       0.00      0.00      0.00       928\n",
            "           8       0.00      0.00      0.00       669\n",
            "           9       0.00      0.00      0.00       569\n",
            "          10       0.00      0.00      0.00       595\n",
            "          11       0.68      0.09      0.16       696\n",
            "          12       0.00      0.00      0.00       546\n",
            "          13       0.00      0.00      0.00       492\n",
            "          14       0.00      0.00      0.00       536\n",
            "          15       0.00      0.00      0.00       498\n",
            "          16       0.00      0.00      0.00       492\n",
            "          17       0.73      0.29      0.42       565\n",
            "          18       0.00      0.00      0.00       740\n",
            "          19       0.00      0.00      0.00       445\n",
            "\n",
            "   micro avg       0.70      0.03      0.07     15688\n",
            "   macro avg       0.15      0.03      0.05     15688\n",
            "weighted avg       0.20      0.03      0.06     15688\n",
            "\n"
          ]
        },
        {
          "name": "stderr",
          "output_type": "stream",
          "text": [
            "/usr/local/lib/python3.9/site-packages/sklearn/metrics/_classification.py:1308: UndefinedMetricWarning: Precision and F-score are ill-defined and being set to 0.0 in labels with no predicted samples. Use `zero_division` parameter to control this behavior.\n",
            "  _warn_prf(average, modifier, msg_start, len(result))\n",
            "/usr/local/lib/python3.9/site-packages/sklearn/metrics/_classification.py:1308: UndefinedMetricWarning: Precision and F-score are ill-defined and being set to 0.0 in labels with no predicted samples. Use `zero_division` parameter to control this behavior.\n",
            "  _warn_prf(average, modifier, msg_start, len(result))\n",
            "/usr/local/lib/python3.9/site-packages/sklearn/metrics/_classification.py:1308: UndefinedMetricWarning: Precision and F-score are ill-defined and being set to 0.0 in labels with no predicted samples. Use `zero_division` parameter to control this behavior.\n",
            "  _warn_prf(average, modifier, msg_start, len(result))\n",
            " 57%|█████▋    | 4/7 [33:44<28:24, 568.24s/it]"
          ]
        },
        {
          "name": "stdout",
          "output_type": "stream",
          "text": [
            "Classification report for case:  700\n",
            "Accuracy:  23.96\n",
            "              precision    recall  f1-score   support\n",
            "\n",
            "           1       0.00      0.00      0.00      2022\n",
            "           2       0.70      0.07      0.13      1955\n",
            "           3       0.00      0.00      0.00      1099\n",
            "           4       0.70      0.11      0.20      1246\n",
            "           5       0.00      0.00      0.00       786\n",
            "           6       0.00      0.00      0.00       809\n",
            "           7       0.00      0.00      0.00       928\n",
            "           8       0.00      0.00      0.00       669\n",
            "           9       0.00      0.00      0.00       569\n",
            "          10       0.00      0.00      0.00       595\n",
            "          11       0.70      0.09      0.17       696\n",
            "          12       0.00      0.00      0.00       546\n",
            "          13       0.00      0.00      0.00       492\n",
            "          14       0.00      0.00      0.00       536\n",
            "          15       0.00      0.00      0.00       498\n",
            "          16       0.00      0.00      0.00       492\n",
            "          17       0.73      0.31      0.44       565\n",
            "          18       0.00      0.00      0.00       740\n",
            "          19       0.00      0.00      0.00       445\n",
            "\n",
            "   micro avg       0.71      0.03      0.06     15688\n",
            "   macro avg       0.15      0.03      0.05     15688\n",
            "weighted avg       0.20      0.03      0.06     15688\n",
            "\n"
          ]
        },
        {
          "name": "stderr",
          "output_type": "stream",
          "text": [
            "/usr/local/lib/python3.9/site-packages/sklearn/metrics/_classification.py:1308: UndefinedMetricWarning: Precision and F-score are ill-defined and being set to 0.0 in labels with no predicted samples. Use `zero_division` parameter to control this behavior.\n",
            "  _warn_prf(average, modifier, msg_start, len(result))\n",
            "/usr/local/lib/python3.9/site-packages/sklearn/metrics/_classification.py:1308: UndefinedMetricWarning: Precision and F-score are ill-defined and being set to 0.0 in labels with no predicted samples. Use `zero_division` parameter to control this behavior.\n",
            "  _warn_prf(average, modifier, msg_start, len(result))\n",
            "/usr/local/lib/python3.9/site-packages/sklearn/metrics/_classification.py:1308: UndefinedMetricWarning: Precision and F-score are ill-defined and being set to 0.0 in labels with no predicted samples. Use `zero_division` parameter to control this behavior.\n",
            "  _warn_prf(average, modifier, msg_start, len(result))\n",
            " 71%|███████▏  | 5/7 [47:07<21:45, 652.95s/it]"
          ]
        },
        {
          "name": "stdout",
          "output_type": "stream",
          "text": [
            "Classification report for case:  800\n",
            "Accuracy:  23.97\n",
            "              precision    recall  f1-score   support\n",
            "\n",
            "           1       0.00      0.00      0.00      2022\n",
            "           2       0.71      0.07      0.13      1955\n",
            "           3       0.00      0.00      0.00      1099\n",
            "           4       0.68      0.12      0.21      1246\n",
            "           5       0.00      0.00      0.00       786\n",
            "           6       0.00      0.00      0.00       809\n",
            "           7       0.00      0.00      0.00       928\n",
            "           8       0.00      0.00      0.00       669\n",
            "           9       0.00      0.00      0.00       569\n",
            "          10       0.00      0.00      0.00       595\n",
            "          11       0.72      0.10      0.17       696\n",
            "          12       0.00      0.00      0.00       546\n",
            "          13       0.00      0.00      0.00       492\n",
            "          14       0.00      0.00      0.00       536\n",
            "          15       0.00      0.00      0.00       498\n",
            "          16       0.00      0.00      0.00       492\n",
            "          17       0.74      0.30      0.43       565\n",
            "          18       0.00      0.00      0.00       740\n",
            "          19       0.00      0.00      0.00       445\n",
            "\n",
            "   micro avg       0.70      0.03      0.07     15688\n",
            "   macro avg       0.15      0.03      0.05     15688\n",
            "weighted avg       0.20      0.03      0.06     15688\n",
            "\n"
          ]
        },
        {
          "name": "stderr",
          "output_type": "stream",
          "text": [
            "/usr/local/lib/python3.9/site-packages/sklearn/metrics/_classification.py:1308: UndefinedMetricWarning: Precision and F-score are ill-defined and being set to 0.0 in labels with no predicted samples. Use `zero_division` parameter to control this behavior.\n",
            "  _warn_prf(average, modifier, msg_start, len(result))\n",
            "/usr/local/lib/python3.9/site-packages/sklearn/metrics/_classification.py:1308: UndefinedMetricWarning: Precision and F-score are ill-defined and being set to 0.0 in labels with no predicted samples. Use `zero_division` parameter to control this behavior.\n",
            "  _warn_prf(average, modifier, msg_start, len(result))\n",
            "/usr/local/lib/python3.9/site-packages/sklearn/metrics/_classification.py:1308: UndefinedMetricWarning: Precision and F-score are ill-defined and being set to 0.0 in labels with no predicted samples. Use `zero_division` parameter to control this behavior.\n",
            "  _warn_prf(average, modifier, msg_start, len(result))\n",
            " 86%|████████▌ | 6/7 [1:01:40<12:07, 727.70s/it]"
          ]
        },
        {
          "name": "stdout",
          "output_type": "stream",
          "text": [
            "Classification report for case:  900\n",
            "Accuracy:  23.88\n",
            "              precision    recall  f1-score   support\n",
            "\n",
            "           1       0.00      0.00      0.00      2022\n",
            "           2       0.71      0.07      0.13      1955\n",
            "           3       0.00      0.00      0.00      1099\n",
            "           4       0.69      0.12      0.21      1246\n",
            "           5       0.00      0.00      0.00       786\n",
            "           6       0.00      0.00      0.00       809\n",
            "           7       0.00      0.00      0.00       928\n",
            "           8       0.00      0.00      0.00       669\n",
            "           9       0.00      0.00      0.00       569\n",
            "          10       0.00      0.00      0.00       595\n",
            "          11       0.70      0.09      0.16       696\n",
            "          12       0.00      0.00      0.00       546\n",
            "          13       0.00      0.00      0.00       492\n",
            "          14       0.00      0.00      0.00       536\n",
            "          15       0.00      0.00      0.00       498\n",
            "          16       0.00      0.00      0.00       492\n",
            "          17       0.72      0.27      0.40       565\n",
            "          18       0.00      0.00      0.00       740\n",
            "          19       0.00      0.00      0.00       445\n",
            "\n",
            "   micro avg       0.71      0.03      0.06     15688\n",
            "   macro avg       0.15      0.03      0.05     15688\n",
            "weighted avg       0.20      0.03      0.05     15688\n",
            "\n"
          ]
        },
        {
          "name": "stderr",
          "output_type": "stream",
          "text": [
            "/usr/local/lib/python3.9/site-packages/sklearn/metrics/_classification.py:1308: UndefinedMetricWarning: Precision and F-score are ill-defined and being set to 0.0 in labels with no predicted samples. Use `zero_division` parameter to control this behavior.\n",
            "  _warn_prf(average, modifier, msg_start, len(result))\n",
            "/usr/local/lib/python3.9/site-packages/sklearn/metrics/_classification.py:1308: UndefinedMetricWarning: Precision and F-score are ill-defined and being set to 0.0 in labels with no predicted samples. Use `zero_division` parameter to control this behavior.\n",
            "  _warn_prf(average, modifier, msg_start, len(result))\n",
            "/usr/local/lib/python3.9/site-packages/sklearn/metrics/_classification.py:1308: UndefinedMetricWarning: Precision and F-score are ill-defined and being set to 0.0 in labels with no predicted samples. Use `zero_division` parameter to control this behavior.\n",
            "  _warn_prf(average, modifier, msg_start, len(result))\n",
            "100%|██████████| 7/7 [1:17:56<00:00, 668.14s/it]"
          ]
        },
        {
          "name": "stdout",
          "output_type": "stream",
          "text": [
            "Classification report for case:  1000\n",
            "Accuracy:  23.83\n",
            "              precision    recall  f1-score   support\n",
            "\n",
            "           1       0.00      0.00      0.00      2022\n",
            "           2       0.72      0.07      0.13      1955\n",
            "           3       0.00      0.00      0.00      1099\n",
            "           4       0.69      0.12      0.21      1246\n",
            "           5       0.00      0.00      0.00       786\n",
            "           6       0.00      0.00      0.00       809\n",
            "           7       0.00      0.00      0.00       928\n",
            "           8       0.00      0.00      0.00       669\n",
            "           9       0.00      0.00      0.00       569\n",
            "          10       0.00      0.00      0.00       595\n",
            "          11       0.68      0.09      0.16       696\n",
            "          12       0.00      0.00      0.00       546\n",
            "          13       0.00      0.00      0.00       492\n",
            "          14       0.00      0.00      0.00       536\n",
            "          15       0.00      0.00      0.00       498\n",
            "          16       0.00      0.00      0.00       492\n",
            "          17       0.71      0.27      0.39       565\n",
            "          18       0.00      0.00      0.00       740\n",
            "          19       0.00      0.00      0.00       445\n",
            "\n",
            "   micro avg       0.70      0.03      0.06     15688\n",
            "   macro avg       0.15      0.03      0.05     15688\n",
            "weighted avg       0.20      0.03      0.05     15688\n",
            "\n"
          ]
        },
        {
          "name": "stderr",
          "output_type": "stream",
          "text": [
            "\n"
          ]
        }
      ],
      "source": [
        "accuracy = []\n",
        "predVal = []\n",
        "itr= [400, 500, 600, 700, 800, 900, 1000]\n",
        "\n",
        "for i in tqdm(range(len(itr))):\n",
        "    clf = RandomForestClassifier(criterion='gini', max_depth=25, n_estimators=itr[i], random_state=0)\n",
        "    clf.fit(trainData, trainLabels)\n",
        "    y_pred = clf.predict(testData)\n",
        "    print(\"Classification report for case: \",itr[i])\n",
        "    accuracy = round(accuracy_score(y_pred, y_test) * 100,2)\n",
        "    print(\"Accuracy: \", accuracy)\n",
        "    print(classification_report(testLabels,y_pred,labels = [1, 2, 3, 4, 5, 6, 7, 8, 9, 10, 11, 12, 13, 14, 15, 16, 17, 18, 19]))\n",
        "    # accuracy.append(round(accuracy_score(y_pred,testLabels) * 100,2))\n",
        "    # predVal.append(predVal, float(itr[i]))\n",
        "\n",
        "\n",
        "# plt.plot(predVal, accuracy)\n",
        "# plt.xlabel('Num estimators')\n",
        "# plt.ylabel('Accuracy')\n",
        "# plt.title('Accuracy vs Num estimators')\n",
        "# plt.show()"
      ]
    },
    {
      "cell_type": "code",
      "execution_count": null,
      "metadata": {},
      "outputs": [],
      "source": [
        "accuracy = []\n",
        "predVal = []\n",
        "itr= [50, 150, 250, 350, 450, 550]\n",
        "for i in tqdm(range(len(itr))):\n",
        "    clf = AdaBoostClassifier(algorithm=\"SAMME.R\",n_estimators=itr[i], random_state=0)\n",
        "    clf.fit(trainData, trainLabels)\n",
        "    y_pred = clf.predict(testData)\n",
        "    print(\"Classification report for case: \",itr[i])\n",
        "    print(classification_report(testLabels,y_pred,labels = [1, 2, 3, 4, 5, 6, 7, 8, 9, 10, 11, 12, 13, 14, 15, 16, 17, 18, 19]))\n",
        "    accuracy.append(round(accuracy_score(y_pred = y_pred, y_true = testLabels) * 100,2))\n",
        "    predVal.append(itr[i])\n",
        "\n",
        "\n",
        "plt.plot(predVal, accuracy)\n",
        "plt.xlabel('Num estimators')\n",
        "plt.ylabel('Accuracy')\n",
        "plt.title('Accuracy vs Num estimators')\n",
        "plt.show()"
      ]
    },
    {
      "cell_type": "code",
      "execution_count": null,
      "metadata": {},
      "outputs": [],
      "source": []
    }
  ],
  "metadata": {
    "accelerator": "TPU",
    "colab": {
      "name": "emoji_lr_1.ipynb",
      "provenance": []
    },
    "kernelspec": {
      "display_name": "Python 3",
      "name": "python3"
    },
    "language_info": {
      "codemirror_mode": {
        "name": "ipython",
        "version": 3
      },
      "file_extension": ".py",
      "mimetype": "text/x-python",
      "name": "python",
      "nbconvert_exporter": "python",
      "pygments_lexer": "ipython3",
      "version": "3.9.8"
    }
  },
  "nbformat": 4,
  "nbformat_minor": 0
}
