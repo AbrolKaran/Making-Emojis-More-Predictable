{
 "cells": [
  {
   "cell_type": "markdown",
   "metadata": {
    "id": "vO1xwQMynOnC"
   },
   "source": [
    "# Naive Bayes\n"
   ]
  },
  {
   "cell_type": "markdown",
   "metadata": {},
   "source": [
    "## Preprocessing "
   ]
  },
  {
   "cell_type": "code",
   "execution_count": 1,
   "metadata": {
    "colab": {
     "base_uri": "https://localhost:8080/"
    },
    "id": "bRqNl6G-mPT7",
    "outputId": "68b29eb7-ad2e-49f9-af64-ab03ba0add06"
   },
   "outputs": [],
   "source": [
    "# from google.colab import drive\n",
    "# drive.mount('/content/drive')"
   ]
  },
  {
   "cell_type": "code",
   "execution_count": 2,
   "metadata": {
    "colab": {
     "base_uri": "https://localhost:8080/"
    },
    "id": "H7Swf4P8H5xv",
    "outputId": "c6fdfb30-7d8e-4a4f-b28a-927f6cb8e76d"
   },
   "outputs": [],
   "source": [
    "# cd drive/MyDrive/NLP_Project"
   ]
  },
  {
   "cell_type": "code",
   "execution_count": 3,
   "metadata": {
    "id": "6135jyy5IQ2B"
   },
   "outputs": [],
   "source": [
    "# !pip install pandas matplotlib tqdm seaborn sklearn numpy graphviz\n",
    "import pandas as pd\n",
    "import matplotlib.pyplot as plt\n",
    "from tqdm import tqdm\n",
    "import seaborn as sns\n",
    "from sklearn.model_selection import train_test_split\n",
    "from sklearn.tree import DecisionTreeClassifier\n",
    "from sklearn.ensemble import RandomForestClassifier\n",
    "from sklearn.ensemble import AdaBoostClassifier\n",
    "from sklearn.model_selection import GridSearchCV\n",
    "import numpy as np\n",
    "import warnings\n",
    "warnings.filterwarnings('always') \n",
    "from sklearn.metrics import classification_report\n",
    "from sklearn.metrics import accuracy_score\n",
    "import pickle as pk"
   ]
  },
  {
   "cell_type": "code",
   "execution_count": 4,
   "metadata": {
    "id": "wCsgwo7tIvAs"
   },
   "outputs": [
    {
     "name": "stderr",
     "output_type": "stream",
     "text": [
      "/var/folders/gj/mzxgltyj3wb83jl14fkhz8_w0000gn/T/ipykernel_35951/785918980.py:2: ResourceWarning: unclosed file <_io.TextIOWrapper name='finalTrainLabels.labels' mode='r' encoding='UTF-8'>\n",
      "  trainLabels = open('finalTrainLabels.labels', 'r').readlines()\n",
      "ResourceWarning: Enable tracemalloc to get the object allocation traceback\n",
      "/var/folders/gj/mzxgltyj3wb83jl14fkhz8_w0000gn/T/ipykernel_35951/785918980.py:4: ResourceWarning: unclosed file <_io.TextIOWrapper name='finalTestLabels.labels' mode='r' encoding='UTF-8'>\n",
      "  testLabels = open('finalTestLabels.labels', 'r').readlines()\n",
      "ResourceWarning: Enable tracemalloc to get the object allocation traceback\n",
      "/var/folders/gj/mzxgltyj3wb83jl14fkhz8_w0000gn/T/ipykernel_35951/785918980.py:6: ResourceWarning: unclosed file <_io.TextIOWrapper name='finalDevLabels.labels' mode='r' encoding='UTF-8'>\n",
      "  validationLabels = open('finalDevLabels.labels', 'r').readlines()\n",
      "ResourceWarning: Enable tracemalloc to get the object allocation traceback\n"
     ]
    }
   ],
   "source": [
    "trainData = np.load('fin_t2_train.npy')\n",
    "trainLabels = open('finalTrainLabels.labels', 'r').readlines()\n",
    "testData = np.load('fin_t2_test.npy')\n",
    "testLabels = open('finalTestLabels.labels', 'r').readlines()\n",
    "validationData = np.load('fin_t2_trial.npy')\n",
    "validationLabels = open('finalDevLabels.labels', 'r').readlines()"
   ]
  },
  {
   "cell_type": "code",
   "execution_count": 5,
   "metadata": {
    "colab": {
     "base_uri": "https://localhost:8080/"
    },
    "id": "1QjcQGoVGDJB",
    "outputId": "ff4a6bee-c555-4753-a288-9b5baed2bb0b"
   },
   "outputs": [
    {
     "name": "stderr",
     "output_type": "stream",
     "text": [
      "100%|██████████| 69992/69992 [00:00<00:00, 2110934.96it/s]\n",
      "100%|██████████| 20000/20000 [00:00<00:00, 1939652.24it/s]\n",
      "100%|██████████| 10008/10008 [00:00<00:00, 1683238.21it/s]\n"
     ]
    }
   ],
   "source": [
    "for i in tqdm(range(len(trainLabels))):\n",
    "    trainLabels[i] = int(trainLabels[i])\n",
    "for i in tqdm(range(len(testLabels))):\n",
    "    testLabels[i] = int(testLabels[i])\n",
    "for i in tqdm(range(len(validationLabels))):\n",
    "    validationLabels[i] = int(validationLabels[i])"
   ]
  },
  {
   "cell_type": "code",
   "execution_count": 6,
   "metadata": {
    "id": "A6A_MlQgJlte"
   },
   "outputs": [],
   "source": [
    "trainLabels = np.array(trainLabels)\n",
    "testLabels = np.array(testLabels)\n",
    "validationLabels = np.array(validationLabels)\n",
    "trainLabels = trainLabels.reshape((-1, ))\n",
    "testLabels = testLabels.reshape((-1, ))\n",
    "validationLabels = validationLabels.reshape((-1, ))\n",
    "X_train, X_test, y_train, y_test, X_val, y_val = trainData, testData, trainLabels, testLabels, validationData, validationLabels"
   ]
  },
  {
   "cell_type": "markdown",
   "metadata": {
    "id": "13pLC5g7nUJO"
   },
   "source": [
    "## Gaussian - Better"
   ]
  },
  {
   "cell_type": "code",
   "execution_count": 9,
   "metadata": {
    "id": "eSVyYN35d4d_",
    "outputId": "7b5add08-2107-4166-ccd6-d2c5237283e8"
   },
   "outputs": [
    {
     "name": "stdout",
     "output_type": "stream",
     "text": [
      "Test Data:\n",
      "Accuracy % :  7.0\n",
      "              precision    recall  f1-score   support\n",
      "\n",
      "           1       0.00      0.00      0.00      2022\n",
      "           2       0.43      0.00      0.00      1955\n",
      "           3       0.00      0.00      0.00      1099\n",
      "           4       0.37      0.01      0.02      1246\n",
      "           5       0.00      0.00      0.00       786\n",
      "           6       0.20      0.00      0.01       809\n",
      "           7       0.14      0.00      0.00       928\n",
      "           8       0.06      0.01      0.02       669\n",
      "           9       0.07      0.04      0.05       569\n",
      "          10       0.06      0.05      0.05       595\n",
      "          11       0.10      0.44      0.16       696\n",
      "          12       0.09      0.46      0.15       546\n",
      "          13       0.05      0.06      0.06       492\n",
      "          14       0.00      0.00      0.00       536\n",
      "          15       0.04      0.68      0.07       498\n",
      "          16       0.04      0.02      0.03       492\n",
      "          17       0.17      0.54      0.26       565\n",
      "          18       0.07      0.05      0.06       740\n",
      "          19       0.04      0.10      0.06       445\n",
      "\n",
      "   micro avg       0.07      0.09      0.08     15688\n",
      "   macro avg       0.10      0.13      0.05     15688\n",
      "weighted avg       0.13      0.09      0.04     15688\n",
      "\n",
      "Train Data:\n",
      "Accuracy % :  9.67\n",
      "              precision    recall  f1-score   support\n",
      "\n",
      "           1       0.20      0.00      0.00      7076\n",
      "           2       0.57      0.00      0.00      6842\n",
      "           3       0.25      0.00      0.00      3842\n",
      "           4       0.60      0.01      0.01      4363\n",
      "           5       0.08      0.00      0.00      2751\n",
      "           6       0.21      0.00      0.00      2831\n",
      "           7       0.48      0.01      0.01      3250\n",
      "           8       0.14      0.02      0.03      2341\n",
      "           9       0.13      0.09      0.11      1992\n",
      "          10       0.13      0.11      0.12      2083\n",
      "          11       0.24      0.38      0.29      2433\n",
      "          12       0.09      0.80      0.17      1908\n",
      "          13       0.09      0.15      0.12      1722\n",
      "          14       0.15      0.02      0.03      1878\n",
      "          15       0.08      0.58      0.13      1745\n",
      "          16       0.10      0.08      0.09      1721\n",
      "          17       0.08      0.94      0.15      1976\n",
      "          18       0.18      0.05      0.08      2592\n",
      "          19       0.07      0.22      0.11      1556\n",
      "\n",
      "   micro avg       0.10      0.12      0.11     54902\n",
      "   macro avg       0.20      0.18      0.08     54902\n",
      "weighted avg       0.26      0.12      0.06     54902\n",
      "\n",
      "Validation Data:\n",
      "Accuracy % :  6.79\n",
      "              precision    recall  f1-score   support\n",
      "\n",
      "           1       0.00      0.00      0.00      1011\n",
      "           2       0.00      0.00      0.00       978\n",
      "           3       0.00      0.00      0.00       549\n",
      "           4       0.31      0.01      0.01       624\n",
      "           5       0.00      0.00      0.00       393\n",
      "           6       0.00      0.00      0.00       405\n",
      "           7       0.33      0.00      0.00       465\n",
      "           8       0.03      0.01      0.01       335\n",
      "           9       0.13      0.08      0.10       285\n",
      "          10       0.07      0.06      0.06       298\n",
      "          11       0.13      0.36      0.19       348\n",
      "          12       0.09      0.55      0.16       273\n",
      "          13       0.02      0.02      0.02       246\n",
      "          14       0.00      0.00      0.00       269\n",
      "          15       0.04      0.52      0.07       250\n",
      "          16       0.04      0.02      0.03       246\n",
      "          17       0.08      0.66      0.14       283\n",
      "          18       0.08      0.04      0.05       371\n",
      "          19       0.04      0.09      0.05       223\n",
      "\n",
      "   micro avg       0.07      0.09      0.08      7852\n",
      "   macro avg       0.07      0.13      0.05      7852\n",
      "weighted avg       0.07      0.09      0.03      7852\n",
      "\n"
     ]
    },
    {
     "name": "stderr",
     "output_type": "stream",
     "text": [
      "/usr/local/lib/python3.9/site-packages/sklearn/metrics/_classification.py:1308: UndefinedMetricWarning: Precision and F-score are ill-defined and being set to 0.0 in labels with no predicted samples. Use `zero_division` parameter to control this behavior.\n",
      "  _warn_prf(average, modifier, msg_start, len(result))\n",
      "/usr/local/lib/python3.9/site-packages/sklearn/metrics/_classification.py:1308: UndefinedMetricWarning: Precision and F-score are ill-defined and being set to 0.0 in labels with no predicted samples. Use `zero_division` parameter to control this behavior.\n",
      "  _warn_prf(average, modifier, msg_start, len(result))\n",
      "/usr/local/lib/python3.9/site-packages/sklearn/metrics/_classification.py:1308: UndefinedMetricWarning: Precision and F-score are ill-defined and being set to 0.0 in labels with no predicted samples. Use `zero_division` parameter to control this behavior.\n",
      "  _warn_prf(average, modifier, msg_start, len(result))\n"
     ]
    }
   ],
   "source": [
    "from sklearn.naive_bayes import GaussianNB\n",
    "clf = GaussianNB()\n",
    "clf.fit(X_train, y_train)\n",
    "y_pred = clf.predict(X_test)\n",
    "y_true = testLabels\n",
    "print(\"Test Data:\")\n",
    "accuracy = round(accuracy_score(y_pred = y_pred, y_true = y_true) * 100,2)\n",
    "print(\"Accuracy % : \",round(accuracy_score(y_pred = y_pred, y_true=y_true) * 100,2))\n",
    "print(classification_report(y_true,y_pred,labels = [1, 2, 3, 4, 5, 6, 7, 8, 9, 10, 11, 12, 13, 14, 15, 16, 17, 18, 19]))\n",
    "y_pred = clf.predict(X_train)\n",
    "y_true = trainLabels\n",
    "print(\"Train Data:\")\n",
    "print(\"Accuracy % : \",round(accuracy_score(y_pred = y_pred, y_true=y_true) * 100,2))\n",
    "print(classification_report(y_true,y_pred,labels = [1, 2, 3, 4, 5, 6, 7, 8, 9, 10, 11, 12, 13, 14, 15, 16, 17, 18, 19]))\n",
    "y_pred = clf.predict(X_val)\n",
    "y_true = validationLabels\n",
    "print(\"Validation Data:\")\n",
    "print(\"Accuracy % : \",round(accuracy_score(y_pred = y_pred, y_true=y_true) * 100,2))\n",
    "print(classification_report(y_true,y_pred,labels = [1, 2, 3, 4, 5, 6, 7, 8, 9, 10, 11, 12, 13, 14, 15, 16, 17, 18, 19]))"
   ]
  },
  {
   "cell_type": "code",
   "execution_count": 10,
   "metadata": {},
   "outputs": [
    {
     "name": "stderr",
     "output_type": "stream",
     "text": [
      "/var/folders/gj/mzxgltyj3wb83jl14fkhz8_w0000gn/T/ipykernel_35951/1288454123.py:2: ResourceWarning: unclosed file <_io.BufferedWriter name='finalModelGNB'>\n",
      "  pk.dump(clf,open(filename,'wb'))\n",
      "ResourceWarning: Enable tracemalloc to get the object allocation traceback\n"
     ]
    }
   ],
   "source": [
    "filename = 'finalModelGNB'\n",
    "pk.dump(clf,open(filename,'wb'))"
   ]
  },
  {
   "cell_type": "markdown",
   "metadata": {
    "id": "vBGw25QQndDk"
   },
   "source": [
    "## Bernoulli"
   ]
  },
  {
   "cell_type": "code",
   "execution_count": 11,
   "metadata": {
    "id": "0cbQ_Tndd4d_",
    "outputId": "d9212cd4-e54c-4891-dae0-f0f508220908"
   },
   "outputs": [
    {
     "name": "stdout",
     "output_type": "stream",
     "text": [
      "Test Data:\n",
      "Accuracy % :  3.32\n",
      "              precision    recall  f1-score   support\n",
      "\n",
      "           1       0.00      0.00      0.00      2022\n",
      "           2       0.00      0.00      0.00      1955\n",
      "           3       0.00      0.00      0.00      1099\n",
      "           4       0.00      0.00      0.00      1246\n",
      "           5       0.00      0.00      0.00       786\n",
      "           6       0.00      0.00      0.00       809\n",
      "           7       0.00      0.00      0.00       928\n",
      "           8       0.00      0.00      0.00       669\n",
      "           9       0.07      0.00      0.00       569\n",
      "          10       0.00      0.00      0.00       595\n",
      "          11       0.52      0.08      0.15       696\n",
      "          12       0.40      0.03      0.06       546\n",
      "          13       0.04      0.01      0.01       492\n",
      "          14       0.00      0.00      0.00       536\n",
      "          15       0.03      0.97      0.05       498\n",
      "          16       0.01      0.00      0.00       492\n",
      "          17       0.69      0.12      0.20       565\n",
      "          18       0.00      0.00      0.00       740\n",
      "          19       0.03      0.06      0.04       445\n",
      "\n",
      "   micro avg       0.03      0.04      0.04     15688\n",
      "   macro avg       0.09      0.07      0.03     15688\n",
      "weighted avg       0.07      0.04      0.02     15688\n",
      "\n"
     ]
    },
    {
     "name": "stderr",
     "output_type": "stream",
     "text": [
      "/usr/local/lib/python3.9/site-packages/sklearn/metrics/_classification.py:1308: UndefinedMetricWarning: Precision and F-score are ill-defined and being set to 0.0 in labels with no predicted samples. Use `zero_division` parameter to control this behavior.\n",
      "  _warn_prf(average, modifier, msg_start, len(result))\n",
      "/usr/local/lib/python3.9/site-packages/sklearn/metrics/_classification.py:1308: UndefinedMetricWarning: Precision and F-score are ill-defined and being set to 0.0 in labels with no predicted samples. Use `zero_division` parameter to control this behavior.\n",
      "  _warn_prf(average, modifier, msg_start, len(result))\n",
      "/usr/local/lib/python3.9/site-packages/sklearn/metrics/_classification.py:1308: UndefinedMetricWarning: Precision and F-score are ill-defined and being set to 0.0 in labels with no predicted samples. Use `zero_division` parameter to control this behavior.\n",
      "  _warn_prf(average, modifier, msg_start, len(result))\n"
     ]
    },
    {
     "name": "stdout",
     "output_type": "stream",
     "text": [
      "Train Data:\n",
      "Accuracy % :  30.44\n",
      "              precision    recall  f1-score   support\n",
      "\n",
      "           1       0.29      0.25      0.27      7076\n",
      "           2       0.31      0.48      0.38      6842\n",
      "           3       0.24      0.15      0.18      3842\n",
      "           4       0.34      0.45      0.39      4363\n",
      "           5       0.20      0.09      0.13      2751\n",
      "           6       0.26      0.10      0.15      2831\n",
      "           7       0.29      0.18      0.22      3250\n",
      "           8       0.26      0.10      0.14      2341\n",
      "           9       0.18      0.13      0.15      1992\n",
      "          10       0.23      0.09      0.13      2083\n",
      "          11       0.37      0.39      0.38      2433\n",
      "          12       0.23      0.48      0.31      1908\n",
      "          13       0.27      0.06      0.09      1722\n",
      "          14       0.24      0.08      0.11      1878\n",
      "          15       0.24      0.12      0.16      1745\n",
      "          16       0.22      0.08      0.11      1721\n",
      "          17       0.58      0.61      0.59      1976\n",
      "          18       0.19      0.17      0.18      2592\n",
      "          19       0.25      0.05      0.08      1556\n",
      "\n",
      "   micro avg       0.29      0.25      0.27     54902\n",
      "   macro avg       0.27      0.21      0.22     54902\n",
      "weighted avg       0.28      0.25      0.24     54902\n",
      "\n",
      "Validation Data:\n",
      "Accuracy % :  3.6\n",
      "              precision    recall  f1-score   support\n",
      "\n",
      "           1       0.00      0.00      0.00      1011\n",
      "           2       0.00      0.00      0.00       978\n",
      "           3       0.00      0.00      0.00       549\n",
      "           4       0.00      0.00      0.00       624\n",
      "           5       0.00      0.00      0.00       393\n",
      "           6       0.00      0.00      0.00       405\n",
      "           7       0.00      0.00      0.00       465\n",
      "           8       0.00      0.00      0.00       335\n",
      "           9       0.00      0.00      0.00       285\n",
      "          10       0.00      0.00      0.00       298\n",
      "          11       0.78      0.02      0.04       348\n",
      "          12       0.59      0.05      0.09       273\n",
      "          13       0.00      0.00      0.00       246\n",
      "          14       0.00      0.00      0.00       269\n",
      "          15       0.03      0.72      0.07       250\n",
      "          16       0.08      0.00      0.01       246\n",
      "          17       0.73      0.14      0.24       283\n",
      "          18       0.00      0.00      0.00       371\n",
      "          19       0.03      0.53      0.05       223\n",
      "\n",
      "   micro avg       0.04      0.05      0.04      7852\n",
      "   macro avg       0.12      0.08      0.03      7852\n",
      "weighted avg       0.09      0.05      0.02      7852\n",
      "\n"
     ]
    },
    {
     "name": "stderr",
     "output_type": "stream",
     "text": [
      "/usr/local/lib/python3.9/site-packages/sklearn/metrics/_classification.py:1308: UndefinedMetricWarning: Precision and F-score are ill-defined and being set to 0.0 in labels with no predicted samples. Use `zero_division` parameter to control this behavior.\n",
      "  _warn_prf(average, modifier, msg_start, len(result))\n",
      "/usr/local/lib/python3.9/site-packages/sklearn/metrics/_classification.py:1308: UndefinedMetricWarning: Precision and F-score are ill-defined and being set to 0.0 in labels with no predicted samples. Use `zero_division` parameter to control this behavior.\n",
      "  _warn_prf(average, modifier, msg_start, len(result))\n",
      "/usr/local/lib/python3.9/site-packages/sklearn/metrics/_classification.py:1308: UndefinedMetricWarning: Precision and F-score are ill-defined and being set to 0.0 in labels with no predicted samples. Use `zero_division` parameter to control this behavior.\n",
      "  _warn_prf(average, modifier, msg_start, len(result))\n"
     ]
    }
   ],
   "source": [
    "from sklearn.naive_bayes import BernoulliNB\n",
    "clf = BernoulliNB()\n",
    "clf.fit(X_train, y_train)\n",
    "y_pred = clf.predict(X_test)\n",
    "y_true = testLabels\n",
    "print(\"Test Data:\")\n",
    "accuracy = round(accuracy_score(y_pred = y_pred, y_true = y_true) * 100,2)\n",
    "print(\"Accuracy % : \",round(accuracy_score(y_pred = y_pred, y_true=y_true) * 100,2))\n",
    "print(classification_report(y_true,y_pred,labels = [1, 2, 3, 4, 5, 6, 7, 8, 9, 10, 11, 12, 13, 14, 15, 16, 17, 18, 19]))\n",
    "y_pred = clf.predict(X_train)\n",
    "y_true = trainLabels\n",
    "print(\"Train Data:\")\n",
    "print(\"Accuracy % : \",round(accuracy_score(y_pred = y_pred, y_true=y_true) * 100,2))\n",
    "print(classification_report(y_true,y_pred,labels = [1, 2, 3, 4, 5, 6, 7, 8, 9, 10, 11, 12, 13, 14, 15, 16, 17, 18, 19]))\n",
    "y_pred = clf.predict(X_val)\n",
    "y_true = validationLabels\n",
    "print(\"Validation Data:\")\n",
    "print(\"Accuracy % : \",round(accuracy_score(y_pred = y_pred, y_true=y_true) * 100,2))\n",
    "print(classification_report(y_true,y_pred,labels = [1, 2, 3, 4, 5, 6, 7, 8, 9, 10, 11, 12, 13, 14, 15, 16, 17, 18, 19]))"
   ]
  },
  {
   "cell_type": "code",
   "execution_count": null,
   "metadata": {},
   "outputs": [],
   "source": []
  },
  {
   "cell_type": "code",
   "execution_count": 12,
   "metadata": {},
   "outputs": [
    {
     "name": "stderr",
     "output_type": "stream",
     "text": [
      "/var/folders/gj/mzxgltyj3wb83jl14fkhz8_w0000gn/T/ipykernel_35951/4082746886.py:2: ResourceWarning: unclosed file <_io.BufferedWriter name='finalModelBNB'>\n",
      "  pk.dump(clf,open(filename,'wb'))\n",
      "ResourceWarning: Enable tracemalloc to get the object allocation traceback\n"
     ]
    }
   ],
   "source": [
    "filename = 'finalModelBNB'\n",
    "pk.dump(clf,open(filename,'wb'))"
   ]
  },
  {
   "cell_type": "markdown",
   "metadata": {
    "id": "0J9r1GCFnhNu"
   },
   "source": [
    "## Multinomial"
   ]
  },
  {
   "cell_type": "code",
   "execution_count": null,
   "metadata": {
    "id": "W8uIr5sHd4d_",
    "outputId": "e4fc82c2-fbc2-45cf-c4ab-0b9688134b1f"
   },
   "outputs": [
    {
     "name": "stdout",
     "output_type": "stream",
     "text": [
      "Accuracy:  3.32\n"
     ]
    },
    {
     "ename": "AttributeError",
     "evalue": "'numpy.ndarray' object has no attribute 'todense'",
     "output_type": "error",
     "traceback": [
      "\u001b[0;31m---------------------------------------------------------------------------\u001b[0m\n",
      "\u001b[0;31mAttributeError\u001b[0m                            Traceback (most recent call last)\n",
      "\u001b[0;32m/var/folders/gj/mzxgltyj3wb83jl14fkhz8_w0000gn/T/ipykernel_9414/2022616975.py\u001b[0m in \u001b[0;36m<module>\u001b[0;34m\u001b[0m\n",
      "\u001b[1;32m      5\u001b[0m \u001b[0maccuracy\u001b[0m \u001b[0;34m=\u001b[0m \u001b[0mround\u001b[0m\u001b[0;34m(\u001b[0m\u001b[0maccuracy_score\u001b[0m\u001b[0;34m(\u001b[0m\u001b[0my_pred\u001b[0m \u001b[0;34m=\u001b[0m \u001b[0my_pred\u001b[0m\u001b[0;34m,\u001b[0m \u001b[0my_true\u001b[0m \u001b[0;34m=\u001b[0m \u001b[0my_test\u001b[0m\u001b[0;34m)\u001b[0m \u001b[0;34m*\u001b[0m \u001b[0;36m100\u001b[0m\u001b[0;34m,\u001b[0m\u001b[0;36m2\u001b[0m\u001b[0;34m)\u001b[0m\u001b[0;34m\u001b[0m\u001b[0;34m\u001b[0m\u001b[0m\n",
      "\u001b[1;32m      6\u001b[0m \u001b[0mprint\u001b[0m\u001b[0;34m(\u001b[0m\u001b[0;34m\"Accuracy: \"\u001b[0m\u001b[0;34m,\u001b[0m \u001b[0maccuracy\u001b[0m\u001b[0;34m)\u001b[0m\u001b[0;34m\u001b[0m\u001b[0;34m\u001b[0m\u001b[0m\n",
      "\u001b[0;32m----> 7\u001b[0;31m \u001b[0mclf_mnb\u001b[0m\u001b[0;34m.\u001b[0m\u001b[0mfit\u001b[0m\u001b[0;34m(\u001b[0m\u001b[0mX_train\u001b[0m\u001b[0;34m.\u001b[0m\u001b[0mtodense\u001b[0m\u001b[0;34m(\u001b[0m\u001b[0;34m)\u001b[0m\u001b[0;34m,\u001b[0m \u001b[0my_train\u001b[0m\u001b[0;34m.\u001b[0m\u001b[0mtodense\u001b[0m\u001b[0;34m(\u001b[0m\u001b[0;34m)\u001b[0m\u001b[0;34m)\u001b[0m\u001b[0;34m\u001b[0m\u001b[0;34m\u001b[0m\u001b[0m\n",
      "\u001b[0m\u001b[1;32m      8\u001b[0m \u001b[0my_pred\u001b[0m \u001b[0;34m=\u001b[0m \u001b[0mclf_mnb\u001b[0m\u001b[0;34m.\u001b[0m\u001b[0mpredict\u001b[0m\u001b[0;34m(\u001b[0m\u001b[0mX_test\u001b[0m\u001b[0;34m)\u001b[0m\u001b[0;34m\u001b[0m\u001b[0;34m\u001b[0m\u001b[0m\n",
      "\u001b[1;32m      9\u001b[0m \u001b[0mprint\u001b[0m\u001b[0;34m(\u001b[0m\u001b[0mclassification_report\u001b[0m\u001b[0;34m(\u001b[0m\u001b[0mtestLabels\u001b[0m\u001b[0;34m,\u001b[0m\u001b[0my_pred\u001b[0m\u001b[0;34m,\u001b[0m\u001b[0mlabels\u001b[0m \u001b[0;34m=\u001b[0m \u001b[0;34m[\u001b[0m\u001b[0;36m1\u001b[0m\u001b[0;34m,\u001b[0m \u001b[0;36m2\u001b[0m\u001b[0;34m,\u001b[0m \u001b[0;36m3\u001b[0m\u001b[0;34m,\u001b[0m \u001b[0;36m4\u001b[0m\u001b[0;34m,\u001b[0m \u001b[0;36m5\u001b[0m\u001b[0;34m,\u001b[0m \u001b[0;36m6\u001b[0m\u001b[0;34m,\u001b[0m \u001b[0;36m7\u001b[0m\u001b[0;34m,\u001b[0m \u001b[0;36m8\u001b[0m\u001b[0;34m,\u001b[0m \u001b[0;36m9\u001b[0m\u001b[0;34m,\u001b[0m \u001b[0;36m10\u001b[0m\u001b[0;34m,\u001b[0m \u001b[0;36m11\u001b[0m\u001b[0;34m,\u001b[0m \u001b[0;36m12\u001b[0m\u001b[0;34m,\u001b[0m \u001b[0;36m13\u001b[0m\u001b[0;34m,\u001b[0m \u001b[0;36m14\u001b[0m\u001b[0;34m,\u001b[0m \u001b[0;36m15\u001b[0m\u001b[0;34m,\u001b[0m \u001b[0;36m16\u001b[0m\u001b[0;34m,\u001b[0m \u001b[0;36m17\u001b[0m\u001b[0;34m,\u001b[0m \u001b[0;36m18\u001b[0m\u001b[0;34m,\u001b[0m \u001b[0;36m19\u001b[0m\u001b[0;34m]\u001b[0m\u001b[0;34m)\u001b[0m\u001b[0;34m)\u001b[0m\u001b[0;34m\u001b[0m\u001b[0;34m\u001b[0m\u001b[0m\n",
      "\n",
      "\u001b[0;31mAttributeError\u001b[0m: 'numpy.ndarray' object has no attribute 'todense'"
     ]
    }
   ],
   "source": [
    "\n",
    "# import numpy as np\n",
    "# from sklearn.naive_bayes import MultinomialNB\n",
    "# clf = MultinomialNB()\n",
    "# clf.fit(X_train, y_train)\n",
    "# y_pred = clf.predict(X_test)\n",
    "# y_true = testLabels\n",
    "# print(\"Test Data:\")\n",
    "# accuracy = round(accuracy_score(y_pred = y_pred, y_true = y_true) * 100,2)\n",
    "# print(\"Accuracy % : \",round(accuracy_score(y_pred = y_pred, y_true=y_true) * 100,2))\n",
    "# print(classification_report(y_true,y_pred,labels = [1, 2, 3, 4, 5, 6, 7, 8, 9, 10, 11, 12, 13, 14, 15, 16, 17, 18, 19]))\n",
    "# y_pred = clf.predict(X_train)\n",
    "# y_true = trainLabels\n",
    "# print(\"Train Data:\")\n",
    "# print(\"Accuracy % : \",round(accuracy_score(y_pred = y_pred, y_true=y_true) * 100,2))\n",
    "# print(classification_report(y_true,y_pred,labels = [1, 2, 3, 4, 5, 6, 7, 8, 9, 10, 11, 12, 13, 14, 15, 16, 17, 18, 19]))\n",
    "# y_pred = clf.predict(X_val)\n",
    "# y_true = validationLabels\n",
    "# print(\"Validation Data:\")\n",
    "# print(\"Accuracy % : \",round(accuracy_score(y_pred = y_pred, y_true=y_true) * 100,2))\n",
    "# print(classification_report(y_true,y_pred,labels = [1, 2, 3, 4, 5, 6, 7, 8, 9, 10, 11, 12, 13, 14, 15, 16, 17, 18, 19]))"
   ]
  },
  {
   "cell_type": "code",
   "execution_count": null,
   "metadata": {
    "id": "DQ9DnLojI15B"
   },
   "outputs": [],
   "source": []
  },
  {
   "cell_type": "code",
   "execution_count": null,
   "metadata": {
    "id": "wQvUlgZfvwig"
   },
   "outputs": [],
   "source": [
    "X_train, X_test, y_train, y_test = trainData, testData, trainLabels, testLabels\n"
   ]
  }
 ],
 "metadata": {
  "interpreter": {
   "hash": "aee8b7b246df8f9039afb4144a1f6fd8d2ca17a180786b69acc140d282b71a49"
  },
  "kernelspec": {
   "display_name": "Python 3.9.8 64-bit",
   "language": "python",
   "name": "python3"
  },
  "language_info": {
   "codemirror_mode": {
    "name": "ipython",
    "version": 3
   },
   "file_extension": ".py",
   "mimetype": "text/x-python",
   "name": "python",
   "nbconvert_exporter": "python",
   "pygments_lexer": "ipython3",
   "version": "3.9.8"
  },
  "orig_nbformat": 4
 },
 "nbformat": 4,
 "nbformat_minor": 2
}
