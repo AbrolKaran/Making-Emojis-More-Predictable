{
  "nbformat": 4,
  "nbformat_minor": 0,
  "metadata": {
    "colab": {
      "name": "AdaBoost_emoji.ipynb",
      "provenance": []
    },
    "kernelspec": {
      "name": "python3",
      "display_name": "Python 3"
    },
    "language_info": {
      "name": "python"
    }
  },
  "cells": [
    {
      "cell_type": "code",
      "metadata": {
        "colab": {
          "base_uri": "https://localhost:8080/"
        },
        "id": "bRqNl6G-mPT7",
        "outputId": "68b29eb7-ad2e-49f9-af64-ab03ba0add06"
      },
      "source": [
        "from google.colab import drive\n",
        "drive.mount('/content/drive')"
      ],
      "execution_count": null,
      "outputs": [
        {
          "name": "stdout",
          "output_type": "stream",
          "text": [
            "Mounted at /content/drive\n"
          ]
        }
      ]
    },
    {
      "cell_type": "code",
      "metadata": {
        "colab": {
          "base_uri": "https://localhost:8080/"
        },
        "id": "H7Swf4P8H5xv",
        "outputId": "c6fdfb30-7d8e-4a4f-b28a-927f6cb8e76d"
      },
      "source": [
        "cd drive/MyDrive/NLP_Project"
      ],
      "execution_count": null,
      "outputs": [
        {
          "name": "stdout",
          "output_type": "stream",
          "text": [
            "/content/drive/.shortcut-targets-by-id/1plMjpYu4pyxTZsV33MlYa9xEP127qxWB/NLP_Project\n"
          ]
        }
      ]
    },
    {
      "cell_type": "code",
      "metadata": {
        "id": "6135jyy5IQ2B"
      },
      "source": [
        "# !pip install pandas matplotlib tqdm seaborn sklearn numpy graphviz\n",
        "import pandas as pd\n",
        "import matplotlib.pyplot as plt\n",
        "from tqdm import tqdm\n",
        "import seaborn as sns\n",
        "from sklearn.model_selection import train_test_split\n",
        "from sklearn.tree import DecisionTreeClassifier\n",
        "from sklearn.ensemble import RandomForestClassifier\n",
        "from sklearn.ensemble import AdaBoostClassifier\n",
        "from sklearn.model_selection import GridSearchCV\n",
        "import numpy as np\n",
        "from sklearn.metrics import  recall_score, precision_score, accuracy_score, roc_curve\n",
        "import graphviz"
      ],
      "execution_count": null,
      "outputs": []
    },
    {
      "cell_type": "code",
      "metadata": {
        "id": "wCsgwo7tIvAs"
      },
      "source": [
        "trainData = np.load('fin_t2_train.npy')\n",
        "trainLabels = open('finalTrainLabels.labels', 'r').readlines()\n",
        "testData = np.load('fin_t2_test.npy')\n",
        "testLabels = open('finalTestLabels.labels', 'r').readlines()"
      ],
      "execution_count": null,
      "outputs": []
    },
    {
      "cell_type": "code",
      "metadata": {
        "colab": {
          "base_uri": "https://localhost:8080/"
        },
        "id": "1QjcQGoVGDJB",
        "outputId": "ff4a6bee-c555-4753-a288-9b5baed2bb0b"
      },
      "source": [
        "for i in tqdm(range(len(trainLabels))):\n",
        "    trainLabels[i] = int(trainLabels[i])\n",
        "for i in tqdm(range(len(testLabels))):\n",
        "    testLabels[i] = int(testLabels[i])"
      ],
      "execution_count": null,
      "outputs": [
        {
          "name": "stderr",
          "output_type": "stream",
          "text": [
            "100%|██████████| 69992/69992 [00:00<00:00, 1402630.34it/s]\n",
            "100%|██████████| 20000/20000 [00:00<00:00, 1283093.40it/s]\n"
          ]
        }
      ]
    },
    {
      "cell_type": "code",
      "metadata": {
        "id": "A6A_MlQgJlte"
      },
      "source": [
        "trainLabels = np.array(trainLabels)\n",
        "testLabels = np.array(testLabels)\n",
        "trainLabels = trainLabels.reshape((-1, ))\n",
        "testLabels = testLabels.reshape((-1, ))"
      ],
      "execution_count": null,
      "outputs": []
    },
    {
      "cell_type": "code",
      "metadata": {
        "id": "QyM-1-Y95VDd"
      },
      "source": [
        "import warnings\n",
        "warnings.filterwarnings('always') \n",
        "from sklearn.metrics import classification_report"
      ],
      "execution_count": null,
      "outputs": []
    },
    {
      "cell_type": "code",
      "metadata": {
        "id": "DV-FaEI1fm76"
      },
      "source": [
        ""
      ],
      "execution_count": null,
      "outputs": []
    },
    {
      "cell_type": "markdown",
      "metadata": {
        "id": "yOeyPMrplFYL"
      },
      "source": [
        "### Number of Adaboost Estimators\n"
      ]
    },
    {
      "cell_type": "code",
      "metadata": {
        "colab": {
          "background_save": true,
          "base_uri": "https://localhost:8080/"
        },
        "id": "QfFhxz3ElIC9",
        "outputId": "ded38644-9827-4d49-a7ee-27e26422afeb"
      },
      "source": [
        "accuracy = []\n",
        "predVal = []\n",
        "itr= [50, 150, 250, 350, 450, 550]\n",
        "for i in tqdm(range(len(itr))):\n",
        "    clf = AdaBoostClassifier(algorithm=\"SAMME.R\",n_estimators=itr[i], random_state=0)\n",
        "    clf.fit(trainData, trainLabels)\n",
        "    y_pred = clf.predict(testData)\n",
        "    print(\"Classification report for case: \",itr[i])\n",
        "    print(classification_report(testLabels,y_pred,labels = [1, 2, 3, 4, 5, 6, 7, 8, 9, 10, 11, 12, 13, 14, 15, 16, 17, 18, 19]))\n",
        "    accuracy.append(round(accuracy_score(y_pred = y_pred, y_true = testLabels) * 100,2))\n",
        "    predVal.append(itr[i])\n",
        "\n",
        "\n",
        "plt.plot(predVal, accuracy)\n",
        "plt.xlabel('Num estimators')\n",
        "plt.ylabel('Accuracy')\n",
        "plt.title('Accuracy vs Num estimators')\n",
        "plt.show()"
      ],
      "execution_count": null,
      "outputs": [
        {
          "name": "stderr",
          "output_type": "stream",
          "text": [
            "  0%|          | 0/6 [00:00<?, ?it/s]/usr/local/lib/python3.7/dist-packages/sklearn/metrics/_classification.py:1308: UndefinedMetricWarning: Precision and F-score are ill-defined and being set to 0.0 in labels with no predicted samples. Use `zero_division` parameter to control this behavior.\n",
            "  _warn_prf(average, modifier, msg_start, len(result))\n",
            "/usr/local/lib/python3.7/dist-packages/sklearn/metrics/_classification.py:1308: UndefinedMetricWarning: Precision and F-score are ill-defined and being set to 0.0 in labels with no predicted samples. Use `zero_division` parameter to control this behavior.\n",
            "  _warn_prf(average, modifier, msg_start, len(result))\n",
            "/usr/local/lib/python3.7/dist-packages/sklearn/metrics/_classification.py:1308: UndefinedMetricWarning: Precision and F-score are ill-defined and being set to 0.0 in labels with no predicted samples. Use `zero_division` parameter to control this behavior.\n",
            "  _warn_prf(average, modifier, msg_start, len(result))\n",
            " 17%|█▋        | 1/6 [03:29<17:27, 209.54s/it]"
          ]
        },
        {
          "name": "stdout",
          "output_type": "stream",
          "text": [
            "Classification report for case:  50\n",
            "              precision    recall  f1-score   support\n",
            "\n",
            "           1       0.20      0.00      0.00      2022\n",
            "           2       0.68      0.06      0.12      1955\n",
            "           3       0.35      0.01      0.01      1099\n",
            "           4       0.63      0.14      0.23      1246\n",
            "           5       0.17      0.00      0.00       786\n",
            "           6       0.45      0.04      0.07       809\n",
            "           7       0.39      0.05      0.09       928\n",
            "           8       0.38      0.04      0.07       669\n",
            "           9       0.00      0.00      0.00       569\n",
            "          10       0.20      0.00      0.00       595\n",
            "          11       0.58      0.29      0.38       696\n",
            "          12       0.41      0.24      0.30       546\n",
            "          13       0.37      0.01      0.03       492\n",
            "          14       0.00      0.00      0.00       536\n",
            "          15       0.00      0.00      0.00       498\n",
            "          16       0.22      0.02      0.04       492\n",
            "          17       0.61      0.65      0.63       565\n",
            "          18       0.29      0.03      0.05       740\n",
            "          19       0.00      0.00      0.00       445\n",
            "\n",
            "   micro avg       0.53      0.07      0.13     15688\n",
            "   macro avg       0.31      0.08      0.11     15688\n",
            "weighted avg       0.36      0.07      0.10     15688\n",
            "\n"
          ]
        },
        {
          "name": "stderr",
          "output_type": "stream",
          "text": [
            "/usr/local/lib/python3.7/dist-packages/sklearn/metrics/_classification.py:1308: UndefinedMetricWarning: Precision and F-score are ill-defined and being set to 0.0 in labels with no predicted samples. Use `zero_division` parameter to control this behavior.\n",
            "  _warn_prf(average, modifier, msg_start, len(result))\n",
            "/usr/local/lib/python3.7/dist-packages/sklearn/metrics/_classification.py:1308: UndefinedMetricWarning: Precision and F-score are ill-defined and being set to 0.0 in labels with no predicted samples. Use `zero_division` parameter to control this behavior.\n",
            "  _warn_prf(average, modifier, msg_start, len(result))\n",
            "/usr/local/lib/python3.7/dist-packages/sklearn/metrics/_classification.py:1308: UndefinedMetricWarning: Precision and F-score are ill-defined and being set to 0.0 in labels with no predicted samples. Use `zero_division` parameter to control this behavior.\n",
            "  _warn_prf(average, modifier, msg_start, len(result))\n",
            "\r 33%|███▎      | 2/6 [13:59<30:26, 456.67s/it]"
          ]
        },
        {
          "name": "stdout",
          "output_type": "stream",
          "text": [
            "Classification report for case:  150\n",
            "              precision    recall  f1-score   support\n",
            "\n",
            "           1       0.31      0.00      0.01      2022\n",
            "           2       0.36      0.15      0.21      1955\n",
            "           3       0.33      0.01      0.01      1099\n",
            "           4       0.50      0.21      0.30      1246\n",
            "           5       0.12      0.00      0.01       786\n",
            "           6       0.45      0.05      0.09       809\n",
            "           7       0.42      0.07      0.12       928\n",
            "           8       0.33      0.04      0.07       669\n",
            "           9       0.19      0.01      0.02       569\n",
            "          10       0.08      0.01      0.01       595\n",
            "          11       0.54      0.30      0.39       696\n",
            "          12       0.30      0.41      0.35       546\n",
            "          13       0.37      0.02      0.04       492\n",
            "          14       0.00      0.00      0.00       536\n",
            "          15       0.20      0.06      0.09       498\n",
            "          16       0.21      0.01      0.03       492\n",
            "          17       0.54      0.68      0.60       565\n",
            "          18       0.25      0.05      0.09       740\n",
            "          19       0.10      0.01      0.01       445\n",
            "\n",
            "   micro avg       0.40      0.10      0.16     15688\n",
            "   macro avg       0.30      0.11      0.13     15688\n",
            "weighted avg       0.32      0.10      0.13     15688\n",
            "\n"
          ]
        },
        {
          "name": "stderr",
          "output_type": "stream",
          "text": [
            "\r 50%|█████     | 3/6 [31:24<36:16, 725.60s/it]"
          ]
        },
        {
          "name": "stdout",
          "output_type": "stream",
          "text": [
            "Classification report for case:  250\n",
            "              precision    recall  f1-score   support\n",
            "\n",
            "           1       0.23      0.02      0.04      2022\n",
            "           2       0.31      0.19      0.24      1955\n",
            "           3       0.22      0.01      0.01      1099\n",
            "           4       0.46      0.22      0.30      1246\n",
            "           5       0.09      0.01      0.01       786\n",
            "           6       0.41      0.05      0.09       809\n",
            "           7       0.37      0.08      0.13       928\n",
            "           8       0.33      0.04      0.07       669\n",
            "           9       0.15      0.01      0.02       569\n",
            "          10       0.10      0.01      0.02       595\n",
            "          11       0.54      0.30      0.39       696\n",
            "          12       0.29      0.41      0.34       546\n",
            "          13       0.33      0.02      0.04       492\n",
            "          14       0.12      0.00      0.00       536\n",
            "          15       0.20      0.06      0.09       498\n",
            "          16       0.23      0.01      0.03       492\n",
            "          17       0.56      0.61      0.58       565\n",
            "          18       0.22      0.05      0.08       740\n",
            "          19       0.13      0.01      0.02       445\n",
            "\n",
            "   micro avg       0.36      0.11      0.17     15688\n",
            "   macro avg       0.28      0.11      0.13     15688\n",
            "weighted avg       0.29      0.11      0.14     15688\n",
            "\n"
          ]
        },
        {
          "name": "stderr",
          "output_type": "stream",
          "text": [
            "\r 67%|██████▋   | 4/6 [55:43<33:50, 1015.15s/it]"
          ]
        },
        {
          "name": "stdout",
          "output_type": "stream",
          "text": [
            "Classification report for case:  350\n",
            "              precision    recall  f1-score   support\n",
            "\n",
            "           1       0.23      0.03      0.05      2022\n",
            "           2       0.29      0.20      0.24      1955\n",
            "           3       0.20      0.01      0.01      1099\n",
            "           4       0.45      0.23      0.30      1246\n",
            "           5       0.08      0.01      0.01       786\n",
            "           6       0.39      0.05      0.09       809\n",
            "           7       0.35      0.08      0.13       928\n",
            "           8       0.32      0.04      0.07       669\n",
            "           9       0.19      0.01      0.03       569\n",
            "          10       0.07      0.01      0.01       595\n",
            "          11       0.55      0.30      0.39       696\n",
            "          12       0.27      0.41      0.33       546\n",
            "          13       0.31      0.02      0.04       492\n",
            "          14       0.10      0.00      0.00       536\n",
            "          15       0.21      0.06      0.10       498\n",
            "          16       0.23      0.01      0.03       492\n",
            "          17       0.43      0.62      0.51       565\n",
            "          18       0.22      0.04      0.07       740\n",
            "          19       0.14      0.01      0.02       445\n",
            "\n",
            "   micro avg       0.34      0.11      0.17     15688\n",
            "   macro avg       0.26      0.11      0.13     15688\n",
            "weighted avg       0.27      0.11      0.13     15688\n",
            "\n"
          ]
        },
        {
          "name": "stderr",
          "output_type": "stream",
          "text": [
            "\r 83%|████████▎ | 5/6 [1:26:54<22:03, 1323.50s/it]"
          ]
        },
        {
          "name": "stdout",
          "output_type": "stream",
          "text": [
            "Classification report for case:  450\n",
            "              precision    recall  f1-score   support\n",
            "\n",
            "           1       0.23      0.02      0.04      2022\n",
            "           2       0.30      0.19      0.24      1955\n",
            "           3       0.19      0.01      0.01      1099\n",
            "           4       0.45      0.22      0.29      1246\n",
            "           5       0.07      0.01      0.01       786\n",
            "           6       0.37      0.05      0.09       809\n",
            "           7       0.35      0.08      0.13       928\n",
            "           8       0.31      0.04      0.07       669\n",
            "           9       0.20      0.01      0.03       569\n",
            "          10       0.07      0.01      0.01       595\n",
            "          11       0.55      0.29      0.38       696\n",
            "          12       0.27      0.41      0.33       546\n",
            "          13       0.31      0.02      0.04       492\n",
            "          14       0.08      0.00      0.00       536\n",
            "          15       0.17      0.06      0.09       498\n",
            "          16       0.19      0.01      0.03       492\n",
            "          17       0.27      0.54      0.36       565\n",
            "          18       0.22      0.04      0.07       740\n",
            "          19       0.15      0.01      0.02       445\n",
            "\n",
            "   micro avg       0.31      0.11      0.16     15688\n",
            "   macro avg       0.25      0.11      0.12     15688\n",
            "weighted avg       0.26      0.11      0.13     15688\n",
            "\n"
          ]
        },
        {
          "name": "stderr",
          "output_type": "stream",
          "text": [
            "/usr/local/lib/python3.7/dist-packages/sklearn/metrics/_classification.py:1308: UndefinedMetricWarning: Precision and F-score are ill-defined and being set to 0.0 in labels with no predicted samples. Use `zero_division` parameter to control this behavior.\n",
            "  _warn_prf(average, modifier, msg_start, len(result))\n",
            "/usr/local/lib/python3.7/dist-packages/sklearn/metrics/_classification.py:1308: UndefinedMetricWarning: Precision and F-score are ill-defined and being set to 0.0 in labels with no predicted samples. Use `zero_division` parameter to control this behavior.\n",
            "  _warn_prf(average, modifier, msg_start, len(result))\n",
            "/usr/local/lib/python3.7/dist-packages/sklearn/metrics/_classification.py:1308: UndefinedMetricWarning: Precision and F-score are ill-defined and being set to 0.0 in labels with no predicted samples. Use `zero_division` parameter to control this behavior.\n",
            "  _warn_prf(average, modifier, msg_start, len(result))\n",
            "100%|██████████| 6/6 [2:05:01<00:00, 1250.31s/it]"
          ]
        },
        {
          "name": "stdout",
          "output_type": "stream",
          "text": [
            "Classification report for case:  550\n",
            "              precision    recall  f1-score   support\n",
            "\n",
            "           1       0.17      0.00      0.00      2022\n",
            "           2       0.00      0.00      0.00      1955\n",
            "           3       0.00      0.00      0.00      1099\n",
            "           4       0.00      0.00      0.00      1246\n",
            "           5       0.00      0.00      0.00       786\n",
            "           6       0.10      0.13      0.11       809\n",
            "           7       0.00      0.00      0.00       928\n",
            "           8       0.00      0.00      0.00       669\n",
            "           9       0.00      0.00      0.00       569\n",
            "          10       0.00      0.00      0.00       595\n",
            "          11       0.00      0.00      0.00       696\n",
            "          12       0.00      0.00      0.00       546\n",
            "          13       0.00      0.00      0.00       492\n",
            "          14       0.00      0.00      0.00       536\n",
            "          15       0.00      0.00      0.00       498\n",
            "          16       0.00      0.00      0.00       492\n",
            "          17       0.17      0.69      0.27       565\n",
            "          18       0.22      0.05      0.08       740\n",
            "          19       0.00      0.00      0.00       445\n",
            "\n",
            "   micro avg       0.15      0.03      0.06     15688\n",
            "   macro avg       0.03      0.05      0.03     15688\n",
            "weighted avg       0.04      0.03      0.02     15688\n",
            "\n"
          ]
        },
        {
          "name": "stderr",
          "output_type": "stream",
          "text": [
            "\n"
          ]
        },
        {
          "data": {
            "image/png": "[encoded data removed]",
            "text/plain": [
              "<Figure size 432x288 with 1 Axes>"
            ]
          },
          "metadata": {},
          "output_type": "display_data"
        }
      ]
    },
    {
      "cell_type": "markdown",
      "metadata": {
        "id": "J1BFRUvebBRK"
      },
      "source": [
        "### *Algorithm* - \"SAMME.R\" Better"
      ]
    },
    {
      "cell_type": "code",
      "metadata": {
        "id": "AD1Ww_90mRzf"
      },
      "source": [
        ""
      ],
      "execution_count": null,
      "outputs": []
    },
    {
      "cell_type": "code",
      "metadata": {
        "id": "VmgCogIdd4dv",
        "outputId": "ee6ad446-3bb3-4ac5-f288-0482fb7b1e4f"
      },
      "source": [
        "X_train, X_test, y_train, y_test = trainData, testData, trainLabels, testLabels\n",
        "clf = AdaBoostClassifier(algorithm=\"SAMME\", random_state=0)\n",
        "clf.fit(X_train, y_train)\n",
        "y_pred = clf.predict(X_test)\n",
        "accuracy = round(accuracy_score(y_pred = y_pred, y_true = y_test) * 100,2)\n",
        "print(\"Accuracy: \", accuracy)\n",
        "print(classification_report(testLabels,y_pred,labels = [1, 2, 3, 4, 5, 6, 7, 8, 9, 10, 11, 12, 13, 14, 15, 16, 17, 18, 19]))"
      ],
      "execution_count": null,
      "outputs": [
        {
          "name": "stdout",
          "output_type": "stream",
          "text": [
            "Accuracy:  22.78\n",
            "              precision    recall  f1-score   support\n",
            "\n",
            "           1       0.00      0.00      0.00      2022\n",
            "           2       0.00      0.00      0.00      1955\n",
            "           3       0.00      0.00      0.00      1099\n",
            "           4       1.00      0.00      0.00      1246\n",
            "           5       0.00      0.00      0.00       786\n",
            "           6       0.00      0.00      0.00       809\n",
            "           7       0.00      0.00      0.00       928\n",
            "           8       0.00      0.00      0.00       669\n",
            "           9       0.00      0.00      0.00       569\n",
            "          10       0.00      0.00      0.00       595\n",
            "          11       0.00      0.00      0.00       696\n",
            "          12       0.00      0.00      0.00       546\n",
            "          13       0.00      0.00      0.00       492\n",
            "          14       0.00      0.00      0.00       536\n",
            "          15       0.00      0.00      0.00       498\n",
            "          16       0.00      0.00      0.00       492\n",
            "          17       0.67      0.52      0.59       565\n",
            "          18       0.00      0.00      0.00       740\n",
            "          19       0.00      0.00      0.00       445\n",
            "\n",
            "   micro avg       0.67      0.02      0.04     15688\n",
            "   macro avg       0.09      0.03      0.03     15688\n",
            "weighted avg       0.10      0.02      0.02     15688\n",
            "\n"
          ]
        },
        {
          "name": "stderr",
          "output_type": "stream",
          "text": [
            "/usr/local/lib/python3.9/site-packages/sklearn/metrics/_classification.py:1308: UndefinedMetricWarning: Precision and F-score are ill-defined and being set to 0.0 in labels with no predicted samples. Use `zero_division` parameter to control this behavior.\n",
            "  _warn_prf(average, modifier, msg_start, len(result))\n",
            "/usr/local/lib/python3.9/site-packages/sklearn/metrics/_classification.py:1308: UndefinedMetricWarning: Precision and F-score are ill-defined and being set to 0.0 in labels with no predicted samples. Use `zero_division` parameter to control this behavior.\n",
            "  _warn_prf(average, modifier, msg_start, len(result))\n",
            "/usr/local/lib/python3.9/site-packages/sklearn/metrics/_classification.py:1308: UndefinedMetricWarning: Precision and F-score are ill-defined and being set to 0.0 in labels with no predicted samples. Use `zero_division` parameter to control this behavior.\n",
            "  _warn_prf(average, modifier, msg_start, len(result))\n"
          ]
        }
      ]
    },
    {
      "cell_type": "code",
      "metadata": {
        "id": "YOleKFlTd4dw",
        "outputId": "540fd6b1-1769-43a8-8e15-433907d2d467"
      },
      "source": [
        "X_train, X_test, y_train, y_test = trainData, testData, trainLabels, testLabels\n",
        "clf = AdaBoostClassifier(algorithm=\"SAMME.R\", random_state=0)\n",
        "clf.fit(X_train, y_train)\n",
        "y_pred = clf.predict(X_test)\n",
        "print(classification_report(testLabels,y_pred,labels = [1, 2, 3, 4, 5, 6, 7, 8, 9, 10, 11, 12, 13, 14, 15, 16, 17, 18, 19]))\n"
      ],
      "execution_count": null,
      "outputs": [
        {
          "name": "stdout",
          "output_type": "stream",
          "text": [
            "              precision    recall  f1-score   support\n",
            "\n",
            "           1       0.20      0.00      0.00      2022\n",
            "           2       0.68      0.06      0.12      1955\n",
            "           3       0.35      0.01      0.01      1099\n",
            "           4       0.63      0.14      0.23      1246\n",
            "           5       0.17      0.00      0.00       786\n",
            "           6       0.45      0.04      0.07       809\n",
            "           7       0.39      0.05      0.09       928\n",
            "           8       0.38      0.04      0.07       669\n",
            "           9       0.00      0.00      0.00       569\n",
            "          10       0.20      0.00      0.00       595\n",
            "          11       0.58      0.29      0.38       696\n",
            "          12       0.41      0.24      0.30       546\n",
            "          13       0.37      0.01      0.03       492\n",
            "          14       0.00      0.00      0.00       536\n",
            "          15       0.00      0.00      0.00       498\n",
            "          16       0.22      0.02      0.04       492\n",
            "          17       0.61      0.65      0.63       565\n",
            "          18       0.29      0.03      0.05       740\n",
            "          19       0.00      0.00      0.00       445\n",
            "\n",
            "   micro avg       0.53      0.07      0.13     15688\n",
            "   macro avg       0.31      0.08      0.11     15688\n",
            "weighted avg       0.36      0.07      0.10     15688\n",
            "\n"
          ]
        },
        {
          "name": "stderr",
          "output_type": "stream",
          "text": [
            "/usr/local/lib/python3.9/site-packages/sklearn/metrics/_classification.py:1308: UndefinedMetricWarning: Precision and F-score are ill-defined and being set to 0.0 in labels with no predicted samples. Use `zero_division` parameter to control this behavior.\n",
            "  _warn_prf(average, modifier, msg_start, len(result))\n",
            "/usr/local/lib/python3.9/site-packages/sklearn/metrics/_classification.py:1308: UndefinedMetricWarning: Precision and F-score are ill-defined and being set to 0.0 in labels with no predicted samples. Use `zero_division` parameter to control this behavior.\n",
            "  _warn_prf(average, modifier, msg_start, len(result))\n",
            "/usr/local/lib/python3.9/site-packages/sklearn/metrics/_classification.py:1308: UndefinedMetricWarning: Precision and F-score are ill-defined and being set to 0.0 in labels with no predicted samples. Use `zero_division` parameter to control this behavior.\n",
            "  _warn_prf(average, modifier, msg_start, len(result))\n"
          ]
        }
      ]
    },
    {
      "cell_type": "code",
      "metadata": {
        "id": "N8aN4l18d4dw",
        "outputId": "289f068c-f085-432e-b3d5-3a4d50d135cc"
      },
      "source": [
        "accuracy = round(accuracy_score(y_pred = y_pred, y_true = y_test) * 100,2)\n",
        "print(\"Accuracy: \", accuracy)"
      ],
      "execution_count": null,
      "outputs": [
        {
          "name": "stdout",
          "output_type": "stream",
          "text": [
            "Accuracy:  26.12\n"
          ]
        }
      ]
    },
    {
      "cell_type": "markdown",
      "metadata": {
        "id": "vO1xwQMynOnC"
      },
      "source": [
        "# Naive Bayes\n"
      ]
    },
    {
      "cell_type": "markdown",
      "metadata": {
        "id": "13pLC5g7nUJO"
      },
      "source": [
        "### Gaussian - Better"
      ]
    },
    {
      "cell_type": "code",
      "metadata": {
        "id": "eSVyYN35d4d_",
        "outputId": "7b5add08-2107-4166-ccd6-d2c5237283e8"
      },
      "source": [
        "from sklearn.naive_bayes import GaussianNB\n",
        "clf_mnb = GaussianNB()\n",
        "accuracy = round(accuracy_score(y_pred = y_pred, y_true = y_test) * 100,2)\n",
        "print(\"Accuracy: \", accuracy)\n",
        "clf_mnb.fit(X_train, y_train)\n",
        "y_pred = clf_mnb.predict(X_test)\n",
        "print(classification_report(testLabels,y_pred,labels = [1, 2, 3, 4, 5, 6, 7, 8, 9, 10, 11, 12, 13, 14, 15, 16, 17, 18, 19]))"
      ],
      "execution_count": null,
      "outputs": [
        {
          "name": "stdout",
          "output_type": "stream",
          "text": [
            "Accuracy:  22.78\n",
            "              precision    recall  f1-score   support\n",
            "\n",
            "           1       0.00      0.00      0.00      2022\n",
            "           2       0.43      0.00      0.00      1955\n",
            "           3       0.00      0.00      0.00      1099\n",
            "           4       0.37      0.01      0.02      1246\n",
            "           5       0.00      0.00      0.00       786\n",
            "           6       0.20      0.00      0.01       809\n",
            "           7       0.14      0.00      0.00       928\n",
            "           8       0.06      0.01      0.02       669\n",
            "           9       0.07      0.04      0.05       569\n",
            "          10       0.06      0.05      0.05       595\n",
            "          11       0.10      0.44      0.16       696\n",
            "          12       0.09      0.46      0.15       546\n",
            "          13       0.05      0.06      0.06       492\n",
            "          14       0.00      0.00      0.00       536\n",
            "          15       0.04      0.68      0.07       498\n",
            "          16       0.04      0.02      0.03       492\n",
            "          17       0.17      0.54      0.26       565\n",
            "          18       0.07      0.05      0.06       740\n",
            "          19       0.04      0.10      0.06       445\n",
            "\n",
            "   micro avg       0.07      0.09      0.08     15688\n",
            "   macro avg       0.10      0.13      0.05     15688\n",
            "weighted avg       0.13      0.09      0.04     15688\n",
            "\n"
          ]
        }
      ]
    },
    {
      "cell_type": "markdown",
      "metadata": {
        "id": "vBGw25QQndDk"
      },
      "source": [
        "### Bernoulli"
      ]
    },
    {
      "cell_type": "code",
      "metadata": {
        "id": "0cbQ_Tndd4d_",
        "outputId": "d9212cd4-e54c-4891-dae0-f0f508220908"
      },
      "source": [
        "from sklearn.naive_bayes import BernoulliNB\n",
        "clf_mnb = BernoulliNB()\n",
        "accuracy = round(accuracy_score(y_pred = y_pred, y_true = y_test) * 100,2)\n",
        "print(\"Accuracy: \", accuracy)\n",
        "clf_mnb.fit(X_train, y_train)\n",
        "y_pred = clf_mnb.predict(X_test)\n",
        "print(classification_report(testLabels,y_pred,labels = [1, 2, 3, 4, 5, 6, 7, 8, 9, 10, 11, 12, 13, 14, 15, 16, 17, 18, 19]))"
      ],
      "execution_count": null,
      "outputs": [
        {
          "name": "stdout",
          "output_type": "stream",
          "text": [
            "Accuracy:  7.0\n",
            "              precision    recall  f1-score   support\n",
            "\n",
            "           1       0.00      0.00      0.00      2022\n",
            "           2       0.00      0.00      0.00      1955\n",
            "           3       0.00      0.00      0.00      1099\n",
            "           4       0.00      0.00      0.00      1246\n",
            "           5       0.00      0.00      0.00       786\n",
            "           6       0.00      0.00      0.00       809\n",
            "           7       0.00      0.00      0.00       928\n",
            "           8       0.00      0.00      0.00       669\n",
            "           9       0.07      0.00      0.00       569\n",
            "          10       0.00      0.00      0.00       595\n",
            "          11       0.52      0.08      0.15       696\n",
            "          12       0.40      0.03      0.06       546\n",
            "          13       0.04      0.01      0.01       492\n",
            "          14       0.00      0.00      0.00       536\n",
            "          15       0.03      0.97      0.05       498\n",
            "          16       0.01      0.00      0.00       492\n",
            "          17       0.69      0.12      0.20       565\n",
            "          18       0.00      0.00      0.00       740\n",
            "          19       0.03      0.06      0.04       445\n",
            "\n",
            "   micro avg       0.03      0.04      0.04     15688\n",
            "   macro avg       0.09      0.07      0.03     15688\n",
            "weighted avg       0.07      0.04      0.02     15688\n",
            "\n"
          ]
        },
        {
          "name": "stderr",
          "output_type": "stream",
          "text": [
            "/usr/local/lib/python3.9/site-packages/sklearn/metrics/_classification.py:1308: UndefinedMetricWarning: Precision and F-score are ill-defined and being set to 0.0 in labels with no predicted samples. Use `zero_division` parameter to control this behavior.\n",
            "  _warn_prf(average, modifier, msg_start, len(result))\n",
            "/usr/local/lib/python3.9/site-packages/sklearn/metrics/_classification.py:1308: UndefinedMetricWarning: Precision and F-score are ill-defined and being set to 0.0 in labels with no predicted samples. Use `zero_division` parameter to control this behavior.\n",
            "  _warn_prf(average, modifier, msg_start, len(result))\n",
            "/usr/local/lib/python3.9/site-packages/sklearn/metrics/_classification.py:1308: UndefinedMetricWarning: Precision and F-score are ill-defined and being set to 0.0 in labels with no predicted samples. Use `zero_division` parameter to control this behavior.\n",
            "  _warn_prf(average, modifier, msg_start, len(result))\n"
          ]
        }
      ]
    },
    {
      "cell_type": "markdown",
      "metadata": {
        "id": "0J9r1GCFnhNu"
      },
      "source": [
        "### Multinomial"
      ]
    },
    {
      "cell_type": "code",
      "metadata": {
        "id": "W8uIr5sHd4d_",
        "outputId": "e4fc82c2-fbc2-45cf-c4ab-0b9688134b1f"
      },
      "source": [
        "# .np.todense()\n",
        "import numpy as np\n",
        "from sklearn.naive_bayes import MultinomialNB\n",
        "clf_mnb = MultinomialNB()\n",
        "accuracy = round(accuracy_score(y_pred = y_pred, y_true = y_test) * 100,2)\n",
        "print(\"Accuracy: \", accuracy)\n",
        "clf_mnb.fit(X_train.todense(), y_train.todense())\n",
        "y_pred = clf_mnb.predict(X_test)\n",
        "print(classification_report(testLabels,y_pred,labels = [1, 2, 3, 4, 5, 6, 7, 8, 9, 10, 11, 12, 13, 14, 15, 16, 17, 18, 19]))"
      ],
      "execution_count": null,
      "outputs": [
        {
          "name": "stdout",
          "output_type": "stream",
          "text": [
            "Accuracy:  3.32\n"
          ]
        },
        {
          "ename": "AttributeError",
          "evalue": "'numpy.ndarray' object has no attribute 'todense'",
          "output_type": "error",
          "traceback": [
            "\u001b[0;31m---------------------------------------------------------------------------\u001b[0m",
            "\u001b[0;31mAttributeError\u001b[0m                            Traceback (most recent call last)",
            "\u001b[0;32m/var/folders/gj/mzxgltyj3wb83jl14fkhz8_w0000gn/T/ipykernel_9414/2022616975.py\u001b[0m in \u001b[0;36m<module>\u001b[0;34m\u001b[0m\n\u001b[1;32m      5\u001b[0m \u001b[0maccuracy\u001b[0m \u001b[0;34m=\u001b[0m \u001b[0mround\u001b[0m\u001b[0;34m(\u001b[0m\u001b[0maccuracy_score\u001b[0m\u001b[0;34m(\u001b[0m\u001b[0my_pred\u001b[0m \u001b[0;34m=\u001b[0m \u001b[0my_pred\u001b[0m\u001b[0;34m,\u001b[0m \u001b[0my_true\u001b[0m \u001b[0;34m=\u001b[0m \u001b[0my_test\u001b[0m\u001b[0;34m)\u001b[0m \u001b[0;34m*\u001b[0m \u001b[0;36m100\u001b[0m\u001b[0;34m,\u001b[0m\u001b[0;36m2\u001b[0m\u001b[0;34m)\u001b[0m\u001b[0;34m\u001b[0m\u001b[0;34m\u001b[0m\u001b[0m\n\u001b[1;32m      6\u001b[0m \u001b[0mprint\u001b[0m\u001b[0;34m(\u001b[0m\u001b[0;34m\"Accuracy: \"\u001b[0m\u001b[0;34m,\u001b[0m \u001b[0maccuracy\u001b[0m\u001b[0;34m)\u001b[0m\u001b[0;34m\u001b[0m\u001b[0;34m\u001b[0m\u001b[0m\n\u001b[0;32m----> 7\u001b[0;31m \u001b[0mclf_mnb\u001b[0m\u001b[0;34m.\u001b[0m\u001b[0mfit\u001b[0m\u001b[0;34m(\u001b[0m\u001b[0mX_train\u001b[0m\u001b[0;34m.\u001b[0m\u001b[0mtodense\u001b[0m\u001b[0;34m(\u001b[0m\u001b[0;34m)\u001b[0m\u001b[0;34m,\u001b[0m \u001b[0my_train\u001b[0m\u001b[0;34m.\u001b[0m\u001b[0mtodense\u001b[0m\u001b[0;34m(\u001b[0m\u001b[0;34m)\u001b[0m\u001b[0;34m)\u001b[0m\u001b[0;34m\u001b[0m\u001b[0;34m\u001b[0m\u001b[0m\n\u001b[0m\u001b[1;32m      8\u001b[0m \u001b[0my_pred\u001b[0m \u001b[0;34m=\u001b[0m \u001b[0mclf_mnb\u001b[0m\u001b[0;34m.\u001b[0m\u001b[0mpredict\u001b[0m\u001b[0;34m(\u001b[0m\u001b[0mX_test\u001b[0m\u001b[0;34m)\u001b[0m\u001b[0;34m\u001b[0m\u001b[0;34m\u001b[0m\u001b[0m\n\u001b[1;32m      9\u001b[0m \u001b[0mprint\u001b[0m\u001b[0;34m(\u001b[0m\u001b[0mclassification_report\u001b[0m\u001b[0;34m(\u001b[0m\u001b[0mtestLabels\u001b[0m\u001b[0;34m,\u001b[0m\u001b[0my_pred\u001b[0m\u001b[0;34m,\u001b[0m\u001b[0mlabels\u001b[0m \u001b[0;34m=\u001b[0m \u001b[0;34m[\u001b[0m\u001b[0;36m1\u001b[0m\u001b[0;34m,\u001b[0m \u001b[0;36m2\u001b[0m\u001b[0;34m,\u001b[0m \u001b[0;36m3\u001b[0m\u001b[0;34m,\u001b[0m \u001b[0;36m4\u001b[0m\u001b[0;34m,\u001b[0m \u001b[0;36m5\u001b[0m\u001b[0;34m,\u001b[0m \u001b[0;36m6\u001b[0m\u001b[0;34m,\u001b[0m \u001b[0;36m7\u001b[0m\u001b[0;34m,\u001b[0m \u001b[0;36m8\u001b[0m\u001b[0;34m,\u001b[0m \u001b[0;36m9\u001b[0m\u001b[0;34m,\u001b[0m \u001b[0;36m10\u001b[0m\u001b[0;34m,\u001b[0m \u001b[0;36m11\u001b[0m\u001b[0;34m,\u001b[0m \u001b[0;36m12\u001b[0m\u001b[0;34m,\u001b[0m \u001b[0;36m13\u001b[0m\u001b[0;34m,\u001b[0m \u001b[0;36m14\u001b[0m\u001b[0;34m,\u001b[0m \u001b[0;36m15\u001b[0m\u001b[0;34m,\u001b[0m \u001b[0;36m16\u001b[0m\u001b[0;34m,\u001b[0m \u001b[0;36m17\u001b[0m\u001b[0;34m,\u001b[0m \u001b[0;36m18\u001b[0m\u001b[0;34m,\u001b[0m \u001b[0;36m19\u001b[0m\u001b[0;34m]\u001b[0m\u001b[0;34m)\u001b[0m\u001b[0;34m)\u001b[0m\u001b[0;34m\u001b[0m\u001b[0;34m\u001b[0m\u001b[0m\n",
            "\u001b[0;31mAttributeError\u001b[0m: 'numpy.ndarray' object has no attribute 'todense'"
          ]
        }
      ]
    },
    {
      "cell_type": "code",
      "metadata": {
        "id": "DQ9DnLojI15B"
      },
      "source": [
        ""
      ],
      "execution_count": null,
      "outputs": []
    },
    {
      "cell_type": "code",
      "metadata": {
        "id": "wQvUlgZfvwig"
      },
      "source": [
        "X_train, X_test, y_train, y_test = trainData, testData, trainLabels, testLabels\n"
      ],
      "execution_count": null,
      "outputs": []
    }
  ]
}