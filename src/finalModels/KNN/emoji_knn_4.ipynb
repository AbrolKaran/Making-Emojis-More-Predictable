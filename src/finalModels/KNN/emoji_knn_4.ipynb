{
  "nbformat": 4,
  "nbformat_minor": 0,
  "metadata": {
    "colab": {
      "name": "emoji_knn_4.ipynb",
      "provenance": []
    },
    "kernelspec": {
      "name": "python3",
      "display_name": "Python 3"
    },
    "language_info": {
      "name": "python"
    },
    "accelerator": "GPU"
  },
  "cells": [
    {
      "cell_type": "code",
      "metadata": {
        "colab": {
          "base_uri": "https://localhost:8080/"
        },
        "id": "a2N6c2Ak6err",
        "outputId": "5715b227-220e-48f5-96c8-471213e5a207"
      },
      "source": [
        "from google.colab import drive\n",
        "drive.mount('/content/drive')"
      ],
      "execution_count": 2,
      "outputs": [
        {
          "output_type": "stream",
          "name": "stdout",
          "text": [
            "Drive already mounted at /content/drive; to attempt to forcibly remount, call drive.mount(\"/content/drive\", force_remount=True).\n"
          ]
        }
      ]
    },
    {
      "cell_type": "code",
      "metadata": {
        "colab": {
          "base_uri": "https://localhost:8080/"
        },
        "id": "XzteME_76g2G",
        "outputId": "bd43ee8e-3702-456c-93a5-98b1911358ac"
      },
      "source": [
        "cd drive/MyDrive/NLP"
      ],
      "execution_count": 3,
      "outputs": [
        {
          "output_type": "stream",
          "name": "stdout",
          "text": [
            "/content/drive/.shortcut-targets-by-id/1plMjpYu4pyxTZsV33MlYa9xEP127qxWB/NLP_Project\n"
          ]
        }
      ]
    },
    {
      "cell_type": "code",
      "metadata": {
        "id": "jB6QxtIC6ibd"
      },
      "source": [
        "import numpy as np\n",
        "import pandas as pd\n",
        "from tqdm import tqdm"
      ],
      "execution_count": 4,
      "outputs": []
    },
    {
      "cell_type": "code",
      "metadata": {
        "colab": {
          "base_uri": "https://localhost:8080/"
        },
        "id": "dl-eDE2U6kGc",
        "outputId": "1c15a7bb-d075-4e54-8bde-27bbc662dc8d"
      },
      "source": [
        "trainData = np.load('fin_t2_train.npy')\n",
        "trainLabels = open('finalTrainLabels.labels', 'r').readlines()\n",
        "testData = np.load('fin_t2_test.npy')\n",
        "testLabels = open('finalTestLabels.labels', 'r').readlines()\n",
        "for i in tqdm(range(len(trainLabels))):\n",
        "    trainLabels[i] = int(trainLabels[i])\n",
        "for i in tqdm(range(len(testLabels))):\n",
        "    testLabels[i] = int(testLabels[i])\n",
        "trainLabels = np.array(trainLabels)\n",
        "testLabels = np.array(testLabels)\n",
        "trainLabels = trainLabels.reshape((-1, ))\n",
        "testLabels = testLabels.reshape((-1, ))"
      ],
      "execution_count": 5,
      "outputs": [
        {
          "output_type": "stream",
          "name": "stderr",
          "text": [
            "100%|██████████| 69992/69992 [00:00<00:00, 1509710.45it/s]\n",
            "100%|██████████| 20000/20000 [00:00<00:00, 1545916.74it/s]\n"
          ]
        }
      ]
    },
    {
      "cell_type": "code",
      "metadata": {
        "id": "82ZAq2M-6pds"
      },
      "source": [
        "from sklearn.neighbors import KNeighborsClassifier"
      ],
      "execution_count": 6,
      "outputs": []
    },
    {
      "cell_type": "code",
      "metadata": {
        "id": "pP6tnXoy6q2m"
      },
      "source": [
        "nbrs = [1, 3, 5, 7, 9]\n",
        "weights = ['distance', 'uniform']\n",
        "algorithm = ['auto']\n",
        "nbr = 7"
      ],
      "execution_count": 8,
      "outputs": []
    },
    {
      "cell_type": "code",
      "metadata": {
        "colab": {
          "base_uri": "https://localhost:8080/"
        },
        "id": "vcLo1iFE6sX1",
        "outputId": "5e137c01-f47c-43b6-b69e-bc97e9fcce8a"
      },
      "source": [
        "for i in tqdm(range(len(algorithm))):\n",
        "    algo = algorithm[i]\n",
        "    for wt in weights:\n",
        "        neigh = KNeighborsClassifier(n_neighbors=nbr, weights=wt, algorithm=algo)\n",
        "        neigh.fit(trainData, trainLabels)\n",
        "        print(nbr, wt, algo, neigh.score(testData, testLabels))"
      ],
      "execution_count": 9,
      "outputs": [
        {
          "output_type": "stream",
          "name": "stderr",
          "text": [
            "\r  0%|          | 0/1 [00:00<?, ?it/s]"
          ]
        },
        {
          "output_type": "stream",
          "name": "stdout",
          "text": [
            "7 distance auto 0.19325\n"
          ]
        },
        {
          "output_type": "stream",
          "name": "stderr",
          "text": [
            "100%|██████████| 1/1 [06:47<00:00, 407.34s/it]"
          ]
        },
        {
          "output_type": "stream",
          "name": "stdout",
          "text": [
            "7 uniform auto 0.19285\n"
          ]
        },
        {
          "output_type": "stream",
          "name": "stderr",
          "text": [
            "\n"
          ]
        }
      ]
    },
    {
      "cell_type": "code",
      "metadata": {
        "id": "QS86UhoR610-"
      },
      "source": [
        ""
      ],
      "execution_count": null,
      "outputs": []
    }
  ]
}