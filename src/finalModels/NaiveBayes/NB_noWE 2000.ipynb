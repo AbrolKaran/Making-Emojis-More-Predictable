{
 "cells": [
  {
   "cell_type": "markdown",
   "metadata": {
    "id": "vO1xwQMynOnC"
   },
   "source": [
    "# Naive Bayes w/o WE\n"
   ]
  },
  {
   "cell_type": "markdown",
   "metadata": {},
   "source": [
    "## Preprocessing "
   ]
  },
  {
   "cell_type": "code",
   "execution_count": 1,
   "metadata": {
    "colab": {
     "base_uri": "https://localhost:8080/"
    },
    "id": "bRqNl6G-mPT7",
    "outputId": "68b29eb7-ad2e-49f9-af64-ab03ba0add06"
   },
   "outputs": [],
   "source": [
    "# from google.colab import drive\n",
    "# drive.mount('/content/drive')"
   ]
  },
  {
   "cell_type": "code",
   "execution_count": 2,
   "metadata": {
    "colab": {
     "base_uri": "https://localhost:8080/"
    },
    "id": "H7Swf4P8H5xv",
    "outputId": "c6fdfb30-7d8e-4a4f-b28a-927f6cb8e76d"
   },
   "outputs": [],
   "source": [
    "# cd drive/MyDrive/NLP_Project"
   ]
  },
  {
   "cell_type": "code",
   "execution_count": 1,
   "metadata": {
    "id": "6135jyy5IQ2B"
   },
   "outputs": [],
   "source": [
    "# !pip install pandas matplotlib tqdm seaborn sklearn numpy graphviz\n",
    "import pandas as pd\n",
    "import matplotlib.pyplot as plt\n",
    "from tqdm import tqdm\n",
    "import seaborn as sns\n",
    "from sklearn.model_selection import train_test_split\n",
    "from sklearn.tree import DecisionTreeClassifier\n",
    "from sklearn.ensemble import RandomForestClassifier\n",
    "from sklearn.ensemble import AdaBoostClassifier\n",
    "from sklearn.model_selection import GridSearchCV\n",
    "import numpy as np\n",
    "import warnings\n",
    "warnings.filterwarnings('always') \n",
    "from sklearn.metrics import classification_report\n",
    "from sklearn.metrics import accuracy_score\n",
    "import pickle as pk"
   ]
  },
  {
   "cell_type": "code",
   "execution_count": 5,
   "metadata": {
    "id": "wCsgwo7tIvAs"
   },
   "outputs": [
    {
     "name": "stderr",
     "output_type": "stream",
     "text": [
      "/var/folders/gj/mzxgltyj3wb83jl14fkhz8_w0000gn/T/ipykernel_93305/667481205.py:2: ResourceWarning: unclosed file <_io.TextIOWrapper name='finalTrainLabels.labels' mode='r' encoding='UTF-8'>\n",
      "  trainLabels = open('finalTrainLabels.labels', 'r').readlines()\n",
      "ResourceWarning: Enable tracemalloc to get the object allocation traceback\n",
      "/var/folders/gj/mzxgltyj3wb83jl14fkhz8_w0000gn/T/ipykernel_93305/667481205.py:4: ResourceWarning: unclosed file <_io.TextIOWrapper name='finalTestLabels.labels' mode='r' encoding='UTF-8'>\n",
      "  testLabels = open('finalTestLabels.labels', 'r').readlines()\n",
      "ResourceWarning: Enable tracemalloc to get the object allocation traceback\n",
      "/var/folders/gj/mzxgltyj3wb83jl14fkhz8_w0000gn/T/ipykernel_93305/667481205.py:6: ResourceWarning: unclosed file <_io.TextIOWrapper name='finalDevLabels.labels' mode='r' encoding='UTF-8'>\n",
      "  validationLabels = open('finalDevLabels.labels', 'r').readlines()\n",
      "ResourceWarning: Enable tracemalloc to get the object allocation traceback\n"
     ]
    }
   ],
   "source": [
    "trainData = np.load('../../../dataFinal/npy_files/noWE_t2_train.npy')\n",
    "trainLabels = open('../../../dataFinal/finalTrainLabels.labels', 'r').readlines()\n",
    "testData = np.load('../../../dataFinal/npy_files/noWE_t2_test.npy')\n",
    "testLabels = open('../../../dataFinal/finalTestLabels.labels', 'r').readlines()\n",
    "validationData = np.load('../../../dataFinal/npy_files/noWE_t2_trial.npy')\n",
    "validationLabels = open('../../../dataFinal/finalDevLabels.labels', 'r').readlines()"
   ]
  },
  {
   "cell_type": "code",
   "execution_count": 6,
   "metadata": {
    "colab": {
     "base_uri": "https://localhost:8080/"
    },
    "id": "1QjcQGoVGDJB",
    "outputId": "ff4a6bee-c555-4753-a288-9b5baed2bb0b"
   },
   "outputs": [
    {
     "name": "stderr",
     "output_type": "stream",
     "text": [
      "100%|██████████| 69992/69992 [00:00<00:00, 1312087.30it/s]\n",
      "100%|██████████| 20000/20000 [00:00<00:00, 1342843.33it/s]\n",
      "100%|██████████| 10008/10008 [00:00<00:00, 1345748.73it/s]\n"
     ]
    }
   ],
   "source": [
    "for i in tqdm(range(len(trainLabels))):\n",
    "    trainLabels[i] = int(trainLabels[i])\n",
    "for i in tqdm(range(len(testLabels))):\n",
    "    testLabels[i] = int(testLabels[i])\n",
    "for i in tqdm(range(len(validationLabels))):\n",
    "    validationLabels[i] = int(validationLabels[i])"
   ]
  },
  {
   "cell_type": "code",
   "execution_count": 7,
   "metadata": {
    "id": "A6A_MlQgJlte"
   },
   "outputs": [],
   "source": [
    "trainLabels = np.array(trainLabels)\n",
    "testLabels = np.array(testLabels)\n",
    "validationLabels = np.array(validationLabels)\n",
    "trainLabels = trainLabels.reshape((-1, ))\n",
    "testLabels = testLabels.reshape((-1, ))\n",
    "validationLabels = validationLabels.reshape((-1, ))\n",
    "X_train, X_test, y_train, y_test, X_val, y_val = trainData, testData, trainLabels, testLabels, validationData, validationLabels"
   ]
  },
  {
   "cell_type": "markdown",
   "metadata": {
    "id": "13pLC5g7nUJO"
   },
   "source": [
    "## Gaussian - Better"
   ]
  },
  {
   "cell_type": "code",
   "execution_count": 8,
   "metadata": {
    "id": "eSVyYN35d4d_",
    "outputId": "7b5add08-2107-4166-ccd6-d2c5237283e8"
   },
   "outputs": [
    {
     "name": "stdout",
     "output_type": "stream",
     "text": [
      "Test Data:\n",
      "Accuracy % :  6.62\n",
      "              precision    recall  f1-score   support\n",
      "\n",
      "           1       0.00      0.00      0.00      2022\n",
      "           2       0.75      0.00      0.00      1955\n",
      "           3       0.00      0.00      0.00      1099\n",
      "           4       0.60      0.00      0.01      1246\n",
      "           5       0.00      0.00      0.00       786\n",
      "           6       0.38      0.00      0.01       809\n",
      "           7       0.15      0.00      0.00       928\n",
      "           8       0.06      0.01      0.02       669\n",
      "           9       0.06      0.05      0.05       569\n",
      "          10       0.07      0.06      0.06       595\n",
      "          11       0.18      0.27      0.22       696\n",
      "          12       0.07      0.65      0.13       546\n",
      "          13       0.05      0.08      0.06       492\n",
      "          14       0.01      0.00      0.00       536\n",
      "          15       0.05      0.37      0.09       498\n",
      "          16       0.05      0.04      0.04       492\n",
      "          17       0.06      0.70      0.11       565\n",
      "          18       0.07      0.02      0.03       740\n",
      "          19       0.03      0.11      0.05       445\n",
      "\n",
      "   micro avg       0.07      0.08      0.07     15688\n",
      "   macro avg       0.14      0.12      0.05     15688\n",
      "weighted avg       0.20      0.08      0.03     15688\n",
      "\n",
      "Train Data:\n",
      "Accuracy % :  9.63\n",
      "              precision    recall  f1-score   support\n",
      "\n",
      "           1       0.20      0.00      0.00      7076\n",
      "           2       0.50      0.00      0.00      6842\n",
      "           3       0.25      0.00      0.00      3842\n",
      "           4       0.61      0.01      0.01      4363\n",
      "           5       0.08      0.00      0.00      2751\n",
      "           6       0.21      0.00      0.00      2831\n",
      "           7       0.48      0.01      0.01      3250\n",
      "           8       0.14      0.02      0.03      2341\n",
      "           9       0.13      0.09      0.11      1992\n",
      "          10       0.13      0.11      0.12      2083\n",
      "          11       0.23      0.38      0.29      2433\n",
      "          12       0.09      0.80      0.17      1908\n",
      "          13       0.09      0.15      0.11      1722\n",
      "          14       0.15      0.02      0.03      1878\n",
      "          15       0.07      0.58      0.13      1745\n",
      "          16       0.10      0.08      0.09      1721\n",
      "          17       0.08      0.95      0.15      1976\n",
      "          18       0.18      0.05      0.08      2592\n",
      "          19       0.07      0.22      0.11      1556\n",
      "\n",
      "   micro avg       0.10      0.12      0.11     54902\n",
      "   macro avg       0.20      0.18      0.08     54902\n",
      "weighted avg       0.25      0.12      0.05     54902\n",
      "\n",
      "Validation Data:\n",
      "Accuracy % :  6.52\n",
      "              precision    recall  f1-score   support\n",
      "\n",
      "           1       0.00      0.00      0.00      1011\n",
      "           2       0.00      0.00      0.00       978\n",
      "           3       0.00      0.00      0.00       549\n",
      "           4       0.38      0.00      0.01       624\n",
      "           5       0.00      0.00      0.00       393\n",
      "           6       0.00      0.00      0.00       405\n",
      "           7       0.30      0.01      0.01       465\n",
      "           8       0.04      0.01      0.01       335\n",
      "           9       0.11      0.08      0.09       285\n",
      "          10       0.11      0.09      0.10       298\n",
      "          11       0.18      0.26      0.21       348\n",
      "          12       0.07      0.60      0.13       273\n",
      "          13       0.03      0.04      0.03       246\n",
      "          14       0.05      0.01      0.01       269\n",
      "          15       0.04      0.32      0.08       250\n",
      "          16       0.05      0.04      0.04       246\n",
      "          17       0.06      0.71      0.11       283\n",
      "          18       0.11      0.03      0.05       371\n",
      "          19       0.04      0.11      0.06       223\n",
      "\n",
      "   micro avg       0.07      0.08      0.07      7852\n",
      "   macro avg       0.08      0.12      0.05      7852\n",
      "weighted avg       0.08      0.08      0.04      7852\n",
      "\n"
     ]
    },
    {
     "name": "stderr",
     "output_type": "stream",
     "text": [
      "/usr/local/lib/python3.9/site-packages/sklearn/metrics/_classification.py:1308: UndefinedMetricWarning: Precision and F-score are ill-defined and being set to 0.0 in labels with no predicted samples. Use `zero_division` parameter to control this behavior.\n",
      "  _warn_prf(average, modifier, msg_start, len(result))\n",
      "/usr/local/lib/python3.9/site-packages/sklearn/metrics/_classification.py:1308: UndefinedMetricWarning: Precision and F-score are ill-defined and being set to 0.0 in labels with no predicted samples. Use `zero_division` parameter to control this behavior.\n",
      "  _warn_prf(average, modifier, msg_start, len(result))\n",
      "/usr/local/lib/python3.9/site-packages/sklearn/metrics/_classification.py:1308: UndefinedMetricWarning: Precision and F-score are ill-defined and being set to 0.0 in labels with no predicted samples. Use `zero_division` parameter to control this behavior.\n",
      "  _warn_prf(average, modifier, msg_start, len(result))\n"
     ]
    }
   ],
   "source": [
    "from sklearn.naive_bayes import GaussianNB\n",
    "clf = GaussianNB()\n",
    "clf.fit(X_train, y_train)\n",
    "y_pred = clf.predict(X_test)\n",
    "y_true = testLabels\n",
    "print(\"Test Data:\")\n",
    "accuracy = round(accuracy_score(y_pred = y_pred, y_true = y_true) * 100,2)\n",
    "print(\"Accuracy % : \",round(accuracy_score(y_pred = y_pred, y_true=y_true) * 100,2))\n",
    "print(classification_report(y_true,y_pred,labels = [1, 2, 3, 4, 5, 6, 7, 8, 9, 10, 11, 12, 13, 14, 15, 16, 17, 18, 19]))\n",
    "y_pred = clf.predict(X_train)\n",
    "y_true = trainLabels\n",
    "print(\"Train Data:\")\n",
    "print(\"Accuracy % : \",round(accuracy_score(y_pred = y_pred, y_true=y_true) * 100,2))\n",
    "print(classification_report(y_true,y_pred,labels = [1, 2, 3, 4, 5, 6, 7, 8, 9, 10, 11, 12, 13, 14, 15, 16, 17, 18, 19]))\n",
    "y_pred = clf.predict(X_val)\n",
    "y_true = validationLabels\n",
    "print(\"Validation Data:\")\n",
    "print(\"Accuracy % : \",round(accuracy_score(y_pred = y_pred, y_true=y_true) * 100,2))\n",
    "print(classification_report(y_true,y_pred,labels = [1, 2, 3, 4, 5, 6, 7, 8, 9, 10, 11, 12, 13, 14, 15, 16, 17, 18, 19]))"
   ]
  },
  {
   "cell_type": "code",
   "execution_count": null,
   "metadata": {},
   "outputs": [],
   "source": []
  },
  {
   "cell_type": "code",
   "execution_count": null,
   "metadata": {},
   "outputs": [],
   "source": [
    "itr= [1]\n",
    "test_accuracy = [6.62]\n",
    "train_accuracy = [9.63]\n",
    "trial_accuracy = [6.52]"
   ]
  },
  {
   "cell_type": "code",
   "execution_count": null,
   "metadata": {},
   "outputs": [
    {
     "data": {
      "image/png": "[encoded data removed]",
      "text/plain": [
       "<Figure size 432x288 with 1 Axes>"
      ]
     },
     "metadata": {},
     "output_type": "display_data"
    }
   ],
   "source": [
    "\n",
    "plt.plot(itr, test_accuracy, label = \"Test\", marker=\"o\", markersize=10,)\n",
    "plt.plot(itr, train_accuracy, label = \"Train\", marker=\"o\", markersize=10,)\n",
    "plt.plot(itr, trial_accuracy, label = \"Trial\", marker=\"o\", markersize=10,)\n",
    "# plt.xlim(1, 1)\n",
    "# plt.ylim(26, 28)\n",
    "plt.xlabel('Gaussian NB')\n",
    "plt.ylabel('Accuracy')\n",
    "plt.title('Accuracy vs Gaussian NB')\n",
    "plt.legend()\n",
    "plt.show()\n"
   ]
  },
  {
   "cell_type": "code",
   "execution_count": 9,
   "metadata": {},
   "outputs": [
    {
     "name": "stderr",
     "output_type": "stream",
     "text": [
      "/var/folders/gj/mzxgltyj3wb83jl14fkhz8_w0000gn/T/ipykernel_93305/2099083165.py:2: ResourceWarning: unclosed file <_io.BufferedWriter name='finalModelGNB_NoWE_2K'>\n",
      "  pk.dump(clf,open(filename,'wb'))\n",
      "ResourceWarning: Enable tracemalloc to get the object allocation traceback\n"
     ]
    }
   ],
   "source": [
    "filename = 'finalModelGNB_NoWE_2K'\n",
    "pk.dump(clf,open(filename,'wb'))"
   ]
  },
  {
   "cell_type": "markdown",
   "metadata": {
    "id": "vBGw25QQndDk"
   },
   "source": [
    "## Bernoulli"
   ]
  },
  {
   "cell_type": "code",
   "execution_count": 10,
   "metadata": {
    "id": "0cbQ_Tndd4d_",
    "outputId": "d9212cd4-e54c-4891-dae0-f0f508220908"
   },
   "outputs": [
    {
     "name": "stdout",
     "output_type": "stream",
     "text": [
      "Test Data:\n",
      "Accuracy % :  27.27\n",
      "              precision    recall  f1-score   support\n",
      "\n",
      "           1       0.23      0.21      0.22      2022\n",
      "           2       0.29      0.45      0.35      1955\n",
      "           3       0.17      0.06      0.09      1099\n",
      "           4       0.31      0.41      0.35      1246\n",
      "           5       0.12      0.04      0.06       786\n",
      "           6       0.16      0.08      0.10       809\n",
      "           7       0.23      0.13      0.17       928\n",
      "           8       0.16      0.07      0.09       669\n",
      "           9       0.10      0.07      0.09       569\n",
      "          10       0.10      0.04      0.06       595\n",
      "          11       0.36      0.34      0.35       696\n",
      "          12       0.26      0.42      0.32       546\n",
      "          13       0.08      0.01      0.02       492\n",
      "          14       0.10      0.04      0.05       536\n",
      "          15       0.16      0.07      0.10       498\n",
      "          16       0.08      0.03      0.04       492\n",
      "          17       0.66      0.59      0.62       565\n",
      "          18       0.13      0.10      0.11       740\n",
      "          19       0.06      0.01      0.02       445\n",
      "\n",
      "   micro avg       0.25      0.20      0.22     15688\n",
      "   macro avg       0.20      0.17      0.17     15688\n",
      "weighted avg       0.21      0.20      0.20     15688\n",
      "\n",
      "Train Data:\n",
      "Accuracy % :  31.48\n",
      "              precision    recall  f1-score   support\n",
      "\n",
      "           1       0.30      0.25      0.27      7076\n",
      "           2       0.32      0.49      0.39      6842\n",
      "           3       0.28      0.12      0.16      3842\n",
      "           4       0.35      0.45      0.39      4363\n",
      "           5       0.21      0.09      0.12      2751\n",
      "           6       0.26      0.12      0.16      2831\n",
      "           7       0.30      0.18      0.22      3250\n",
      "           8       0.26      0.11      0.15      2341\n",
      "           9       0.18      0.13      0.15      1992\n",
      "          10       0.21      0.09      0.13      2083\n",
      "          11       0.39      0.40      0.40      2433\n",
      "          12       0.28      0.46      0.35      1908\n",
      "          13       0.29      0.05      0.09      1722\n",
      "          14       0.24      0.09      0.13      1878\n",
      "          15       0.25      0.13      0.17      1745\n",
      "          16       0.22      0.08      0.11      1721\n",
      "          17       0.62      0.60      0.61      1976\n",
      "          18       0.22      0.17      0.19      2592\n",
      "          19       0.26      0.05      0.09      1556\n",
      "\n",
      "   micro avg       0.31      0.25      0.27     54902\n",
      "   macro avg       0.29      0.21      0.23     54902\n",
      "weighted avg       0.29      0.25      0.25     54902\n",
      "\n",
      "Validation Data:\n",
      "Accuracy % :  26.58\n",
      "              precision    recall  f1-score   support\n",
      "\n",
      "           1       0.24      0.20      0.22      1011\n",
      "           2       0.29      0.44      0.35       978\n",
      "           3       0.13      0.06      0.08       549\n",
      "           4       0.29      0.39      0.33       624\n",
      "           5       0.05      0.02      0.03       393\n",
      "           6       0.12      0.05      0.07       405\n",
      "           7       0.25      0.14      0.18       465\n",
      "           8       0.09      0.04      0.05       335\n",
      "           9       0.13      0.08      0.10       285\n",
      "          10       0.09      0.04      0.06       298\n",
      "          11       0.33      0.35      0.34       348\n",
      "          12       0.24      0.39      0.30       273\n",
      "          13       0.10      0.02      0.03       246\n",
      "          14       0.11      0.04      0.06       269\n",
      "          15       0.12      0.06      0.08       250\n",
      "          16       0.12      0.04      0.06       246\n",
      "          17       0.64      0.61      0.62       283\n",
      "          18       0.14      0.10      0.12       371\n",
      "          19       0.12      0.02      0.04       223\n",
      "\n",
      "   micro avg       0.25      0.20      0.22      7852\n",
      "   macro avg       0.19      0.16      0.16      7852\n",
      "weighted avg       0.20      0.20      0.19      7852\n",
      "\n"
     ]
    }
   ],
   "source": [
    "from sklearn.naive_bayes import BernoulliNB\n",
    "clf = BernoulliNB()\n",
    "clf.fit(X_train, y_train)\n",
    "y_pred = clf.predict(X_test)\n",
    "y_true = testLabels\n",
    "print(\"Test Data:\")\n",
    "accuracy = round(accuracy_score(y_pred = y_pred, y_true = y_true) * 100,2)\n",
    "print(\"Accuracy % : \",round(accuracy_score(y_pred = y_pred, y_true=y_true) * 100,2))\n",
    "print(classification_report(y_true,y_pred,labels = [1, 2, 3, 4, 5, 6, 7, 8, 9, 10, 11, 12, 13, 14, 15, 16, 17, 18, 19]))\n",
    "y_pred = clf.predict(X_train)\n",
    "y_true = trainLabels\n",
    "print(\"Train Data:\")\n",
    "print(\"Accuracy % : \",round(accuracy_score(y_pred = y_pred, y_true=y_true) * 100,2))\n",
    "print(classification_report(y_true,y_pred,labels = [1, 2, 3, 4, 5, 6, 7, 8, 9, 10, 11, 12, 13, 14, 15, 16, 17, 18, 19]))\n",
    "y_pred = clf.predict(X_val)\n",
    "y_true = validationLabels\n",
    "print(\"Validation Data:\")\n",
    "print(\"Accuracy % : \",round(accuracy_score(y_pred = y_pred, y_true=y_true) * 100,2))\n",
    "print(classification_report(y_true,y_pred,labels = [1, 2, 3, 4, 5, 6, 7, 8, 9, 10, 11, 12, 13, 14, 15, 16, 17, 18, 19]))"
   ]
  },
  {
   "cell_type": "code",
   "execution_count": null,
   "metadata": {},
   "outputs": [],
   "source": [
    "itr= [1]\n",
    "test_accuracy = [27.27]\n",
    "train_accuracy = [31.48]\n",
    "trial_accuracy = [26.58]"
   ]
  },
  {
   "cell_type": "code",
   "execution_count": null,
   "metadata": {},
   "outputs": [
    {
     "data": {
      "image/png": "[encoded data removed]",
      "text/plain": [
       "<Figure size 432x288 with 1 Axes>"
      ]
     },
     "metadata": {},
     "output_type": "display_data"
    }
   ],
   "source": [
    "\n",
    "plt.plot(itr, test_accuracy, label = \"Test\", marker=\"o\", markersize=10,)\n",
    "plt.plot(itr, train_accuracy, label = \"Train\", marker=\"o\", markersize=10,)\n",
    "plt.plot(itr, trial_accuracy, label = \"Trial\", marker=\"o\", markersize=10,)\n",
    "# plt.xlim(1, 1)\n",
    "# plt.ylim(26, 28)\n",
    "plt.xlabel('Bernoulli NB')\n",
    "plt.ylabel('Accuracy')\n",
    "plt.title('Accuracy vs Bernoulli NB')\n",
    "plt.legend()\n",
    "plt.show()\n"
   ]
  },
  {
   "cell_type": "code",
   "execution_count": null,
   "metadata": {},
   "outputs": [],
   "source": []
  },
  {
   "cell_type": "code",
   "execution_count": 11,
   "metadata": {},
   "outputs": [
    {
     "name": "stderr",
     "output_type": "stream",
     "text": [
      "/var/folders/gj/mzxgltyj3wb83jl14fkhz8_w0000gn/T/ipykernel_93305/4178642856.py:2: ResourceWarning: unclosed file <_io.BufferedWriter name='finalModelBNBNoWE_2K'>\n",
      "  pk.dump(clf,open(filename,'wb'))\n",
      "ResourceWarning: Enable tracemalloc to get the object allocation traceback\n"
     ]
    }
   ],
   "source": [
    "filename = 'finalModelBNBNoWE_2K'\n",
    "pk.dump(clf,open(filename,'wb'))"
   ]
  },
  {
   "cell_type": "markdown",
   "metadata": {
    "id": "0J9r1GCFnhNu"
   },
   "source": [
    "## Multinomial"
   ]
  },
  {
   "cell_type": "code",
   "execution_count": 12,
   "metadata": {
    "id": "W8uIr5sHd4d_",
    "outputId": "e4fc82c2-fbc2-45cf-c4ab-0b9688134b1f"
   },
   "outputs": [
    {
     "name": "stdout",
     "output_type": "stream",
     "text": [
      "Test Data:\n",
      "Accuracy % :  29.0\n",
      "              precision    recall  f1-score   support\n",
      "\n",
      "           1       0.24      0.14      0.17      2022\n",
      "           2       0.30      0.42      0.35      1955\n",
      "           3       0.30      0.01      0.01      1099\n",
      "           4       0.39      0.34      0.36      1246\n",
      "           5       0.00      0.00      0.00       786\n",
      "           6       0.35      0.04      0.07       809\n",
      "           7       0.31      0.09      0.13       928\n",
      "           8       0.62      0.02      0.04       669\n",
      "           9       0.33      0.01      0.01       569\n",
      "          10       0.21      0.01      0.01       595\n",
      "          11       0.51      0.26      0.34       696\n",
      "          12       0.38      0.26      0.31       546\n",
      "          13       0.12      0.00      0.00       492\n",
      "          14       0.00      0.00      0.00       536\n",
      "          15       0.24      0.01      0.02       498\n",
      "          16       0.50      0.00      0.00       492\n",
      "          17       0.68      0.43      0.53       565\n",
      "          18       0.23      0.05      0.08       740\n",
      "          19       0.00      0.00      0.00       445\n",
      "\n",
      "   micro avg       0.34      0.14      0.20     15688\n",
      "   macro avg       0.30      0.11      0.13     15688\n",
      "weighted avg       0.30      0.14      0.16     15688\n",
      "\n"
     ]
    },
    {
     "name": "stderr",
     "output_type": "stream",
     "text": [
      "/usr/local/lib/python3.9/site-packages/sklearn/metrics/_classification.py:1308: UndefinedMetricWarning: Precision and F-score are ill-defined and being set to 0.0 in labels with no predicted samples. Use `zero_division` parameter to control this behavior.\n",
      "  _warn_prf(average, modifier, msg_start, len(result))\n",
      "/usr/local/lib/python3.9/site-packages/sklearn/metrics/_classification.py:1308: UndefinedMetricWarning: Precision and F-score are ill-defined and being set to 0.0 in labels with no predicted samples. Use `zero_division` parameter to control this behavior.\n",
      "  _warn_prf(average, modifier, msg_start, len(result))\n",
      "/usr/local/lib/python3.9/site-packages/sklearn/metrics/_classification.py:1308: UndefinedMetricWarning: Precision and F-score are ill-defined and being set to 0.0 in labels with no predicted samples. Use `zero_division` parameter to control this behavior.\n",
      "  _warn_prf(average, modifier, msg_start, len(result))\n"
     ]
    },
    {
     "name": "stdout",
     "output_type": "stream",
     "text": [
      "Train Data:\n",
      "Accuracy % :  30.76\n"
     ]
    },
    {
     "name": "stderr",
     "output_type": "stream",
     "text": [
      "/usr/local/lib/python3.9/site-packages/sklearn/metrics/_classification.py:1308: UndefinedMetricWarning: Precision and F-score are ill-defined and being set to 0.0 in labels with no predicted samples. Use `zero_division` parameter to control this behavior.\n",
      "  _warn_prf(average, modifier, msg_start, len(result))\n",
      "/usr/local/lib/python3.9/site-packages/sklearn/metrics/_classification.py:1308: UndefinedMetricWarning: Precision and F-score are ill-defined and being set to 0.0 in labels with no predicted samples. Use `zero_division` parameter to control this behavior.\n",
      "  _warn_prf(average, modifier, msg_start, len(result))\n",
      "/usr/local/lib/python3.9/site-packages/sklearn/metrics/_classification.py:1308: UndefinedMetricWarning: Precision and F-score are ill-defined and being set to 0.0 in labels with no predicted samples. Use `zero_division` parameter to control this behavior.\n",
      "  _warn_prf(average, modifier, msg_start, len(result))\n",
      "/usr/local/lib/python3.9/site-packages/sklearn/metrics/_classification.py:1308: UndefinedMetricWarning: Precision and F-score are ill-defined and being set to 0.0 in labels with no predicted samples. Use `zero_division` parameter to control this behavior.\n",
      "  _warn_prf(average, modifier, msg_start, len(result))\n"
     ]
    },
    {
     "name": "stdout",
     "output_type": "stream",
     "text": [
      "              precision    recall  f1-score   support\n",
      "\n",
      "           1       0.31      0.17      0.22      7076\n",
      "           2       0.33      0.45      0.38      6842\n",
      "           3       0.52      0.02      0.03      3842\n",
      "           4       0.43      0.37      0.39      4363\n",
      "           5       0.17      0.00      0.00      2751\n",
      "           6       0.39      0.04      0.07      2831\n",
      "           7       0.36      0.10      0.16      3250\n",
      "           8       0.48      0.02      0.04      2341\n",
      "           9       0.47      0.00      0.01      1992\n",
      "          10       0.44      0.01      0.02      2083\n",
      "          11       0.57      0.30      0.39      2433\n",
      "          12       0.37      0.25      0.30      1908\n",
      "          13       0.73      0.01      0.02      1722\n",
      "          14       0.43      0.00      0.00      1878\n",
      "          15       0.37      0.02      0.03      1745\n",
      "          16       0.15      0.00      0.00      1721\n",
      "          17       0.66      0.45      0.54      1976\n",
      "          18       0.29      0.07      0.11      2592\n",
      "          19       0.00      0.00      0.00      1556\n",
      "\n",
      "   micro avg       0.38      0.16      0.23     54902\n",
      "   macro avg       0.39      0.12      0.14     54902\n",
      "weighted avg       0.39      0.16      0.18     54902\n",
      "\n",
      "Validation Data:\n",
      "Accuracy % :  28.75\n",
      "              precision    recall  f1-score   support\n",
      "\n",
      "           1       0.25      0.12      0.17      1011\n",
      "           2       0.30      0.41      0.34       978\n",
      "           3       0.14      0.00      0.01       549\n",
      "           4       0.38      0.33      0.36       624\n",
      "           5       0.14      0.00      0.01       393\n",
      "           6       0.18      0.01      0.02       405\n",
      "           7       0.37      0.12      0.18       465\n",
      "           8       0.31      0.01      0.02       335\n",
      "           9       0.25      0.00      0.01       285\n",
      "          10       0.40      0.01      0.01       298\n",
      "          11       0.46      0.22      0.30       348\n",
      "          12       0.32      0.22      0.26       273\n",
      "          13       0.33      0.00      0.01       246\n",
      "          14       0.00      0.00      0.00       269\n",
      "          15       0.20      0.01      0.02       250\n",
      "          16       1.00      0.00      0.01       246\n",
      "          17       0.71      0.47      0.56       283\n",
      "          18       0.21      0.04      0.07       371\n",
      "          19       0.00      0.00      0.00       223\n",
      "\n",
      "   micro avg       0.34      0.14      0.20      7852\n",
      "   macro avg       0.31      0.11      0.12      7852\n",
      "weighted avg       0.30      0.14      0.15      7852\n",
      "\n"
     ]
    },
    {
     "name": "stderr",
     "output_type": "stream",
     "text": [
      "/usr/local/lib/python3.9/site-packages/sklearn/metrics/_classification.py:1308: UndefinedMetricWarning: Precision and F-score are ill-defined and being set to 0.0 in labels with no predicted samples. Use `zero_division` parameter to control this behavior.\n",
      "  _warn_prf(average, modifier, msg_start, len(result))\n",
      "/usr/local/lib/python3.9/site-packages/sklearn/metrics/_classification.py:1308: UndefinedMetricWarning: Precision and F-score are ill-defined and being set to 0.0 in labels with no predicted samples. Use `zero_division` parameter to control this behavior.\n",
      "  _warn_prf(average, modifier, msg_start, len(result))\n"
     ]
    }
   ],
   "source": [
    "\n",
    "import numpy as np\n",
    "from sklearn.naive_bayes import MultinomialNB\n",
    "clf = MultinomialNB()\n",
    "clf.fit(X_train, y_train)\n",
    "y_pred = clf.predict(X_test)\n",
    "y_true = testLabels\n",
    "print(\"Test Data:\")\n",
    "accuracy = round(accuracy_score(y_pred = y_pred, y_true = y_true) * 100,2)\n",
    "print(\"Accuracy % : \",round(accuracy_score(y_pred = y_pred, y_true=y_true) * 100,2))\n",
    "print(classification_report(y_true,y_pred,labels = [1, 2, 3, 4, 5, 6, 7, 8, 9, 10, 11, 12, 13, 14, 15, 16, 17, 18, 19]))\n",
    "y_pred = clf.predict(X_train)\n",
    "y_true = trainLabels\n",
    "print(\"Train Data:\")\n",
    "print(\"Accuracy % : \",round(accuracy_score(y_pred = y_pred, y_true=y_true) * 100,2))\n",
    "print(classification_report(y_true,y_pred,labels = [1, 2, 3, 4, 5, 6, 7, 8, 9, 10, 11, 12, 13, 14, 15, 16, 17, 18, 19]))\n",
    "y_pred = clf.predict(X_val)\n",
    "y_true = validationLabels\n",
    "print(\"Validation Data:\")\n",
    "print(\"Accuracy % : \",round(accuracy_score(y_pred = y_pred, y_true=y_true) * 100,2))\n",
    "print(classification_report(y_true,y_pred,labels = [1, 2, 3, 4, 5, 6, 7, 8, 9, 10, 11, 12, 13, 14, 15, 16, 17, 18, 19]))"
   ]
  },
  {
   "cell_type": "code",
   "execution_count": null,
   "metadata": {},
   "outputs": [],
   "source": []
  },
  {
   "cell_type": "code",
   "execution_count": null,
   "metadata": {},
   "outputs": [],
   "source": [
    "itr= [1]\n",
    "test_accuracy = [29]\n",
    "train_accuracy = [30.76]\n",
    "trial_accuracy = [28.75]"
   ]
  },
  {
   "cell_type": "code",
   "execution_count": null,
   "metadata": {},
   "outputs": [
    {
     "data": {
      "image/png": "[encoded data removed]",
      "text/plain": [
       "<Figure size 432x288 with 1 Axes>"
      ]
     },
     "metadata": {},
     "output_type": "display_data"
    }
   ],
   "source": [
    "\n",
    "plt.plot(itr, test_accuracy, label = \"Test\", marker=\"o\", markersize=10,)\n",
    "plt.plot(itr, train_accuracy, label = \"Train\", marker=\"o\", markersize=10,)\n",
    "plt.plot(itr, trial_accuracy, label = \"Trial\", marker=\"o\", markersize=10,)\n",
    "# plt.xlim(1, 1)\n",
    "# plt.ylim(26, 28)\n",
    "plt.xlabel('Multinomial NB')\n",
    "plt.ylabel('Accuracy')\n",
    "plt.title('Accuracy vs Multinomial NB')\n",
    "plt.legend()\n",
    "plt.show()\n"
   ]
  },
  {
   "cell_type": "code",
   "execution_count": 13,
   "metadata": {
    "id": "W8uIr5sHd4d_",
    "outputId": "e4fc82c2-fbc2-45cf-c4ab-0b9688134b1f"
   },
   "outputs": [
    {
     "name": "stderr",
     "output_type": "stream",
     "text": [
      "/var/folders/gj/mzxgltyj3wb83jl14fkhz8_w0000gn/T/ipykernel_93305/2254380760.py:2: ResourceWarning: unclosed file <_io.BufferedWriter name='finalModelMNBNoWE_2K'>\n",
      "  pk.dump(clf,open(filename,'wb'))\n",
      "ResourceWarning: Enable tracemalloc to get the object allocation traceback\n"
     ]
    }
   ],
   "source": [
    "filename = 'finalModelMNBNoWE_2K'\n",
    "pk.dump(clf,open(filename,'wb'))\n",
    "\n",
    "# import numpy as np\n",
    "# from sklearn.naive_bayes import MultinomialNB\n",
    "# clf = MultinomialNB()\n",
    "# clf.fit(X_train, y_train)\n",
    "# y_pred = clf.predict(X_test)\n",
    "# y_true = testLabels\n",
    "# print(\"Test Data:\")\n",
    "# accuracy = round(accuracy_score(y_pred = y_pred, y_true = y_true) * 100,2)\n",
    "# print(\"Accuracy % : \",round(accuracy_score(y_pred = y_pred, y_true=y_true) * 100,2))\n",
    "# print(classification_report(y_true,y_pred,labels = [1, 2, 3, 4, 5, 6, 7, 8, 9, 10, 11, 12, 13, 14, 15, 16, 17, 18, 19]))\n",
    "# y_pred = clf.predict(X_train)\n",
    "# y_true = trainLabels\n",
    "# print(\"Train Data:\")\n",
    "# print(\"Accuracy % : \",round(accuracy_score(y_pred = y_pred, y_true=y_true) * 100,2))\n",
    "# print(classification_report(y_true,y_pred,labels = [1, 2, 3, 4, 5, 6, 7, 8, 9, 10, 11, 12, 13, 14, 15, 16, 17, 18, 19]))\n",
    "# y_pred = clf.predict(X_val)\n",
    "# y_true = validationLabels\n",
    "# print(\"Validation Data:\")\n",
    "# print(\"Accuracy % : \",round(accuracy_score(y_pred = y_pred, y_true=y_true) * 100,2))\n",
    "# print(classification_report(y_true,y_pred,labels = [1, 2, 3, 4, 5, 6, 7, 8, 9, 10, 11, 12, 13, 14, 15, 16, 17, 18, 19]))"
   ]
  },
  {
   "cell_type": "code",
   "execution_count": null,
   "metadata": {},
   "outputs": [],
   "source": []
  }
 ],
 "metadata": {
  "interpreter": {
   "hash": "aee8b7b246df8f9039afb4144a1f6fd8d2ca17a180786b69acc140d282b71a49"
  },
  "kernelspec": {
   "display_name": "Python 3.9.8 64-bit",
   "language": "python",
   "name": "python3"
  },
  "language_info": {
   "codemirror_mode": {
    "name": "ipython",
    "version": 3
   },
   "file_extension": ".py",
   "mimetype": "text/x-python",
   "name": "python",
   "nbconvert_exporter": "python",
   "pygments_lexer": "ipython3",
   "version": "3.9.8"
  },
  "orig_nbformat": 4
 },
 "nbformat": 4,
 "nbformat_minor": 2
}
